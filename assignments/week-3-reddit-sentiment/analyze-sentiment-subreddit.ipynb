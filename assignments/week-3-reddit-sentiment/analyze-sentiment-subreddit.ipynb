{
 "cells": [
  {
   "cell_type": "markdown",
   "metadata": {},
   "source": [
    "<p align = \"center\" draggable=”false” ><img src=\"https://user-images.githubusercontent.com/37101144/161836199-fdb0219d-0361-4988-bf26-48b0fad160a3.png\" \n",
    "     width=\"200px\"\n",
    "     height=\"auto\"/>\n",
    "</p>"
   ]
  },
  {
   "cell_type": "markdown",
   "metadata": {},
   "source": [
    "# <h1 align=\"center\" id=\"heading\">Sentiment Analysis of Reddit Data using Reddit API</h1>"
   ]
  },
  {
   "cell_type": "markdown",
   "metadata": {},
   "source": [
    "In this live coding session, we leverage the Python Reddit API Wrapper (`PRAW`) to retrieve data from subreddits on [Reddit](https://www.reddit.com), and perform sentiment analysis using [`pipelines`](https://huggingface.co/docs/transformers/main_classes/pipelines) from [HuggingFace ( 🤗 the GitHub of Machine Learning )](https://techcrunch.com/2022/05/09/hugging-face-reaches-2-billion-valuation-to-build-the-github-of-machine-learning/), powered by [transformer](https://arxiv.org/pdf/1706.03762.pdf)."
   ]
  },
  {
   "cell_type": "markdown",
   "metadata": {},
   "source": [
    "## Objectives"
   ]
  },
  {
   "cell_type": "markdown",
   "metadata": {},
   "source": [
    "At the end of the session, you will "
   ]
  },
  {
   "cell_type": "markdown",
   "metadata": {},
   "source": [
    "- know how to work with APIs\n",
    "- feel more comfortable navigating thru documentation, even inspecting the source code\n",
    "- understand what a `pipeline` object is in HuggingFace\n",
    "- perform sentiment analysis using `pipeline`\n",
    "- run a python script in command line and get the results"
   ]
  },
  {
   "cell_type": "markdown",
   "metadata": {
    "heading_collapsed": true
   },
   "source": [
    "## How to Submit"
   ]
  },
  {
   "cell_type": "markdown",
   "metadata": {},
   "source": [
    "- At the end of each task, commit* the work into the repository you created before the assignment\n",
    "- After completing all three tasks, make sure to push the notebook containing all code blocks and output cells to your repository you created before the assignment\n",
    "- Submit the link to the notebook in Canvas"
   ]
  },
  {
   "cell_type": "markdown",
   "metadata": {
    "hidden": true
   },
   "source": [
    "\\***NEVER** commit a notebook displaying errors unless it is instructed otherwise. However, commit often; recall git ABC = **A**lways **B**e **C**ommitting."
   ]
  },
  {
   "cell_type": "markdown",
   "metadata": {},
   "source": [
    "## Tasks"
   ]
  },
  {
   "cell_type": "markdown",
   "metadata": {
    "heading_collapsed": true
   },
   "source": [
    "### Task I: Instantiate a Reddit API Object"
   ]
  },
  {
   "cell_type": "markdown",
   "metadata": {
    "hidden": true
   },
   "source": [
    "The first task is to instantiate a Reddit API object using [PRAW](https://praw.readthedocs.io/en/stable/), through which you will retrieve data. PRAW is a wrapper for [Reddit API](https://www.reddit.com/dev/api) that makes interacting with the Reddit API easier unless you are already an expert of [`requests`](https://docs.python-requests.org/en/latest/)."
   ]
  },
  {
   "cell_type": "markdown",
   "metadata": {
    "hidden": true
   },
   "source": [
    "#### 1. Install packages"
   ]
  },
  {
   "cell_type": "markdown",
   "metadata": {
    "hidden": true
   },
   "source": [
    "Please ensure you've ran all the cells in the `imports.ipynb`, located [here](https://github.com/FourthBrain/MLE-8/blob/main/assignments/week-3-analyze-sentiment-subreddit/imports.ipynb), to make sure you have all the required packages for today's assignment."
   ]
  },
  {
   "cell_type": "markdown",
   "metadata": {
    "hidden": true
   },
   "source": [
    "####  2. Create a new app on Reddit "
   ]
  },
  {
   "cell_type": "markdown",
   "metadata": {
    "hidden": true
   },
   "source": [
    "Create a new app on Reddit and save secret tokens; refer to [post in medium](https://towardsdatascience.com/how-to-use-the-reddit-api-in-python-5e05ddfd1e5c) for more details."
   ]
  },
  {
   "cell_type": "markdown",
   "metadata": {
    "hidden": true
   },
   "source": [
    "- Create a Reddit account if you don't have one, log into your account.\n",
    "- To access the API, we need create an app. Slight updates, on the website, you need to navigate to `preference` > `app`, or click [this link](https://www.reddit.com/prefs/apps) and scroll all the way down. \n",
    "- Click to create a new app, fill in the **name**, choose `script`, fill in  **description** and **redirect uri** ( The redirect URI is where the user is sent after they've granted OAuth access to your application (more info [here](https://github.com/reddit-archive/reddit/wiki/OAuth2)) For our purpose, you can enter some random url, e.g., www.google.com; as shown below.\n",
    "\n",
    "\n",
    "    <img src=\"https://miro.medium.com/max/700/1*lRBvxpIe8J2nZYJ6ucMgHA.png\" width=\"500\"/>\n",
    "- Jot down `client_id` (left upper corner) and `client_secret` \n",
    "\n",
    "    NOTE: CLIENT_ID refers to 'personal use script\" and CLIENT_SECRET to secret.\n",
    "    \n",
    "    <div>\n",
    "    <img src=\"https://miro.medium.com/max/700/1*7cGAKth1PMrEf2sHcQWPoA.png\" width=\"300\"/>\n",
    "    </div>\n",
    "\n",
    "- Create `secrets_reddit.py` in the same directory with this notebook, fill in `client_id` and `secret_id` obtained from the last step. We will need to import those constants in the next step.\n",
    "    ```\n",
    "    REDDIT_API_CLIENT_ID = \"client_id\"\n",
    "    REDDIT_API_CLIENT_SECRET = \"secret_id\"\n",
    "    REDDIT_API_USER_AGENT = \"any string except bot; ex. My User Agent\"\n",
    "    ```\n",
    "- Add `secrets_reddit.py` to your `.gitignore` file if not already done. NEVER push credentials to a repo, private or public. "
   ]
  },
  {
   "cell_type": "markdown",
   "metadata": {
    "hidden": true
   },
   "source": [
    "#### 3. Instantiate a `Reddit` object"
   ]
  },
  {
   "cell_type": "markdown",
   "metadata": {
    "hidden": true
   },
   "source": [
    "Now you are ready to create a read-only `Reddit` instance. Refer to [documentation](https://praw.readthedocs.io/en/stable/code_overview/reddit_instance.html) when necessary."
   ]
  },
  {
   "cell_type": "code",
   "execution_count": 1,
   "metadata": {},
   "outputs": [
    {
     "name": "stdout",
     "output_type": "stream",
     "text": [
      "Requirement already satisfied: transformers in /home/fslee/miniconda3/envs/sa38j/lib/python3.8/site-packages (4.21.2)\n",
      "Requirement already satisfied: praw in /home/fslee/miniconda3/envs/sa38j/lib/python3.8/site-packages (7.6.0)\n",
      "Requirement already satisfied: torch in /home/fslee/miniconda3/envs/sa38j/lib/python3.8/site-packages (1.12.1)\n",
      "Requirement already satisfied: numpy in /home/fslee/miniconda3/envs/sa38j/lib/python3.8/site-packages (1.23.2)\n",
      "Requirement already satisfied: pandas in /home/fslee/miniconda3/envs/sa38j/lib/python3.8/site-packages (1.4.3)\n",
      "Requirement already satisfied: tokenizers!=0.11.3,<0.13,>=0.11.1 in /home/fslee/miniconda3/envs/sa38j/lib/python3.8/site-packages (from transformers) (0.12.1)\n",
      "Requirement already satisfied: huggingface-hub<1.0,>=0.1.0 in /home/fslee/miniconda3/envs/sa38j/lib/python3.8/site-packages (from transformers) (0.8.1)\n",
      "Requirement already satisfied: pyyaml>=5.1 in /home/fslee/miniconda3/envs/sa38j/lib/python3.8/site-packages (from transformers) (6.0)\n",
      "Requirement already satisfied: packaging>=20.0 in /home/fslee/miniconda3/envs/sa38j/lib/python3.8/site-packages (from transformers) (21.3)\n",
      "Requirement already satisfied: filelock in /home/fslee/miniconda3/envs/sa38j/lib/python3.8/site-packages (from transformers) (3.8.0)\n",
      "Requirement already satisfied: regex!=2019.12.17 in /home/fslee/miniconda3/envs/sa38j/lib/python3.8/site-packages (from transformers) (2022.8.17)\n",
      "Requirement already satisfied: requests in /home/fslee/miniconda3/envs/sa38j/lib/python3.8/site-packages (from transformers) (2.28.1)\n",
      "Requirement already satisfied: tqdm>=4.27 in /home/fslee/miniconda3/envs/sa38j/lib/python3.8/site-packages (from transformers) (4.64.0)\n",
      "Requirement already satisfied: websocket-client>=0.54.0 in /home/fslee/miniconda3/envs/sa38j/lib/python3.8/site-packages (from praw) (0.58.0)\n",
      "Requirement already satisfied: update-checker>=0.18 in /home/fslee/miniconda3/envs/sa38j/lib/python3.8/site-packages (from praw) (0.18.0)\n",
      "Requirement already satisfied: prawcore<3,>=2.1 in /home/fslee/miniconda3/envs/sa38j/lib/python3.8/site-packages (from praw) (2.3.0)\n",
      "Requirement already satisfied: typing-extensions in /home/fslee/miniconda3/envs/sa38j/lib/python3.8/site-packages (from torch) (4.3.0)\n",
      "Requirement already satisfied: pytz>=2020.1 in /home/fslee/miniconda3/envs/sa38j/lib/python3.8/site-packages (from pandas) (2022.1)\n",
      "Requirement already satisfied: python-dateutil>=2.8.1 in /home/fslee/miniconda3/envs/sa38j/lib/python3.8/site-packages (from pandas) (2.8.2)\n",
      "Requirement already satisfied: pyparsing!=3.0.5,>=2.0.2 in /home/fslee/miniconda3/envs/sa38j/lib/python3.8/site-packages (from packaging>=20.0->transformers) (3.0.4)\n",
      "Requirement already satisfied: six>=1.5 in /home/fslee/miniconda3/envs/sa38j/lib/python3.8/site-packages (from python-dateutil>=2.8.1->pandas) (1.16.0)\n",
      "Requirement already satisfied: urllib3<1.27,>=1.21.1 in /home/fslee/miniconda3/envs/sa38j/lib/python3.8/site-packages (from requests->transformers) (1.26.11)\n",
      "Requirement already satisfied: idna<4,>=2.5 in /home/fslee/miniconda3/envs/sa38j/lib/python3.8/site-packages (from requests->transformers) (3.3)\n",
      "Requirement already satisfied: charset-normalizer<3,>=2 in /home/fslee/miniconda3/envs/sa38j/lib/python3.8/site-packages (from requests->transformers) (2.0.4)\n",
      "Requirement already satisfied: certifi>=2017.4.17 in /home/fslee/miniconda3/envs/sa38j/lib/python3.8/site-packages (from requests->transformers) (2022.6.15)\n"
     ]
    }
   ],
   "source": [
    "!python -m pip install -U transformers praw torch numpy pandas"
   ]
  },
  {
   "cell_type": "code",
   "execution_count": 2,
   "metadata": {},
   "outputs": [],
   "source": [
    "import transformers\n",
    "import praw\n",
    "import torch\n",
    "import numpy as np\n",
    "import pandas as pd"
   ]
  },
  {
   "cell_type": "code",
   "execution_count": 3,
   "metadata": {
    "hidden": true
   },
   "outputs": [],
   "source": [
    "import praw\n",
    "import secrets_reddit as sr\n",
    "\n",
    "# Create a Reddit object which allows us to interact with the Reddit API\n",
    "reddit = praw.Reddit(\n",
    "    client_id = sr.REDDIT_API_CLIENT_ID,\n",
    "    client_secret = sr.REDDIT_API_CLIENT_SECRET,\n",
    "    user_agent = sr.REDDIT_API_USER_AGENT\n",
    ")"
   ]
  },
  {
   "cell_type": "code",
   "execution_count": 4,
   "metadata": {
    "hidden": true
   },
   "outputs": [
    {
     "name": "stdout",
     "output_type": "stream",
     "text": [
      "<praw.reddit.Reddit object at 0x7fd6d47e2c70>\n"
     ]
    }
   ],
   "source": [
    "print(reddit) "
   ]
  },
  {
   "cell_type": "markdown",
   "metadata": {},
   "source": [
    "<details>\n",
    "<summary>Expected output:</summary>   \n",
    "\n",
    "```<praw.reddit.Reddit object at 0x10f8a0ac0>```\n",
    "</details>"
   ]
  },
  {
   "cell_type": "markdown",
   "metadata": {
    "hidden": true
   },
   "source": [
    "#### 4. Instantiate a `subreddit` object"
   ]
  },
  {
   "cell_type": "markdown",
   "metadata": {
    "hidden": true
   },
   "source": [
    "Lastly, create a `subreddit` object for your favorite subreddit and inspect the object. The expected outputs you will see are from `r/machinelearning` unless otherwise specified."
   ]
  },
  {
   "cell_type": "code",
   "execution_count": 5,
   "metadata": {
    "hidden": true
   },
   "outputs": [],
   "source": [
    "subreddit = reddit.subreddit(\"machinelearning\")"
   ]
  },
  {
   "cell_type": "markdown",
   "metadata": {
    "hidden": true
   },
   "source": [
    "What is the display name of the subreddit?"
   ]
  },
  {
   "cell_type": "code",
   "execution_count": 6,
   "metadata": {
    "hidden": true
   },
   "outputs": [
    {
     "name": "stdout",
     "output_type": "stream",
     "text": [
      "machinelearning\n"
     ]
    }
   ],
   "source": [
    "print(subreddit.display_name)"
   ]
  },
  {
   "cell_type": "markdown",
   "metadata": {},
   "source": [
    "<details>\n",
    "<summary>Expected output:</summary>   \n",
    "\n",
    "    machinelearning\n",
    "</details>"
   ]
  },
  {
   "cell_type": "markdown",
   "metadata": {
    "hidden": true
   },
   "source": [
    "How about its title, is it different from the display name?"
   ]
  },
  {
   "cell_type": "code",
   "execution_count": 7,
   "metadata": {
    "hidden": true
   },
   "outputs": [
    {
     "name": "stdout",
     "output_type": "stream",
     "text": [
      "Machine Learning\n"
     ]
    }
   ],
   "source": [
    "print(subreddit.title)"
   ]
  },
  {
   "cell_type": "markdown",
   "metadata": {},
   "source": [
    "<details>\n",
    "<summary>Expected output:</summary>   \n",
    "\n",
    "    Machine Learning\n",
    "</details>"
   ]
  },
  {
   "cell_type": "markdown",
   "metadata": {
    "hidden": true
   },
   "source": [
    "Print out the description of the subreddit:"
   ]
  },
  {
   "cell_type": "code",
   "execution_count": 8,
   "metadata": {
    "hidden": true,
    "scrolled": false
   },
   "outputs": [
    {
     "name": "stdout",
     "output_type": "stream",
     "text": [
      "**[Rules For Posts](https://www.reddit.com/r/MachineLearning/about/rules/)**\n",
      "--------\n",
      "+[Research](https://www.reddit.com/r/MachineLearning/search?sort=new&restrict_sr=on&q=flair%3AResearch)\n",
      "--------\n",
      "+[Discussion](https://www.reddit.com/r/MachineLearning/search?sort=new&restrict_sr=on&q=flair%3ADiscussion)\n",
      "--------\n",
      "+[Project](https://www.reddit.com/r/MachineLearning/search?sort=new&restrict_sr=on&q=flair%3AProject)\n",
      "--------\n",
      "+[News](https://www.reddit.com/r/MachineLearning/search?sort=new&restrict_sr=on&q=flair%3ANews)\n",
      "--------\n",
      "***[@slashML on Twitter](https://twitter.com/slashML)***\n",
      "--------\n",
      "***[Chat with us on Slack](https://join.slack.com/t/rml-talk/shared_invite/enQtNjkyMzI3NjA2NTY2LWY0ZmRjZjNhYjI5NzYwM2Y0YzZhZWNiODQ3ZGFjYmI2NTU3YjE1ZDU5MzM2ZTQ4ZGJmOTFmNWVkMzFiMzVhYjg)***\n",
      "--------\n",
      "**Beginners:**\n",
      "--------\n",
      "Please have a look at [our FAQ and Link-Collection](http://www.reddit.com/r/MachineLearning/wiki/index)\n",
      "\n",
      "[Metacademy](http://www.metacademy.org) is a great resource which compiles lesson plans on popular machine learning topics.\n",
      "\n",
      "For Beginner questions please try /r/LearnMachineLearning , /r/MLQuestions or http://stackoverflow.com/\n",
      "\n",
      "For career related questions, visit /r/cscareerquestions/\n",
      "\n",
      "--------\n",
      "\n",
      "[Advanced Courses (2016)](https://www.reddit.com/r/MachineLearning/comments/51qhc8/phdlevel_courses?st=isz2lqdk&sh=56c58cd6)\n",
      "\n",
      "[Advanced Courses (2020)](https://www.reddit.com/r/MachineLearning/comments/fdw0ax/d_advanced_courses_update/)\n",
      "\n",
      "--------\n",
      "**AMAs:**\n",
      "\n",
      "[Pluribus Poker AI Team 7/19/2019](https://www.reddit.com/r/MachineLearning/comments/ceece3/ama_we_are_noam_brown_and_tuomas_sandholm/)\n",
      "\n",
      "[DeepMind AlphaStar team (1/24//2019)](https://www.reddit.com/r/MachineLearning/comments/ajgzoc/we_are_oriol_vinyals_and_david_silver_from/)\n",
      "\n",
      "[Libratus Poker AI Team (12/18/2017)]\n",
      "(https://www.reddit.com/r/MachineLearning/comments/7jn12v/ama_we_are_noam_brown_and_professor_tuomas/)\n",
      "\n",
      "[DeepMind AlphaGo Team (10/19/2017)](https://www.reddit.com/r/MachineLearning/comments/76xjb5/ama_we_are_david_silver_and_julian_schrittwieser/)\n",
      "\n",
      "[Google Brain Team (9/17/2017)](https://www.reddit.com/r/MachineLearning/comments/6z51xb/we_are_the_google_brain_team_wed_love_to_answer/)\n",
      "\n",
      "[Google Brain Team (8/11/2016)]\n",
      "(https://www.reddit.com/r/MachineLearning/comments/4w6tsv/ama_we_are_the_google_brain_team_wed_love_to/)\n",
      "\n",
      "[The MalariaSpot Team (2/6/2016)](https://www.reddit.com/r/MachineLearning/comments/4m7ci1/ama_the_malariaspot_team/)\n",
      "\n",
      "[OpenAI Research Team (1/9/2016)](http://www.reddit.com/r/MachineLearning/comments/404r9m/ama_the_openai_research_team/)\n",
      "\n",
      "[Nando de Freitas (12/26/2015)](http://www.reddit.com/r/MachineLearning/comments/3y4zai/ama_nando_de_freitas/)\n",
      "\n",
      "[Andrew Ng and Adam Coates (4/15/2015)](http://www.reddit.com/r/MachineLearning/comments/32ihpe/ama_andrew_ng_and_adam_coates/)\n",
      "\n",
      "[Jürgen Schmidhuber (3/4/2015)](http://www.reddit.com/r/MachineLearning/comments/2xcyrl/i_am_j%C3%BCrgen_schmidhuber_ama/)\n",
      "\n",
      "[Geoffrey Hinton (11/10/2014)]\n",
      "(http://www.reddit.com/r/MachineLearning/comments/2lmo0l/ama_geoffrey_hinton/)\n",
      "\n",
      "[Michael Jordan (9/10/2014)](http://www.reddit.com/r/MachineLearning/comments/2fxi6v/ama_michael_i_jordan/)\n",
      "\n",
      "[Yann LeCun (5/15/2014)](http://www.reddit.com/r/MachineLearning/comments/25lnbt/ama_yann_lecun/)\n",
      "\n",
      "[Yoshua Bengio (2/27/2014)](http://www.reddit.com/r/MachineLearning/comments/1ysry1/ama_yoshua_bengio/)\n",
      "\n",
      "--------\n",
      "Related Subreddit :\n",
      "\n",
      "* [LearnMachineLearning](http://www.reddit.com/r/LearnMachineLearning)\n",
      "\n",
      "* [Statistics](http://www.reddit.com/r/statistics)\n",
      "\n",
      "* [Computer Vision](http://www.reddit.com/r/computervision)\n",
      "\n",
      "* [Compressive Sensing](http://www.reddit.com/r/CompressiveSensing/)\n",
      "\n",
      "* [NLP] (http://www.reddit.com/r/LanguageTechnology)\n",
      "\n",
      "* [ML Questions] (http://www.reddit.com/r/MLQuestions)\n",
      "\n",
      "* /r/MLjobs and /r/BigDataJobs\n",
      "\n",
      "* /r/datacleaning\n",
      "\n",
      "* /r/DataScience\n",
      "\n",
      "* /r/scientificresearch\n",
      "\n",
      "* /r/artificial\n"
     ]
    }
   ],
   "source": [
    "print(subreddit.description)"
   ]
  },
  {
   "cell_type": "markdown",
   "metadata": {},
   "source": [
    "<details>\n",
    "<summary>Expected output:</summary>\n",
    "\n",
    "    **[Rules For Posts](https://www.reddit.com/r/MachineLearning/about/rules/)**\n",
    "    --------\n",
    "    +[Research](https://www.reddit.com/r/MachineLearning/search?sort=new&restrict_sr=on&q=flair%3AResearch)\n",
    "    --------\n",
    "    +[Discussion](https://www.reddit.com/r/MachineLearning/search?sort=new&restrict_sr=on&q=flair%3ADiscussion)\n",
    "    --------\n",
    "    +[Project](https://www.reddit.com/r/MachineLearning/search?sort=new&restrict_sr=on&q=flair%3AProject)\n",
    "    --------\n",
    "    +[News](https://www.reddit.com/r/MachineLearning/search?sort=new&restrict\n",
    "</details>"
   ]
  },
  {
   "cell_type": "code",
   "execution_count": 9,
   "metadata": {},
   "outputs": [
    {
     "name": "stdout",
     "output_type": "stream",
     "text": [
      "[D] ML integration into marketing department. Any data scraping tools that can help with the processes?\n",
      "[P] Model explainability for 🤗 Diffusers. Get explanations for your generated images with the latest stable diffusion!\n",
      "[D] Weird consequence of not freezing layers in Neural Network\n",
      "[R] Emotion-based symbolic music (MIDI) generation\n",
      "[R] Novel Methods for Drift Detection\n",
      "[D] \"A majority of respondents think that the scientific value of the majority of work in NLP is dubious\"\n",
      "[R] Deep Learning with a Small Training Batch (or Lack Thereof). Part 1\n",
      "[D] Easily Run Stable Diffusion Image to Image mode\n",
      "[D] Position embedding in Vision transformer\n",
      "[D] Does anyone use performance profiling / flamegraphs for optimizing ML algorithms?\n",
      "[D] What are some dead ideas in machine learning or machine learning textbooks?\n",
      "[D] Simple Questions Thread\n",
      "[D] What happened to Projection Pursuit?\n",
      "[D] Can neural networks perceive time ?\n",
      "[P] CatalyzeX Update - Now see code for papers as you're browsing IEEE and Google Scholar\n",
      "[P] Pseudo Label Generation for Unsupervised Video Anomaly Detection\n",
      "[D] Advice for teaching ML in undergrad\n",
      "[P] Einstein Instant NeRF\n",
      "[D] Off-topic: is there any good SSH management tool?\n",
      "[R] A Flaw in a SIGKDD Paper renders it Meaningless (time series anomaly detection)\n",
      "[D] The Future of Art is Artificial: AI will enable creative people to do amazing things\n",
      "[P] Run Stable Diffusion locally with a web UI + artist workflow video\n",
      "[R] PeRFception — a pipeline of generating large scale 3D datasets with radiance fields [POSTECH, NVIDIA, CALTECH]\n",
      "[D] Common Pitfalls in Machine Learning Projects\n",
      "[D] A thought I had on Yann LeCun's recent paper \"A Path Towards Autonomous Machine Intelligence\"\n"
     ]
    }
   ],
   "source": [
    "# fsl Let's look at some new submissions:\n",
    "\n",
    "for submission in subreddit.new(limit=25):\n",
    "    print(submission.title)"
   ]
  },
  {
   "cell_type": "markdown",
   "metadata": {
    "heading_collapsed": true
   },
   "source": [
    "### Task II: Parse comments"
   ]
  },
  {
   "cell_type": "markdown",
   "metadata": {
    "heading_collapsed": true,
    "hidden": true
   },
   "source": [
    "#### 1. Top Posts of All Time"
   ]
  },
  {
   "cell_type": "markdown",
   "metadata": {
    "hidden": true
   },
   "source": [
    "Find titles of top 10 posts of **all time** from your favorite subreddit. Refer to [Obtain Submission Instances from a Subreddit Section](https://praw.readthedocs.io/en/stable/getting_started/quick_start.html)) if necessary. Verify if the titles match what you read on Reddit."
   ]
  },
  {
   "cell_type": "code",
   "execution_count": 10,
   "metadata": {
    "hidden": true
   },
   "outputs": [
    {
     "name": "stdout",
     "output_type": "stream",
     "text": [
      "[Project] From books to presentations in 10s with AR + ML\n",
      "[D] A Demo from 1993 of 32-year-old Yann LeCun showing off the World's first Convolutional Network for Text Recognition\n",
      "[R] First Order Motion Model applied to animate paintings\n",
      "[N] AI can turn old photos into moving Images / Link is given in the comments - You can also turn your old photo like this\n",
      "[D] This AI reveals how much time politicians stare at their phone at work\n",
      "[D] Types of Machine Learning Papers\n",
      "[D] The machine learning community has a toxicity problem\n",
      "I made a robot that punishes me if it detects that if I am procrastinating on my assignments [P]\n",
      "[Project] NEW PYTHON PACKAGE: Sync GAN Art to Music with \"Lucid Sonic Dreams\"! (Link in Comments)\n",
      "[P] Using oil portraits and First Order Model to bring the paintings back to life\n"
     ]
    }
   ],
   "source": [
    "# try run this line, what do you see? press q once you are done\n",
    "for submission in subreddit.top(limit=10):\n",
    "    print(submission.title)"
   ]
  },
  {
   "cell_type": "markdown",
   "metadata": {
    "hidden": true
   },
   "source": [
    "<details> <summary>Expected output:</summary>\n",
    "\n",
    "    [Project] From books to presentations in 10s with AR + ML\n",
    "    [D] A Demo from 1993 of 32-year-old Yann LeCun showing off the World's first Convolutional Network for Text Recognition\n",
    "    [R] First Order Motion Model applied to animate paintings\n",
    "    [N] AI can turn old photos into moving Images / Link is given in the comments - You can also turn your old photo like this\n",
    "    [D] This AI reveals how much time politicians stare at their phone at work\n",
    "    [D] Types of Machine Learning Papers\n",
    "    [D] The machine learning community has a toxicity problem\n",
    "    [Project] NEW PYTHON PACKAGE: Sync GAN Art to Music with \"Lucid Sonic Dreams\"! (Link in Comments)\n",
    "    [P] Using oil portraits and First Order Model to bring the paintings back to life\n",
    "    [D] Convolution Neural Network Visualization - Made with Unity 3D and lots of Code / source - stefsietz (IG)    \n",
    "</details>"
   ]
  },
  {
   "cell_type": "markdown",
   "metadata": {
    "heading_collapsed": true,
    "hidden": true
   },
   "source": [
    "#### 2. Top 10 Posts of This Week"
   ]
  },
  {
   "cell_type": "markdown",
   "metadata": {
    "hidden": true
   },
   "source": [
    "What are the titles of the top 10 posts of **this week** from your favorite subreddit?"
   ]
  },
  {
   "cell_type": "code",
   "execution_count": 11,
   "metadata": {
    "hidden": true
   },
   "outputs": [
    {
     "name": "stdout",
     "output_type": "stream",
     "text": [
      "[P] Run Stable Diffusion locally with a web UI + artist workflow video\n",
      "[D] StableDiffusion v1.4 is entirely public. What do you think about Stability.ai ?\n",
      "[P] Einstein Instant NeRF\n",
      "[D] How to Run Stable Diffusion (Locally and in Colab)\n",
      "[D][N]\"Mudge learned that Twitter had never acquired proper legal rights to training material used to build Twitter's key Machine Learning models. The Machine Learning models at issue were some of the core models running the company's most basic products, like which Tweets to show each user.\"\n",
      "[D] ML for Good\n",
      "[D] What are some dead ideas in machine learning or machine learning textbooks?\n",
      "[P] Run stable diffusion in google colab including image2image and inpainting\n",
      "[D] \"A majority of respondents think that the scientific value of the majority of work in NLP is dubious\"\n",
      "[D] A thought I had on Yann LeCun's recent paper \"A Path Towards Autonomous Machine Intelligence\"\n"
     ]
    }
   ],
   "source": [
    "for submission in subreddit.top(time_filter='week', limit=10):\n",
    "    print(submission.title)"
   ]
  },
  {
   "cell_type": "markdown",
   "metadata": {
    "hidden": true
   },
   "source": [
    "<details><summary>Expected output:</summary>\n",
    "\n",
    "    [N] Ian Goodfellow, Apple’s director of machine learning, is leaving the company due to its return to work policy. In a note to staff, he said “I believe strongly that more flexibility would have been the best policy for my team.” He was likely the company’s most cited ML expert.\n",
    "    [R][P] Thin-Plate Spline Motion Model for Image Animation + Gradio Web Demo\n",
    "    [P] I’ve been trying to understand the limits of some of the available machine learning models out there. Built an app that lets you try a mix of CLIP from Open AI + Apple’s version of MobileNet, and more directly on your phone's camera roll.\n",
    "    [R] Meta is releasing a 175B parameter language model\n",
    "    [N] Hugging Face raised $100M at $2B to double down on community, open-source & ethics\n",
    "    [P] T-SNE to view and order your Spotify tracks\n",
    "    [D] : HELP Finding a Book - A book written for Google Engineers about foundational Math to support ML\n",
    "    [R] Scaled up CLIP-like model (~2B) shows 86% Zero-shot on Imagenet\n",
    "    [D] Do you use NLTK or Spacy for text preprocessing?\n",
    "    [D] Democratizing Diffusion Models - LDMs: High-Resolution Image Synthesis with Latent Diffusion Models, a 5-minute paper summary by Casual GAN Papers\n",
    "</details>"
   ]
  },
  {
   "cell_type": "markdown",
   "metadata": {},
   "source": [
    "💽❓ Data Question:\n",
    "\n",
    "Check out what other attributes the `praw.models.Submission` class has in the [docs](https://praw.readthedocs.io/en/stable/code_overview/models/submission.html). \n",
    "\n",
    "1. After having a chance to look through the docs, is there any other information that you might want to extract? How might this additional data help you?\n",
    "\n",
    "\n",
    "### *Answer:*\n",
    "The **praw.models.Submission** class provides a number of attributes including e.g. `author`, `comments`, `created_utc`, `num_comments`, `score`, `upvote_ratio`. These might help us understand the data better by giving us additional details about submissions to the subreddit we are looking at.\n",
    "\n",
    "\n",
    "Write a sample piece of code below extracting three additional pieces of information from the submission below."
   ]
  },
  {
   "cell_type": "code",
   "execution_count": 13,
   "metadata": {},
   "outputs": [
    {
     "name": "stdout",
     "output_type": "stream",
     "text": [
      "[Project] From books to presentations in 10s with AR + ML\n",
      "\tauthor:\tcyrildiagne\n",
      "\tname:\tt3_gh1dj9\n",
      "\tscore:\t7407\n",
      "\tupvote_ratio:\t0.99\n",
      "\tnum_comments:\t183\n",
      "\tcreated_utc:\t1589116794.0 aka 2020-05-10 13:19:54 GMT\n",
      "\n",
      "[D] A Demo from 1993 of 32-year-old Yann LeCun showing off the World's first Convolutional Network for Text Recognition\n",
      "\tauthor:\tTheInsaneApp\n",
      "\tname:\tt3_kuc6tz\n",
      "\tscore:\t5642\n",
      "\tupvote_ratio:\t0.98\n",
      "\tnum_comments:\t128\n",
      "\tcreated_utc:\t1610274636.0 aka 2021-01-10 10:30:36 GMT\n",
      "\n",
      "[R] First Order Motion Model applied to animate paintings\n",
      "\tauthor:\tprogrammerChilli\n",
      "\tname:\tt3_g7nfvb\n",
      "\tscore:\t4661\n",
      "\tupvote_ratio:\t0.97\n",
      "\tnum_comments:\t110\n",
      "\tcreated_utc:\t1587788843.0 aka 2020-04-25 04:27:23 GMT\n",
      "\n",
      "[N] AI can turn old photos into moving Images / Link is given in the comments - You can also turn your old photo like this\n",
      "\tauthor:\tTheInsaneApp\n",
      "\tname:\tt3_lui92h\n",
      "\tscore:\t4572\n",
      "\tupvote_ratio:\t0.97\n",
      "\tnum_comments:\t230\n",
      "\tcreated_utc:\t1614525148.0 aka 2021-02-28 15:12:28 GMT\n",
      "\n",
      "[D] This AI reveals how much time politicians stare at their phone at work\n",
      "\tauthor:\tTheInsaneApp\n",
      "\tname:\tt3_ohxnts\n",
      "\tscore:\t4330\n",
      "\tupvote_ratio:\t0.95\n",
      "\tnum_comments:\t228\n",
      "\tcreated_utc:\t1625977139.0 aka 2021-07-11 04:18:59 GMT\n",
      "\n",
      "[D] Types of Machine Learning Papers\n",
      "\tauthor:\tTheInsaneApp\n",
      "\tname:\tt3_n2f0ld\n",
      "\tscore:\t4199\n",
      "\tupvote_ratio:\t0.98\n",
      "\tnum_comments:\t218\n",
      "\tcreated_utc:\t1619861540.0 aka 2021-05-01 09:32:20 GMT\n",
      "\n",
      "[D] The machine learning community has a toxicity problem\n",
      "\tauthor:\tyusuf-bengio\n",
      "\tname:\tt3_hiv3vf\n",
      "\tscore:\t3703\n",
      "\tupvote_ratio:\t0.94\n",
      "\tnum_comments:\t569\n",
      "\tcreated_utc:\t1593547579.0 aka 2020-06-30 20:06:19 GMT\n",
      "\n",
      "I made a robot that punishes me if it detects that if I am procrastinating on my assignments [P]\n",
      "\tauthor:\t_ayushp_\n",
      "\tname:\tt3_vkxsf2\n",
      "\tscore:\t3552\n",
      "\tupvote_ratio:\t0.95\n",
      "\tnum_comments:\t158\n",
      "\tcreated_utc:\t1656222743.0 aka 2022-06-26 05:52:23 GMT\n",
      "\n",
      "[Project] NEW PYTHON PACKAGE: Sync GAN Art to Music with \"Lucid Sonic Dreams\"! (Link in Comments)\n",
      "\tauthor:\tmencil47\n",
      "\tname:\tt3_m554cq\n",
      "\tscore:\t3488\n",
      "\tupvote_ratio:\t0.99\n",
      "\tnum_comments:\t172\n",
      "\tcreated_utc:\t1615758395.0 aka 2021-03-14 21:46:35 GMT\n",
      "\n",
      "[P] Using oil portraits and First Order Model to bring the paintings back to life\n",
      "\tauthor:\tEnguzelharf\n",
      "\tname:\tt3_j0oyk6\n",
      "\tscore:\t3394\n",
      "\tupvote_ratio:\t0.98\n",
      "\tnum_comments:\t114\n",
      "\tcreated_utc:\t1601202717.0 aka 2020-09-27 10:31:57 GMT\n",
      "\n"
     ]
    }
   ],
   "source": [
    "# fsl let's return to the top 10 machinelearning submissions of all time:\n",
    "\n",
    "from datetime import datetime              # for unix time conversion\n",
    "\n",
    "def unix2hu_time (unix_time):\n",
    "    \"\"\"Assumes unix_time is an integer\n",
    "       Returns human-readable date, time (GMT)\"\"\"\n",
    "    \n",
    "    assert isinstance(unix_time, int), \"Unix time expected as type int\"\n",
    "    \n",
    "    return datetime.utcfromtimestamp(unix_time).strftime('%Y-%m-%d %H:%M:%S GMT')\n",
    "    \n",
    "    \n",
    "for submission in subreddit.top(limit=10):\n",
    "    print(\n",
    "        f'{submission.title}\\n\\t'\n",
    "        f'author:\\t{submission.author}\\n\\t'\n",
    "        f'name:\\t{submission.name}\\n\\t'\n",
    "        f'score:\\t{submission.score}\\n\\t'\n",
    "        f'upvote_ratio:\\t{submission.upvote_ratio}\\n\\t'\n",
    "        f'num_comments:\\t{submission.num_comments}\\n\\t'\n",
    "        f'created_utc:\\t{submission.created_utc} aka '\n",
    "        f'{unix2hu_time(int(submission.created_utc))}\\n'\n",
    "    )"
   ]
  },
  {
   "cell_type": "markdown",
   "metadata": {},
   "source": [
    "💽❓ Data Question:\n",
    "\n",
    "2. Is there any information available that might be a concern when it comes to Ethical Data?\n",
    "\n",
    "### *Answer:*\n",
    "Protecting the privacy of personal data is a paramount ethical concern in responsible AI. In this case, the list of *typical attributes* for Reddit submissions that are made accessible by the official API doesn't appear to disclose significant personally identifiable information, with the possible exception of the submission's 'author' (see for example `author:\tyusuf-bengio` in the above list). Presumably, writers are aware of the fact that their submissions will be publicly tied to the their account's given 'author' name; however, this raises the possibility of misattribution, e.g., when a writer chooses to spoof a well-known authority in the field. In addition, since the above data indicate that Reddit permits authors to use a handle instead of their real name, posts may contain misinformation or even deliberate disinformation, since writers are not held directly accountable in a public forum for their content--a problem common to social media platforms and indeed to the growing mass of 'information' available worldwide on the internet."
   ]
  },
  {
   "cell_type": "markdown",
   "metadata": {
    "heading_collapsed": true,
    "hidden": true
   },
   "source": [
    "#### 3. Comment Code"
   ]
  },
  {
   "cell_type": "markdown",
   "metadata": {
    "hidden": true
   },
   "source": [
    "Add comments to the code block below to describe what each line of the code does (Refer to [Obtain Comment Instances Section](https://praw.readthedocs.io/en/stable/getting_started/quick_start.html) when necessary). The code is adapted from [this tutorial](https://praw.readthedocs.io/en/stable/tutorials/comments.html)\n",
    "\n",
    "The purpose is \n",
    "1. to understand what the code is doing \n",
    "2. start to comment your code whenever it is not self-explantory if you have not (others will thank you, YOU will thank you later 😊) "
   ]
  },
  {
   "cell_type": "code",
   "execution_count": 14,
   "metadata": {
    "hidden": true,
    "scrolled": true
   },
   "outputs": [
    {
     "name": "stdout",
     "output_type": "stream",
     "text": [
      "CPU times: user 127 ms, sys: 4.53 ms, total: 132 ms\n",
      "Wall time: 1min 52s\n"
     ]
    }
   ],
   "source": [
    "%%time                                   \n",
    "from praw.models import MoreComments\n",
    "\n",
    "# Create list 'top-comments' of top-level comment body\n",
    "# from each selected submission:\n",
    "top_comments = []\n",
    "\n",
    "# Loop through selected submissions (all-time top 10 for subreddit):\n",
    "for submission in subreddit.top(limit=10):              \n",
    "    # Loop through top-level comments for ea. submission:\n",
    "    for top_level_comment in submission.comments:\n",
    "        # Skip if a 'MoreComments' object ('load more comments', 'continue this thread')\n",
    "        if isinstance(top_level_comment, MoreComments):\n",
    "            continue\n",
    "        # Else add body of top-level comments to list\n",
    "        top_comments.append(top_level_comment.body)"
   ]
  },
  {
   "cell_type": "markdown",
   "metadata": {
    "heading_collapsed": true,
    "hidden": true
   },
   "source": [
    "#### 4. Inspect Comments"
   ]
  },
  {
   "cell_type": "markdown",
   "metadata": {
    "hidden": true
   },
   "source": [
    "How many comments did you extract from the last step? Examine a few comments. "
   ]
  },
  {
   "cell_type": "code",
   "execution_count": 15,
   "metadata": {
    "hidden": true
   },
   "outputs": [
    {
     "name": "stdout",
     "output_type": "stream",
     "text": [
      "Total # top-level comments retrieved from the  \n",
      "all-time top 10 submissions to the machinelearning  \n",
      "subreddit is: 741\n"
     ]
    }
   ],
   "source": [
    "#YOUR CODE HERE  # the answer may vary 693 for r/machinelearning\n",
    "print(f'Total # top-level comments retrieved from the ',\n",
    "      f'\\nall-time top 10 submissions to the machinelearning ',\n",
    "      f'\\nsubreddit is: {len(top_comments)}')"
   ]
  },
  {
   "cell_type": "code",
   "execution_count": 16,
   "metadata": {
    "hidden": true
   },
   "outputs": [
    {
     "data": {
      "text/plain": [
       "['Can someone explain the exact way to do this please ?',\n",
       " 'That sound is so bad, it annoyed me with my headphones a meter away from me',\n",
       " \"So, laptops and tabs/tablets are fine, phones are not.\\n\\nthey can be taking notes or working.\\n\\nIf its so important make a no phones rule, otherwise that's like judging a lions hunting ability by the time it sleeps.\",\n",
       " '\"We rediscovered something known 30 years ago and we didn\\'t cite it\"',\n",
       " 'The next step must be the harry potter newspapers.',\n",
       " '“Here’s another game that we ruined”',\n",
       " 'If I send you a set of music can you add visual for me & add it to youtube?',\n",
       " 'gonna take shrooms then revisit this.',\n",
       " 'Givin the ol Harry potter treatment',\n",
       " 'I’m convinced Van Gogh’s self portrait was in the training/input.',\n",
       " \"I hate and at the same time love that you feel like you can just about make out what the object or scene depicted is, yet after a moment or two you realize that whatever you've seen wasn't there, like a mirage.\",\n",
       " \"> However, the *toxicity* and backlash that he received are beyond any reasonable quantity\\n\\nThere are many vocal people in DS and tech in general who think critical theory is the only lens to examine the world through rather than it being one of many. It's a real problem and makes it next to impossible to have a conversation with these people. My guess is most of them don't even realize they are engaging in a dialectic which embraces subjective truth. Meanwhile most of us are still using our boring old objective truth to examine the world and try to form reasonable arguments.\",\n",
       " \"Thing is there is lots of half knowledge revolved around machine learning. I include myself to it but always try to respectfully make claims or ask questions. Everyone is a data scientist these days simply because it is so overhyped. And there's lots of narcisissm and envy from both experts and beginners. I'd say this contributes a lot to this toxicity.\",\n",
       " \"This is so cool! Amazing work, can't wait to try it!\",\n",
       " '10 years ago people would laugh at this idea.']"
      ]
     },
     "execution_count": 16,
     "metadata": {},
     "output_type": "execute_result"
    }
   ],
   "source": [
    "import random\n",
    "\n",
    "[random.choice(top_comments) for i in range(15)]"
   ]
  },
  {
   "cell_type": "markdown",
   "metadata": {},
   "source": [
    "<details> <summary>Some of the comments from `r/machinelearning` subreddit are:</summary>\n",
    "\n",
    "    ['Awesome visualisation',\n",
    "    'Similar to a stack or connected neurons.',\n",
    "    'Will this Turing pass the Turing Test?']\n",
    "</details>"
   ]
  },
  {
   "cell_type": "markdown",
   "metadata": {},
   "source": [
    "💽❓ Data Question:\n",
    "\n",
    "3. After having a chance to review a few samples of 5 comments from the subreddit, what can you say about the data? \n",
    "\n",
    "HINT: Think about the \"cleanliness\" of the data, the content of the data, think about what you're trying to do - how does this data line up with your goal? \n",
    "\n",
    "\n",
    "### *Answer:*\n",
    "With respect to the task of sentiment analysis, we can see from the random sample of comments above that the extracted data is *not particularly clean*: There are numerous (user) errors in submitted text, which will pose a challenge for many pre-trained NLP models to ingest & classify correctly, for example: \n",
    "* misspellings\n",
    "* non-standard, even made-up words, abbreviations, acronyms, & expressions\n",
    "* non-standard capitalization or punctuation (or lack of it!)\n",
    "* use of markdown notation\n",
    "* allusions to cultural memes (some obscure)\n",
    "\n",
    "*Overall, very informal language (what you would expect for these often quick, off-the-cuff comments), with a lot of 'random noise' that generally varies from post to post!*"
   ]
  },
  {
   "cell_type": "markdown",
   "metadata": {
    "hidden": true
   },
   "source": [
    "#### 5. Extract Top Level Comment from Subreddit `TSLA`."
   ]
  },
  {
   "cell_type": "markdown",
   "metadata": {
    "hidden": true
   },
   "source": [
    "Write your code to extract top level comments from the top 10 topics of a time period, e.g., year, from subreddit `TSLA` and store them in a list `top_comments_tsla`.  "
   ]
  },
  {
   "cell_type": "code",
   "execution_count": 17,
   "metadata": {
    "hidden": true
   },
   "outputs": [
    {
     "name": "stdout",
     "output_type": "stream",
     "text": [
      "Attributes of TSLA subreddit:\n",
      "\tdisplay name:\tTSLA\n",
      "\tname:\t\tt5_35ufl\n",
      "\ttitle:\t\tTSLA Stock Message Board on Reddit. Tesla technology and stock prices discussion. $TSLA\n",
      "\tdescription:\t\n",
      "\tcreated_utc:\t1601202717.0 aka 2020-09-27 10:31:57 GMT\n",
      "\t#subscribers:\t13670\n",
      "\n",
      "\n",
      "Attributes of top 10 submissions of all time for TSLA subreddit:\n",
      "# 1 I TOLD YOU SO\n",
      "\tauthor:\t\tTSLAinsider\n",
      "\tname:\t\tt3_lfbwp9\n",
      "\tscore:\t\t413\n",
      "\tupvote_ratio:\t0.99\n",
      "\tnum_comments:\t75\n",
      "\tcreated_utc:\t1612791360.0 aka 2021-02-08 13:36:00 GMT\n",
      "\n",
      "# 2 Up Vote if you would like to see a 1for 5 stock split?\n",
      "\tauthor:\t\tMrBills07\n",
      "\tname:\t\tt3_qj2ie0\n",
      "\tscore:\t\t121\n",
      "\tupvote_ratio:\t0.92\n",
      "\tnum_comments:\t35\n",
      "\tcreated_utc:\t1635603839.0 aka 2021-10-30 14:23:59 GMT\n",
      "\n",
      "# 3 I cry every time 😢\n",
      "\tauthor:\t\tbigjimz88\n",
      "\tname:\t\tt3_mdb1nu\n",
      "\tscore:\t\t108\n",
      "\tupvote_ratio:\t0.98\n",
      "\tnum_comments:\t21\n",
      "\tcreated_utc:\t1616713913.0 aka 2021-03-25 23:11:53 GMT\n",
      "\n",
      "# 4 Raise your hands if you stayed long and didn’t de-risk on Tesla because of your research and faith in the actual company.\n",
      "\tauthor:\t\tG_Train24\n",
      "\tname:\t\tt3_tkw04k\n",
      "\tscore:\t\t95\n",
      "\tupvote_ratio:\t0.99\n",
      "\tnum_comments:\t41\n",
      "\tcreated_utc:\t1648047977.0 aka 2022-03-23 15:06:17 GMT\n",
      "\n",
      "# 5 LOL?\n",
      "\tauthor:\t\tlxelite89\n",
      "\tname:\t\tt3_my9ucl\n",
      "\tscore:\t\t91\n",
      "\tupvote_ratio:\t1.0\n",
      "\tnum_comments:\t5\n",
      "\tcreated_utc:\t1619362316.0 aka 2021-04-25 14:51:56 GMT\n",
      "\n",
      "# 6 Veteran TSLA hodler. Don't fall for all the bad news. Been hodling since 2015 and I am still proud of my 10k turned 200k and now 120k. F#$* you shorts. Don't forget the last couple years!!! In the end I win again, again, and again. Have fun today. My plan will beat yours!!! Paper hands!\n",
      "\tauthor:\t\tThenickThenick\n",
      "\tname:\t\tt3_lxzpia\n",
      "\tscore:\t\t79\n",
      "\tupvote_ratio:\t0.93\n",
      "\tnum_comments:\t44\n",
      "\tcreated_utc:\t1614904405.0 aka 2021-03-05 00:33:25 GMT\n",
      "\n",
      "# 7 Vote up for a 10 for 1 stock split (at 1500/share before split)!\n",
      "\tauthor:\t\tKornbelly\n",
      "\tname:\t\tt3_qjyd7p\n",
      "\tscore:\t\t70\n",
      "\tupvote_ratio:\t0.88\n",
      "\tnum_comments:\t20\n",
      "\tcreated_utc:\t1635713200.0 aka 2021-10-31 20:46:40 GMT\n",
      "\n",
      "# 8 Genesis 7:1 💎🤲\n",
      "\tauthor:\t\tbigjimz88\n",
      "\tname:\t\tt3_m1oszt\n",
      "\tscore:\t\t71\n",
      "\tupvote_ratio:\t0.95\n",
      "\tnum_comments:\t11\n",
      "\tcreated_utc:\t1615348740.0 aka 2021-03-10 03:59:00 GMT\n",
      "\n",
      "# 9 $TSLA will bounce back like we’ve never been before. Not selling a single share. I just wish I could buy more at these discounted prices. 💎🙌🏻🚀\n",
      "\tauthor:\t\tKaiserschmorrn\n",
      "\tname:\t\tt3_lyxc4l\n",
      "\tscore:\t\t72\n",
      "\tupvote_ratio:\t0.95\n",
      "\tnum_comments:\t30\n",
      "\tcreated_utc:\t1615019049.0 aka 2021-03-06 08:24:09 GMT\n",
      "\n",
      "#10 HODLING 243 shrs of TSLA and have $0 buying power\n",
      "\tauthor:\t\t_feelsgoodman__\n",
      "\tname:\t\tt3_n9m877\n",
      "\tscore:\t\t71\n",
      "\tupvote_ratio:\t1.0\n",
      "\tnum_comments:\t14\n",
      "\tcreated_utc:\t1620698484.0 aka 2021-05-11 02:01:24 GMT\n",
      "\n"
     ]
    }
   ],
   "source": [
    "# YOUR CODE HERE\n",
    "\n",
    "# allow multiple outputs in a single cell\n",
    "from IPython.core.interactiveshell import InteractiveShell\n",
    "InteractiveShell.ast_node_interactivity = \"all\"\n",
    "\n",
    "sr_name = \"TSLA\"\n",
    "\n",
    "# get TSLA subreddit\n",
    "subreddit = reddit.subreddit(sr_name)\n",
    "\n",
    "# look at some TSLA attributes:\n",
    "print(\n",
    "    f'Attributes of {sr_name} subreddit:\\n\\t'\n",
    "    f'display name:\\t{subreddit.display_name}\\n\\t'\n",
    "    f'name:\\t\\t{subreddit.name}\\n\\t'      \n",
    "    f'title:\\t\\t{subreddit.title}\\n\\t'\n",
    "    f'description:\\t{subreddit.description}\\n\\t'\n",
    "    f'created_utc:\\t{submission.created_utc} aka '\n",
    "    f'{unix2hu_time(int(submission.created_utc))}\\n\\t'\n",
    "    f'#subscribers:\\t{subreddit.subscribers}\\n\\n'\n",
    ")\n",
    "\n",
    "# look at attributes of top 10 TSLA submissions of all time:\n",
    "count = 1\n",
    "\n",
    "print(f'Attributes of top 10 submissions of all time for {sr_name} subreddit:')\n",
    "for submission in subreddit.top(limit=10):\n",
    "    print(\n",
    "        f'#{count:2d} {submission.title}\\n\\t'\n",
    "        f'author:\\t\\t{submission.author}\\n\\t'\n",
    "        f'name:\\t\\t{submission.name}\\n\\t'\n",
    "        f'score:\\t\\t{submission.score}\\n\\t'\n",
    "        f'upvote_ratio:\\t{submission.upvote_ratio}\\n\\t'\n",
    "        f'num_comments:\\t{submission.num_comments}\\n\\t'\n",
    "        f'created_utc:\\t{submission.created_utc} aka '\n",
    "        f'{unix2hu_time(int(submission.created_utc))}\\n'\n",
    "    )\n",
    "    count += 1\n",
    "\n",
    "# extract top-level comments for above submissions:\n",
    "\n",
    "top_comments_tsla = []\n",
    "\n",
    "# loop through submissions:\n",
    "for submission in subreddit.top(limit=10):              \n",
    "    # loop through top-level comments for submission:\n",
    "    for top_level_comment in submission.comments:\n",
    "        # skip if a 'MoreComments' object ('load more comments', 'continue this thread')\n",
    "        if isinstance(top_level_comment, MoreComments):\n",
    "            continue\n",
    "        # else add body to list\n",
    "        top_comments_tsla.append(top_level_comment.body)"
   ]
  },
  {
   "cell_type": "code",
   "execution_count": 18,
   "metadata": {
    "hidden": true
   },
   "outputs": [
    {
     "data": {
      "text/plain": [
       "170"
      ]
     },
     "execution_count": 18,
     "metadata": {},
     "output_type": "execute_result"
    }
   ],
   "source": [
    "len(top_comments_tsla) # Expected: 174 for r/machinelearning"
   ]
  },
  {
   "cell_type": "code",
   "execution_count": 19,
   "metadata": {
    "hidden": true,
    "scrolled": true
   },
   "outputs": [
    {
     "data": {
      "text/plain": [
       "['Tesla will half its price by year end no need to split',\n",
       " 'I’m here for the split 😎',\n",
       " 'I really don’t understand what Musk is trying to do. It seems he is trying to legitimize BTC and create a sustainable ecosystem for it. But I question whether Tesla shareholders are going to be happy with such an unplanned use of invested capital. Musk is not the majority of Tesla, and big shareholders are very very picky about where their portion of $1.5bm goes to!',\n",
       " 'Me too. I am all dipped out. 400 shares long on Tesla. Made plenty of money bought and sold. Waiting for another split. Let’s run this to 10,000',\n",
       " \"\\nRight now, it's actually a great opportunity to buy TSLA at such a huge discount. When it's back over 800, we'll already have locked in a 35% gain! 😎👍\",\n",
       " 'Let’s see if this investment has any effect on the actual stock. Good or bad.',\n",
       " 'I can see a split after Elon sells his 10% as an announcement would drive up the price.',\n",
       " '🖐️not touching my TSLA for the next 4-5 years at least.',\n",
       " 'It would make sense to do a split soon so that more people can buy into it. I hope Elon splits it before the end of the year',\n",
       " \"You're a fucking legend\",\n",
       " 'Anyone holding calls for November 26? Are you guys selling it this week due to FOMC or riding it until your expiration date?',\n",
       " 'I’m holding 34 shares at $418 average. Will I be able to average down once the stock splits?',\n",
       " '[removed]',\n",
       " 'These memes get wilder every day',\n",
       " 'What do you guys think of EV competition from tradition automakers? Can traditional auto makers like GM catch up in terms of EV market share in near future/ ever?']"
      ]
     },
     "execution_count": 19,
     "metadata": {},
     "output_type": "execute_result"
    }
   ],
   "source": [
    "[random.choice(top_comments_tsla) for i in range(15)]"
   ]
  },
  {
   "cell_type": "markdown",
   "metadata": {},
   "source": [
    "<details>\n",
    "<summary>Some of the comments from `r/TSLA` subreddit:</summary>\n",
    "\n",
    "    ['I bought puts',\n",
    "    '100%',\n",
    "    'Yes. And I’m bag holding 1200 calls for Friday and am close to throwing myself out the window']\n",
    "</details>"
   ]
  },
  {
   "cell_type": "markdown",
   "metadata": {},
   "source": [
    "💽❓ Data Question:\n",
    "\n",
    "4. Now that you've had a chance to review another subreddits comments, do you see any differences in the kinds of comments either subreddit has - and how might this relate to bias?\n",
    "\n",
    "### *Answer:*\n",
    "\n",
    "The differing types of comments on the above 2 subreddits (machinelearning vs. TSLA) may reflect--in general terms--the different readership (e.g., interests) each attracts. Overall, reddit comments likely incorporate bias by the very nature of the Reddit platform viz. commenters must have the means (financial, technical, educational, etc.), interest/motivation/desire, and time to find, read, understand, react, write, and post to subreddit submissions. Thus, for example, a model trained on these comments would likely give different (e.g., inaccurate, unpredictable) results when when classifying sentiments of the much larger population of non-redditors, which might include, for example, persons unable to read or write; those who haven't had the opportunity (time, means, education) to learn about technology and connect to the internet, etc."
   ]
  },
  {
   "cell_type": "markdown",
   "metadata": {
    "heading_collapsed": true
   },
   "source": [
    "### Task III: Sentiment Analysis"
   ]
  },
  {
   "cell_type": "markdown",
   "metadata": {
    "hidden": true
   },
   "source": [
    "Let us analyze the sentiment of comments scraped from `r/TSLA` using a pre-trained HuggingFace model to make the inference. Take a [Quick tour](https://huggingface.co/docs/transformers/quicktour). "
   ]
  },
  {
   "cell_type": "markdown",
   "metadata": {
    "hidden": true
   },
   "source": [
    "#### 1. Import `pipeline`"
   ]
  },
  {
   "cell_type": "code",
   "execution_count": 20,
   "metadata": {},
   "outputs": [
    {
     "name": "stdout",
     "output_type": "stream",
     "text": [
      "Requirement already satisfied: emoji==0.6.0 in /home/fslee/miniconda3/envs/sa38j/lib/python3.8/site-packages (0.6.0)\r\n"
     ]
    }
   ],
   "source": [
    "!python -m pip install -U emoji==0.6.0"
   ]
  },
  {
   "cell_type": "code",
   "execution_count": 21,
   "metadata": {
    "hidden": true
   },
   "outputs": [],
   "source": [
    "from transformers import pipeline"
   ]
  },
  {
   "cell_type": "markdown",
   "metadata": {
    "hidden": true
   },
   "source": [
    "#### 2. Create a Pipeline to Perform Task \"sentiment-analysis\""
   ]
  },
  {
   "cell_type": "code",
   "execution_count": 22,
   "metadata": {
    "hidden": true
   },
   "outputs": [
    {
     "data": {
      "application/vnd.jupyter.widget-view+json": {
       "model_id": "76a7631992b146a2b8fe2a51a3b24742",
       "version_major": 2,
       "version_minor": 0
      },
      "text/plain": [
       "Downloading:   0%|          | 0.00/1.13k [00:00<?, ?B/s]"
      ]
     },
     "metadata": {},
     "output_type": "display_data"
    }
   ],
   "source": [
    "sentiment_model = pipeline(model=\"finiteautomata/bertweet-base-sentiment-analysis\")"
   ]
  },
  {
   "cell_type": "markdown",
   "metadata": {
    "hidden": true
   },
   "source": [
    "#### 3. Get ~~one~~ comments from list `top_comments_tsla` from Task II - 5."
   ]
  },
  {
   "cell_type": "code",
   "execution_count": 23,
   "metadata": {
    "hidden": true
   },
   "outputs": [],
   "source": [
    "# comment = random.choice(top_comments_tsla)\n",
    "# instead of one random comment, let's look at all"
   ]
  },
  {
   "cell_type": "code",
   "execution_count": 24,
   "metadata": {
    "hidden": true
   },
   "outputs": [
    {
     "name": "stdout",
     "output_type": "stream",
     "text": [
      "  1 ho lee fuk \n",
      "\n",
      "you got anymore insider information? 👀👀\n",
      "  2 What will happen if you post that GME it's the new buy target from them? 🤣\n",
      "  3 When are you all buying $DOGE, and how much will you all buy?\n",
      "  4 Papa Musk?? 😘😘😘\n",
      "  5 I really don’t understand what Musk is trying to do. It seems he is trying to legitimize BTC and create a sustainable ecosystem \n",
      "  6 lmk when they start loading up on Doge and I'm in\n",
      "  7 [deleted]\n",
      "  8 When is DOGE flying\n",
      "  9 Are they gonna fire you lol\n",
      " 10 You're a fucking legend\n",
      " 11 Give this man a raise! (In BTC)\n",
      " 12 Do you have twitter or instagram?\n",
      " 13 Could you point me in the right direction on to how to code one of this bots myself. I'm a developer and have an extensive trade\n",
      " 14 Elon....come on.....we got ya...right?\n",
      " 15 BEEEEET-CO-NNNNNNNNNNEEEEEEEEEEEEEEEECT\n",
      " 16 Are you legally allowed to share that information though before they announced it?\n",
      " 17 trust the process\n",
      " 18 Let’s see if this investment has any effect on the actual stock. Good or bad.\n",
      " 19 Some of us only read, rarely post.\n",
      " 20 Have you ever talked with Elon? Could say few words about him? Thanks\n",
      " 21 You did - nicely done !!!\n",
      " 22 What will trigger the sell bot? How much % down swing?\n",
      " 23 WOW DUDE YOUR AWSOME !!\n",
      " 24 Which other Crypto do Tesla plan to approve?\n",
      " 25 I followed.\n",
      " 26 I followed you, maybe next time\n",
      " 27 This guy!!\n",
      " 28 When $ETH?\n",
      " 29 This was def just a prediction. Not an insider. He keep Rick rolling people -_____-\n",
      " 30 Good one @TSLAinsider 👍\n",
      "*thefeelsofbeeingright 🤩\n",
      " 31 Sup\n",
      " 32 Elon?\n",
      " 33 You sure did. Great heads up. Your awesome!!!\n",
      " 34 Shiiiiit\n",
      " 35 Or you are actually an insider and freaked out that the post got attention lol. \n",
      "\n",
      "Pm me with the next hot tip lol\n",
      " 36 Best advice I can possibly give just keep taking LSD if you are having those types of epiphanies LOL\n",
      " 37 Enjoy getting fired.\n",
      " 38 Lies...why would an R&D person in the company be involved in this? I don’t buy it.\n",
      " 39 [removed]\n",
      " 40 Well since TSLA's last split was 5 to 1 at around $2,500, and since Elon said he doesn't want  split any time soon, I don't thin\n",
      " 41 I think you mean 5 for 1\n",
      " 42 I'd like to sell my one tesla share for 10 million. Thanks\n",
      " 43 Would be great but Elon said he wasn't in a hurry to do that again\n",
      " 44 I’m holding 34 shares at $418 average. Will I be able to average down once the stock splits?\n",
      " 45 I’m here for the split 😎\n",
      " 46 It would make sense to do a split soon so that more people can buy into it. I hope Elon splits it before the end of the year\n",
      " 47 You are confused!!!!!!\n",
      " 48 I can see a split after Elon sells his 10% as an announcement would drive up the price.\n",
      " 49 Yes Yes Yes\n",
      " 50 Definitely would like.\n",
      " 51 Tbh it’s only a matter of time\n",
      " 52 Thing is he only earns 10% of Tesla so if it’s a majority vote he has no choice but to split\n",
      " 53 Here is a very interesting theory/conspiracy https://twitter.com/robgrav3s/status/1461111661310398469?s=10\n",
      " 54 Send a tweet to papa Musk\n",
      " 55 It’s gonna happen 10000000000000% on December 9th exactly\n",
      " 56 [removed]\n",
      " 57 Karma would eventually catch up with TSLA making a shitty product which is overpriced and all the false claims about autopilot a\n",
      " 58 Tesla will half its price by year end no need to split\n",
      " 59 Holding shares, happy with position, and wait for another 5:1 split. Smells like money and taste like chicken.  Let’s see what h\n",
      " 60 Me too. I am all dipped out. 400 shares long on Tesla. Made plenty of money bought and sold. Waiting for another split. Let’s ru\n",
      " 61 [removed]\n",
      " 62 🙄 Literally me and TSLA right before this biiiiig \"correction\"\n",
      " 63 Hehehehe I am long on Tesla. It is better than FAANG except aapl.\n",
      " 64 So funny! Same thing can't buy anymore dips\n",
      " 65 I feel the pain... I’m embarrassed if people look at my screen and see today’s expiration value 😢\n",
      " 66  Q4 sales at average 50k per vehicle would mean 9B sales or 36B on yearly basis (very optimistic), margin 12% (very high) would \n",
      " 67 FACTS SIR!!!😒😌😔😪\n",
      " 68 One of these days also TSLA will have to show profits in line with its stock prize, that defines the ultimate dip target, we are\n",
      " 69 People need to stop talking about a stock split. It’s not productive. With the ability to buy fractional shares from most broker\n",
      " 70 TSLA is a promising stock, as long as it keeps on promising.\n",
      " 71 MUSK sells promises (memes) primarily, and products, secondarily.  TSLA sells EVs but what does SpaceX, Boring Co., Neuralink, S\n",
      " 72 60 shares @ $40.32 cps holding strong!\n",
      " 73 Can't say I'm super OG, but I've been following the company since 2016ish when I was a freshman in high school, and as soon as I\n",
      " 74 I just buy more\n",
      " 75 75 Shares baby \n",
      "\n",
      "90% of my portfolio\n",
      " 76 Never sell! OG\n",
      " 77 Still holding 20 shares . I’m kinda poor\n",
      " 78 This stock will be worth 20 fold in 10 years time the way it’s going\n",
      " 79 Holy shit! I went from up +32k to down 3k to back up 20k! Never sold, just kept adding on the way down!\n",
      " 80 🖐️not touching my TSLA for the next 4-5 years at least.\n",
      " 81 Jumped in for the first time at $805. I'm a happy camper :)\n",
      " 82 Nope I wussed out with the economy and Russia. And to top it off I bought a lot near the peak- $1052 and sold it off well under \n",
      " 83 I Really Don’t understand what to write Trying to help.\n",
      " 84 55@340. Why would I leave?  I just need to get better at adding more.\n",
      " 85 Holding 415 shares since 450 (presplit)\n",
      "I'm gonna hold for another 5-10 years.\n",
      "\n",
      "\n",
      "If Tsla eventually overpasses Apple as the most\n",
      " 86 🙌 I have never sold a share since 2017, and keep dollar cost averaging in.\n",
      " 87 didn't sell shares today\n",
      "\n",
      "auto executed 2 trailing stop loss options with 87% profit. fuck yeah!\n",
      " 88 820 shares and 4 longterm puts sold for about 100k premium (strike between 600 and 900)\n",
      "bought first share in Dec 2018 and only \n",
      " 89 10 from 500 days. Bought one more during 800 low last week. Wishing my tax return would come in before giga Austin opens up!\n",
      " 90 I NEVER SOLD MY CHAIRS !!!!!\n",
      "\n",
      "EVEN IF MY SELL LIMIT\n",
      "ORDER OF 1,200 hits \n",
      "\n",
      "I’ll be there to catch Tesla at any falling knife even\n",
      " 91 I stayed long.\n",
      "\n",
      "Not because of faith.\n",
      "\n",
      "Because of Tesla's increasing dominance and profit.\n",
      " 92 When’s this stock split happening ?\n",
      " 93 Stacked up on Tesla and big oil 2 years ago. Can’t be happier.\n",
      " 94 15 \n",
      "\n",
      "Doesn’t matter what the market does \n",
      "\n",
      "These 15 aren’t going anywhere\n",
      " 95 How high is it projected to go? Just found out I have quite a few shares still from when I bought years ago. Sold a few of them \n",
      " 96 Maybe we’re all a little crazy…but I’m holding and hoping that it’s a great call today. It will be brutal if there are surprises\n",
      " 97 I consolidated my losing options to one new option and made some good money on it so far but not enough to cover the losses. :/ \n",
      " 98 Over valued stock right now. Will definitely buy back when it hits 100-300 bucks.\n",
      " 99 Every Friday.\n",
      "100 Buy one on first day of the month.\n",
      "101 Sucks to be poor 😭\n",
      "102 Me for the past two years\n",
      "103 Buy the dips, because Musk needs your money to pay his taxes.\n",
      "104 Tesla is a steal at the current price. Buy the stock and see$1000 by the end of August.\n",
      "105 I bought back when it was bouncing around $300s pre split. Then it went up to $800 + pre split down back to $300s. I was too sca\n",
      "106 I’m not gunna lie I haven’t been investing for long and have been testing the waters but when I seen TSLA so cheap i bought a fu\n",
      "107 Buying more is my strategy. \n",
      "\n",
      "I sold mine to lock in profit from 2015 and been waiting for this moment. (I was so worry that I w\n",
      "108 [deleted]\n",
      "109 I saw a Tesla go from $173 to $1500. Elon musk is a beast. He’s always fighting off the short sellers and still on top. It’s lik\n",
      "110 What do you think make the shorts choose TSLA?\n",
      "\n",
      "Your refusal to see reality is music to their ears, they sell more at your expen\n",
      "111 Title sounds delusional ...\n",
      "112 There wasn’t really any bad news for Tesla, everything looks great so far. The old boys club is just trying to weed out the reta\n",
      "113 Tesla share is at 40% discount right now. Buy it or leave it.\n",
      "114 Diamond hands 🙌 hold to the fucking moon. I’m gonna smoke a bowl and eat crayons\n",
      "115 Cathie Woods is prepping a new price target. Should alleviate some FUD\n",
      "116 $580 and falling today. What's your price target?\n",
      "117 Partially agree. It will reach $2000 in 2025. \n",
      "\n",
      "I had around the same 12K in 2017- took some profit in late Jan. Came back again\n",
      "118 The Great Short of TSLA is not Burry, but MUSK!\n",
      "119 My 10k became 6k\n",
      "120 Oh for the love of all that's holy.\n",
      "\n",
      "TSLA is falling for the same reason many other tech and growth stocks are falling. Money is\n",
      "121 That stupidity of Bitcoin buying spooked a lot of investors. Now Musk tied his and every investors ass to BTC. It was a Bad Move\n",
      "122 Interesting, looks like this sub is still bullish!\n",
      "123 I bot 1 share today u/596\n",
      "124 Meh come back to fight another day\n",
      "125 😂😂😂 hold it! Be a macho and hold till the end 😂😂😂\n",
      "126 Got it at @400.00 and see it to $901.00 until now, I won't sale for ever!\n",
      "127 Take profit before it turns to Coal\n",
      "128 Dont splits normally happen in July time frame?\n",
      "129 I like how it is right now, where the price is very similar to the market cap in billions.\n",
      "130 I can’t wait for a stock split.\n",
      "131 That’s not how it works but good luck. Stocks don’t split normally near that close to a previous split. There hasn’t even been a\n",
      "132 Anyone holding calls for November 26? Are you guys selling it this week due to FOMC or riding it until your expiration date?\n",
      "133 If it ever splits again there will be some people panic selling. This will be a great opportunity to buy TSLA if the 2nd split h\n",
      "134 What does a split mean? Is it bad for people that have shares?\n",
      "135 I'm sure they will do it but only because we all know what it will do to the stock.  ;)\n",
      "136 Isn't it solely up to Elon?\n",
      "137 He said he didn't wanna split. They won't split anytime soon unless tesla magically holds 2k a share value. It'll probably sit b\n",
      "138 Sorry to those that are about to miss the boat\n",
      "139 Cathie Wood is a superstar\n",
      "140 TSLA $2,500+ HODL!\n",
      "141 These memes get wilder every day\n",
      "142 \"All Hail the Queen!\"\n",
      "143 Second leg down coming. She better grab a life raft and drop the rod. Chopping wood!!\n",
      "144 **Fell of the chair.. Awesomely put together**\n",
      "145 I truely think this is probably the last opportunity to buy tesla at a reasonable price.\n",
      "Come 2022 and TESLA is going to fire on\n",
      "146 What do you guys think of EV competition from tradition automakers? Can traditional auto makers like GM catch up in terms of EV \n",
      "147 \n",
      "Right now, it's actually a great opportunity to buy TSLA at such a huge discount. When it's back over 800, we'll already have l\n",
      "148 I think I like the stock\n",
      "149 We need another WSB short squeeze to fry those shorts.\n",
      "150 TSLA shorts will never learn\n",
      "151 There are three things that will serve as an outpost for Tesla's stock price... 1: Market strategy (if Tesla still uses FSD to m\n",
      "152 Not selling a single share is like saying I’m never folding Texas hold ‘em maybe you’ll win some but you’d make more money if yo\n",
      "153 Base in uk, who knows best apps to buy and sell or FOR investors for TSLA.....Thank you guys!\n",
      "154 It’s going to drop to 400s first. Buy up around there, and continue to buy puts\n",
      "155 So many bots in here\n",
      "156 When’s the right time to buy though? Will it drop more before going back up?? What’s peoples expectations\n",
      "157 yeah it probably bounces a bit on its way to $300 EoY\n",
      "158 [deleted]\n",
      "159 Hold then.\n",
      "Never sell.\n",
      "160 I just commented something like this. \n",
      "I’m tapped. Need more money lol. \n",
      "This dip is so juicy....\n",
      "161 You have balls of steel my friend! I’m hodling 75 and hoping to buy more next week.\n",
      "162 This is the way.\n",
      "163 Keep it up champ..Let that dick swwaaanngg📈\n",
      "164 Just maybe it's happening now, adjusting value to expected earnings in an ever more competitive market\n",
      "165 Get a job, Sir!\n",
      "166 sorry OP I bought in last week and now it must go down\n",
      "167 What cost basis though OP?\n",
      "168 How come we are all out of money?\n",
      "169 Holing 300 at $870. It fucking hurts and kick myself for throwing that much at ATH's. Thankfully I don't need to liquidate any o\n",
      "170 I laughed heartily :)\n",
      "\n",
      "I sold some of my shares at loss and bought $590 call options. I hope it is near the bottom. Otherwise, I\n"
     ]
    }
   ],
   "source": [
    "comment = top_comments_tsla\n",
    "\n",
    "# set maximum sequence length specified for \n",
    "# model = \"finiteautomata/bertweet-base-sentiment-analysis\"\n",
    "max_model_seqlen = 128\n",
    "\n",
    "# truncate comments to max_model_seqlen & print:\n",
    "for i in range(len(comment)):\n",
    "    comment[i] = comment[i][:max_model_seqlen]\n",
    "    print(f'{i+1:3d} {comment[i]}')"
   ]
  },
  {
   "cell_type": "markdown",
   "metadata": {},
   "source": [
    "The example comment is: `'Bury Burry!!!!!'`. Print out what you get. For reproducibility, use the same comment in the next step; consider setting a seed."
   ]
  },
  {
   "cell_type": "markdown",
   "metadata": {
    "hidden": true
   },
   "source": [
    "#### 4. Make Inference!"
   ]
  },
  {
   "cell_type": "code",
   "execution_count": 25,
   "metadata": {
    "hidden": true
   },
   "outputs": [],
   "source": [
    "sentiment = sentiment_model(comment)"
   ]
  },
  {
   "cell_type": "markdown",
   "metadata": {
    "hidden": true
   },
   "source": [
    "What is the type of the output `sentiment`?"
   ]
  },
  {
   "cell_type": "markdown",
   "metadata": {
    "hidden": true
   },
   "source": [
    "### *Answer:*\n",
    "`sentiment` is a list of dictionaries"
   ]
  },
  {
   "cell_type": "code",
   "execution_count": 26,
   "metadata": {
    "hidden": true,
    "scrolled": true
   },
   "outputs": [
    {
     "name": "stdout",
     "output_type": "stream",
     "text": [
      "comment #  1: ho lee fuk \n",
      "\n",
      "you got anymore insider information? 👀👀\n",
      "\twith label: NEG, score = 0.951\n",
      "comment #  2: What will happen if you post that GME it's the new buy target from them? 🤣\n",
      "\twith label: NEU, score = 0.972\n",
      "comment #  3: When are you all buying $DOGE, and how much will you all buy?\n",
      "\twith label: NEU, score = 0.969\n",
      "comment #  4: Papa Musk?? 😘😘😘\n",
      "\twith label: NEU, score = 0.980\n",
      "comment #  5: I really don’t understand what Musk is trying to do. It seems he is trying to legitimize BTC and create a sustainable ecosystem \n",
      "\twith label: NEG, score = 0.731\n",
      "comment #  6: lmk when they start loading up on Doge and I'm in\n",
      "\twith label: NEU, score = 0.950\n",
      "comment #  7: [deleted]\n",
      "\twith label: NEU, score = 0.976\n",
      "comment #  8: When is DOGE flying\n",
      "\twith label: NEU, score = 0.922\n",
      "comment #  9: Are they gonna fire you lol\n",
      "\twith label: NEU, score = 0.630\n",
      "comment # 10: You're a fucking legend\n",
      "\twith label: POS, score = 0.894\n",
      "comment # 11: Give this man a raise! (In BTC)\n",
      "\twith label: POS, score = 0.978\n",
      "comment # 12: Do you have twitter or instagram?\n",
      "\twith label: NEU, score = 0.935\n",
      "comment # 13: Could you point me in the right direction on to how to code one of this bots myself. I'm a developer and have an extensive trade\n",
      "\twith label: NEU, score = 0.780\n",
      "comment # 14: Elon....come on.....we got ya...right?\n",
      "\twith label: NEU, score = 0.876\n",
      "comment # 15: BEEEEET-CO-NNNNNNNNNNEEEEEEEEEEEEEEEECT\n",
      "\twith label: NEU, score = 0.692\n",
      "comment # 16: Are you legally allowed to share that information though before they announced it?\n",
      "\twith label: NEU, score = 0.963\n",
      "comment # 17: trust the process\n",
      "\twith label: NEU, score = 0.966\n",
      "comment # 18: Let’s see if this investment has any effect on the actual stock. Good or bad.\n",
      "\twith label: NEU, score = 0.969\n",
      "comment # 19: Some of us only read, rarely post.\n",
      "\twith label: NEU, score = 0.965\n",
      "comment # 20: Have you ever talked with Elon? Could say few words about him? Thanks\n",
      "\twith label: NEU, score = 0.902\n",
      "comment # 21: You did - nicely done !!!\n",
      "\twith label: POS, score = 0.991\n",
      "comment # 22: What will trigger the sell bot? How much % down swing?\n",
      "\twith label: NEU, score = 0.846\n",
      "comment # 23: WOW DUDE YOUR AWSOME !!\n",
      "\twith label: POS, score = 0.992\n",
      "comment # 24: Which other Crypto do Tesla plan to approve?\n",
      "\twith label: NEU, score = 0.929\n",
      "comment # 25: I followed.\n",
      "\twith label: NEU, score = 0.905\n",
      "comment # 26: I followed you, maybe next time\n",
      "\twith label: NEU, score = 0.590\n",
      "comment # 27: This guy!!\n",
      "\twith label: POS, score = 0.970\n",
      "comment # 28: When $ETH?\n",
      "\twith label: NEU, score = 0.982\n",
      "comment # 29: This was def just a prediction. Not an insider. He keep Rick rolling people -_____-\n",
      "\twith label: NEG, score = 0.933\n",
      "comment # 30: Good one @TSLAinsider 👍\n",
      "*thefeelsofbeeingright 🤩\n",
      "\twith label: POS, score = 0.959\n",
      "comment # 31: Sup\n",
      "\twith label: NEU, score = 0.909\n",
      "comment # 32: Elon?\n",
      "\twith label: NEU, score = 0.978\n",
      "comment # 33: You sure did. Great heads up. Your awesome!!!\n",
      "\twith label: POS, score = 0.992\n",
      "comment # 34: Shiiiiit\n",
      "\twith label: NEG, score = 0.967\n",
      "comment # 35: Or you are actually an insider and freaked out that the post got attention lol. \n",
      "\n",
      "Pm me with the next hot tip lol\n",
      "\twith label: NEG, score = 0.807\n",
      "comment # 36: Best advice I can possibly give just keep taking LSD if you are having those types of epiphanies LOL\n",
      "\twith label: NEU, score = 0.751\n",
      "comment # 37: Enjoy getting fired.\n",
      "\twith label: NEG, score = 0.829\n",
      "comment # 38: Lies...why would an R&D person in the company be involved in this? I don’t buy it.\n",
      "\twith label: NEG, score = 0.984\n",
      "comment # 39: [removed]\n",
      "\twith label: NEU, score = 0.910\n",
      "comment # 40: Well since TSLA's last split was 5 to 1 at around $2,500, and since Elon said he doesn't want  split any time soon, I don't thin\n",
      "\twith label: NEU, score = 0.969\n",
      "comment # 41: I think you mean 5 for 1\n",
      "\twith label: NEU, score = 0.970\n",
      "comment # 42: I'd like to sell my one tesla share for 10 million. Thanks\n",
      "\twith label: NEU, score = 0.613\n",
      "comment # 43: Would be great but Elon said he wasn't in a hurry to do that again\n",
      "\twith label: NEU, score = 0.818\n",
      "comment # 44: I’m holding 34 shares at $418 average. Will I be able to average down once the stock splits?\n",
      "\twith label: NEU, score = 0.979\n",
      "comment # 45: I’m here for the split 😎\n",
      "\twith label: NEU, score = 0.976\n",
      "comment # 46: It would make sense to do a split soon so that more people can buy into it. I hope Elon splits it before the end of the year\n",
      "\twith label: NEU, score = 0.942\n",
      "comment # 47: You are confused!!!!!!\n",
      "\twith label: NEG, score = 0.976\n",
      "comment # 48: I can see a split after Elon sells his 10% as an announcement would drive up the price.\n",
      "\twith label: NEU, score = 0.960\n",
      "comment # 49: Yes Yes Yes\n",
      "\twith label: POS, score = 0.941\n",
      "comment # 50: Definitely would like.\n",
      "\twith label: POS, score = 0.844\n",
      "comment # 51: Tbh it’s only a matter of time\n",
      "\twith label: NEU, score = 0.882\n",
      "comment # 52: Thing is he only earns 10% of Tesla so if it’s a majority vote he has no choice but to split\n",
      "\twith label: NEU, score = 0.885\n",
      "comment # 53: Here is a very interesting theory/conspiracy https://twitter.com/robgrav3s/status/1461111661310398469?s=10\n",
      "\twith label: POS, score = 0.902\n",
      "comment # 54: Send a tweet to papa Musk\n",
      "\twith label: NEU, score = 0.805\n",
      "comment # 55: It’s gonna happen 10000000000000% on December 9th exactly\n",
      "\twith label: NEU, score = 0.951\n",
      "comment # 56: [removed]\n",
      "\twith label: NEU, score = 0.910\n",
      "comment # 57: Karma would eventually catch up with TSLA making a shitty product which is overpriced and all the false claims about autopilot a\n",
      "\twith label: NEG, score = 0.984\n",
      "comment # 58: Tesla will half its price by year end no need to split\n",
      "\twith label: NEU, score = 0.684\n",
      "comment # 59: Holding shares, happy with position, and wait for another 5:1 split. Smells like money and taste like chicken.  Let’s see what h\n",
      "\twith label: NEU, score = 0.659\n",
      "comment # 60: Me too. I am all dipped out. 400 shares long on Tesla. Made plenty of money bought and sold. Waiting for another split. Let’s ru\n",
      "\twith label: NEU, score = 0.954\n",
      "comment # 61: [removed]\n",
      "\twith label: NEU, score = 0.910\n",
      "comment # 62: 🙄 Literally me and TSLA right before this biiiiig \"correction\"\n",
      "\twith label: NEU, score = 0.878\n",
      "comment # 63: Hehehehe I am long on Tesla. It is better than FAANG except aapl.\n",
      "\twith label: POS, score = 0.780\n",
      "comment # 64: So funny! Same thing can't buy anymore dips\n",
      "\twith label: POS, score = 0.894\n",
      "comment # 65: I feel the pain... I’m embarrassed if people look at my screen and see today’s expiration value 😢\n",
      "\twith label: NEG, score = 0.982\n",
      "comment # 66:  Q4 sales at average 50k per vehicle would mean 9B sales or 36B on yearly basis (very optimistic), margin 12% (very high) would \n",
      "\twith label: POS, score = 0.540\n",
      "comment # 67: FACTS SIR!!!😒😌😔😪\n",
      "\twith label: NEU, score = 0.718\n",
      "comment # 68: One of these days also TSLA will have to show profits in line with its stock prize, that defines the ultimate dip target, we are\n",
      "\twith label: NEU, score = 0.933\n",
      "comment # 69: People need to stop talking about a stock split. It’s not productive. With the ability to buy fractional shares from most broker\n",
      "\twith label: NEG, score = 0.958\n",
      "comment # 70: TSLA is a promising stock, as long as it keeps on promising.\n",
      "\twith label: POS, score = 0.991\n",
      "comment # 71: MUSK sells promises (memes) primarily, and products, secondarily.  TSLA sells EVs but what does SpaceX, Boring Co., Neuralink, S\n",
      "\twith label: NEU, score = 0.554\n",
      "comment # 72: 60 shares @ $40.32 cps holding strong!\n",
      "\twith label: POS, score = 0.912\n",
      "comment # 73: Can't say I'm super OG, but I've been following the company since 2016ish when I was a freshman in high school, and as soon as I\n",
      "\twith label: NEU, score = 0.768\n",
      "comment # 74: I just buy more\n",
      "\twith label: NEU, score = 0.878\n",
      "comment # 75: 75 Shares baby \n",
      "\n",
      "90% of my portfolio\n",
      "\twith label: NEU, score = 0.880\n",
      "comment # 76: Never sell! OG\n",
      "\twith label: NEU, score = 0.899\n",
      "comment # 77: Still holding 20 shares . I’m kinda poor\n",
      "\twith label: NEG, score = 0.575\n",
      "comment # 78: This stock will be worth 20 fold in 10 years time the way it’s going\n",
      "\twith label: NEU, score = 0.921\n",
      "comment # 79: Holy shit! I went from up +32k to down 3k to back up 20k! Never sold, just kept adding on the way down!\n",
      "\twith label: NEG, score = 0.828\n",
      "comment # 80: 🖐️not touching my TSLA for the next 4-5 years at least.\n",
      "\twith label: NEG, score = 0.864\n",
      "comment # 81: Jumped in for the first time at $805. I'm a happy camper :)\n",
      "\twith label: POS, score = 0.993\n",
      "comment # 82: Nope I wussed out with the economy and Russia. And to top it off I bought a lot near the peak- $1052 and sold it off well under \n",
      "\twith label: NEG, score = 0.600\n",
      "comment # 83: I Really Don’t understand what to write Trying to help.\n",
      "\twith label: NEG, score = 0.977\n",
      "comment # 84: 55@340. Why would I leave?  I just need to get better at adding more.\n",
      "\twith label: NEU, score = 0.870\n",
      "comment # 85: Holding 415 shares since 450 (presplit)\n",
      "I'm gonna hold for another 5-10 years.\n",
      "\n",
      "\n",
      "If Tsla eventually overpasses Apple as the most\n",
      "\twith label: NEU, score = 0.951\n",
      "comment # 86: 🙌 I have never sold a share since 2017, and keep dollar cost averaging in.\n",
      "\twith label: NEU, score = 0.753\n",
      "comment # 87: didn't sell shares today\n",
      "\n",
      "auto executed 2 trailing stop loss options with 87% profit. fuck yeah!\n",
      "\twith label: POS, score = 0.756\n",
      "comment # 88: 820 shares and 4 longterm puts sold for about 100k premium (strike between 600 and 900)\n",
      "bought first share in Dec 2018 and only \n",
      "\twith label: NEU, score = 0.970\n",
      "comment # 89: 10 from 500 days. Bought one more during 800 low last week. Wishing my tax return would come in before giga Austin opens up!\n",
      "\twith label: NEU, score = 0.849\n",
      "comment # 90: I NEVER SOLD MY CHAIRS !!!!!\n",
      "\n",
      "EVEN IF MY SELL LIMIT\n",
      "ORDER OF 1,200 hits \n",
      "\n",
      "I’ll be there to catch Tesla at any falling knife even\n",
      "\twith label: NEU, score = 0.679\n",
      "comment # 91: I stayed long.\n",
      "\n",
      "Not because of faith.\n",
      "\n",
      "Because of Tesla's increasing dominance and profit.\n",
      "\twith label: NEU, score = 0.573\n",
      "comment # 92: When’s this stock split happening ?\n",
      "\twith label: NEU, score = 0.936\n",
      "comment # 93: Stacked up on Tesla and big oil 2 years ago. Can’t be happier.\n",
      "\twith label: POS, score = 0.986\n",
      "comment # 94: 15 \n",
      "\n",
      "Doesn’t matter what the market does \n",
      "\n",
      "These 15 aren’t going anywhere\n",
      "\twith label: NEU, score = 0.771\n",
      "comment # 95: How high is it projected to go? Just found out I have quite a few shares still from when I bought years ago. Sold a few of them \n",
      "\twith label: NEU, score = 0.944\n",
      "comment # 96: Maybe we’re all a little crazy…but I’m holding and hoping that it’s a great call today. It will be brutal if there are surprises\n",
      "\twith label: NEU, score = 0.552\n",
      "comment # 97: I consolidated my losing options to one new option and made some good money on it so far but not enough to cover the losses. :/ \n",
      "\twith label: NEU, score = 0.587\n",
      "comment # 98: Over valued stock right now. Will definitely buy back when it hits 100-300 bucks.\n",
      "\twith label: NEU, score = 0.844\n",
      "comment # 99: Every Friday.\n",
      "\twith label: NEU, score = 0.926\n",
      "comment #100: Buy one on first day of the month.\n",
      "\twith label: NEU, score = 0.809\n",
      "comment #101: Sucks to be poor 😭\n",
      "\twith label: NEG, score = 0.979\n",
      "comment #102: Me for the past two years\n",
      "\twith label: NEU, score = 0.930\n",
      "comment #103: Buy the dips, because Musk needs your money to pay his taxes.\n",
      "\twith label: NEU, score = 0.865\n",
      "comment #104: Tesla is a steal at the current price. Buy the stock and see$1000 by the end of August.\n",
      "\twith label: NEG, score = 0.725\n",
      "comment #105: I bought back when it was bouncing around $300s pre split. Then it went up to $800 + pre split down back to $300s. I was too sca\n",
      "\twith label: NEU, score = 0.981\n",
      "comment #106: I’m not gunna lie I haven’t been investing for long and have been testing the waters but when I seen TSLA so cheap i bought a fu\n",
      "\twith label: NEG, score = 0.542\n",
      "comment #107: Buying more is my strategy. \n",
      "\n",
      "I sold mine to lock in profit from 2015 and been waiting for this moment. (I was so worry that I w\n",
      "\twith label: NEU, score = 0.956\n",
      "comment #108: [deleted]\n",
      "\twith label: NEU, score = 0.976\n",
      "comment #109: I saw a Tesla go from $173 to $1500. Elon musk is a beast. He’s always fighting off the short sellers and still on top. It’s lik\n",
      "\twith label: POS, score = 0.987\n",
      "comment #110: What do you think make the shorts choose TSLA?\n",
      "\n",
      "Your refusal to see reality is music to their ears, they sell more at your expen\n",
      "\twith label: NEG, score = 0.745\n",
      "comment #111: Title sounds delusional ...\n",
      "\twith label: NEG, score = 0.967\n",
      "comment #112: There wasn’t really any bad news for Tesla, everything looks great so far. The old boys club is just trying to weed out the reta\n",
      "\twith label: POS, score = 0.910\n",
      "comment #113: Tesla share is at 40% discount right now. Buy it or leave it.\n",
      "\twith label: POS, score = 0.544\n",
      "comment #114: Diamond hands 🙌 hold to the fucking moon. I’m gonna smoke a bowl and eat crayons\n",
      "\twith label: NEU, score = 0.529\n",
      "comment #115: Cathie Woods is prepping a new price target. Should alleviate some FUD\n",
      "\twith label: NEU, score = 0.584\n",
      "comment #116: $580 and falling today. What's your price target?\n",
      "\twith label: NEU, score = 0.977\n",
      "comment #117: Partially agree. It will reach $2000 in 2025. \n",
      "\n",
      "I had around the same 12K in 2017- took some profit in late Jan. Came back again\n",
      "\twith label: NEU, score = 0.926\n",
      "comment #118: The Great Short of TSLA is not Burry, but MUSK!\n",
      "\twith label: POS, score = 0.898\n",
      "comment #119: My 10k became 6k\n",
      "\twith label: NEU, score = 0.924\n",
      "comment #120: Oh for the love of all that's holy.\n",
      "\n",
      "TSLA is falling for the same reason many other tech and growth stocks are falling. Money is\n",
      "\twith label: NEU, score = 0.655\n",
      "comment #121: That stupidity of Bitcoin buying spooked a lot of investors. Now Musk tied his and every investors ass to BTC. It was a Bad Move\n",
      "\twith label: NEG, score = 0.983\n",
      "comment #122: Interesting, looks like this sub is still bullish!\n",
      "\twith label: NEU, score = 0.510\n",
      "comment #123: I bot 1 share today u/596\n",
      "\twith label: NEU, score = 0.983\n",
      "comment #124: Meh come back to fight another day\n",
      "\twith label: NEU, score = 0.686\n",
      "comment #125: 😂😂😂 hold it! Be a macho and hold till the end 😂😂😂\n",
      "\twith label: NEU, score = 0.962\n",
      "comment #126: Got it at @400.00 and see it to $901.00 until now, I won't sale for ever!\n",
      "\twith label: NEU, score = 0.948\n",
      "comment #127: Take profit before it turns to Coal\n",
      "\twith label: NEU, score = 0.918\n",
      "comment #128: Dont splits normally happen in July time frame?\n",
      "\twith label: NEU, score = 0.918\n",
      "comment #129: I like how it is right now, where the price is very similar to the market cap in billions.\n",
      "\twith label: POS, score = 0.904\n",
      "comment #130: I can’t wait for a stock split.\n",
      "\twith label: POS, score = 0.947\n",
      "comment #131: That’s not how it works but good luck. Stocks don’t split normally near that close to a previous split. There hasn’t even been a\n",
      "\twith label: NEU, score = 0.651\n",
      "comment #132: Anyone holding calls for November 26? Are you guys selling it this week due to FOMC or riding it until your expiration date?\n",
      "\twith label: NEU, score = 0.971\n",
      "comment #133: If it ever splits again there will be some people panic selling. This will be a great opportunity to buy TSLA if the 2nd split h\n",
      "\twith label: NEU, score = 0.873\n",
      "comment #134: What does a split mean? Is it bad for people that have shares?\n",
      "\twith label: NEU, score = 0.811\n",
      "comment #135: I'm sure they will do it but only because we all know what it will do to the stock.  ;)\n",
      "\twith label: NEU, score = 0.892\n",
      "comment #136: Isn't it solely up to Elon?\n",
      "\twith label: NEU, score = 0.982\n",
      "comment #137: He said he didn't wanna split. They won't split anytime soon unless tesla magically holds 2k a share value. It'll probably sit b\n",
      "\twith label: NEU, score = 0.945\n",
      "comment #138: Sorry to those that are about to miss the boat\n",
      "\twith label: NEU, score = 0.509\n",
      "comment #139: Cathie Wood is a superstar\n",
      "\twith label: POS, score = 0.986\n",
      "comment #140: TSLA $2,500+ HODL!\n",
      "\twith label: NEU, score = 0.922\n",
      "comment #141: These memes get wilder every day\n",
      "\twith label: NEG, score = 0.927\n",
      "comment #142: \"All Hail the Queen!\"\n",
      "\twith label: POS, score = 0.989\n",
      "comment #143: Second leg down coming. She better grab a life raft and drop the rod. Chopping wood!!\n",
      "\twith label: NEG, score = 0.698\n",
      "comment #144: **Fell of the chair.. Awesomely put together**\n",
      "\twith label: POS, score = 0.992\n",
      "comment #145: I truely think this is probably the last opportunity to buy tesla at a reasonable price.\n",
      "Come 2022 and TESLA is going to fire on\n",
      "\twith label: POS, score = 0.790\n",
      "comment #146: What do you guys think of EV competition from tradition automakers? Can traditional auto makers like GM catch up in terms of EV \n",
      "\twith label: NEU, score = 0.916\n",
      "comment #147: \n",
      "Right now, it's actually a great opportunity to buy TSLA at such a huge discount. When it's back over 800, we'll already have l\n",
      "\twith label: POS, score = 0.881\n",
      "comment #148: I think I like the stock\n",
      "\twith label: POS, score = 0.962\n",
      "comment #149: We need another WSB short squeeze to fry those shorts.\n",
      "\twith label: NEU, score = 0.752\n",
      "comment #150: TSLA shorts will never learn\n",
      "\twith label: NEG, score = 0.910\n",
      "comment #151: There are three things that will serve as an outpost for Tesla's stock price... 1: Market strategy (if Tesla still uses FSD to m\n",
      "\twith label: NEU, score = 0.917\n",
      "comment #152: Not selling a single share is like saying I’m never folding Texas hold ‘em maybe you’ll win some but you’d make more money if yo\n",
      "\twith label: NEU, score = 0.770\n",
      "comment #153: Base in uk, who knows best apps to buy and sell or FOR investors for TSLA.....Thank you guys!\n",
      "\twith label: POS, score = 0.913\n",
      "comment #154: It’s going to drop to 400s first. Buy up around there, and continue to buy puts\n",
      "\twith label: NEU, score = 0.976\n",
      "comment #155: So many bots in here\n",
      "\twith label: NEG, score = 0.966\n",
      "comment #156: When’s the right time to buy though? Will it drop more before going back up?? What’s peoples expectations\n",
      "\twith label: NEU, score = 0.979\n",
      "comment #157: yeah it probably bounces a bit on its way to $300 EoY\n",
      "\twith label: NEU, score = 0.976\n",
      "comment #158: [deleted]\n",
      "\twith label: NEU, score = 0.976\n",
      "comment #159: Hold then.\n",
      "Never sell.\n",
      "\twith label: NEU, score = 0.949\n",
      "comment #160: I just commented something like this. \n",
      "I’m tapped. Need more money lol. \n",
      "This dip is so juicy....\n",
      "\twith label: NEU, score = 0.924\n",
      "comment #161: You have balls of steel my friend! I’m hodling 75 and hoping to buy more next week.\n",
      "\twith label: POS, score = 0.976\n",
      "comment #162: This is the way.\n",
      "\twith label: NEU, score = 0.733\n",
      "comment #163: Keep it up champ..Let that dick swwaaanngg📈\n",
      "\twith label: NEU, score = 0.739\n",
      "comment #164: Just maybe it's happening now, adjusting value to expected earnings in an ever more competitive market\n",
      "\twith label: NEU, score = 0.896\n",
      "comment #165: Get a job, Sir!\n",
      "\twith label: NEU, score = 0.905\n",
      "comment #166: sorry OP I bought in last week and now it must go down\n",
      "\twith label: NEG, score = 0.948\n",
      "comment #167: What cost basis though OP?\n",
      "\twith label: NEU, score = 0.973\n",
      "comment #168: How come we are all out of money?\n",
      "\twith label: NEG, score = 0.944\n",
      "comment #169: Holing 300 at $870. It fucking hurts and kick myself for throwing that much at ATH's. Thankfully I don't need to liquidate any o\n",
      "\twith label: NEG, score = 0.981\n",
      "comment #170: I laughed heartily :)\n",
      "\n",
      "I sold some of my shares at loss and bought $590 call options. I hope it is near the bottom. Otherwise, I\n",
      "\twith label: POS, score = 0.647\n"
     ]
    }
   ],
   "source": [
    "# print(f'The comment: {comment}')\n",
    "# print(f'Predicted Label is {sentiment[0][\"label\"]} and the score is {sentiment[0][\"score\"]:.3f}')\n",
    "\n",
    "for j in range(len(comment)):\n",
    "    print(f\"comment #{j+1:3d}: {comment[j]}\\n\\t\"\n",
    "          f\"with label: {sentiment[j]['label']}, score = {sentiment[j]['score']:.3f}\")"
   ]
  },
  {
   "cell_type": "markdown",
   "metadata": {},
   "source": [
    "For the example comment, the output is:\n",
    "\n",
    "    The comment: Bury Burry!!!!!\n",
    "    Predicted Label is NEGATIVE and the score is 0.989"
   ]
  },
  {
   "cell_type": "markdown",
   "metadata": {},
   "source": [
    "🖥️❓ Model Question:\n",
    "\n",
    "1. What does the score represent?\n",
    "\n",
    "### *Answer:*\n",
    "The score represents the model's confidence in its predicted label for the given comment."
   ]
  },
  {
   "cell_type": "markdown",
   "metadata": {},
   "source": [
    "### Task IV: Put All Together"
   ]
  },
  {
   "cell_type": "markdown",
   "metadata": {},
   "source": [
    "Let's pull all the piece together, create a simple script that does \n",
    "\n",
    "- get the subreddit\n",
    "- get comments from the top posts for given subreddit\n",
    "- run sentiment analysis "
   ]
  },
  {
   "cell_type": "markdown",
   "metadata": {},
   "source": [
    "#### Complete the Script"
   ]
  },
  {
   "cell_type": "markdown",
   "metadata": {},
   "source": [
    "Once you complete the code, running the following block writes the code into a new Python script and saves it as `top_tlsa_comment_sentiment.py` under the same directory with the notebook. "
   ]
  },
  {
   "cell_type": "code",
   "execution_count": 31,
   "metadata": {
    "code_folding": []
   },
   "outputs": [
    {
     "name": "stdout",
     "output_type": "stream",
     "text": [
      "Overwriting top_tsla_comment_sentiment.py\n"
     ]
    }
   ],
   "source": [
    "%%writefile top_tsla_comment_sentiment.py\n",
    "\n",
    "import secrets_reddit as secrets\n",
    "import random\n",
    "\n",
    "from typing import Dict, List\n",
    "\n",
    "from praw import Reddit\n",
    "from praw.models.reddit.subreddit import Subreddit\n",
    "from praw.models import MoreComments\n",
    "\n",
    "from transformers import pipeline\n",
    "\n",
    "\n",
    "def get_subreddit(display_name:str) -> Subreddit:\n",
    "    \"\"\"Get subreddit object from display name\n",
    "\n",
    "    Args:\n",
    "        display_name (str): [description]\n",
    "\n",
    "    Returns:\n",
    "        Subreddit: [description]\n",
    "    \"\"\"\n",
    "    reddit = Reddit(\n",
    "        client_id=secrets.REDDIT_API_CLIENT_ID,        \n",
    "        client_secret=secrets.REDDIT_API_CLIENT_SECRET,\n",
    "        user_agent=secrets.REDDIT_API_USER_AGENT\n",
    "        )\n",
    "    \n",
    "    subreddit = reddit.subreddit(display_name)\n",
    "    return subreddit\n",
    "\n",
    "def get_comments(subreddit:Subreddit, limit:int=3) -> List[str]:\n",
    "    \"\"\" Get comments from subreddit\n",
    "\n",
    "    Args:\n",
    "        subreddit (Subreddit): [description]\n",
    "        limit (int, optional): [description]. Defaults to 3.\n",
    "\n",
    "    Returns:\n",
    "        List[str]: List of comments\n",
    "    \"\"\"\n",
    "    top_comments = []\n",
    "    for submission in subreddit.top(limit=limit):\n",
    "        for top_level_comment in submission.comments:\n",
    "            if isinstance(top_level_comment, MoreComments):\n",
    "                continue\n",
    "            top_comments.append(top_level_comment.body)\n",
    "    return top_comments\n",
    "\n",
    "def run_sentiment_analysis(comment:str) -> Dict:\n",
    "    \"\"\"Run sentiment analysis on comment using default distilbert model\n",
    "    \n",
    "    Args:\n",
    "        comment (str): [description]\n",
    "        \n",
    "    Returns:\n",
    "        str: Sentiment analysis result\n",
    "    \"\"\"\n",
    "    sentiment_model = pipeline(model='distilbert-base-uncased-finetuned-sst-2-english')\n",
    "    sentiment = sentiment_model(comment)\n",
    "    return sentiment[0]\n",
    "\n",
    "\n",
    "if __name__ == '__main__':\n",
    "    subreddit = get_subreddit(\"TSLA\")\n",
    "    comments = get_comments(subreddit)\n",
    "    comment = random.choice(comments)\n",
    "    sentiment = run_sentiment_analysis(comment)\n",
    "    \n",
    "    print(f'The comment: {comment}')\n",
    "    print(f'Predicted Label is {sentiment[\"label\"]} and the score is {sentiment[\"score\"]:.3f}')"
   ]
  },
  {
   "cell_type": "markdown",
   "metadata": {},
   "source": [
    "Run the following block to see the output."
   ]
  },
  {
   "cell_type": "code",
   "execution_count": 34,
   "metadata": {},
   "outputs": [
    {
     "name": "stdout",
     "output_type": "stream",
     "text": [
      "Downloading: 100%|█████████████████████████| 4.54k/4.54k [00:00<00:00, 8.12MB/s]\n",
      "The comment: Thing is he only earns 10% of Tesla so if it’s a majority vote he has no choice but to split\n",
      "Predicted Label is NEGATIVE and the score is 0.998\n"
     ]
    }
   ],
   "source": [
    "!python top_tsla_comment_sentiment.py"
   ]
  },
  {
   "cell_type": "markdown",
   "metadata": {},
   "source": [
    "<details><summary> Expected output:</summary>\n",
    "\n",
    "    No model was supplied, defaulted to distilbert-base-uncased-finetuned-sst-2-english (https://huggingface.co/distilbert-base-uncased-finetuned-sst-2-english)\n",
    "    The comment: When is DOGE flying\n",
    "    Predicted Label is POSITIVE and the score is 0.689\n",
    "</details>"
   ]
  },
  {
   "cell_type": "markdown",
   "metadata": {},
   "source": [
    "💽❓ Data Question:\n",
    "\n",
    "5. Is the subreddit active? About how many posts or threads per day? How could you find this information?\n",
    "\n",
    "### *Answer:*\n",
    "The TSLA subreddit averages about 5 post per day, compared to, for example, the much more active subreddit machinelearning (average ~25 posts per day). This information does not appear to be easily acquired using the Reddit API since it apparently does not allow one to query posts by date. There are, however, third-party services that do provide such information. Using subredditstats.com, for example, one can compare machinelearning and TSLA subreddits with respect to the number of subscribers or posts per day over time (see figures below). These data suggest that redditors appear significantly more interested in machine learning!!!"
   ]
  },
  {
   "attachments": {
    "2022_08_no_postsperday_ml_vs_tsla.png": {
     "image/png": "[encoded data removed]"
    }
   },
   "cell_type": "markdown",
   "metadata": {},
   "source": [
    "#### No. subreddit posts per day over time (blue=machinelearning / orange=TSLA):\n",
    "\n",
    "![2022_08_no_postsperday_ml_vs_tsla.png](attachment:2022_08_no_postsperday_ml_vs_tsla.png)"
   ]
  },
  {
   "attachments": {
    "2022_08_no_subscribers_ml_vs_tsla.png": {
     "image/png": "[encoded data removed]"
    }
   },
   "cell_type": "markdown",
   "metadata": {},
   "source": [
    "#### No. subreddit subscribers over time (blue=machinelearning / orange=TSLA):\n",
    "![2022_08_no_subscribers_ml_vs_tsla.png](attachment:2022_08_no_subscribers_ml_vs_tsla.png)"
   ]
  },
  {
   "cell_type": "markdown",
   "metadata": {},
   "source": [
    "💽❓ Data Question:\n",
    "\n",
    "6. Does there seem to be a large distribution of posters or a smaller concentration of posters who are very active? What kind of impact might this have on the data?\n",
    "\n",
    "### *Answer:*\n",
    "Difficult to tell by just eyeballing the TSLA subreddit. (The Reddit API does not appear to provide an easy method for retrieving a distribution of # author posts over time.) One redditor, however, does stand out--***author:wewewawa*** has about 75 posts in the last 6 months. Dominance of the TSLA subreddit by a few active users would likely skew the data retrieved toward their style and content."
   ]
  },
  {
   "cell_type": "code",
   "execution_count": null,
   "metadata": {},
   "outputs": [],
   "source": []
  }
 ],
 "metadata": {
  "kernelspec": {
   "display_name": "Python (sa38j)",
   "language": "python",
   "name": "sa38j"
  },
  "language_info": {
   "codemirror_mode": {
    "name": "ipython",
    "version": 3
   },
   "file_extension": ".py",
   "mimetype": "text/x-python",
   "name": "python",
   "nbconvert_exporter": "python",
   "pygments_lexer": "ipython3",
   "version": "3.8.13"
  },
  "toc": {
   "base_numbering": 1,
   "nav_menu": {},
   "number_sections": true,
   "sideBar": true,
   "skip_h1_title": false,
   "title_cell": "Table of Contents",
   "title_sidebar": "Contents",
   "toc_cell": false,
   "toc_position": {},
   "toc_section_display": true,
   "toc_window_display": true
  },
  "vscode": {
   "interpreter": {
    "hash": "c57794392b841cffd8686d5c4548e4e2ec78521f49300d60954d1380f1b4bd1f"
   }
  }
 },
 "nbformat": 4,
 "nbformat_minor": 2
}
