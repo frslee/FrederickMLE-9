{
  "cells": [
    {
      "cell_type": "markdown",
      "id": "TfzL6S25dL6j",
      "metadata": {
        "id": "TfzL6S25dL6j"
      },
      "source": [
        "<p align = \"center\" draggable=”false” ><img src=\"https://user-images.githubusercontent.com/37101144/161836199-fdb0219d-0361-4988-bf26-48b0fad160a3.png\" \n",
        "     width=\"200px\"\n",
        "     height=\"auto\"/>\n",
        "</p>"
      ]
    },
    {
      "cell_type": "markdown",
      "id": "cd6727ba",
      "metadata": {
        "id": "cd6727ba"
      },
      "source": [
        "# News Article Classification\n"
      ]
    },
    {
      "cell_type": "markdown",
      "id": "1dd0ce8d",
      "metadata": {
        "id": "1dd0ce8d"
      },
      "source": [
        "Today, you are a machine learning engineer at [Upday](https://www.upday.com/home), a news app. The engine behind the app processes almost 100k news articles every day in many languages and context. In order to connect people with the right content, we need to know what the articles are about. \n",
        "\n",
        "The job here is to build a classifier that identify the category of an article accurately that will be fed into the recommendation algorithms of the app for better personalized content for the readers. \n",
        "\n",
        "You will first train a Transformer from scratch; then fine-tune a pre-trained Transformer model for text classification using 🤗; and compare performances using the same test data set."
      ]
    },
    {
      "cell_type": "markdown",
      "id": "c979a92b",
      "metadata": {
        "id": "c979a92b"
      },
      "source": [
        "## Learning objectives\n"
      ]
    },
    {
      "cell_type": "markdown",
      "id": "4f6bcf51",
      "metadata": {
        "id": "4f6bcf51"
      },
      "source": [
        "By the end of this session, you will be able to:\n",
        "- Understand how Transformer models work\n",
        "- Build a Transformer model for text classification from scratch\n",
        "- Fine-tune a pre-trained Transformer model for text classification using 🤗 "
      ]
    },
    {
      "cell_type": "markdown",
      "id": "64724518",
      "metadata": {
        "id": "64724518"
      },
      "source": [
        "# Task 1. Prepare the data"
      ]
    },
    {
      "cell_type": "markdown",
      "id": "48a57962",
      "metadata": {
        "id": "48a57962"
      },
      "source": [
        "1. [20 news groups data](http://qwone.com/~jason/20Newsgroups/) is one of the standard datasets in the `scikit-learn`. The 20 newsgroups dataset comprises around 18k newsgroups posts on 20 topics split in two subsets: one for training (or development) and the other one for testing (or for performance evaluation). The split between the two datasets is based upon messages posted before and after a specific date.\n",
        "\n",
        "    Take a read on its [usage](https://scikit-learn.org/stable/datasets/real_world.html#newsgroups-dataset) and load the training and testing datasets into `train` and `test` respectively via `fetch_20newsgroups`."
      ]
    },
    {
      "cell_type": "code",
      "source": [
        "!nvidia-smi"
      ],
      "metadata": {
        "colab": {
          "base_uri": "https://localhost:8080/",
          "height": 0
        },
        "id": "DWGVUsmQ-DzF",
        "outputId": "76449cb4-c995-4e8b-a51d-b348dd57b802"
      },
      "id": "DWGVUsmQ-DzF",
      "execution_count": 1,
      "outputs": [
        {
          "output_type": "stream",
          "name": "stdout",
          "text": [
            "Fri Nov  4 20:24:41 2022       \n",
            "+-----------------------------------------------------------------------------+\n",
            "| NVIDIA-SMI 460.32.03    Driver Version: 460.32.03    CUDA Version: 11.2     |\n",
            "|-------------------------------+----------------------+----------------------+\n",
            "| GPU  Name        Persistence-M| Bus-Id        Disp.A | Volatile Uncorr. ECC |\n",
            "| Fan  Temp  Perf  Pwr:Usage/Cap|         Memory-Usage | GPU-Util  Compute M. |\n",
            "|                               |                      |               MIG M. |\n",
            "|===============================+======================+======================|\n",
            "|   0  A100-SXM4-40GB      Off  | 00000000:00:04.0 Off |                    0 |\n",
            "| N/A   30C    P0    49W / 400W |      0MiB / 40536MiB |      0%      Default |\n",
            "|                               |                      |             Disabled |\n",
            "+-------------------------------+----------------------+----------------------+\n",
            "                                                                               \n",
            "+-----------------------------------------------------------------------------+\n",
            "| Processes:                                                                  |\n",
            "|  GPU   GI   CI        PID   Type   Process name                  GPU Memory |\n",
            "|        ID   ID                                                   Usage      |\n",
            "|=============================================================================|\n",
            "|  No running processes found                                                 |\n",
            "+-----------------------------------------------------------------------------+\n"
          ]
        }
      ]
    },
    {
      "cell_type": "code",
      "source": [
        "# Since we will be trying different keras model optimizers on the same data,\n",
        "# in the first part of this notebook, let's seed random numbers with tf backend \n",
        "# to make results reproducible so we can be sure we're properly resetting/clearing \n",
        "# keras models & gpu ram between runs:\n",
        "#\n",
        "# source of below code is:\n",
        "# https://keras.io/getting_started/faq/#how-can-i-obtain-reproducible-results-using-keras-during-development\n",
        "import numpy as np\n",
        "import tensorflow as tf\n",
        "import random as python_random\n",
        "\n",
        "# The below is necessary for starting Numpy generated random numbers\n",
        "# in a well-defined initial state.\n",
        "np.random.seed(123)\n",
        "\n",
        "# The below is necessary for starting core Python generated random numbers\n",
        "# in a well-defined state.\n",
        "python_random.seed(123)\n",
        "\n",
        "# The below set_seed() will make random number generation\n",
        "# in the TensorFlow backend have a well-defined initial state.\n",
        "# For further details, see:\n",
        "# https://www.tensorflow.org/api_docs/python/tf/random/set_seed\n",
        "tf.random.set_seed(1234)"
      ],
      "metadata": {
        "id": "tZjFe47mMviK"
      },
      "id": "tZjFe47mMviK",
      "execution_count": 2,
      "outputs": []
    },
    {
      "cell_type": "code",
      "execution_count": 3,
      "id": "1f4d54b2",
      "metadata": {
        "id": "1f4d54b2"
      },
      "outputs": [],
      "source": [
        "NUM_LABELS = 20"
      ]
    },
    {
      "cell_type": "code",
      "execution_count": 4,
      "id": "511c1fd2",
      "metadata": {
        "id": "511c1fd2",
        "colab": {
          "base_uri": "https://localhost:8080/",
          "height": 0
        },
        "outputId": "d10e0298-ad32-41e1-c8e1-954b99c32f41"
      },
      "outputs": [
        {
          "output_type": "stream",
          "name": "stdout",
          "text": [
            "Type and length of train: <class 'sklearn.utils.Bunch'> \t5\n",
            "Type and length of test : <class 'sklearn.utils.Bunch'> \t5\n",
            "\n",
            "\tType and length of train[\"data\"]:  \t\t<class 'list'> \t11314\n",
            "\tType and length of train[\"target_names\"]: \t<class 'list'> \t   20\n",
            "\tType and shape of train[\"target\"]:     <class 'numpy.ndarray'> \t(11314,)\n",
            "\n",
            "\tType and length of test[\"data\"]:  \t\t<class 'list'> \t 7532\n",
            "\tType and length of test[\"target_names\"]: \t<class 'list'> \t   20\n",
            "\tType and shape of test[\"target\"]:      <class 'numpy.ndarray'> \t(7532,)\n",
            "\n",
            "\n",
            "train.keys data type: \t<class 'dict_keys'>\n",
            "train keys:           \tdict_keys(['data', 'filenames', 'target_names', 'target', 'DESCR'])\n",
            "\n",
            "train[\"target_names\"] contents:\n",
            "\talt.atheism\n",
            "\tcomp.graphics\n",
            "\tcomp.os.ms-windows.misc\n",
            "\tcomp.sys.ibm.pc.hardware\n",
            "\tcomp.sys.mac.hardware\n",
            "\tcomp.windows.x\n",
            "\tmisc.forsale\n",
            "\trec.autos\n",
            "\trec.motorcycles\n",
            "\trec.sport.baseball\n",
            "\trec.sport.hockey\n",
            "\tsci.crypt\n",
            "\tsci.electronics\n",
            "\tsci.med\n",
            "\tsci.space\n",
            "\tsoc.religion.christian\n",
            "\ttalk.politics.guns\n",
            "\ttalk.politics.mideast\n",
            "\ttalk.politics.misc\n",
            "\ttalk.religion.misc\n"
          ]
        }
      ],
      "source": [
        "from sklearn.datasets import fetch_20newsgroups\n",
        "\n",
        "train = fetch_20newsgroups(subset='train')\n",
        "test = fetch_20newsgroups(subset='test')\n",
        "\n",
        "# check data types:\n",
        "print(f'Type and length of train: {type(train)} \\t{len(train)}')\n",
        "print(f'Type and length of test : {type(test)} \\t{len(test)}\\n')\n",
        "\n",
        "# explore class sklearn.utils.Bunch:\n",
        "print(f'\\tType and length of train[\"data\"]:  \\t\\t{type(train[\"data\"])} '\n",
        "          f'\\t{len(train[\"data\"]):5d}\\n' \n",
        "      f'\\tType and length of train[\"target_names\"]: \\t{type(train[\"target_names\"])} '\n",
        "          f'\\t{len(train[\"target_names\"]):5d}\\n'\n",
        "      f'\\tType and shape of train[\"target\"]:     {type(train[\"target\"])} '\n",
        "          f'\\t{train[\"target\"].shape}\\n\\n'\n",
        "\n",
        "      f'\\tType and length of test[\"data\"]:  \\t\\t{type(test[\"data\"])} '\n",
        "          f'\\t{len(test[\"data\"]):5d}\\n' \n",
        "      f'\\tType and length of test[\"target_names\"]: \\t{type(test[\"target_names\"])} '\n",
        "          f'\\t{len(test[\"target_names\"]):5d}\\n'\n",
        "      f'\\tType and shape of test[\"target\"]:      {type(test[\"target\"])} '\n",
        "          f'\\t{test[\"target\"].shape}\\n\\n')\n",
        "\n",
        "# take a look at keys in train data set:\n",
        "print(f'train.keys data type: \\t{type(train.keys())}\\n'\n",
        "      f'train keys:           \\t{train.keys()}\\n')\n",
        "\n",
        "# what is in train['target_names']?\n",
        "print('train[\"target_names\"] contents:', *train[\"target_names\"], sep='\\n\\t')"
      ]
    },
    {
      "cell_type": "markdown",
      "id": "dd0ed320",
      "metadata": {
        "id": "dd0ed320"
      },
      "source": [
        "1. Explore the data. For example, what is the data type of `train` and `test`? What is the data type of `train['data']`? What is in `train['target_names']`? \n",
        "\n",
        "    ___Answer:___  \n",
        "    *  _See above cell output; also:_  \n",
        "      \n",
        "    * `train[\"data\"]` is a list of the texts ('documents') in this data set.  \n",
        "      \n",
        "    * `train[\"target_names\"]` is a `list` object containing the data set's 20 topics ('categories').  \n",
        "      \n",
        "    * `train[\"target\"]` is an `ndarray` containing the assigned (ground-truth) category labels for the texts in `train[\"data\"]`. (Each of the 20 categories in `train[\"target_names\"]` has been assigned a numerical value from 0-19, inclusive).\n",
        "         \n",
        "    * ___NB:___ __`class sklearn.utils.Bunch`__ is a __container object__ exposing keys as attributes, and allows dictionary values to be accessed via keys or attribute, e.g., `bunch[\"value_key\"]` or `bunch.value_key`.  \n",
        "      \n",
        "    * The __20 Newsgroups data set__ documentation describes the set as partitioned about evenly across 20 different 'newsgroups' (= 'topics' = 'categories' = `target_names`). It groups these topics/categories by __subject-matter relatedness__ as follows (see: http://qwone.com/~jason/20Newsgroups/):"
      ]
    },
    {
      "cell_type": "markdown",
      "source": [
        "![image.png](data:image/png;base64,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)"
      ],
      "metadata": {
        "id": "nWsHmZa1CuIs"
      },
      "id": "nWsHmZa1CuIs"
    },
    {
      "cell_type": "markdown",
      "id": "685b52dd",
      "metadata": {
        "id": "685b52dd"
      },
      "source": [
        "1. Train / validation / test splits. \n",
        "\n",
        "    There are ~~four~~ __five__ keys in each data set and we need \"data\" (the text) and \"target\" (the category). Extract the \"data\" and create a `pd.Series` named `X`; and extract the \"target\" and create a `pd.Series` named `y`. Do the same for the `test` data set, named `X_test` and `y_test`, respectively.  "
      ]
    },
    {
      "cell_type": "code",
      "execution_count": 5,
      "id": "4a044fbf",
      "metadata": {
        "id": "4a044fbf",
        "colab": {
          "base_uri": "https://localhost:8080/",
          "height": 607
        },
        "outputId": "3ea53d3e-cc51-4924-b7f6-bf57ab688ec8"
      },
      "outputs": [
        {
          "output_type": "display_data",
          "data": {
            "text/plain": [
              "11309    From: jim.zisfein@factory.com (Jim Zisfein) \\nSubject: Re: Migraines and scans\\nDistribution: world\\nOrganization: Invention Factory's BBS - New York City, NY - 212-274-8298v.32bis\\nReply-To: jim.zisfein@factory.com (Jim Zisfein) \\nLines: 37\\n\\nDN> Fro...\n",
              "11310    From: ebodin@pearl.tufts.edu\\nSubject: Screen Death: Mac Plus/512\\nLines: 22\\nOrganization: Tufts University - Medford, MA\\n\\nI have a (very old) Mac 512k and a Mac Plus, both of which \\nhave the same problem.\\n\\nTheir screens blank out, sometimes afte...\n",
              "11311    From: westes@netcom.com (Will Estes)\\nSubject: Mounting CPU Cooler in vertical case\\nOrganization: Mail Group\\nX-Newsreader: TIN [version 1.1 PL8]\\nLines: 13\\n\\nI just installed a DX2-66 CPU in a clone motherboard, and tried mounting a CPU \\ncooler on ...\n",
              "11312    From: steve@hcrlgw (Steven Collins)\\nSubject: Re: Sphere from 4 points?\\nOrganization: Central Research Lab. Hitachi, Ltd.\\nLines: 27\\nNntp-Posting-Host: hcrlgw\\n\\nIn article <1qkgbuINNs9n@shelley.u.washington.edu> bolson@carson.u.washington.edu (Edwar...\n",
              "11313    From: gunning@cco.caltech.edu (Kevin J. Gunning)\\nSubject: stolen CBR900RR\\nOrganization: California Institute of Technology, Pasadena\\nLines: 12\\nDistribution: usa\\nNNTP-Posting-Host: alumni.caltech.edu\\nSummary: see above\\n\\nStolen from Pasadena betw...\n",
              "dtype: object"
            ]
          },
          "metadata": {}
        },
        {
          "output_type": "display_data",
          "data": {
            "text/plain": [
              "11309    13\n",
              "11310     4\n",
              "11311     3\n",
              "11312     1\n",
              "11313     8\n",
              "dtype: int64"
            ]
          },
          "metadata": {}
        },
        {
          "output_type": "display_data",
          "data": {
            "text/plain": [
              "7527    From: richmond@spiff.Princeton.EDU (Stupendous Man)\\nSubject: Re: temperature of the dark sky\\nOriginator: news@nimaster\\nNntp-Posting-Host: spiff.princeton.edu\\nOrganization: Princeton University\\nLines: 35\\n\\n (Henry Spencer) writes:\\n> Does anyone h...\n",
              "7528    From: smytonj@murr11.alleg.edu (Jim Smyton)\\nSubject: Re: Monitors - should they be kept on 24 hours a day???\\nOrganization: Allegheny College\\n\\nIn article <1r3jl5$igh@function.mps.ohio-state.edu>  \\nnevai@mps.ohio-state.edu (Paul Nevai) writes:\\n> Ye...\n",
              "7529    From: hhenderson@vax.clarku.edu\\nSubject: RE: Game Length (was Re: Braves Update!!\\nOrganization: Clark University\\nLines: 31\\n\\nI sent a version of this post out a while ago, but it was swallowed by\\nthe void.  My apologies if anyone ends up receiving...\n",
              "7530    From: b859zam@utarlg.uta.edu \\nSubject: INTEL CHMOS 8086/8088 DESIGN KIT\\nNews-Software: VAX/VMS VNEWS 1.41    \\nNntp-Posting-Host: utarlg.uta.edu\\nOrganization: The University of Texas at Arlington\\nLines: 33\\n\\nI have this kit which includes the foll...\n",
              "7531    From: adamsj@gtewd.mtv.gtegsc.com\\nSubject: Re: Homosexuality issues in Christianity\\nReply-To: adamsj@gtewd.mtv.gtegsc.com\\nOrganization: GTE Govt. Systems, Electronics Def. Div.\\nLines: 18\\n\\nIn article <May.13.02.29.39.1993.1505@geneva.rutgers.edu>,...\n",
              "dtype: object"
            ]
          },
          "metadata": {}
        },
        {
          "output_type": "display_data",
          "data": {
            "text/plain": [
              "7527    14\n",
              "7528     4\n",
              "7529     9\n",
              "7530     6\n",
              "7531    15\n",
              "dtype: int64"
            ]
          },
          "metadata": {}
        }
      ],
      "source": [
        "import pandas as pd\n",
        "# set pandas max column width to n:\n",
        "pd.options.display.max_colwidth = 256\n",
        "\n",
        "X, y = pd.Series(train['data']), pd.Series(train['target'])\n",
        "X_test, y_test = pd.Series(test['data']), pd.Series(test['target'])\n",
        "\n",
        "# take a look at the series:\n",
        "display(X.tail(5), y.tail(5), X_test.tail(5), y_test.tail(5))"
      ]
    },
    {
      "cell_type": "code",
      "source": [
        "# let's look at the length (in words) of some of the data texts:\n",
        "\n",
        "# list of list of each text split into individual words:\n",
        "data_split = [x.split() for x in X[10:14]]\n",
        "\n",
        "# count no. of words in each list:\n",
        "data_split_len = [len(y) for y in data_split]\n",
        "\n",
        "# view results:\n",
        "print(*data_split, sep='\\n')\n",
        "print('\\n\\n')\n",
        "print(*data_split_len, sep=',  ')"
      ],
      "metadata": {
        "colab": {
          "base_uri": "https://localhost:8080/",
          "height": 0
        },
        "id": "slyg1i5HqmFy",
        "outputId": "5de5f7b9-6e26-45b6-a194-1d264363c689"
      },
      "id": "slyg1i5HqmFy",
      "execution_count": 6,
      "outputs": [
        {
          "output_type": "stream",
          "name": "stdout",
          "text": [
            "['From:', 'irwin@cmptrc.lonestar.org', '(Irwin', 'Arnstein)', 'Subject:', 'Re:', 'Recommendation', 'on', 'Duc', 'Summary:', \"What's\", 'it', 'worth?', 'Distribution:', 'usa', 'Expires:', 'Sat,', '1', 'May', '1993', '05:00:00', 'GMT', 'Organization:', 'CompuTrac', 'Inc.,', 'Richardson', 'TX', 'Keywords:', 'Ducati,', 'GTS,', 'How', 'much?', 'Lines:', '13', 'I', 'have', 'a', 'line', 'on', 'a', 'Ducati', '900GTS', '1978', 'model', 'with', '17k', 'on', 'the', 'clock.', 'Runs', 'very', 'well,', 'paint', 'is', 'the', 'bronze/brown/orange', 'faded', 'out,', 'leaks', 'a', 'bit', 'of', 'oil', 'and', 'pops', 'out', 'of', '1st', 'with', 'hard', 'accel.', 'The', 'shop', 'will', 'fix', 'trans', 'and', 'oil', 'leak.', 'They', 'sold', 'the', 'bike', 'to', 'the', '1', 'and', 'only', 'owner.', 'They', 'want', '$3495,', 'and', 'I', 'am', 'thinking', 'more', 'like', '$3K.', 'Any', 'opinions', 'out', 'there?', 'Please', 'email', 'me.', 'Thanks.', 'It', 'would', 'be', 'a', 'nice', 'stable', 'mate', 'to', 'the', 'Beemer.', 'Then', \"I'll\", 'get', 'a', 'jap', 'bike', 'and', 'call', 'myself', 'Axis', 'Motors!', '--', '-----------------------------------------------------------------------', '\"Tuba\"', '(Irwin)', '\"I', 'honk', 'therefore', 'I', 'am\"', 'CompuTrac-Richardson,Tx', 'irwin@cmptrc.lonestar.org', 'DoD', '#0826', '(R75/6)', '-----------------------------------------------------------------------']\n",
            "['From:', 'david@terminus.ericsson.se', '(David', 'Bold)', 'Subject:', 'Re:', 'Question', 'for', 'those', 'with', 'popular', 'morality', 'Reply-To:', 'david@terminus.ericsson.se', 'Distribution:', 'world', 'Organization:', 'Camtec', 'Electronics', '(Ericsson),', 'Leicester,', 'England', 'Lines:', '77', 'Nntp-Posting-Host:', 'bangkok', 'In', 'article', '17570@freenet.carleton.ca,', 'ad354@Freenet.carleton.ca', '(James', 'Owens)', 'writes:', '>', '>In', 'a', 'previous', 'article,', 'david@terminus.ericsson.se', '(David', 'Bold)', 'says:', '>', '>>', '>>I', \"don't\", 'mean', 'to', 'be', 'rude,', 'but', 'I', 'think', 'that', \"you've\", 'got', 'hold', 'of', 'the', 'wrong', '>>end', 'of', 'a', 'different', 'stick...', '>>', '>>David', '>', '>I', 'had', 'a', 'look', 'at', 'your', 'posting', 'again', 'and', 'I', 'see', 'what', 'you', 'mean!', 'I', 'was', 'so', '>intent', 'on', 'explaining', 'how', 'Jung', 'thought', 'we', 'could', 'be', 'more', 'moral', 'than', 'God', 'that', '>I', 'overlooked', 'your', 'main', 'line', 'of', 'thought.', '>', '>You', 'seem', 'to', 'be', 'saying', 'that,', 'God', 'being', 'unknowable,', 'His', 'morality', 'is', 'unknowable.', 'Yep,', \"that's\", 'pretty', 'much', 'it.', \"I'm\", 'not', 'a', 'Jew', 'but', 'I', 'understand', 'that', 'this', 'is', 'the', 'Jewish', 'way', 'of', 'thinking.', 'However,', 'the', 'Jews', 'believe', 'that', 'the', 'Covenant', 'between', 'YHWH', 'and', 'the', 'Patriarchs', '(Abraham', 'and', 'Moses,', 'in', 'this', 'case)', 'establishes', 'a', 'Moral', 'Code', 'to', 'follow', 'for', 'mankind.', 'Even', 'the', 'Jews', 'could', 'not', 'decide', 'where', 'the', 'boundaries', 'fall,', 'though.', 'As', 'I', 'understand', 'it,', 'the', 'Sadducees', 'believed', 'that', 'the', 'Torah', 'was', 'all', 'that', 'was', 'required,', 'whereas', 'the', 'Pharisees', '(the', 'ancestors', 'of', 'modern', 'Judaism)', 'believed', 'that', 'the', 'Torah', 'was', 'available', 'for', 'interpretation', 'to', 'lead', 'to', 'an', 'understanding', 'of', 'the', 'required', 'Morality', 'in', 'all', 'its', 'nuances', '(->Talmud).', 'The', 'essence', 'of', 'all', 'of', 'this', 'is', 'that', 'Biblical', 'Morality', 'is', 'an', 'interface', 'between', 'Man', 'and', 'YHWH', '(for', 'a', 'Jew', 'or', 'Christian)', 'and', 'does', 'not', 'necessarily', 'indicate', 'anything', 'about', 'YHWH', 'outside', 'of', 'that', 'relationship', '(although', 'one', 'can', 'speculate).', '>', '>The', 'first', 'thing', 'that', 'comes', 'to', 'mind', 'is', 'that', 'man', 'is', 'supposed', 'to', 'be', 'created', '>in', 'His', 'image,', 'so', 'there', 'is', 'an', 'argument', 'that', 'we', 'are', 'committed', 'to', 'whatever', '>moral', 'code', 'He', 'follows', 'as', 'part', 'of', 'trying', 'to', 'live', 'up', 'to', 'that', 'image.', 'If', 'we', '>are', 'supposed', 'to', 'live', 'by', \"Christ's\", 'example,', 'you', 'would', 'be', 'hard', 'pressed', 'to', '>argue', 'that', 'God', 'is', 'a', '\"do', 'what', 'I', 'say,', 'not', 'what', 'I', 'do\"', 'kind', 'of', 'guy.', 'The', 'trouble', 'with', 'all', 'of', 'this', 'is', 'that', 'we', \"don't\", 'really', 'know', 'what', 'the', '\"created', 'in', 'His', 'image\"', 'means.', \"I've\", 'heard', 'a', 'number', 'of', 'different', 'opinions', 'on', 'this', 'and', 'have', 'still', 'not', 'come', 'to', 'any', 'conclusion.', 'This', 'rather', 'upsets', 'the', 'Apple', 'Cart', 'if', 'one', 'wants', 'to', 'base', 'a', 'Life', 'Script', 'on', 'this', 'shaky', 'foundation', '(to', 'mix', 'metaphors', 'unashamedly!)', 'As', 'to', 'living', 'by', \"Christ's\", 'example,', 'we', 'know', 'very', 'little', 'about', 'Jesus', 'as', 'a', 'person.', 'We', 'only', 'have', 'his', 'recorded', 'utterances', 'in', 'a', 'set', 'of', 'narratives', 'by', 'his', 'followers,', 'and', 'some', 'very', 'small', 'references', 'from', 'comtemporary', 'historians.', 'Revelation', 'aside,', 'one', 'can', 'only', '\"know\"', 'Christ', 'second-hand', 'or', 'worse.', 'This', 'is', 'not', 'an', 'attempt', 'to', 'debunk', 'Christianity', '(although', 'it', 'may', 'seem', 'that', 'way', 'initially),', 'the', 'point', 'I`m', 'trying', 'to', 'make', 'is', 'that', 'we', 'only', 'really', 'have', 'the', 'Bible', 'to', 'interpret,', 'and', 'that', 'interpretation', 'is', 'by', 'humanity.', 'I', 'guess', 'this', 'is', 'where', 'Faith', 'or', 'Relevation', 'comes', 'in', 'with', 'all', 'its', 'inherent', 'subjectiveness.', '>', '>Metaphysically,', 'if', 'there', 'are', 'multiple', 'moral', 'codes', 'then', 'there', 'is', 'no', '>Absolute', 'moral', 'code,', 'and', 'I', 'think', 'this', 'is', 'theologically', 'questionable.', 'No.', 'There', 'may', 'be', 'an', 'absolute', 'moral', 'code.', 'There', 'are', 'undoubtably', 'multiple', 'moral', 'codes.', 'The', 'multiple', 'moral', 'codes', 'may', 'be', 'founded', 'in', 'the', 'absolute', 'moral', 'code.', 'As', 'an', 'example,', 'a', 'parent', 'may', 'tell', 'a', 'child', 'never', 'to', 'swear,', 'and', 'the', 'child', 'may', 'assume', 'that', 'the', 'parent', 'never', 'swears', 'simply', 'because', 'the', 'parent', 'has', 'told', 'the', 'child', 'that', 'it', 'is', '\"wrong\".', 'Now,', 'the', 'parent', 'may', 'swear', 'like', 'a', 'trooper', 'in', 'the', 'pub', 'or', 'bar', '(where', 'there', 'are', 'no', 'children).', 'The', '\"wrongness\"', 'here', 'is', 'if', 'the', 'child', 'disobeys', 'the', 'parent.', 'The', 'parent', 'may', 'feel', 'that', 'it', 'is', '\"inappropriate\"', 'to', 'swear', 'in', 'front', 'of', 'children', 'but', 'may', 'be', 'quite', 'happy', 'to', 'swear', 'in', 'front', 'of', 'animals.', 'The', 'analogy', 'does', 'not', 'quite', 'hold', 'water', 'because', 'the', 'child', 'knows', 'that', 'he', 'is', 'of', 'the', 'same', 'type', 'as', 'the', 'parent', '(and', 'may', 'be', 'a', 'parent', 'later', 'in', 'life)', 'but', 'you', 'get', 'the', 'gist', 'of', 'it?', 'Incidentally,', 'the', 'young', 'child', 'considers', 'the', 'directive', 'as', 'absolute', 'until', 'he', 'gets', 'older', '(see', 'Piaget)', 'and', 'learns', 'a', 'morality', 'of', 'his', 'own.', 'David.', '---', 'On', 'religion:', '\"Oh,', 'where', 'is', 'the', 'sea?\",', 'the', 'fishes', 'cried,', 'As', 'they', 'swam', 'its', 'clearness', 'through.']\n",
            "['From:', 'rodc@fc.hp.com', '(Rod', 'Cerkoney)', 'Subject:', '*$G4qxF,fekVH6', 'Nntp-Posting-Host:', 'hpfcmrc.fc.hp.com', 'Organization:', 'Hewlett', 'Packard,', 'Fort', 'Collins,', 'CO', 'X-Newsreader:', 'TIN', '[version', '1.1', 'PL8.5]', 'Lines:', '15', '--', 'Regards,', 'Rod', 'Cerkoney', '/\\\\', '______________________________________________', '/~~\\\\', '/', '\\\\', 'Rod', 'Cerkoney', 'MS', '37', 'email:', '/', '\\\\', 'Hewlett', 'Packard', 'rodc@fc.hp.com', '/\\\\', '/', '\\\\', '3404', 'East', 'Harmony', 'Rd.', 'Hpdesk:', '/', '\\\\/', '\\\\', '/\\\\', 'Fort', 'Collins,', 'CO', '80525', 'HP4000/UX', '/', '\\\\', '\\\\', '/', '\\\\', '_____________________________________________/', '\\\\', '\\\\/', '\\\\__']\n",
            "['From:', 'dbm0000@tm0006.lerc.nasa.gov', '(David', 'B.', 'Mckissock)', 'Subject:', 'Re:', 'Space', 'Station', 'Redesign,', 'JSC', 'Alternative', '#4', 'Organization:', 'NASA', 'Lewis', 'Research', 'Center', '/', 'Cleveland,', 'Ohio', 'Lines:', '102', 'Distribution:', 'world', 'NNTP-Posting-Host:', 'tm0006.lerc.nasa.gov', 'News-Software:', 'VAX/VMS', 'VNEWS', '1.41', 'In', 'article', '<1993Apr23.184732.1105@aio.jsc.nasa.gov>,', 'kjenks@gothamcity.jsc.nasa.gov', 'writes...', '{Description', 'of', '\"External', 'Tank\"', 'option', 'for', 'SSF', 'redesign', 'deleted}', '>Mark', 'proposed', 'this', 'design', 'at', 'Joe', \"Shea's\", 'committee', 'in', 'Crystal', 'City,', '>and', 'he', 'reports', 'that', 'he', 'was', 'warmly', 'received.', 'However,', 'the', 'rumors', '>I', 'hear', 'say', 'that', 'a', 'design', 'based', 'on', 'a', 'wingless', 'Space', 'Shuttle', 'Orbiter', '>seems', 'more', 'likely.', 'Yo', 'Ken,', \"let's\", 'keep', 'on-top', 'of', 'things!', 'Both', 'the', '\"External', 'Tank\"', 'and', '\"Wingless', 'Orbiter\"', 'options', 'have', 'been', 'deleted', 'from', 'the', 'SSF', 'redesign', 'options', 'list.', \"Today's\", '(4/23)', 'edition', 'of', 'the', 'New', 'York', 'Times', 'reports', 'that', \"O'Connor\", 'told', 'the', 'panel', 'that', 'some', 'redesign', 'proposals', 'have', 'been', 'dropped,', 'such', 'as', 'using', 'the', '\"giant', 'external', 'fuel', 'tanks', 'used', 'in', 'launching', 'space', 'shuttles,\"', 'and', 'building', 'a', '\"station', 'around', 'an', 'existing', 'space', 'shuttle', 'with', 'its', 'wings', 'and', 'tail', 'removed.\"', 'Currently,', 'there', 'are', 'three', 'options', 'being', 'considered,', 'as', 'presented', 'to', 'the', 'advisory', 'panel', 'meeting', 'yesterday', '(and', 'as', 'reported', 'in', \"today's\", 'Times).', 'Option', '\"A\"', '-', 'Low', 'Cost', 'Modular', 'Approach', 'This', 'option', 'is', 'being', 'studied', 'by', 'a', 'team', 'from', 'MSFC.', '{As', 'an', 'aside,', 'there', 'are', 'SSF', 'redesign', 'teams', 'at', 'MSFC,', 'JSC,', 'and', 'LaRC', 'supporting', 'the', 'SRT', '(Station', 'Redesign', 'Team)', 'in', 'Crystal', 'City.', 'Both', 'LeRC', 'and', 'Reston', 'folks', 'are', 'also', 'on-site', 'at', 'these', 'locations,', 'helping', 'the', 'respective', 'teams', 'with', 'their', 'redesign', 'activities.}', 'Key', 'features', 'of', 'this', 'option', 'are:', '-', 'Uses', '\"Bus-1\",', 'a', 'modular', 'bus', 'developed', 'by', 'Lockheed', \"that's\", 'qualified', 'for', 'STS', 'and', \"ELV's.\", 'The', 'bus', 'provides', 'propulsion,', 'GN&C', 'Communications,', '&', 'Data', 'Management.', 'Lockheed', 'developed', 'this', 'for', 'the', 'Air', 'Force.', '-', 'A', '\"Power', 'Station', 'Capability\"', 'is', 'obtained', 'in', '3', 'Shuttle', 'Flights.', 'SSF', 'Solar', 'arrays', 'are', 'used', 'to', 'provide', '20', 'kW', 'of', 'power.', 'The', 'vehicle', 'flies', 'in', 'an', '\"arrow', 'mode\"', 'to', 'optimize', 'the', 'microgravity', 'environment.', 'Shuttle/Spacelab', 'missions', 'would', 'utilize', 'the', 'vehilce', 'as', 'a', 'power', 'source', 'for', '30', 'day', 'missions.', '-', 'Human', 'tended', 'capability', '(as', 'opposed', 'to', 'the', 'old', 'SSF', 'sexist', 'term', 'of', 'man-tended', 'capability)', 'is', 'achieved', 'by', 'the', 'addition', 'of', 'the', 'US', 'Common', 'module.', 'This', 'is', 'a', 'modified', 'version', 'of', 'the', 'existing', 'SSF', 'Lab', 'module', '(docking', 'ports', 'are', 'added', 'for', 'the', 'International', \"Partners'\", 'labs,', 'taking', 'the', 'place', 'of', 'the', 'nodes', 'on', 'SSF).', 'The', 'Shuttle', 'can', 'be', 'docked', 'to', 'the', 'station', 'for', '60', 'day', 'missions.', 'The', 'Orbiter', 'would', 'provide', 'crew', 'habitability', '&', 'EVA', 'capability.', '-', 'International', 'Human', 'Tended.', 'Add', 'the', 'NASDA', '&', 'ESA', 'modules,', 'and', 'add', 'another', '20', 'kW', 'of', 'power', '-', 'Permanent', 'Human', 'Presence', 'Capability.', 'Add', 'a', '3rd', 'power', 'module,', 'the', 'U.S.', 'habitation', 'module,', 'and', 'an', 'ACRV', '(Assured', 'Crew', 'Return', 'Vehicle).', 'Option', '\"B\"', '-', 'Space', 'Station', 'Freedom', 'Derived', 'The', 'Option', '\"B\"', 'team', 'is', 'based', 'at', 'LaRC,', 'and', 'is', 'lead', 'by', 'Mike', 'Griffin.', 'This', 'option', 'looks', 'alot', 'like', 'the', 'existing', 'SSF', 'design,', 'which', 'we', 'have', 'all', 'come', 'to', 'know', 'and', 'love', ':)', 'This', 'option', 'assumes', 'a', 'lightweight', 'external', 'tank', 'is', 'available', 'for', 'use', 'on', 'all', 'SSF', 'assembly', 'flights', '(so', 'does', 'option', '\"A\").', 'Also,', 'the', 'number', 'of', 'flights', 'is', 'computed', 'for', 'a', '51.6', 'inclination', 'orbit,', 'for', 'both', 'options', '\"A\"', 'and', '\"B\".', 'The', 'build-up', 'occurs', 'in', 'six', 'phases:', '-', 'Initial', 'Research', 'Capability', 'reached', 'after', '3', 'flights.', 'Power', 'is', 'transferred', 'from', 'the', 'vehicle', 'to', 'the', 'Orbiter/Spacelab,', 'when', 'it', 'visits.', '-', 'Man-Tended', 'Capability', '(Griffin', 'has', 'not', 'yet', 'adopted', 'non-sexist', 'language)', 'is', 'achieved', 'after', '8', 'flights.', 'The', 'U.S.', 'Lab', 'is', 'deployed,', 'and', '1', 'solar', 'power', 'module', 'provides', '20', 'kW', 'of', 'power.', '-', 'Permanent', 'Human', 'Presence', 'Capability', 'occurs', 'after', '10', 'flights,', 'by', 'keeping', 'one', 'Orbiter', 'on-orbit', 'to', 'use', 'as', 'an', 'ACRV', '(so', 'sometimes', 'there', 'would', 'be', 'two', 'Orbiters', 'on-orbit', '-', 'the', 'ACRV,', 'and', 'the', 'second', 'one', 'that', 'comes', 'up', 'for', 'Logistics', '&', 'Re-supply).', '-', 'A', '\"Two', 'Fault', 'Tolerance', 'Capability\"', 'is', 'achieved', 'after', '14', 'flights,', 'with', 'the', 'addition', 'of', 'a', '2nd', 'power', 'module,', 'another', 'thermal', 'control', 'system', 'radiator,', 'and', 'more', 'propulsion', 'modules.', '-', 'After', '20', 'flights,', 'the', 'Internationals', 'are', 'on-board.', 'More', 'power,', 'the', 'Habitation', 'module,', 'and', 'an', 'ACRV', 'are', 'added', 'to', 'finish', 'the', 'assembly', 'in', '24', 'flights.', 'Most', 'of', 'the', 'systems', 'currently', 'on', 'SSF', 'are', 'used', 'as-is', 'in', 'this', 'option,', 'with', 'the', 'exception', 'of', 'the', 'data', 'management', 'system,', 'which', 'has', 'major', 'changes.', 'Option', 'C', '-', 'Single', 'Core', 'Launch', 'Station.', 'This', 'is', 'the', 'JSC', 'lead', 'option.', 'Basically,', 'you', 'take', 'a', '23', 'ft', 'diameter', 'cylinder', \"that's\", '92', 'ft', 'long,', 'slap', '3', 'Space', 'Shuttle', 'Main', 'Engines', 'on', 'the', 'backside,', 'put', 'a', 'nose', 'cone', 'on', 'the', 'top,', 'attached', 'it', 'to', 'a', 'regular', 'shuttle', 'external', 'tank', 'and', 'a', 'regular', 'set', 'of', 'solid', 'rocket', 'motors,', 'and', 'launch', 'the', 'can.', 'Some', 'key', 'features', 'are:', '-', 'Complete', 'end-to-end', 'ground', 'integration', 'and', 'checkout', '-', '4', 'tangentially', 'mounted', 'fixed', 'solar', 'panels', '-', 'body', 'mounted', 'radiators', '(which', 'adds', 'protection', 'against', 'micrometeroid', '&', 'orbital', 'debris)', '-', '2', 'centerline', 'docking', 'ports', '(one', 'on', 'each', 'end)', '-', '7', 'berthing', 'ports', '-', 'a', 'single', 'pressurized', 'volume,', 'approximately', '26,000', 'cubic', 'feet', '(twice', 'the', 'volume', 'of', 'skylab).', '-', '7', 'floors,', 'center', 'passageway', 'between', 'floors', '-', '10', 'kW', 'of', 'housekeeping', 'power', '-', 'graceful', 'degradation', 'with', 'failures', '(8', 'power', 'channels,', '4', 'thermal', 'loops,', 'dual', 'environmental', 'control', '&', 'life', 'support', 'system)', '-', 'increased', 'crew', 'time', 'for', 'utilization', '-', '1', 'micro-g', 'thru', 'out', 'the', 'core', 'module']\n",
            "\n",
            "\n",
            "\n",
            "143,  703,  66,  848\n"
          ]
        }
      ]
    },
    {
      "cell_type": "markdown",
      "id": "ad6b5518",
      "metadata": {
        "id": "ad6b5518"
      },
      "source": [
        "Now split `X` and `y` into training and validation sets. Use `train_test_split` from `sklearn.model_selection` to split the data; save 10% of the data for validation and set the random state to 19."
      ]
    },
    {
      "cell_type": "code",
      "execution_count": 7,
      "id": "5b792fff",
      "metadata": {
        "id": "5b792fff"
      },
      "outputs": [],
      "source": [
        "from sklearn.model_selection import train_test_split \n",
        "\n",
        "# stratify by labels in y to ensure class balance\n",
        "X_train, X_valid, y_train, y_valid = train_test_split(\n",
        "    X, y, test_size=0.10, random_state=19, stratify=y)"
      ]
    },
    {
      "cell_type": "code",
      "execution_count": 8,
      "id": "17b97380",
      "metadata": {
        "id": "17b97380"
      },
      "outputs": [],
      "source": [
        "assert y_train.shape == (10182,)\n",
        "assert y_valid.shape == (1132,)\n",
        "assert y_test.shape == (7532,)"
      ]
    },
    {
      "cell_type": "markdown",
      "id": "8e3d71a0",
      "metadata": {
        "id": "8e3d71a0"
      },
      "source": [
        "1. Convert categorical labels into dummy variables. \n",
        "\n",
        "    Use `pd.get_dummies` to convert labels into dummy variables for `y_train`, `y_valid`, `y_test`."
      ]
    },
    {
      "cell_type": "code",
      "execution_count": 9,
      "id": "72e335c2",
      "metadata": {
        "id": "72e335c2"
      },
      "outputs": [],
      "source": [
        "y_train = pd.get_dummies(y_train)\n",
        "y_valid = pd.get_dummies(y_valid)\n",
        "y_test =  pd.get_dummies(y_test)"
      ]
    },
    {
      "cell_type": "code",
      "execution_count": 10,
      "id": "ee3a80ca",
      "metadata": {
        "id": "ee3a80ca"
      },
      "outputs": [],
      "source": [
        "assert y_train.shape == (10182, NUM_LABELS)\n",
        "assert y_valid.shape == (1132, NUM_LABELS)\n",
        "assert y_test.shape == (7532, NUM_LABELS)"
      ]
    },
    {
      "cell_type": "code",
      "source": [
        "# take a quick look\n",
        "display(y_train.head(5))\n",
        "display(y_valid.head(5))\n",
        "display(y_test.head(5))"
      ],
      "metadata": {
        "colab": {
          "base_uri": "https://localhost:8080/",
          "height": 584
        },
        "id": "dxGJxqfsPuYK",
        "outputId": "b198cac8-3b5e-41e8-f223-bd97ea4a5fbb"
      },
      "id": "dxGJxqfsPuYK",
      "execution_count": 11,
      "outputs": [
        {
          "output_type": "display_data",
          "data": {
            "text/plain": [
              "      0   1   2   3   4   5   6   7   8   9   10  11  12  13  14  15  16  17  \\\n",
              "3597   0   0   0   0   0   0   0   0   0   1   0   0   0   0   0   0   0   0   \n",
              "280    0   0   0   0   0   0   1   0   0   0   0   0   0   0   0   0   0   0   \n",
              "7182   0   0   0   0   0   0   0   0   0   1   0   0   0   0   0   0   0   0   \n",
              "2235   0   0   0   0   0   0   0   0   1   0   0   0   0   0   0   0   0   0   \n",
              "5830   0   0   0   0   1   0   0   0   0   0   0   0   0   0   0   0   0   0   \n",
              "\n",
              "      18  19  \n",
              "3597   0   0  \n",
              "280    0   0  \n",
              "7182   0   0  \n",
              "2235   0   0  \n",
              "5830   0   0  "
            ],
            "text/html": [
              "\n",
              "  <div id=\"df-e1f42600-e55f-46bc-a66d-dc026e115dca\">\n",
              "    <div class=\"colab-df-container\">\n",
              "      <div>\n",
              "<style scoped>\n",
              "    .dataframe tbody tr th:only-of-type {\n",
              "        vertical-align: middle;\n",
              "    }\n",
              "\n",
              "    .dataframe tbody tr th {\n",
              "        vertical-align: top;\n",
              "    }\n",
              "\n",
              "    .dataframe thead th {\n",
              "        text-align: right;\n",
              "    }\n",
              "</style>\n",
              "<table border=\"1\" class=\"dataframe\">\n",
              "  <thead>\n",
              "    <tr style=\"text-align: right;\">\n",
              "      <th></th>\n",
              "      <th>0</th>\n",
              "      <th>1</th>\n",
              "      <th>2</th>\n",
              "      <th>3</th>\n",
              "      <th>4</th>\n",
              "      <th>5</th>\n",
              "      <th>6</th>\n",
              "      <th>7</th>\n",
              "      <th>8</th>\n",
              "      <th>9</th>\n",
              "      <th>10</th>\n",
              "      <th>11</th>\n",
              "      <th>12</th>\n",
              "      <th>13</th>\n",
              "      <th>14</th>\n",
              "      <th>15</th>\n",
              "      <th>16</th>\n",
              "      <th>17</th>\n",
              "      <th>18</th>\n",
              "      <th>19</th>\n",
              "    </tr>\n",
              "  </thead>\n",
              "  <tbody>\n",
              "    <tr>\n",
              "      <th>3597</th>\n",
              "      <td>0</td>\n",
              "      <td>0</td>\n",
              "      <td>0</td>\n",
              "      <td>0</td>\n",
              "      <td>0</td>\n",
              "      <td>0</td>\n",
              "      <td>0</td>\n",
              "      <td>0</td>\n",
              "      <td>0</td>\n",
              "      <td>1</td>\n",
              "      <td>0</td>\n",
              "      <td>0</td>\n",
              "      <td>0</td>\n",
              "      <td>0</td>\n",
              "      <td>0</td>\n",
              "      <td>0</td>\n",
              "      <td>0</td>\n",
              "      <td>0</td>\n",
              "      <td>0</td>\n",
              "      <td>0</td>\n",
              "    </tr>\n",
              "    <tr>\n",
              "      <th>280</th>\n",
              "      <td>0</td>\n",
              "      <td>0</td>\n",
              "      <td>0</td>\n",
              "      <td>0</td>\n",
              "      <td>0</td>\n",
              "      <td>0</td>\n",
              "      <td>1</td>\n",
              "      <td>0</td>\n",
              "      <td>0</td>\n",
              "      <td>0</td>\n",
              "      <td>0</td>\n",
              "      <td>0</td>\n",
              "      <td>0</td>\n",
              "      <td>0</td>\n",
              "      <td>0</td>\n",
              "      <td>0</td>\n",
              "      <td>0</td>\n",
              "      <td>0</td>\n",
              "      <td>0</td>\n",
              "      <td>0</td>\n",
              "    </tr>\n",
              "    <tr>\n",
              "      <th>7182</th>\n",
              "      <td>0</td>\n",
              "      <td>0</td>\n",
              "      <td>0</td>\n",
              "      <td>0</td>\n",
              "      <td>0</td>\n",
              "      <td>0</td>\n",
              "      <td>0</td>\n",
              "      <td>0</td>\n",
              "      <td>0</td>\n",
              "      <td>1</td>\n",
              "      <td>0</td>\n",
              "      <td>0</td>\n",
              "      <td>0</td>\n",
              "      <td>0</td>\n",
              "      <td>0</td>\n",
              "      <td>0</td>\n",
              "      <td>0</td>\n",
              "      <td>0</td>\n",
              "      <td>0</td>\n",
              "      <td>0</td>\n",
              "    </tr>\n",
              "    <tr>\n",
              "      <th>2235</th>\n",
              "      <td>0</td>\n",
              "      <td>0</td>\n",
              "      <td>0</td>\n",
              "      <td>0</td>\n",
              "      <td>0</td>\n",
              "      <td>0</td>\n",
              "      <td>0</td>\n",
              "      <td>0</td>\n",
              "      <td>1</td>\n",
              "      <td>0</td>\n",
              "      <td>0</td>\n",
              "      <td>0</td>\n",
              "      <td>0</td>\n",
              "      <td>0</td>\n",
              "      <td>0</td>\n",
              "      <td>0</td>\n",
              "      <td>0</td>\n",
              "      <td>0</td>\n",
              "      <td>0</td>\n",
              "      <td>0</td>\n",
              "    </tr>\n",
              "    <tr>\n",
              "      <th>5830</th>\n",
              "      <td>0</td>\n",
              "      <td>0</td>\n",
              "      <td>0</td>\n",
              "      <td>0</td>\n",
              "      <td>1</td>\n",
              "      <td>0</td>\n",
              "      <td>0</td>\n",
              "      <td>0</td>\n",
              "      <td>0</td>\n",
              "      <td>0</td>\n",
              "      <td>0</td>\n",
              "      <td>0</td>\n",
              "      <td>0</td>\n",
              "      <td>0</td>\n",
              "      <td>0</td>\n",
              "      <td>0</td>\n",
              "      <td>0</td>\n",
              "      <td>0</td>\n",
              "      <td>0</td>\n",
              "      <td>0</td>\n",
              "    </tr>\n",
              "  </tbody>\n",
              "</table>\n",
              "</div>\n",
              "      <button class=\"colab-df-convert\" onclick=\"convertToInteractive('df-e1f42600-e55f-46bc-a66d-dc026e115dca')\"\n",
              "              title=\"Convert this dataframe to an interactive table.\"\n",
              "              style=\"display:none;\">\n",
              "        \n",
              "  <svg xmlns=\"http://www.w3.org/2000/svg\" height=\"24px\"viewBox=\"0 0 24 24\"\n",
              "       width=\"24px\">\n",
              "    <path d=\"M0 0h24v24H0V0z\" fill=\"none\"/>\n",
              "    <path d=\"M18.56 5.44l.94 2.06.94-2.06 2.06-.94-2.06-.94-.94-2.06-.94 2.06-2.06.94zm-11 1L8.5 8.5l.94-2.06 2.06-.94-2.06-.94L8.5 2.5l-.94 2.06-2.06.94zm10 10l.94 2.06.94-2.06 2.06-.94-2.06-.94-.94-2.06-.94 2.06-2.06.94z\"/><path d=\"M17.41 7.96l-1.37-1.37c-.4-.4-.92-.59-1.43-.59-.52 0-1.04.2-1.43.59L10.3 9.45l-7.72 7.72c-.78.78-.78 2.05 0 2.83L4 21.41c.39.39.9.59 1.41.59.51 0 1.02-.2 1.41-.59l7.78-7.78 2.81-2.81c.8-.78.8-2.07 0-2.86zM5.41 20L4 18.59l7.72-7.72 1.47 1.35L5.41 20z\"/>\n",
              "  </svg>\n",
              "      </button>\n",
              "      \n",
              "  <style>\n",
              "    .colab-df-container {\n",
              "      display:flex;\n",
              "      flex-wrap:wrap;\n",
              "      gap: 12px;\n",
              "    }\n",
              "\n",
              "    .colab-df-convert {\n",
              "      background-color: #E8F0FE;\n",
              "      border: none;\n",
              "      border-radius: 50%;\n",
              "      cursor: pointer;\n",
              "      display: none;\n",
              "      fill: #1967D2;\n",
              "      height: 32px;\n",
              "      padding: 0 0 0 0;\n",
              "      width: 32px;\n",
              "    }\n",
              "\n",
              "    .colab-df-convert:hover {\n",
              "      background-color: #E2EBFA;\n",
              "      box-shadow: 0px 1px 2px rgba(60, 64, 67, 0.3), 0px 1px 3px 1px rgba(60, 64, 67, 0.15);\n",
              "      fill: #174EA6;\n",
              "    }\n",
              "\n",
              "    [theme=dark] .colab-df-convert {\n",
              "      background-color: #3B4455;\n",
              "      fill: #D2E3FC;\n",
              "    }\n",
              "\n",
              "    [theme=dark] .colab-df-convert:hover {\n",
              "      background-color: #434B5C;\n",
              "      box-shadow: 0px 1px 3px 1px rgba(0, 0, 0, 0.15);\n",
              "      filter: drop-shadow(0px 1px 2px rgba(0, 0, 0, 0.3));\n",
              "      fill: #FFFFFF;\n",
              "    }\n",
              "  </style>\n",
              "\n",
              "      <script>\n",
              "        const buttonEl =\n",
              "          document.querySelector('#df-e1f42600-e55f-46bc-a66d-dc026e115dca button.colab-df-convert');\n",
              "        buttonEl.style.display =\n",
              "          google.colab.kernel.accessAllowed ? 'block' : 'none';\n",
              "\n",
              "        async function convertToInteractive(key) {\n",
              "          const element = document.querySelector('#df-e1f42600-e55f-46bc-a66d-dc026e115dca');\n",
              "          const dataTable =\n",
              "            await google.colab.kernel.invokeFunction('convertToInteractive',\n",
              "                                                     [key], {});\n",
              "          if (!dataTable) return;\n",
              "\n",
              "          const docLinkHtml = 'Like what you see? Visit the ' +\n",
              "            '<a target=\"_blank\" href=https://colab.research.google.com/notebooks/data_table.ipynb>data table notebook</a>'\n",
              "            + ' to learn more about interactive tables.';\n",
              "          element.innerHTML = '';\n",
              "          dataTable['output_type'] = 'display_data';\n",
              "          await google.colab.output.renderOutput(dataTable, element);\n",
              "          const docLink = document.createElement('div');\n",
              "          docLink.innerHTML = docLinkHtml;\n",
              "          element.appendChild(docLink);\n",
              "        }\n",
              "      </script>\n",
              "    </div>\n",
              "  </div>\n",
              "  "
            ]
          },
          "metadata": {}
        },
        {
          "output_type": "display_data",
          "data": {
            "text/plain": [
              "       0   1   2   3   4   5   6   7   8   9   10  11  12  13  14  15  16  17  \\\n",
              "1274    0   0   0   0   0   1   0   0   0   0   0   0   0   0   0   0   0   0   \n",
              "9085    0   0   0   0   0   0   0   0   0   0   0   1   0   0   0   0   0   0   \n",
              "10994   0   0   0   0   1   0   0   0   0   0   0   0   0   0   0   0   0   0   \n",
              "11068   0   0   0   0   0   0   0   0   0   0   0   0   0   0   0   0   1   0   \n",
              "4164    0   0   0   0   0   0   0   0   0   1   0   0   0   0   0   0   0   0   \n",
              "\n",
              "       18  19  \n",
              "1274    0   0  \n",
              "9085    0   0  \n",
              "10994   0   0  \n",
              "11068   0   0  \n",
              "4164    0   0  "
            ],
            "text/html": [
              "\n",
              "  <div id=\"df-b947d114-b712-4043-801d-697c9b8b8f2f\">\n",
              "    <div class=\"colab-df-container\">\n",
              "      <div>\n",
              "<style scoped>\n",
              "    .dataframe tbody tr th:only-of-type {\n",
              "        vertical-align: middle;\n",
              "    }\n",
              "\n",
              "    .dataframe tbody tr th {\n",
              "        vertical-align: top;\n",
              "    }\n",
              "\n",
              "    .dataframe thead th {\n",
              "        text-align: right;\n",
              "    }\n",
              "</style>\n",
              "<table border=\"1\" class=\"dataframe\">\n",
              "  <thead>\n",
              "    <tr style=\"text-align: right;\">\n",
              "      <th></th>\n",
              "      <th>0</th>\n",
              "      <th>1</th>\n",
              "      <th>2</th>\n",
              "      <th>3</th>\n",
              "      <th>4</th>\n",
              "      <th>5</th>\n",
              "      <th>6</th>\n",
              "      <th>7</th>\n",
              "      <th>8</th>\n",
              "      <th>9</th>\n",
              "      <th>10</th>\n",
              "      <th>11</th>\n",
              "      <th>12</th>\n",
              "      <th>13</th>\n",
              "      <th>14</th>\n",
              "      <th>15</th>\n",
              "      <th>16</th>\n",
              "      <th>17</th>\n",
              "      <th>18</th>\n",
              "      <th>19</th>\n",
              "    </tr>\n",
              "  </thead>\n",
              "  <tbody>\n",
              "    <tr>\n",
              "      <th>1274</th>\n",
              "      <td>0</td>\n",
              "      <td>0</td>\n",
              "      <td>0</td>\n",
              "      <td>0</td>\n",
              "      <td>0</td>\n",
              "      <td>1</td>\n",
              "      <td>0</td>\n",
              "      <td>0</td>\n",
              "      <td>0</td>\n",
              "      <td>0</td>\n",
              "      <td>0</td>\n",
              "      <td>0</td>\n",
              "      <td>0</td>\n",
              "      <td>0</td>\n",
              "      <td>0</td>\n",
              "      <td>0</td>\n",
              "      <td>0</td>\n",
              "      <td>0</td>\n",
              "      <td>0</td>\n",
              "      <td>0</td>\n",
              "    </tr>\n",
              "    <tr>\n",
              "      <th>9085</th>\n",
              "      <td>0</td>\n",
              "      <td>0</td>\n",
              "      <td>0</td>\n",
              "      <td>0</td>\n",
              "      <td>0</td>\n",
              "      <td>0</td>\n",
              "      <td>0</td>\n",
              "      <td>0</td>\n",
              "      <td>0</td>\n",
              "      <td>0</td>\n",
              "      <td>0</td>\n",
              "      <td>1</td>\n",
              "      <td>0</td>\n",
              "      <td>0</td>\n",
              "      <td>0</td>\n",
              "      <td>0</td>\n",
              "      <td>0</td>\n",
              "      <td>0</td>\n",
              "      <td>0</td>\n",
              "      <td>0</td>\n",
              "    </tr>\n",
              "    <tr>\n",
              "      <th>10994</th>\n",
              "      <td>0</td>\n",
              "      <td>0</td>\n",
              "      <td>0</td>\n",
              "      <td>0</td>\n",
              "      <td>1</td>\n",
              "      <td>0</td>\n",
              "      <td>0</td>\n",
              "      <td>0</td>\n",
              "      <td>0</td>\n",
              "      <td>0</td>\n",
              "      <td>0</td>\n",
              "      <td>0</td>\n",
              "      <td>0</td>\n",
              "      <td>0</td>\n",
              "      <td>0</td>\n",
              "      <td>0</td>\n",
              "      <td>0</td>\n",
              "      <td>0</td>\n",
              "      <td>0</td>\n",
              "      <td>0</td>\n",
              "    </tr>\n",
              "    <tr>\n",
              "      <th>11068</th>\n",
              "      <td>0</td>\n",
              "      <td>0</td>\n",
              "      <td>0</td>\n",
              "      <td>0</td>\n",
              "      <td>0</td>\n",
              "      <td>0</td>\n",
              "      <td>0</td>\n",
              "      <td>0</td>\n",
              "      <td>0</td>\n",
              "      <td>0</td>\n",
              "      <td>0</td>\n",
              "      <td>0</td>\n",
              "      <td>0</td>\n",
              "      <td>0</td>\n",
              "      <td>0</td>\n",
              "      <td>0</td>\n",
              "      <td>1</td>\n",
              "      <td>0</td>\n",
              "      <td>0</td>\n",
              "      <td>0</td>\n",
              "    </tr>\n",
              "    <tr>\n",
              "      <th>4164</th>\n",
              "      <td>0</td>\n",
              "      <td>0</td>\n",
              "      <td>0</td>\n",
              "      <td>0</td>\n",
              "      <td>0</td>\n",
              "      <td>0</td>\n",
              "      <td>0</td>\n",
              "      <td>0</td>\n",
              "      <td>0</td>\n",
              "      <td>1</td>\n",
              "      <td>0</td>\n",
              "      <td>0</td>\n",
              "      <td>0</td>\n",
              "      <td>0</td>\n",
              "      <td>0</td>\n",
              "      <td>0</td>\n",
              "      <td>0</td>\n",
              "      <td>0</td>\n",
              "      <td>0</td>\n",
              "      <td>0</td>\n",
              "    </tr>\n",
              "  </tbody>\n",
              "</table>\n",
              "</div>\n",
              "      <button class=\"colab-df-convert\" onclick=\"convertToInteractive('df-b947d114-b712-4043-801d-697c9b8b8f2f')\"\n",
              "              title=\"Convert this dataframe to an interactive table.\"\n",
              "              style=\"display:none;\">\n",
              "        \n",
              "  <svg xmlns=\"http://www.w3.org/2000/svg\" height=\"24px\"viewBox=\"0 0 24 24\"\n",
              "       width=\"24px\">\n",
              "    <path d=\"M0 0h24v24H0V0z\" fill=\"none\"/>\n",
              "    <path d=\"M18.56 5.44l.94 2.06.94-2.06 2.06-.94-2.06-.94-.94-2.06-.94 2.06-2.06.94zm-11 1L8.5 8.5l.94-2.06 2.06-.94-2.06-.94L8.5 2.5l-.94 2.06-2.06.94zm10 10l.94 2.06.94-2.06 2.06-.94-2.06-.94-.94-2.06-.94 2.06-2.06.94z\"/><path d=\"M17.41 7.96l-1.37-1.37c-.4-.4-.92-.59-1.43-.59-.52 0-1.04.2-1.43.59L10.3 9.45l-7.72 7.72c-.78.78-.78 2.05 0 2.83L4 21.41c.39.39.9.59 1.41.59.51 0 1.02-.2 1.41-.59l7.78-7.78 2.81-2.81c.8-.78.8-2.07 0-2.86zM5.41 20L4 18.59l7.72-7.72 1.47 1.35L5.41 20z\"/>\n",
              "  </svg>\n",
              "      </button>\n",
              "      \n",
              "  <style>\n",
              "    .colab-df-container {\n",
              "      display:flex;\n",
              "      flex-wrap:wrap;\n",
              "      gap: 12px;\n",
              "    }\n",
              "\n",
              "    .colab-df-convert {\n",
              "      background-color: #E8F0FE;\n",
              "      border: none;\n",
              "      border-radius: 50%;\n",
              "      cursor: pointer;\n",
              "      display: none;\n",
              "      fill: #1967D2;\n",
              "      height: 32px;\n",
              "      padding: 0 0 0 0;\n",
              "      width: 32px;\n",
              "    }\n",
              "\n",
              "    .colab-df-convert:hover {\n",
              "      background-color: #E2EBFA;\n",
              "      box-shadow: 0px 1px 2px rgba(60, 64, 67, 0.3), 0px 1px 3px 1px rgba(60, 64, 67, 0.15);\n",
              "      fill: #174EA6;\n",
              "    }\n",
              "\n",
              "    [theme=dark] .colab-df-convert {\n",
              "      background-color: #3B4455;\n",
              "      fill: #D2E3FC;\n",
              "    }\n",
              "\n",
              "    [theme=dark] .colab-df-convert:hover {\n",
              "      background-color: #434B5C;\n",
              "      box-shadow: 0px 1px 3px 1px rgba(0, 0, 0, 0.15);\n",
              "      filter: drop-shadow(0px 1px 2px rgba(0, 0, 0, 0.3));\n",
              "      fill: #FFFFFF;\n",
              "    }\n",
              "  </style>\n",
              "\n",
              "      <script>\n",
              "        const buttonEl =\n",
              "          document.querySelector('#df-b947d114-b712-4043-801d-697c9b8b8f2f button.colab-df-convert');\n",
              "        buttonEl.style.display =\n",
              "          google.colab.kernel.accessAllowed ? 'block' : 'none';\n",
              "\n",
              "        async function convertToInteractive(key) {\n",
              "          const element = document.querySelector('#df-b947d114-b712-4043-801d-697c9b8b8f2f');\n",
              "          const dataTable =\n",
              "            await google.colab.kernel.invokeFunction('convertToInteractive',\n",
              "                                                     [key], {});\n",
              "          if (!dataTable) return;\n",
              "\n",
              "          const docLinkHtml = 'Like what you see? Visit the ' +\n",
              "            '<a target=\"_blank\" href=https://colab.research.google.com/notebooks/data_table.ipynb>data table notebook</a>'\n",
              "            + ' to learn more about interactive tables.';\n",
              "          element.innerHTML = '';\n",
              "          dataTable['output_type'] = 'display_data';\n",
              "          await google.colab.output.renderOutput(dataTable, element);\n",
              "          const docLink = document.createElement('div');\n",
              "          docLink.innerHTML = docLinkHtml;\n",
              "          element.appendChild(docLink);\n",
              "        }\n",
              "      </script>\n",
              "    </div>\n",
              "  </div>\n",
              "  "
            ]
          },
          "metadata": {}
        },
        {
          "output_type": "display_data",
          "data": {
            "text/plain": [
              "   0   1   2   3   4   5   6   7   8   9   10  11  12  13  14  15  16  17  18  \\\n",
              "0   0   0   0   0   0   0   0   1   0   0   0   0   0   0   0   0   0   0   0   \n",
              "1   0   0   0   0   0   1   0   0   0   0   0   0   0   0   0   0   0   0   0   \n",
              "2   1   0   0   0   0   0   0   0   0   0   0   0   0   0   0   0   0   0   0   \n",
              "3   0   0   0   0   0   0   0   0   0   0   0   0   0   0   0   0   0   1   0   \n",
              "4   0   0   0   0   0   0   0   0   0   0   0   0   0   0   0   0   0   0   0   \n",
              "\n",
              "   19  \n",
              "0   0  \n",
              "1   0  \n",
              "2   0  \n",
              "3   0  \n",
              "4   1  "
            ],
            "text/html": [
              "\n",
              "  <div id=\"df-49164def-0c81-408c-88af-c4cbe5d96490\">\n",
              "    <div class=\"colab-df-container\">\n",
              "      <div>\n",
              "<style scoped>\n",
              "    .dataframe tbody tr th:only-of-type {\n",
              "        vertical-align: middle;\n",
              "    }\n",
              "\n",
              "    .dataframe tbody tr th {\n",
              "        vertical-align: top;\n",
              "    }\n",
              "\n",
              "    .dataframe thead th {\n",
              "        text-align: right;\n",
              "    }\n",
              "</style>\n",
              "<table border=\"1\" class=\"dataframe\">\n",
              "  <thead>\n",
              "    <tr style=\"text-align: right;\">\n",
              "      <th></th>\n",
              "      <th>0</th>\n",
              "      <th>1</th>\n",
              "      <th>2</th>\n",
              "      <th>3</th>\n",
              "      <th>4</th>\n",
              "      <th>5</th>\n",
              "      <th>6</th>\n",
              "      <th>7</th>\n",
              "      <th>8</th>\n",
              "      <th>9</th>\n",
              "      <th>10</th>\n",
              "      <th>11</th>\n",
              "      <th>12</th>\n",
              "      <th>13</th>\n",
              "      <th>14</th>\n",
              "      <th>15</th>\n",
              "      <th>16</th>\n",
              "      <th>17</th>\n",
              "      <th>18</th>\n",
              "      <th>19</th>\n",
              "    </tr>\n",
              "  </thead>\n",
              "  <tbody>\n",
              "    <tr>\n",
              "      <th>0</th>\n",
              "      <td>0</td>\n",
              "      <td>0</td>\n",
              "      <td>0</td>\n",
              "      <td>0</td>\n",
              "      <td>0</td>\n",
              "      <td>0</td>\n",
              "      <td>0</td>\n",
              "      <td>1</td>\n",
              "      <td>0</td>\n",
              "      <td>0</td>\n",
              "      <td>0</td>\n",
              "      <td>0</td>\n",
              "      <td>0</td>\n",
              "      <td>0</td>\n",
              "      <td>0</td>\n",
              "      <td>0</td>\n",
              "      <td>0</td>\n",
              "      <td>0</td>\n",
              "      <td>0</td>\n",
              "      <td>0</td>\n",
              "    </tr>\n",
              "    <tr>\n",
              "      <th>1</th>\n",
              "      <td>0</td>\n",
              "      <td>0</td>\n",
              "      <td>0</td>\n",
              "      <td>0</td>\n",
              "      <td>0</td>\n",
              "      <td>1</td>\n",
              "      <td>0</td>\n",
              "      <td>0</td>\n",
              "      <td>0</td>\n",
              "      <td>0</td>\n",
              "      <td>0</td>\n",
              "      <td>0</td>\n",
              "      <td>0</td>\n",
              "      <td>0</td>\n",
              "      <td>0</td>\n",
              "      <td>0</td>\n",
              "      <td>0</td>\n",
              "      <td>0</td>\n",
              "      <td>0</td>\n",
              "      <td>0</td>\n",
              "    </tr>\n",
              "    <tr>\n",
              "      <th>2</th>\n",
              "      <td>1</td>\n",
              "      <td>0</td>\n",
              "      <td>0</td>\n",
              "      <td>0</td>\n",
              "      <td>0</td>\n",
              "      <td>0</td>\n",
              "      <td>0</td>\n",
              "      <td>0</td>\n",
              "      <td>0</td>\n",
              "      <td>0</td>\n",
              "      <td>0</td>\n",
              "      <td>0</td>\n",
              "      <td>0</td>\n",
              "      <td>0</td>\n",
              "      <td>0</td>\n",
              "      <td>0</td>\n",
              "      <td>0</td>\n",
              "      <td>0</td>\n",
              "      <td>0</td>\n",
              "      <td>0</td>\n",
              "    </tr>\n",
              "    <tr>\n",
              "      <th>3</th>\n",
              "      <td>0</td>\n",
              "      <td>0</td>\n",
              "      <td>0</td>\n",
              "      <td>0</td>\n",
              "      <td>0</td>\n",
              "      <td>0</td>\n",
              "      <td>0</td>\n",
              "      <td>0</td>\n",
              "      <td>0</td>\n",
              "      <td>0</td>\n",
              "      <td>0</td>\n",
              "      <td>0</td>\n",
              "      <td>0</td>\n",
              "      <td>0</td>\n",
              "      <td>0</td>\n",
              "      <td>0</td>\n",
              "      <td>0</td>\n",
              "      <td>1</td>\n",
              "      <td>0</td>\n",
              "      <td>0</td>\n",
              "    </tr>\n",
              "    <tr>\n",
              "      <th>4</th>\n",
              "      <td>0</td>\n",
              "      <td>0</td>\n",
              "      <td>0</td>\n",
              "      <td>0</td>\n",
              "      <td>0</td>\n",
              "      <td>0</td>\n",
              "      <td>0</td>\n",
              "      <td>0</td>\n",
              "      <td>0</td>\n",
              "      <td>0</td>\n",
              "      <td>0</td>\n",
              "      <td>0</td>\n",
              "      <td>0</td>\n",
              "      <td>0</td>\n",
              "      <td>0</td>\n",
              "      <td>0</td>\n",
              "      <td>0</td>\n",
              "      <td>0</td>\n",
              "      <td>0</td>\n",
              "      <td>1</td>\n",
              "    </tr>\n",
              "  </tbody>\n",
              "</table>\n",
              "</div>\n",
              "      <button class=\"colab-df-convert\" onclick=\"convertToInteractive('df-49164def-0c81-408c-88af-c4cbe5d96490')\"\n",
              "              title=\"Convert this dataframe to an interactive table.\"\n",
              "              style=\"display:none;\">\n",
              "        \n",
              "  <svg xmlns=\"http://www.w3.org/2000/svg\" height=\"24px\"viewBox=\"0 0 24 24\"\n",
              "       width=\"24px\">\n",
              "    <path d=\"M0 0h24v24H0V0z\" fill=\"none\"/>\n",
              "    <path d=\"M18.56 5.44l.94 2.06.94-2.06 2.06-.94-2.06-.94-.94-2.06-.94 2.06-2.06.94zm-11 1L8.5 8.5l.94-2.06 2.06-.94-2.06-.94L8.5 2.5l-.94 2.06-2.06.94zm10 10l.94 2.06.94-2.06 2.06-.94-2.06-.94-.94-2.06-.94 2.06-2.06.94z\"/><path d=\"M17.41 7.96l-1.37-1.37c-.4-.4-.92-.59-1.43-.59-.52 0-1.04.2-1.43.59L10.3 9.45l-7.72 7.72c-.78.78-.78 2.05 0 2.83L4 21.41c.39.39.9.59 1.41.59.51 0 1.02-.2 1.41-.59l7.78-7.78 2.81-2.81c.8-.78.8-2.07 0-2.86zM5.41 20L4 18.59l7.72-7.72 1.47 1.35L5.41 20z\"/>\n",
              "  </svg>\n",
              "      </button>\n",
              "      \n",
              "  <style>\n",
              "    .colab-df-container {\n",
              "      display:flex;\n",
              "      flex-wrap:wrap;\n",
              "      gap: 12px;\n",
              "    }\n",
              "\n",
              "    .colab-df-convert {\n",
              "      background-color: #E8F0FE;\n",
              "      border: none;\n",
              "      border-radius: 50%;\n",
              "      cursor: pointer;\n",
              "      display: none;\n",
              "      fill: #1967D2;\n",
              "      height: 32px;\n",
              "      padding: 0 0 0 0;\n",
              "      width: 32px;\n",
              "    }\n",
              "\n",
              "    .colab-df-convert:hover {\n",
              "      background-color: #E2EBFA;\n",
              "      box-shadow: 0px 1px 2px rgba(60, 64, 67, 0.3), 0px 1px 3px 1px rgba(60, 64, 67, 0.15);\n",
              "      fill: #174EA6;\n",
              "    }\n",
              "\n",
              "    [theme=dark] .colab-df-convert {\n",
              "      background-color: #3B4455;\n",
              "      fill: #D2E3FC;\n",
              "    }\n",
              "\n",
              "    [theme=dark] .colab-df-convert:hover {\n",
              "      background-color: #434B5C;\n",
              "      box-shadow: 0px 1px 3px 1px rgba(0, 0, 0, 0.15);\n",
              "      filter: drop-shadow(0px 1px 2px rgba(0, 0, 0, 0.3));\n",
              "      fill: #FFFFFF;\n",
              "    }\n",
              "  </style>\n",
              "\n",
              "      <script>\n",
              "        const buttonEl =\n",
              "          document.querySelector('#df-49164def-0c81-408c-88af-c4cbe5d96490 button.colab-df-convert');\n",
              "        buttonEl.style.display =\n",
              "          google.colab.kernel.accessAllowed ? 'block' : 'none';\n",
              "\n",
              "        async function convertToInteractive(key) {\n",
              "          const element = document.querySelector('#df-49164def-0c81-408c-88af-c4cbe5d96490');\n",
              "          const dataTable =\n",
              "            await google.colab.kernel.invokeFunction('convertToInteractive',\n",
              "                                                     [key], {});\n",
              "          if (!dataTable) return;\n",
              "\n",
              "          const docLinkHtml = 'Like what you see? Visit the ' +\n",
              "            '<a target=\"_blank\" href=https://colab.research.google.com/notebooks/data_table.ipynb>data table notebook</a>'\n",
              "            + ' to learn more about interactive tables.';\n",
              "          element.innerHTML = '';\n",
              "          dataTable['output_type'] = 'display_data';\n",
              "          await google.colab.output.renderOutput(dataTable, element);\n",
              "          const docLink = document.createElement('div');\n",
              "          docLink.innerHTML = docLinkHtml;\n",
              "          element.appendChild(docLink);\n",
              "        }\n",
              "      </script>\n",
              "    </div>\n",
              "  </div>\n",
              "  "
            ]
          },
          "metadata": {}
        }
      ]
    },
    {
      "cell_type": "markdown",
      "id": "9603eb10",
      "metadata": {
        "id": "9603eb10"
      },
      "source": [
        "\n",
        "# Task 2. Attention is all you need"
      ]
    },
    {
      "cell_type": "markdown",
      "id": "9c39db15",
      "metadata": {
        "id": "9c39db15"
      },
      "source": [
        "Recently most of the natural language processing tasks are being dominated by the `Transformer` architecture, introduced in [Attention Is All You Need](https://arxiv.org/abs/1706.03762), which used a simple mechanism called `Neural Attention` as one of its building blocks. As the title suggests this architecture didn't require any recurrent layer. We now build a text classification using Attention and Positional Embeddings."
      ]
    },
    {
      "cell_type": "markdown",
      "id": "fb0fa502",
      "metadata": {
        "id": "fb0fa502"
      },
      "source": [
        "1. Transformer (attention) Block. \n",
        "\n",
        "    The concept of `Neural Attention` is fairly simple; i.e., not all input information seen by a model is equally important to the task at hand. Although this concept has been utilized at various different places as well, e.g., max pooling in ConvNets, but the kind of attention we are looking for should be `context aware`.\n",
        "\n",
        "    The attention mechanism allows output to focus attention on input while producing output while the self-attention model allows inputs to interact with each other; in other words, calculate attention of all other inputs with respect to one input.\n",
        "\n",
        "    In the paper, the authors proposed another type of attention mechanism called multi-headed attention which refers to the fact that the outer space of the self attention layer gets factored into a set of independent sub-spaces learned separately, where each subspace is called a \"head\". **You need to implement the multi-head attention layer**, supplying values for two parameters: `num_heads` and `key_dim`.\n",
        "\n",
        "    There is a learnable dense projection present after the multi-head attention which enables the layer to actually learn something, as opposed to being a purely stateless transformation. **You need to implement `dense_proj`**, use the `tf.keras.Sequential` to stack two dense layers: \n",
        "    \n",
        "        1. first dense layer with `dense_dim` units and activation function `relu`;\n",
        "        2. second dense layer with `embed_dim` units and no activation function."
      ]
    },
    {
      "cell_type": "code",
      "execution_count": 12,
      "id": "cc578b76",
      "metadata": {
        "id": "cc578b76"
      },
      "outputs": [],
      "source": [
        "from tensorflow.keras import layers as L\n",
        "from tensorflow import keras\n",
        "\n",
        "# implement TransformerBlock layer using call() method\n",
        "# NB: encoder = multi-head self-attention → 'layernorm1' (on residual connection\n",
        "#     from 'inputs' + mha output) → positionwise fully connected ffn = learnable\n",
        "#     'dense_proj' (keras sequential dense layers) → 'layernorm2' (on residual \n",
        "#     connection with 'layernorm1' + ffn 'dense_proj' output)\n",
        "# \n",
        "# NB: this implementation doesn't apply dropout here in 'MultiHeadAttention' nor on\n",
        "#     output of ffn 'dense_proj' (during training) (OK, looks like it's applied \n",
        "#     later on in the full keras model after GlobalMaxPooling1D layer)\n",
        "\n",
        "class TransformerBlock(L.Layer):\n",
        "    # __init__ creates all layers accessed by call method\n",
        "    def __init__(self, embed_dim, dense_dim, num_heads, **kwargs):\n",
        "        self.embed_dim = embed_dim\n",
        "        self.dense_dim = dense_dim\n",
        "        self.num_heads = num_heads\n",
        "\n",
        "        # implement multi-head attention layer:\n",
        "        self.attention = L.MultiHeadAttention(\n",
        "            num_heads=num_heads,\n",
        "            key_dim=embed_dim\n",
        "        )\n",
        "\n",
        "        # implement dense_proj (learnable):\n",
        "        self.dense_proj = tf.keras.Sequential(\n",
        "            [\n",
        "                L.Dense(dense_dim, activation='relu', name='layer1_ffn'),\n",
        "                L.Dense(embed_dim, name='layer2_ffn'),\n",
        "            ]\n",
        "        )\n",
        "        self.layernorm1 = L.LayerNormalization()\n",
        "        self.layernorm2 = L.LayerNormalization()\n",
        "        super().__init__(**kwargs)\n",
        "    \n",
        "    def call(self, inputs, mask=None):\n",
        "        if mask is not None:\n",
        "            mask = mask[: tf.newaxis, :]\n",
        "        attention_output = self.attention(inputs, inputs, attention_mask=mask)\n",
        "        proj_input = self.layernorm1(inputs + attention_output)\n",
        "        proj_output = self.dense_proj(proj_input)\n",
        "        return self.layernorm2(proj_input + proj_output)\n",
        "    \n",
        "    def get_config(self):\n",
        "        config = super().get_config()\n",
        "        config.update({\n",
        "            \"embed_dim\": self.embed_dim,\n",
        "            \"num_heads\": self.num_heads,\n",
        "            \"dense_dim\": self.dense_dim\n",
        "        })\n",
        "        return config"
      ]
    },
    {
      "cell_type": "markdown",
      "id": "e1cb0ce3",
      "metadata": {
        "id": "e1cb0ce3"
      },
      "source": [
        "1. Positional embedding. \n",
        "\n",
        "    The idea behind Positional Encoding is fairly simple as well: to give the model access to token order information, therefore we are going to add the token's position in the sentence to each word embedding.\n",
        "\n",
        "    Thus, __one input word embedding will have two components: the usual token vector representing the token independent of any specific context, and a position vector representing the position of the token in the current sequence.__  "
      ]
    },
    {
      "cell_type": "code",
      "execution_count": 13,
      "id": "2db9b3dd",
      "metadata": {
        "id": "2db9b3dd"
      },
      "outputs": [],
      "source": [
        "class PositionalEmbedding(L.Layer):\n",
        "    def __init__(self, sequence_length, input_dim, output_dim, **kwargs):\n",
        "\n",
        "        # NB: input_dim = vocab size\n",
        "        #     output_dim = dim of dense embedding\n",
        "        self.token_embeddings = L.Embedding(input_dim, output_dim)\n",
        "        self.position_embeddings = L.Embedding(sequence_length, output_dim)\n",
        "        self.sequence_length = sequence_length\n",
        "        self.input_dim = input_dim\n",
        "        self.output_dim = output_dim\n",
        "        super().__init__(**kwargs)\n",
        "        \n",
        "    def call(self, inputs):\n",
        "        length = tf.shape(inputs)[-1]\n",
        "        positions = tf.range(start=0, limit=length, delta=1)\n",
        "        embedded_tokens = self.token_embeddings(inputs)\n",
        "        embedded_positions = self.position_embeddings(positions)\n",
        "\n",
        "        # NB: returns token vector + position vector\n",
        "        return embedded_tokens + embedded_positions\n",
        "        \n",
        "    def get_config(self):\n",
        "        config = super().get_config()\n",
        "        config.update({\n",
        "            \"output_dim\": self.output_dim,\n",
        "            \"sequence_length\": self.sequence_length,\n",
        "            \"input_dim\": self.input_dim,\n",
        "        })\n",
        "        return config"
      ]
    },
    {
      "cell_type": "markdown",
      "id": "afde9c93",
      "metadata": {
        "id": "afde9c93"
      },
      "source": [
        "1. Define some constants to parameterize the model."
      ]
    },
    {
      "cell_type": "code",
      "execution_count": 14,
      "id": "280fe4c7",
      "metadata": {
        "id": "280fe4c7"
      },
      "outputs": [],
      "source": [
        "VOCAB_SIZE = 10_000\n",
        "EMBED_DIM = 256\n",
        "DENSE_DIM = 32\n",
        "NUM_HEADS = 2\n",
        "MAX_LEN = 256"
      ]
    },
    {
      "cell_type": "markdown",
      "id": "9ecb3a8d",
      "metadata": {
        "id": "9ecb3a8d"
      },
      "source": [
        "1. Tokenizer. \n",
        "    \n",
        "    The tokenizer is a simple tool to convert a text into a sequence of tokens. It is used to convert the training data into a sequence of integers, which are then used as input to the model. \n",
        "\n",
        "    Use `Tokenizer` to create a tokenizer for the training data. Set the `num_words` parameter to the number of words to keep in the vocabulary, and `oov_token` to be `\"<unk>\"`."
      ]
    },
    {
      "cell_type": "code",
      "execution_count": 15,
      "id": "17d66cfc",
      "metadata": {
        "id": "17d66cfc"
      },
      "outputs": [],
      "source": [
        "from keras.preprocessing.text import Tokenizer\n",
        "tokenizer = Tokenizer(\n",
        "    num_words=VOCAB_SIZE,\n",
        "    oov_token='<unk>'\n",
        ")\n",
        "tokenizer.fit_on_texts(X_train)\n",
        "\n",
        "# store a word index for our training data X_train:\n",
        "word_index = tokenizer.word_index"
      ]
    },
    {
      "cell_type": "markdown",
      "id": "eab4b7a0",
      "metadata": {
        "id": "eab4b7a0"
      },
      "source": [
        "1. Pad the sequences. \n",
        "    \n",
        "    The tokenizer outputs a sequence of integers, which are then used as input to the model. However, the model expects a sequence of fixed length. To pad the sequences to the same length, use `sequence.pad_sequences` from `keras.preprocessing`.\n",
        "\n",
        "    Complete function `preprocess` below to 1) tokenize the texts 2) pad the sequences to the same length."
      ]
    },
    {
      "cell_type": "markdown",
      "source": [
        "# _Notes:_\n",
        "\n",
        "*  ___NB___: We are arbitrarily using a max sequence length of 256 words, although it is clear from the examples above, that some texts have many more words!  \n",
        "  \n",
        "*  ___NB___: In processing texts to `MAX_LEN` using padding/truncation, note that the default behavior of `tf.keras.utils.pad_sequences` is to do 'pre' padding and 'pre' truncation with a default value of '0'.  \n",
        "  \n",
        "*  The ___default pre-padding___ likely mitigates the adverse effects of lengthy sequences in traditional RNNs, which should not apply to transformers. (We can come back and test this by e.g., setting `padding='post'` and `truncating='post'` in code below:)"
      ],
      "metadata": {
        "id": "HCa8s7uG1wFU"
      },
      "id": "HCa8s7uG1wFU"
    },
    {
      "cell_type": "code",
      "execution_count": 16,
      "id": "5GyEyhfuDybK",
      "metadata": {
        "id": "5GyEyhfuDybK"
      },
      "outputs": [],
      "source": [
        "# deprecated:\n",
        "from keras.preprocessing import sequence\n",
        "\n",
        "def preprocess(texts, tokenizer, maxlen:int = MAX_LEN):\n",
        "\n",
        "    # tokenize:\n",
        "    seqs = tokenizer.texts_to_sequences(texts)\n",
        "\n",
        "    # (don't use deprecated sequence.pad_sequences)\n",
        "    tokenized_text = tf.keras.utils.pad_sequences(\n",
        "        sequences=seqs,\n",
        "        maxlen=MAX_LEN,\n",
        "        padding='pre',\n",
        "        truncating='pre'\n",
        "    )                                                 \n",
        "    return tokenized_text"
      ]
    },
    {
      "cell_type": "markdown",
      "id": "8f4f3291",
      "metadata": {
        "id": "8f4f3291"
      },
      "source": [
        "1. Preprocess the data. \n",
        "    \n",
        "    Use `preprocess` to preprocess the training, validation, and test data."
      ]
    },
    {
      "cell_type": "code",
      "execution_count": 17,
      "id": "041570a5",
      "metadata": {
        "id": "041570a5"
      },
      "outputs": [],
      "source": [
        "X_train = preprocess(texts=X_train, tokenizer=tokenizer, maxlen=MAX_LEN)\n",
        "X_valid = preprocess(texts=X_valid, tokenizer=tokenizer, maxlen=MAX_LEN)\n",
        "X_test  = preprocess(texts=X_test,  tokenizer=tokenizer, maxlen=MAX_LEN)"
      ]
    },
    {
      "cell_type": "code",
      "source": [
        "# check output of preprocessing:\n",
        "X_train.shape, X_valid.shape, X_test.shape"
      ],
      "metadata": {
        "colab": {
          "base_uri": "https://localhost:8080/",
          "height": 0
        },
        "id": "1G1WQzbFYUX_",
        "outputId": "9cac8edf-d409-4a36-9c60-407e5cd8e42e"
      },
      "id": "1G1WQzbFYUX_",
      "execution_count": 18,
      "outputs": [
        {
          "output_type": "execute_result",
          "data": {
            "text/plain": [
              "((10182, 256), (1132, 256), (7532, 256))"
            ]
          },
          "metadata": {},
          "execution_count": 18
        }
      ]
    },
    {
      "cell_type": "markdown",
      "id": "6f65487a",
      "metadata": {
        "id": "6f65487a"
      },
      "source": [
        "1. Define the model with the following architecture: \n",
        "\n",
        "    * Input Layer\n",
        "    * Positional Embeddings\n",
        "    * Transformer Block\n",
        "    * Pooling\n",
        "    * Dropout\n",
        "    * Output Layer\n",
        "\n",
        "    If you are not familiar with keras functional API, take a read [here](https://keras.io/guides/functional_api/)."
      ]
    },
    {
      "cell_type": "code",
      "execution_count": 19,
      "id": "141d4968",
      "metadata": {
        "id": "141d4968"
      },
      "outputs": [],
      "source": [
        "inputs = keras.Input(shape=(None, ), dtype=\"int64\")\n",
        "\n",
        "x = PositionalEmbedding(sequence_length=MAX_LEN,\n",
        "                        input_dim=VOCAB_SIZE,\n",
        "                        output_dim=EMBED_DIM)(inputs)\n",
        "\n",
        "x = TransformerBlock(embed_dim=EMBED_DIM,\n",
        "                     dense_dim=DENSE_DIM,\n",
        "                     num_heads=NUM_HEADS)(x)\n",
        "                     \n",
        "x = L.GlobalMaxPooling1D()(x)\n",
        "x = L.Dropout(0.5)(x)\n",
        "outputs = L.Dense(20, activation='softmax')(x)\n",
        "\n",
        "model = keras.Model(inputs, outputs)"
      ]
    },
    {
      "cell_type": "markdown",
      "id": "7329eef2",
      "metadata": {
        "id": "7329eef2"
      },
      "source": [
        "1. Compile model. \n",
        "\n",
        "    Use 'adam' for the optimizer and accuracy for metrics, supply the correct value for loss. "
      ]
    },
    {
      "cell_type": "code",
      "execution_count": 20,
      "id": "f6491748",
      "metadata": {
        "id": "f6491748"
      },
      "outputs": [],
      "source": [
        "model.compile(\n",
        "    optimizer='adam',\n",
        "    loss='categorical_crossentropy',\n",
        "    metrics=['accuracy']\n",
        ")"
      ]
    },
    {
      "cell_type": "code",
      "execution_count": 21,
      "id": "d1c00f20",
      "metadata": {
        "id": "d1c00f20",
        "colab": {
          "base_uri": "https://localhost:8080/",
          "height": 0
        },
        "outputId": "8be4dc41-6776-44ac-c9c1-1560fecc45ec"
      },
      "outputs": [
        {
          "output_type": "stream",
          "name": "stdout",
          "text": [
            "Model: \"model\"\n",
            "_________________________________________________________________\n",
            " Layer (type)                Output Shape              Param #   \n",
            "=================================================================\n",
            " input_1 (InputLayer)        [(None, None)]            0         \n",
            "                                                                 \n",
            " positional_embedding (Posit  (None, None, 256)        2625536   \n",
            " ionalEmbedding)                                                 \n",
            "                                                                 \n",
            " transformer_block (Transfor  (None, None, 256)        543776    \n",
            " merBlock)                                                       \n",
            "                                                                 \n",
            " global_max_pooling1d (Globa  (None, 256)              0         \n",
            " lMaxPooling1D)                                                  \n",
            "                                                                 \n",
            " dropout (Dropout)           (None, 256)               0         \n",
            "                                                                 \n",
            " dense (Dense)               (None, 20)                5140      \n",
            "                                                                 \n",
            "=================================================================\n",
            "Total params: 3,174,452\n",
            "Trainable params: 3,174,452\n",
            "Non-trainable params: 0\n",
            "_________________________________________________________________\n"
          ]
        }
      ],
      "source": [
        "model.summary()"
      ]
    },
    {
      "cell_type": "markdown",
      "id": "ZN4agZCL7E6e",
      "metadata": {
        "id": "ZN4agZCL7E6e"
      },
      "source": [
        "1. Add [EarlyStopping](https://keras.io/api/callbacks/early_stopping/) and [ReduceLROnPlateau](https://keras.io/api/callbacks/reduce_lr_on_plateau/) to stop training if the model does not improve a set metric after a given number of epochs. \n",
        "\n",
        "    Create an `EarlyStopping` object named `es` to stop training if the validation loss does not improve after 5 epochs. Set verbose to display messages when the callback takes an action and set `restore_best_weights` to restore model weights from the epoch with the best value of the monitored metric.\n",
        "    \n",
        "    Use `ReduceLROnPlateau` to reduce the learning rate if the validation loss does not improve after 3 epochs. Set verbose to display messages when the callback takes an action and use default values for other parameters.\n",
        "    "
      ]
    },
    {
      "cell_type": "code",
      "execution_count": 22,
      "id": "220efe0c",
      "metadata": {
        "id": "220efe0c"
      },
      "outputs": [],
      "source": [
        "# early stopping:\n",
        "es = tf.keras.callbacks.EarlyStopping(\n",
        "    monitor='val_loss',\n",
        "    min_delta=0,\n",
        "    patience=5,\n",
        "    verbose=1,\n",
        "    restore_best_weights=True\n",
        ")\n",
        "# reduce learning rate when metric stops improving:\n",
        "rlp = tf.keras.callbacks.ReduceLROnPlateau(\n",
        "    monitor='val_loss',\n",
        "    factor=0.333,\n",
        "    patience=3,\n",
        "    verbose=1,\n",
        "    min_delta=0.0001,\n",
        "    min_lr=0.0000001\n",
        ")"
      ]
    },
    {
      "cell_type": "markdown",
      "id": "58c75279",
      "metadata": {
        "id": "58c75279"
      },
      "source": [
        "1. Train the model. \n",
        "    \n",
        "    Supply both `EarlyStopping` and `ReduceLROnPlateau` for `callbacks`. Set `epochs` to 100."
      ]
    },
    {
      "cell_type": "code",
      "execution_count": 23,
      "id": "1c8d14d0",
      "metadata": {
        "id": "1c8d14d0",
        "colab": {
          "base_uri": "https://localhost:8080/",
          "height": 0
        },
        "outputId": "3ff5ffcd-bd3d-422a-cb66-b3682988dc69"
      },
      "outputs": [
        {
          "output_type": "stream",
          "name": "stdout",
          "text": [
            "Epoch 1/100\n",
            "319/319 [==============================] - 10s 9ms/step - loss: 3.0513 - accuracy: 0.2036 - val_loss: 1.2467 - val_accuracy: 0.6555 - lr: 0.0010\n",
            "Epoch 2/100\n",
            "319/319 [==============================] - 2s 8ms/step - loss: 0.9752 - accuracy: 0.7157 - val_loss: 0.5891 - val_accuracy: 0.8180 - lr: 0.0010\n",
            "Epoch 3/100\n",
            "319/319 [==============================] - 2s 8ms/step - loss: 0.3728 - accuracy: 0.8861 - val_loss: 0.5482 - val_accuracy: 0.8516 - lr: 0.0010\n",
            "Epoch 4/100\n",
            "319/319 [==============================] - 2s 8ms/step - loss: 0.1506 - accuracy: 0.9532 - val_loss: 0.5677 - val_accuracy: 0.8551 - lr: 0.0010\n",
            "Epoch 5/100\n",
            "319/319 [==============================] - 2s 8ms/step - loss: 0.0587 - accuracy: 0.9841 - val_loss: 0.5808 - val_accuracy: 0.8648 - lr: 0.0010\n",
            "Epoch 6/100\n",
            "317/319 [============================>.] - ETA: 0s - loss: 0.0339 - accuracy: 0.9905\n",
            "Epoch 6: ReduceLROnPlateau reducing learning rate to 0.0003330000158166513.\n",
            "319/319 [==============================] - 2s 8ms/step - loss: 0.0338 - accuracy: 0.9906 - val_loss: 0.6318 - val_accuracy: 0.8728 - lr: 0.0010\n",
            "Epoch 7/100\n",
            "319/319 [==============================] - 2s 8ms/step - loss: 0.0118 - accuracy: 0.9974 - val_loss: 0.6192 - val_accuracy: 0.8701 - lr: 3.3300e-04\n",
            "Epoch 8/100\n",
            "315/319 [============================>.] - ETA: 0s - loss: 0.0072 - accuracy: 0.9986Restoring model weights from the end of the best epoch: 3.\n",
            "319/319 [==============================] - 2s 8ms/step - loss: 0.0071 - accuracy: 0.9986 - val_loss: 0.6374 - val_accuracy: 0.8754 - lr: 3.3300e-04\n",
            "Epoch 8: early stopping\n"
          ]
        }
      ],
      "source": [
        "history = model.fit(\n",
        "    X_train, y_train, \n",
        "    validation_data=(X_valid, y_valid),\n",
        "    callbacks= [es, rlp],\n",
        "    epochs=100,\n",
        ")"
      ]
    },
    {
      "cell_type": "markdown",
      "id": "4cd54e08",
      "metadata": {
        "id": "4cd54e08"
      },
      "source": [
        "1. Evaluate the trained model on the test data. \n",
        "    \n",
        "    Use `evaluate` to evaluate the model on the test data (accuracy will be around 0.77)."
      ]
    },
    {
      "cell_type": "code",
      "execution_count": 24,
      "id": "HCVwNQ0UqH_x",
      "metadata": {
        "id": "HCVwNQ0UqH_x",
        "colab": {
          "base_uri": "https://localhost:8080/",
          "height": 0
        },
        "outputId": "c7dd9666-1ba6-4673-c5f6-598e564fbcde"
      },
      "outputs": [
        {
          "output_type": "stream",
          "name": "stdout",
          "text": [
            "236/236 [==============================] - 1s 4ms/step - loss: 0.8090 - accuracy: 0.7754\n",
            "Model loss & test accuracy after training with early stopping\n",
            "\twith Adam optimizer: [0.8090249300003052, 0.7753584980964661]\n",
            "\n"
          ]
        }
      ],
      "source": [
        "# YOUR CODE HERE\n",
        "# Looking at keras metrics on X_test using model.evaluate:\n",
        "\n",
        "results = model.evaluate(X_test, y_test, verbose='auto')\n",
        "print(f'Model loss & test accuracy after training with early stopping\\n\\t'\n",
        "      f'with Adam optimizer: {results}\\n')"
      ]
    },
    {
      "cell_type": "markdown",
      "id": "3f3bc7bf",
      "metadata": {
        "id": "3f3bc7bf"
      },
      "source": [
        "1. Visualize both loss and accuracy curves for the training and validation data. "
      ]
    },
    {
      "cell_type": "code",
      "source": [
        "# let's look at above metrics graphically:\n",
        "import matplotlib.pyplot as plt\n",
        "\n",
        "def plot_graphs(history, metric, opt_name):\n",
        "  fig, ax = plt.subplots()\n",
        "  plt.plot(history.history[metric])\n",
        "  plt.plot(history.history['val_'+metric], '')\n",
        "  plt.xlabel(f\"Epoch, {opt_name}\", fontsize=14)\n",
        "  plt.ylabel(metric)\n",
        "  plt.legend([metric, 'val_'+metric])\n",
        "\n",
        "plot_graphs(history,'loss','Adam optimizer')\n",
        "plot_graphs(history,'accuracy','Adam optimizer')"
      ],
      "metadata": {
        "colab": {
          "base_uri": "https://localhost:8080/",
          "height": 549
        },
        "id": "IcGTBqAV9scd",
        "outputId": "f042aaa5-9574-4807-d608-d1eb351708bd"
      },
      "id": "IcGTBqAV9scd",
      "execution_count": 25,
      "outputs": [
        {
          "output_type": "display_data",
          "data": {
            "text/plain": [
              "<Figure size 432x288 with 1 Axes>"
            ],
            "image/png": "[encoded data removed]"
          },
          "metadata": {
            "needs_background": "light"
          }
        },
        {
          "output_type": "display_data",
          "data": {
            "text/plain": [
              "<Figure size 432x288 with 1 Axes>"
            ],
            "image/png": "[encoded data removed]"
          },
          "metadata": {
            "needs_background": "light"
          }
        }
      ]
    },
    {
      "cell_type": "markdown",
      "source": [
        "# _Let's try SGD and see if we can improve accuracy:_  \n",
        "_It's slower than Adam, but less prone to overfitting and in general is said to give great results..._"
      ],
      "metadata": {
        "id": "YLUFUZazMYo8"
      },
      "id": "YLUFUZazMYo8"
    },
    {
      "cell_type": "code",
      "execution_count": 26,
      "metadata": {
        "id": "jwhdDpAXMi9V"
      },
      "outputs": [],
      "source": [
        "# reset all states generated by Keras:\n",
        "tf.keras.backend.clear_session()\n",
        "\n",
        "# redefine model as previously:\n",
        "inputs = keras.Input(shape=(None, ), dtype=\"int64\")\n",
        "\n",
        "x = PositionalEmbedding(sequence_length=MAX_LEN,\n",
        "                        input_dim=VOCAB_SIZE,\n",
        "                        output_dim=EMBED_DIM)(inputs)\n",
        "\n",
        "x = TransformerBlock(embed_dim=EMBED_DIM,\n",
        "                     dense_dim=DENSE_DIM,\n",
        "                     num_heads=NUM_HEADS)(x)\n",
        "                     \n",
        "x = L.GlobalMaxPooling1D()(x)\n",
        "x = L.Dropout(0.5)(x)\n",
        "outputs = L.Dense(20, activation='softmax')(x)\n",
        "\n",
        "# define model instance with optimizer=SGD:\n",
        "model_SGD = keras.Model(inputs, outputs)\n",
        "\n",
        "# set optimizer=SGD & learning rate:\n",
        "opt_SGD = tf.keras.optimizers.SGD(learning_rate=0.03)\n",
        "\n",
        "# compile model:\n",
        "model_SGD.compile(\n",
        "    optimizer=opt_SGD,\n",
        "    loss='categorical_crossentropy',\n",
        "    metrics=['accuracy']\n",
        ")"
      ],
      "id": "jwhdDpAXMi9V"
    },
    {
      "cell_type": "code",
      "source": [
        "model_SGD.summary()"
      ],
      "metadata": {
        "colab": {
          "base_uri": "https://localhost:8080/",
          "height": 0
        },
        "id": "UkL-34JKmZhm",
        "outputId": "0b2f8bd8-490f-4494-9126-7e87395f20be"
      },
      "id": "UkL-34JKmZhm",
      "execution_count": 27,
      "outputs": [
        {
          "output_type": "stream",
          "name": "stdout",
          "text": [
            "Model: \"model\"\n",
            "_________________________________________________________________\n",
            " Layer (type)                Output Shape              Param #   \n",
            "=================================================================\n",
            " input_1 (InputLayer)        [(None, None)]            0         \n",
            "                                                                 \n",
            " positional_embedding (Posit  (None, None, 256)        2625536   \n",
            " ionalEmbedding)                                                 \n",
            "                                                                 \n",
            " transformer_block (Transfor  (None, None, 256)        543776    \n",
            " merBlock)                                                       \n",
            "                                                                 \n",
            " global_max_pooling1d (Globa  (None, 256)              0         \n",
            " lMaxPooling1D)                                                  \n",
            "                                                                 \n",
            " dropout (Dropout)           (None, 256)               0         \n",
            "                                                                 \n",
            " dense (Dense)               (None, 20)                5140      \n",
            "                                                                 \n",
            "=================================================================\n",
            "Total params: 3,174,452\n",
            "Trainable params: 3,174,452\n",
            "Non-trainable params: 0\n",
            "_________________________________________________________________\n"
          ]
        }
      ]
    },
    {
      "cell_type": "code",
      "execution_count": 28,
      "metadata": {
        "id": "B1IDJdrjMi9V"
      },
      "outputs": [],
      "source": [
        "# early stopping:\n",
        "es = tf.keras.callbacks.EarlyStopping(\n",
        "    monitor='val_loss',\n",
        "    min_delta=0,\n",
        "    patience=5,\n",
        "    verbose=1,\n",
        "    restore_best_weights=True\n",
        ")\n",
        "# reduce learning rate when metric stops improving:\n",
        "rlp = tf.keras.callbacks.ReduceLROnPlateau(\n",
        "    monitor='val_loss',\n",
        "    factor=0.333,\n",
        "    patience=3,\n",
        "    verbose=1,\n",
        "    min_delta=0.0001,\n",
        "    min_lr=0.0000001\n",
        ")"
      ],
      "id": "B1IDJdrjMi9V"
    },
    {
      "cell_type": "code",
      "execution_count": 29,
      "metadata": {
        "colab": {
          "base_uri": "https://localhost:8080/",
          "height": 0
        },
        "outputId": "61b551f2-3c94-45cc-8990-45d29efb3e88",
        "id": "jQeP8K4SMi9V"
      },
      "outputs": [
        {
          "output_type": "stream",
          "name": "stdout",
          "text": [
            "Epoch 1/100\n",
            "319/319 [==============================] - 3s 8ms/step - loss: 3.4239 - accuracy: 0.0583 - val_loss: 3.5950 - val_accuracy: 0.0627 - lr: 0.0300\n",
            "Epoch 2/100\n",
            "319/319 [==============================] - 2s 7ms/step - loss: 3.0621 - accuracy: 0.0652 - val_loss: 3.5537 - val_accuracy: 0.0486 - lr: 0.0300\n",
            "Epoch 3/100\n",
            "319/319 [==============================] - 2s 7ms/step - loss: 2.9397 - accuracy: 0.0993 - val_loss: 2.9299 - val_accuracy: 0.1122 - lr: 0.0300\n",
            "Epoch 4/100\n",
            "319/319 [==============================] - 2s 7ms/step - loss: 2.7452 - accuracy: 0.1644 - val_loss: 2.9601 - val_accuracy: 0.1087 - lr: 0.0300\n",
            "Epoch 5/100\n",
            "319/319 [==============================] - 2s 7ms/step - loss: 2.4718 - accuracy: 0.2525 - val_loss: 2.3259 - val_accuracy: 0.2862 - lr: 0.0300\n",
            "Epoch 6/100\n",
            "319/319 [==============================] - 2s 7ms/step - loss: 2.1333 - accuracy: 0.3585 - val_loss: 1.9368 - val_accuracy: 0.3931 - lr: 0.0300\n",
            "Epoch 7/100\n",
            "319/319 [==============================] - 2s 7ms/step - loss: 1.8128 - accuracy: 0.4540 - val_loss: 2.4415 - val_accuracy: 0.2783 - lr: 0.0300\n",
            "Epoch 8/100\n",
            "319/319 [==============================] - 2s 7ms/step - loss: 1.6031 - accuracy: 0.5186 - val_loss: 1.3730 - val_accuracy: 0.5892 - lr: 0.0300\n",
            "Epoch 9/100\n",
            "319/319 [==============================] - 2s 7ms/step - loss: 1.4230 - accuracy: 0.5718 - val_loss: 1.3362 - val_accuracy: 0.5892 - lr: 0.0300\n",
            "Epoch 10/100\n",
            "319/319 [==============================] - 2s 7ms/step - loss: 1.2867 - accuracy: 0.6126 - val_loss: 1.3346 - val_accuracy: 0.6069 - lr: 0.0300\n",
            "Epoch 11/100\n",
            "319/319 [==============================] - 2s 7ms/step - loss: 1.1588 - accuracy: 0.6566 - val_loss: 1.4940 - val_accuracy: 0.5477 - lr: 0.0300\n",
            "Epoch 12/100\n",
            "319/319 [==============================] - 2s 7ms/step - loss: 1.0475 - accuracy: 0.6842 - val_loss: 1.1966 - val_accuracy: 0.6405 - lr: 0.0300\n",
            "Epoch 13/100\n",
            "319/319 [==============================] - 2s 7ms/step - loss: 0.9576 - accuracy: 0.7115 - val_loss: 1.1915 - val_accuracy: 0.6352 - lr: 0.0300\n",
            "Epoch 14/100\n",
            "319/319 [==============================] - 2s 7ms/step - loss: 0.8790 - accuracy: 0.7332 - val_loss: 0.9449 - val_accuracy: 0.7217 - lr: 0.0300\n",
            "Epoch 15/100\n",
            "319/319 [==============================] - 2s 7ms/step - loss: 0.8111 - accuracy: 0.7527 - val_loss: 1.0927 - val_accuracy: 0.6687 - lr: 0.0300\n",
            "Epoch 16/100\n",
            "319/319 [==============================] - 2s 7ms/step - loss: 0.7503 - accuracy: 0.7721 - val_loss: 1.2612 - val_accuracy: 0.6228 - lr: 0.0300\n",
            "Epoch 17/100\n",
            "311/319 [============================>.] - ETA: 0s - loss: 0.6966 - accuracy: 0.7876\n",
            "Epoch 17: ReduceLROnPlateau reducing learning rate to 0.0099899997767061.\n",
            "319/319 [==============================] - 2s 7ms/step - loss: 0.6980 - accuracy: 0.7870 - val_loss: 1.0454 - val_accuracy: 0.6837 - lr: 0.0300\n",
            "Epoch 18/100\n",
            "319/319 [==============================] - 2s 7ms/step - loss: 0.5592 - accuracy: 0.8322 - val_loss: 0.7791 - val_accuracy: 0.7624 - lr: 0.0100\n",
            "Epoch 19/100\n",
            "319/319 [==============================] - 2s 7ms/step - loss: 0.5149 - accuracy: 0.8478 - val_loss: 0.7457 - val_accuracy: 0.7756 - lr: 0.0100\n",
            "Epoch 20/100\n",
            "319/319 [==============================] - 2s 7ms/step - loss: 0.4971 - accuracy: 0.8500 - val_loss: 0.7673 - val_accuracy: 0.7641 - lr: 0.0100\n",
            "Epoch 21/100\n",
            "319/319 [==============================] - 2s 7ms/step - loss: 0.4637 - accuracy: 0.8655 - val_loss: 0.7410 - val_accuracy: 0.7800 - lr: 0.0100\n",
            "Epoch 22/100\n",
            "319/319 [==============================] - 2s 7ms/step - loss: 0.4491 - accuracy: 0.8631 - val_loss: 0.7723 - val_accuracy: 0.7659 - lr: 0.0100\n",
            "Epoch 23/100\n",
            "319/319 [==============================] - 2s 7ms/step - loss: 0.4275 - accuracy: 0.8722 - val_loss: 0.7258 - val_accuracy: 0.7880 - lr: 0.0100\n",
            "Epoch 24/100\n",
            "319/319 [==============================] - 2s 7ms/step - loss: 0.4012 - accuracy: 0.8839 - val_loss: 0.7447 - val_accuracy: 0.7694 - lr: 0.0100\n",
            "Epoch 25/100\n",
            "319/319 [==============================] - 2s 7ms/step - loss: 0.3829 - accuracy: 0.8904 - val_loss: 0.7467 - val_accuracy: 0.7792 - lr: 0.0100\n",
            "Epoch 26/100\n",
            "316/319 [============================>.] - ETA: 0s - loss: 0.3682 - accuracy: 0.8936\n",
            "Epoch 26: ReduceLROnPlateau reducing learning rate to 0.0033266700552776456.\n",
            "319/319 [==============================] - 2s 7ms/step - loss: 0.3687 - accuracy: 0.8932 - val_loss: 0.7411 - val_accuracy: 0.7836 - lr: 0.0100\n",
            "Epoch 27/100\n",
            "319/319 [==============================] - 2s 7ms/step - loss: 0.3289 - accuracy: 0.9090 - val_loss: 0.6967 - val_accuracy: 0.7942 - lr: 0.0033\n",
            "Epoch 28/100\n",
            "319/319 [==============================] - 2s 7ms/step - loss: 0.3289 - accuracy: 0.9059 - val_loss: 0.6921 - val_accuracy: 0.7942 - lr: 0.0033\n",
            "Epoch 29/100\n",
            "319/319 [==============================] - 2s 7ms/step - loss: 0.3152 - accuracy: 0.9130 - val_loss: 0.6896 - val_accuracy: 0.7968 - lr: 0.0033\n",
            "Epoch 30/100\n",
            "319/319 [==============================] - 2s 7ms/step - loss: 0.3080 - accuracy: 0.9166 - val_loss: 0.6958 - val_accuracy: 0.7889 - lr: 0.0033\n",
            "Epoch 31/100\n",
            "319/319 [==============================] - 2s 7ms/step - loss: 0.3042 - accuracy: 0.9163 - val_loss: 0.6938 - val_accuracy: 0.7959 - lr: 0.0033\n",
            "Epoch 32/100\n",
            "318/319 [============================>.] - ETA: 0s - loss: 0.2971 - accuracy: 0.9187\n",
            "Epoch 32: ReduceLROnPlateau reducing learning rate to 0.0011077811212744564.\n",
            "319/319 [==============================] - 2s 7ms/step - loss: 0.2971 - accuracy: 0.9187 - val_loss: 0.7005 - val_accuracy: 0.7933 - lr: 0.0033\n",
            "Epoch 33/100\n",
            "319/319 [==============================] - 2s 7ms/step - loss: 0.2913 - accuracy: 0.9200 - val_loss: 0.6878 - val_accuracy: 0.7977 - lr: 0.0011\n",
            "Epoch 34/100\n",
            "319/319 [==============================] - 2s 7ms/step - loss: 0.2761 - accuracy: 0.9266 - val_loss: 0.6900 - val_accuracy: 0.7959 - lr: 0.0011\n",
            "Epoch 35/100\n",
            "319/319 [==============================] - 2s 7ms/step - loss: 0.2795 - accuracy: 0.9264 - val_loss: 0.6841 - val_accuracy: 0.7986 - lr: 0.0011\n",
            "Epoch 36/100\n",
            "319/319 [==============================] - 2s 7ms/step - loss: 0.2755 - accuracy: 0.9267 - val_loss: 0.6832 - val_accuracy: 0.7942 - lr: 0.0011\n",
            "Epoch 37/100\n",
            "319/319 [==============================] - 2s 7ms/step - loss: 0.2709 - accuracy: 0.9269 - val_loss: 0.6866 - val_accuracy: 0.7968 - lr: 0.0011\n",
            "Epoch 38/100\n",
            "319/319 [==============================] - 2s 7ms/step - loss: 0.2755 - accuracy: 0.9280 - val_loss: 0.6847 - val_accuracy: 0.7986 - lr: 0.0011\n",
            "Epoch 39/100\n",
            "313/319 [============================>.] - ETA: 0s - loss: 0.2723 - accuracy: 0.9269\n",
            "Epoch 39: ReduceLROnPlateau reducing learning rate to 0.000368891098885797.\n",
            "319/319 [==============================] - 2s 7ms/step - loss: 0.2726 - accuracy: 0.9269 - val_loss: 0.6885 - val_accuracy: 0.7977 - lr: 0.0011\n",
            "Epoch 40/100\n",
            "319/319 [==============================] - 2s 7ms/step - loss: 0.2688 - accuracy: 0.9290 - val_loss: 0.6841 - val_accuracy: 0.7968 - lr: 3.6889e-04\n",
            "Epoch 41/100\n",
            "316/319 [============================>.] - ETA: 0s - loss: 0.2742 - accuracy: 0.9276Restoring model weights from the end of the best epoch: 36.\n",
            "319/319 [==============================] - 2s 7ms/step - loss: 0.2739 - accuracy: 0.9278 - val_loss: 0.6845 - val_accuracy: 0.7986 - lr: 3.6889e-04\n",
            "Epoch 41: early stopping\n"
          ]
        }
      ],
      "source": [
        "history_SGD = model_SGD.fit(\n",
        "    X_train, y_train, \n",
        "    validation_data=(X_valid, y_valid),\n",
        "    callbacks= [es, rlp],\n",
        "    epochs=100,\n",
        ")"
      ],
      "id": "jQeP8K4SMi9V"
    },
    {
      "cell_type": "code",
      "execution_count": 30,
      "metadata": {
        "colab": {
          "base_uri": "https://localhost:8080/",
          "height": 0
        },
        "outputId": "e1a1c883-b86f-4b80-92ed-5d5653436f4e",
        "id": "GbAwQ8ySMi9V"
      },
      "outputs": [
        {
          "output_type": "stream",
          "name": "stdout",
          "text": [
            "236/236 [==============================] - 1s 4ms/step - loss: 0.9475 - accuracy: 0.7236\n",
            "Model loss & test accuracy after training with early stopping \n",
            "\tusing stochastic gradient descent (SGD): [0.9475027918815613, 0.7235794067382812]\n",
            "\n"
          ]
        }
      ],
      "source": [
        "# YOUR CODE HERE\n",
        "# Looking at keras metrics on X_test using model.evaluate:\n",
        "\n",
        "results_SGD = model_SGD.evaluate(X_test, y_test, verbose='auto')\n",
        "print(f'Model loss & test accuracy after training with early stopping \\n\\t'\n",
        "      f'using stochastic gradient descent (SGD): {results_SGD}\\n')"
      ],
      "id": "GbAwQ8ySMi9V"
    },
    {
      "cell_type": "code",
      "source": [
        "# let's look at above metrics graphically:\n",
        "plot_graphs(history_SGD,'loss','SGD optimizer')\n",
        "plot_graphs(history_SGD,'accuracy','SGD optimizer')"
      ],
      "metadata": {
        "colab": {
          "base_uri": "https://localhost:8080/",
          "height": 549
        },
        "outputId": "116d042b-c6a7-4507-a57c-b0a55d07b210",
        "id": "T9WzF3IsMi9W"
      },
      "execution_count": 31,
      "outputs": [
        {
          "output_type": "display_data",
          "data": {
            "text/plain": [
              "<Figure size 432x288 with 1 Axes>"
            ],
            "image/png": "[encoded data removed]"
          },
          "metadata": {
            "needs_background": "light"
          }
        },
        {
          "output_type": "display_data",
          "data": {
            "text/plain": [
              "<Figure size 432x288 with 1 Axes>"
            ],
            "image/png": "[encoded data removed]"
          },
          "metadata": {
            "needs_background": "light"
          }
        }
      ],
      "id": "T9WzF3IsMi9W"
    },
    {
      "cell_type": "markdown",
      "source": [
        "# _SGD not an improvement...Maybe RMSprop?_ "
      ],
      "metadata": {
        "id": "Upi-tM9TW9wp"
      },
      "id": "Upi-tM9TW9wp"
    },
    {
      "cell_type": "code",
      "execution_count": 32,
      "metadata": {
        "id": "E5I04B5dcuhQ"
      },
      "outputs": [],
      "source": [
        "# reset all states generated by Keras:\n",
        "tf.keras.backend.clear_session()\n",
        "\n",
        "# redefine model as previously:\n",
        "inputs = keras.Input(shape=(None, ), dtype=\"int64\")\n",
        "\n",
        "x = PositionalEmbedding(sequence_length=MAX_LEN,\n",
        "                        input_dim=VOCAB_SIZE,\n",
        "                        output_dim=EMBED_DIM)(inputs)\n",
        "\n",
        "x = TransformerBlock(embed_dim=EMBED_DIM,\n",
        "                     dense_dim=DENSE_DIM,\n",
        "                     num_heads=NUM_HEADS)(x)\n",
        "                     \n",
        "x = L.GlobalMaxPooling1D()(x)\n",
        "x = L.Dropout(0.5)(x)\n",
        "outputs = L.Dense(20, activation='softmax')(x)\n",
        "\n",
        "# define model instance with optimizer=RMSprop:\n",
        "model_RMS = keras.Model(inputs, outputs)\n",
        "\n",
        "# set optimizer=RMSprop & learning rate:\n",
        "opt_RMS = tf.keras.optimizers.RMSprop(learning_rate=0.001)\n",
        "\n",
        "# compile model:\n",
        "model_RMS.compile(\n",
        "    optimizer=opt_RMS,\n",
        "    loss='categorical_crossentropy',\n",
        "    metrics=['accuracy']\n",
        ")"
      ],
      "id": "E5I04B5dcuhQ"
    },
    {
      "cell_type": "code",
      "source": [
        "model_RMS.summary()"
      ],
      "metadata": {
        "colab": {
          "base_uri": "https://localhost:8080/",
          "height": 0
        },
        "id": "uNMqwsmcyu_P",
        "outputId": "105b3e92-a0be-44fe-c2f2-defe2151951b"
      },
      "id": "uNMqwsmcyu_P",
      "execution_count": 33,
      "outputs": [
        {
          "output_type": "stream",
          "name": "stdout",
          "text": [
            "Model: \"model\"\n",
            "_________________________________________________________________\n",
            " Layer (type)                Output Shape              Param #   \n",
            "=================================================================\n",
            " input_1 (InputLayer)        [(None, None)]            0         \n",
            "                                                                 \n",
            " positional_embedding (Posit  (None, None, 256)        2625536   \n",
            " ionalEmbedding)                                                 \n",
            "                                                                 \n",
            " transformer_block (Transfor  (None, None, 256)        543776    \n",
            " merBlock)                                                       \n",
            "                                                                 \n",
            " global_max_pooling1d (Globa  (None, 256)              0         \n",
            " lMaxPooling1D)                                                  \n",
            "                                                                 \n",
            " dropout (Dropout)           (None, 256)               0         \n",
            "                                                                 \n",
            " dense (Dense)               (None, 20)                5140      \n",
            "                                                                 \n",
            "=================================================================\n",
            "Total params: 3,174,452\n",
            "Trainable params: 3,174,452\n",
            "Non-trainable params: 0\n",
            "_________________________________________________________________\n"
          ]
        }
      ]
    },
    {
      "cell_type": "code",
      "execution_count": 34,
      "metadata": {
        "id": "L1U84R_2cuhR"
      },
      "outputs": [],
      "source": [
        "# early stopping:\n",
        "es = tf.keras.callbacks.EarlyStopping(\n",
        "    monitor='val_loss',\n",
        "    min_delta=0,\n",
        "    patience=5,\n",
        "    verbose=1,\n",
        "    restore_best_weights=True\n",
        ")\n",
        "# reduce learning rate when metric stops improving:\n",
        "rlp = tf.keras.callbacks.ReduceLROnPlateau(\n",
        "    monitor='val_loss',\n",
        "    factor=0.333,\n",
        "    patience=3,\n",
        "    verbose=1,\n",
        "    min_delta=0.0001,\n",
        "    min_lr=0.0000001\n",
        ")"
      ],
      "id": "L1U84R_2cuhR"
    },
    {
      "cell_type": "code",
      "execution_count": 35,
      "metadata": {
        "colab": {
          "base_uri": "https://localhost:8080/",
          "height": 0
        },
        "outputId": "87ca08dd-e5aa-4bb1-85f6-d667eb84d5f2",
        "id": "lzpd7yRCcuhR"
      },
      "outputs": [
        {
          "output_type": "stream",
          "name": "stdout",
          "text": [
            "Epoch 1/100\n",
            "319/319 [==============================] - 5s 9ms/step - loss: 2.9469 - accuracy: 0.2137 - val_loss: 1.9058 - val_accuracy: 0.4611 - lr: 0.0010\n",
            "Epoch 2/100\n",
            "319/319 [==============================] - 3s 8ms/step - loss: 1.1658 - accuracy: 0.6533 - val_loss: 0.8211 - val_accuracy: 0.7456 - lr: 0.0010\n",
            "Epoch 3/100\n",
            "319/319 [==============================] - 3s 8ms/step - loss: 0.5266 - accuracy: 0.8387 - val_loss: 0.6996 - val_accuracy: 0.7924 - lr: 0.0010\n",
            "Epoch 4/100\n",
            "319/319 [==============================] - 3s 8ms/step - loss: 0.2622 - accuracy: 0.9196 - val_loss: 0.5625 - val_accuracy: 0.8560 - lr: 0.0010\n",
            "Epoch 5/100\n",
            "319/319 [==============================] - 3s 8ms/step - loss: 0.1399 - accuracy: 0.9592 - val_loss: 0.6980 - val_accuracy: 0.8454 - lr: 0.0010\n",
            "Epoch 6/100\n",
            "319/319 [==============================] - 3s 8ms/step - loss: 0.0796 - accuracy: 0.9764 - val_loss: 0.7708 - val_accuracy: 0.8357 - lr: 0.0010\n",
            "Epoch 7/100\n",
            "314/319 [============================>.] - ETA: 0s - loss: 0.0494 - accuracy: 0.9857\n",
            "Epoch 7: ReduceLROnPlateau reducing learning rate to 0.0003330000158166513.\n",
            "319/319 [==============================] - 3s 8ms/step - loss: 0.0489 - accuracy: 0.9859 - val_loss: 0.8941 - val_accuracy: 0.8472 - lr: 0.0010\n",
            "Epoch 8/100\n",
            "319/319 [==============================] - 3s 8ms/step - loss: 0.0111 - accuracy: 0.9964 - val_loss: 0.8612 - val_accuracy: 0.8595 - lr: 3.3300e-04\n",
            "Epoch 9/100\n",
            "319/319 [==============================] - ETA: 0s - loss: 0.0062 - accuracy: 0.9980Restoring model weights from the end of the best epoch: 4.\n",
            "319/319 [==============================] - 3s 8ms/step - loss: 0.0062 - accuracy: 0.9980 - val_loss: 0.9379 - val_accuracy: 0.8578 - lr: 3.3300e-04\n",
            "Epoch 9: early stopping\n"
          ]
        }
      ],
      "source": [
        "history_RMS = model_RMS.fit(\n",
        "    X_train, y_train, \n",
        "    validation_data=(X_valid, y_valid),\n",
        "    callbacks= [es, rlp],\n",
        "    epochs=100,\n",
        ")"
      ],
      "id": "lzpd7yRCcuhR"
    },
    {
      "cell_type": "code",
      "execution_count": 36,
      "metadata": {
        "colab": {
          "base_uri": "https://localhost:8080/",
          "height": 0
        },
        "outputId": "b4ceab82-9bfd-4b64-8f09-bcbf7e121a1f",
        "id": "mLIZIz0BcuhR"
      },
      "outputs": [
        {
          "output_type": "stream",
          "name": "stdout",
          "text": [
            "236/236 [==============================] - 1s 4ms/step - loss: 0.9631 - accuracy: 0.7655\n",
            "Model loss & test accuracy after training with early stopping \n",
            "\tusing RMSprop: [0.9631272554397583, 0.7655337452888489]\n",
            "\n"
          ]
        }
      ],
      "source": [
        "# YOUR CODE HERE\n",
        "# Looking at keras metrics on X_test using model.evaluate:\n",
        "\n",
        "results_RMS = model_RMS.evaluate(X_test, y_test, verbose='auto')\n",
        "print(f'Model loss & test accuracy after training with early stopping \\n\\t'\n",
        "      f'using RMSprop: {results_RMS}\\n')"
      ],
      "id": "mLIZIz0BcuhR"
    },
    {
      "cell_type": "code",
      "source": [
        "# let's look at above metrics graphically:\n",
        "plot_graphs(history_RMS,'loss','RMSprop optimizer')\n",
        "plot_graphs(history_RMS,'accuracy','RMSprop optimizer')"
      ],
      "metadata": {
        "colab": {
          "base_uri": "https://localhost:8080/",
          "height": 549
        },
        "outputId": "dbcc8231-1166-40a1-97a1-a9ee6f2c4032",
        "id": "Vylme-FWcuhR"
      },
      "execution_count": 37,
      "outputs": [
        {
          "output_type": "display_data",
          "data": {
            "text/plain": [
              "<Figure size 432x288 with 1 Axes>"
            ],
            "image/png": "[encoded data removed]"
          },
          "metadata": {
            "needs_background": "light"
          }
        },
        {
          "output_type": "display_data",
          "data": {
            "text/plain": [
              "<Figure size 432x288 with 1 Axes>"
            ],
            "image/png": "[encoded data removed]"
          },
          "metadata": {
            "needs_background": "light"
          }
        }
      ],
      "id": "Vylme-FWcuhR"
    },
    {
      "cell_type": "markdown",
      "id": "e_aWlv8RYI-4",
      "metadata": {
        "id": "e_aWlv8RYI-4"
      },
      "source": [
        "# Task 3. Fine-tune pre-trained model via 🤗"
      ]
    },
    {
      "cell_type": "markdown",
      "id": "5490667e",
      "metadata": {
        "id": "5490667e"
      },
      "source": [
        "Substantial gains can be achieved by pre-training on a large corpus of text followed by fine-tuning a specific task. In this task, we will take advantage of [DistilBERT, a distilled version of BERT: smaller, faster, cheaper and lighter](https://arxiv.org/pdf/1910.01108.pdf), [`distillbert-uncased`](https://huggingface.co/distilbert-base-uncased) specifically, and fine-tune it on the 20 Newsgroups dataset."
      ]
    },
    {
      "cell_type": "markdown",
      "id": "b24afd2f",
      "metadata": {
        "id": "b24afd2f"
      },
      "source": [
        "1. Install [`Transformers`](https://huggingface.co/docs/transformers) and [`datasets`](https://huggingface.co/docs/datasets/index)."
      ]
    },
    {
      "cell_type": "code",
      "execution_count": 38,
      "id": "st1OGgI4HmqS",
      "metadata": {
        "id": "st1OGgI4HmqS",
        "colab": {
          "base_uri": "https://localhost:8080/",
          "height": 0
        },
        "outputId": "33e9cf79-a640-45ff-cab0-484babf04efc"
      },
      "outputs": [
        {
          "output_type": "stream",
          "name": "stdout",
          "text": [
            "\u001b[K     |████████████████████████████████| 5.5 MB 4.7 MB/s \n",
            "\u001b[K     |████████████████████████████████| 441 kB 72.9 MB/s \n",
            "\u001b[K     |████████████████████████████████| 7.6 MB 75.1 MB/s \n",
            "\u001b[K     |████████████████████████████████| 163 kB 88.6 MB/s \n",
            "\u001b[K     |████████████████████████████████| 95 kB 6.0 MB/s \n",
            "\u001b[K     |████████████████████████████████| 212 kB 85.9 MB/s \n",
            "\u001b[K     |████████████████████████████████| 115 kB 82.9 MB/s \n",
            "\u001b[K     |████████████████████████████████| 127 kB 88.4 MB/s \n",
            "\u001b[K     |████████████████████████████████| 115 kB 83.3 MB/s \n",
            "\u001b[?25h"
          ]
        }
      ],
      "source": [
        "! pip install -U -q transformers datasets"
      ]
    },
    {
      "cell_type": "markdown",
      "id": "vC5O5FiWYPHe",
      "metadata": {
        "id": "vC5O5FiWYPHe"
      },
      "source": [
        "1. Import the library and check its version.\n"
      ]
    },
    {
      "cell_type": "code",
      "execution_count": 39,
      "id": "maGzeTY8Ht85",
      "metadata": {
        "colab": {
          "base_uri": "https://localhost:8080/",
          "height": 0
        },
        "id": "maGzeTY8Ht85",
        "outputId": "954a7dda-cc1a-48ac-ea5c-501f7f626e85"
      },
      "outputs": [
        {
          "output_type": "stream",
          "name": "stdout",
          "text": [
            "4.24.0\n"
          ]
        }
      ],
      "source": [
        "import transformers\n",
        "print(transformers.__version__)"
      ]
    },
    {
      "cell_type": "markdown",
      "id": "0dc75685",
      "metadata": {
        "id": "0dc75685"
      },
      "source": [
        "1. Create `Dataset` objects for train / validation / test sets that are better compatible with the `Transformers` API.\n",
        "\n",
        "    You can first create a `pd.DataFrame` with two fields: `text` and `label` with `data` and `target` from `train`. Then, call the `Dataset.from_pandas()` method to create a `Dataset` object and save it to `train_ds`. \n",
        "\n",
        "    Do the same for test set. "
      ]
    },
    {
      "cell_type": "code",
      "execution_count": 40,
      "id": "RnLjbcxvHl7u",
      "metadata": {
        "id": "RnLjbcxvHl7u"
      },
      "outputs": [],
      "source": [
        "from datasets import Dataset\n",
        "train_ds = Dataset.from_pandas(pd.DataFrame(\n",
        "                               data={'text':train.data, 'label':train.target}))\n",
        "test_ds  = Dataset.from_pandas(pd.DataFrame(\n",
        "                               data={'text':test.data,  'label':test.target }))"
      ]
    },
    {
      "cell_type": "markdown",
      "id": "6699275d",
      "metadata": {
        "id": "6699275d"
      },
      "source": [
        "1. Cast column `label` as `datasets.features.ClassLabel` object using [`class_encode_column`](https://huggingface.co/docs/datasets/package_reference/main_classes#datasets.Dataset.class_encode_column) for both `train_ds` and `test_ds`."
      ]
    },
    {
      "cell_type": "code",
      "source": [
        "# check features before casting:\n",
        "print(train_ds.features, '\\n', test_ds.features)"
      ],
      "metadata": {
        "colab": {
          "base_uri": "https://localhost:8080/",
          "height": 0
        },
        "id": "dpk3bZlLZXjl",
        "outputId": "2d4171ad-3046-41cd-bb99-704be3225125"
      },
      "id": "dpk3bZlLZXjl",
      "execution_count": 41,
      "outputs": [
        {
          "output_type": "stream",
          "name": "stdout",
          "text": [
            "{'text': Value(dtype='string', id=None), 'label': Value(dtype='int64', id=None)} \n",
            " {'text': Value(dtype='string', id=None), 'label': Value(dtype='int64', id=None)}\n"
          ]
        }
      ]
    },
    {
      "cell_type": "code",
      "source": [
        "! pip show dill\n",
        "! pip show datasets"
      ],
      "metadata": {
        "colab": {
          "base_uri": "https://localhost:8080/",
          "height": 0
        },
        "id": "BMplvPRCfLgi",
        "outputId": "54876a95-6c30-422f-e75b-816fc962dbf0"
      },
      "id": "BMplvPRCfLgi",
      "execution_count": 42,
      "outputs": [
        {
          "output_type": "stream",
          "name": "stdout",
          "text": [
            "Name: dill\n",
            "Version: 0.3.5.1\n",
            "Summary: serialize all of python\n",
            "Home-page: https://github.com/uqfoundation/dill\n",
            "Author: Mike McKerns\n",
            "Author-email: mmckerns@uqfoundation.org\n",
            "License: 3-clause BSD\n",
            "Location: /usr/local/lib/python3.7/dist-packages\n",
            "Requires: \n",
            "Required-by: tensorflow-datasets, multiprocess, datasets\n",
            "Name: datasets\n",
            "Version: 2.6.1\n",
            "Summary: HuggingFace community-driven open-source library of datasets\n",
            "Home-page: https://github.com/huggingface/datasets\n",
            "Author: HuggingFace Inc.\n",
            "Author-email: thomas@huggingface.co\n",
            "License: Apache 2.0\n",
            "Location: /usr/local/lib/python3.7/dist-packages\n",
            "Requires: aiohttp, requests, fsspec, multiprocess, pyarrow, pandas, pyyaml, packaging, importlib-metadata, tqdm, numpy, huggingface-hub, dill, xxhash, responses\n",
            "Required-by: \n"
          ]
        }
      ]
    },
    {
      "cell_type": "code",
      "execution_count": 43,
      "id": "wwmqiDg8H9W7",
      "metadata": {
        "id": "wwmqiDg8H9W7",
        "colab": {
          "base_uri": "https://localhost:8080/",
          "height": 246,
          "referenced_widgets": [
            "cb2afb3362944a14adf9c2c86d9f395c",
            "7bd5846bad604e1383174ad308004801",
            "b89dd4df2c0445a49ae555451f38972c",
            "119eda58b3ac40e39699407eaa6af091",
            "8d007bfed6a242d894a85a09becc3106",
            "1122c552270946258926b8553ddca842",
            "d61c8e54cecd4540a2f439fd8d3292cd",
            "c71f0e7c99644f2dbe61353912383d95",
            "7dc2ae4d1bdd4e4cb9316a8e35d4d903",
            "1d885205e8904d368c82703e87661ef7",
            "6ddb85dd958148f4aa44df95781cb271",
            "2c9573371f3046e294751260766528f7",
            "a1190cc31ed14cf9875d0d978bf14535",
            "cf04de8d66fd4ed694a5ced74e008da4",
            "99c7750342f64913ad7db0fa822b559e",
            "17adf1142fce499bad0a8ef9f8b68468",
            "49d494b7aa794c01b1ce6a06c12880cd",
            "f01afb65cfbf4d0dad5d372fc8a4a3aa",
            "dda26e8551b142ed970f3338b04de1d4",
            "9f6467a5bad94eacab5f4f3dfd5ae209",
            "497e9223433f4a3d9c2a80b8be141dbd",
            "112700da86814f4cabab70c2714200c7",
            "ead6cd668a104860aec836b468383c5a",
            "a9aefadc8d564b34b83d5bb3a11eeae0",
            "f01255289962487c87de5bc311158f5c",
            "ddd149cd8d8043328fd651a3260d0ce6",
            "842d2d2c138f403cb4accd2e8c3fd34c",
            "a927d0a99eaa4a7e92530a31d5e72565",
            "7c8cff97b1684ce595e0064f50da1737",
            "ab18d6268a4e49aa81d0a5c2475c195c",
            "a3b62d50ba794f5998caace6296d5ec3",
            "20c0300b87d746758375734e05f1f4d0",
            "fa67177bd93e4073bd7418569148fec0",
            "f3e445073d7b47caa37c9790f939c156",
            "3a6395715a5142d68211e1e6a812b453",
            "c529f5d32f01419f85f17b3f031322d7",
            "5796e4c0b02b44eabfeae998a5a62d09",
            "c33c8018563447b297a0f07a715383f0",
            "e4d5213515be46c1a1ac433770733fcf",
            "d3ea83bc67654a518b8be9c7b7992f67",
            "6ccb7d867fda439b865093347172ea28",
            "fcb98c56c9bf44dbaec12d36e8c833bc",
            "c60c9f840e7941f69d9fd205dd5dcf46",
            "46b1b01a08d74e6994179428e5aea631",
            "0e9e20d7d5214547858195ee671b4293",
            "d14b31aeb7bd4ca4a1025b022151c01e",
            "62515ed365144a859a980b2df32ec035",
            "7c52ae231e1b4d27b1a812acc529d94b",
            "50161a15228f45999482cb19e7ff814c",
            "bb534f09338d49b9946065222db39446",
            "4659b918d3974028822a209e00d70549",
            "f983442afec84c88b95c940061a4c95a",
            "411a6a32341941c283fc5700cc6a8599",
            "9e31ccdfc626440192ff8421362a6d46",
            "caf45fd04cdc49ebab61e1eebd43aab2",
            "fe28fc6c4aa44e0f94af0bde4ecbb50a",
            "d700d1ed6bd04ff68f83979dc9a777d5",
            "cd2f4dfcb75e4d579e413f443f828326",
            "336bc310c6984b03a540c1234dbdb1c1",
            "0c92acf6f7aa4f38b42faee191b01544",
            "08c5dda78b3b42f9967f2c7a7aa6893b",
            "f00678aa340b431ba89c07839fe8b26c",
            "64d8129199be46dba81a29298bfd6305",
            "a09d6cfbc1494e45873dcef51ddc3478",
            "e4f3acaf0f69409c804072342d9f6f10",
            "f1993046be5d4394af622fbdebf93e15"
          ]
        },
        "outputId": "129bf31e-4e4e-4242-fa56-624808e76243"
      },
      "outputs": [
        {
          "output_type": "stream",
          "name": "stderr",
          "text": [
            "WARNING:datasets.fingerprint:Parameter 'function'=<function Dataset.class_encode_column.<locals>.stringify_column at 0x7fd2849ab8c0> of the transform datasets.arrow_dataset.Dataset._map_single couldn't be hashed properly, a random hash was used instead. Make sure your transforms and parameters are serializable with pickle or dill for the dataset fingerprinting and caching to work. If you reuse this transform, the caching mechanism will consider it to be different from the previous calls and recompute everything. This warning is only showed once. Subsequent hashing failures won't be showed.\n"
          ]
        },
        {
          "output_type": "display_data",
          "data": {
            "text/plain": [
              "Stringifying the column:   0%|          | 0/12 [00:00<?, ?ba/s]"
            ],
            "application/vnd.jupyter.widget-view+json": {
              "version_major": 2,
              "version_minor": 0,
              "model_id": "cb2afb3362944a14adf9c2c86d9f395c"
            }
          },
          "metadata": {}
        },
        {
          "output_type": "display_data",
          "data": {
            "text/plain": [
              "Casting to class labels:   0%|          | 0/12 [00:00<?, ?ba/s]"
            ],
            "application/vnd.jupyter.widget-view+json": {
              "version_major": 2,
              "version_minor": 0,
              "model_id": "2c9573371f3046e294751260766528f7"
            }
          },
          "metadata": {}
        },
        {
          "output_type": "display_data",
          "data": {
            "text/plain": [
              "Casting the dataset:   0%|          | 0/2 [00:00<?, ?ba/s]"
            ],
            "application/vnd.jupyter.widget-view+json": {
              "version_major": 2,
              "version_minor": 0,
              "model_id": "ead6cd668a104860aec836b468383c5a"
            }
          },
          "metadata": {}
        },
        {
          "output_type": "display_data",
          "data": {
            "text/plain": [
              "Stringifying the column:   0%|          | 0/8 [00:00<?, ?ba/s]"
            ],
            "application/vnd.jupyter.widget-view+json": {
              "version_major": 2,
              "version_minor": 0,
              "model_id": "f3e445073d7b47caa37c9790f939c156"
            }
          },
          "metadata": {}
        },
        {
          "output_type": "display_data",
          "data": {
            "text/plain": [
              "Casting to class labels:   0%|          | 0/8 [00:00<?, ?ba/s]"
            ],
            "application/vnd.jupyter.widget-view+json": {
              "version_major": 2,
              "version_minor": 0,
              "model_id": "0e9e20d7d5214547858195ee671b4293"
            }
          },
          "metadata": {}
        },
        {
          "output_type": "display_data",
          "data": {
            "text/plain": [
              "Casting the dataset:   0%|          | 0/1 [00:00<?, ?ba/s]"
            ],
            "application/vnd.jupyter.widget-view+json": {
              "version_major": 2,
              "version_minor": 0,
              "model_id": "fe28fc6c4aa44e0f94af0bde4ecbb50a"
            }
          },
          "metadata": {}
        }
      ],
      "source": [
        "train_ds = train_ds.class_encode_column('label')\n",
        "test_ds  =  test_ds.class_encode_column('label')"
      ]
    },
    {
      "cell_type": "code",
      "source": [
        "# check features after casting:\n",
        "print(train_ds.features, '\\n', test_ds.features)"
      ],
      "metadata": {
        "colab": {
          "base_uri": "https://localhost:8080/",
          "height": 0
        },
        "id": "YYMJZPVuiyD2",
        "outputId": "7ba27b81-a498-4d00-aede-f02f4d60686b"
      },
      "id": "YYMJZPVuiyD2",
      "execution_count": 44,
      "outputs": [
        {
          "output_type": "stream",
          "name": "stdout",
          "text": [
            "{'text': Value(dtype='string', id=None), 'label': ClassLabel(names=['0', '1', '10', '11', '12', '13', '14', '15', '16', '17', '18', '19', '2', '3', '4', '5', '6', '7', '8', '9'], id=None)} \n",
            " {'text': Value(dtype='string', id=None), 'label': ClassLabel(names=['0', '1', '10', '11', '12', '13', '14', '15', '16', '17', '18', '19', '2', '3', '4', '5', '6', '7', '8', '9'], id=None)}\n"
          ]
        }
      ]
    },
    {
      "cell_type": "markdown",
      "id": "1fa82ebb",
      "metadata": {
        "id": "1fa82ebb"
      },
      "source": [
        "1. Create the validation set by apply [`train_ds.train_test_split()`](https://huggingface.co/docs/datasets/package_reference/main_classes#datasets.Dataset.train_test_split). Similarly, set the test size to 0.1, and set the random state to 19. Make sure the split is stratified by column `label`. Save the result to `train_dsd` as the result is a DatasetDict object.\n",
        "\n",
        "    Here's another way to do train / validation / test split: [ref](https://discuss.huggingface.co/t/how-to-split-main-dataset-into-train-dev-test-as-datasetdict/1090/2)"
      ]
    },
    {
      "cell_type": "code",
      "execution_count": 45,
      "id": "VvDkzSZsIEHx",
      "metadata": {
        "id": "VvDkzSZsIEHx"
      },
      "outputs": [],
      "source": [
        "train_dsd = train_ds.train_test_split(test_size=0.1, stratify_by_column='label',\n",
        "                                      seed=19)"
      ]
    },
    {
      "cell_type": "code",
      "execution_count": 46,
      "id": "o3XIsj3Z94wi",
      "metadata": {
        "colab": {
          "base_uri": "https://localhost:8080/",
          "height": 0
        },
        "id": "o3XIsj3Z94wi",
        "outputId": "7b7490e6-6322-4b17-93a7-3e492681daf5"
      },
      "outputs": [
        {
          "output_type": "execute_result",
          "data": {
            "text/plain": [
              "DatasetDict({\n",
              "    train: Dataset({\n",
              "        features: ['text', 'label'],\n",
              "        num_rows: 10182\n",
              "    })\n",
              "    test: Dataset({\n",
              "        features: ['text', 'label'],\n",
              "        num_rows: 1132\n",
              "    })\n",
              "})"
            ]
          },
          "metadata": {},
          "execution_count": 46
        }
      ],
      "source": [
        "train_dsd"
      ]
    },
    {
      "cell_type": "markdown",
      "id": "bf61e97c",
      "metadata": {
        "id": "bf61e97c"
      },
      "source": [
        "1. Yet the 'test' set inside `train_dsd` is meant for validation, the following code will rename the test set to validation and add a new DataSet object for the test set."
      ]
    },
    {
      "cell_type": "code",
      "execution_count": 47,
      "id": "Zwq78iZiIUxE",
      "metadata": {
        "id": "Zwq78iZiIUxE"
      },
      "outputs": [],
      "source": [
        "train_dsd['validation'] = train_dsd['test']\n",
        "train_dsd['test'] = test_ds"
      ]
    },
    {
      "cell_type": "code",
      "execution_count": 48,
      "id": "AkW4gXlqIhdq",
      "metadata": {
        "colab": {
          "base_uri": "https://localhost:8080/",
          "height": 0
        },
        "id": "AkW4gXlqIhdq",
        "outputId": "7c20ce4a-adbd-4ddd-a8cb-5593239b269b"
      },
      "outputs": [
        {
          "output_type": "execute_result",
          "data": {
            "text/plain": [
              "DatasetDict({\n",
              "    train: Dataset({\n",
              "        features: ['text', 'label'],\n",
              "        num_rows: 10182\n",
              "    })\n",
              "    test: Dataset({\n",
              "        features: ['text', 'label'],\n",
              "        num_rows: 7532\n",
              "    })\n",
              "    validation: Dataset({\n",
              "        features: ['text', 'label'],\n",
              "        num_rows: 1132\n",
              "    })\n",
              "})"
            ]
          },
          "metadata": {},
          "execution_count": 48
        }
      ],
      "source": [
        "train_dsd"
      ]
    },
    {
      "cell_type": "markdown",
      "id": "8ab80c71",
      "metadata": {
        "id": "8ab80c71"
      },
      "source": [
        "1. Load the DistilBERT tokenizer to process the text. \n",
        "    \n",
        "    Use [`AutoTokenizer`](https://huggingface.co/docs/transformers/v4.20.1/en/model_doc/auto#transformers.AutoTokenizer) to load the tokenizer for the given `model_checkpoint`. "
      ]
    },
    {
      "cell_type": "code",
      "execution_count": 49,
      "id": "Xhq4BycpLjwj",
      "metadata": {
        "id": "Xhq4BycpLjwj",
        "colab": {
          "base_uri": "https://localhost:8080/",
          "height": 145,
          "referenced_widgets": [
            "47217050b12640f992f6838f7819a6c1",
            "0b3bc74b30fd4afb986584fee909b9db",
            "f408c0dea4d348fea0056c6aaad1c05f",
            "ae91b0a7e3744d07a1cf755aed56abba",
            "5ad6b9d9dbfb409598242744e0943bce",
            "2470ac0d3d6742ecb2f262f333512dcd",
            "e0d87ba3e39f4d1e9634a5f716750bad",
            "605a87911a8d4dde80c1acd5404c5b29",
            "16bef34f31f94e23a583f82c9876924e",
            "0963d66ac43348fc8d568dadd16a041e",
            "669d2c6fc1204fe293db86484368526e",
            "cfa3abdceaaf4b08bd5dc8c3b5a4ec9b",
            "4c448ebcd82e4bf49b212a9c8e888a59",
            "b3e9717ac7bb4d2a94a8e12d91f3dae2",
            "588525525c75405594fda44cac163a86",
            "2ce36dea836449febf6959a404534c4b",
            "e9fadb7ba70f4c81b40c75e5025b68de",
            "a53ba1a1fe334d139006946f38e0a25c",
            "93f64c28fd014c3386dadd8b4ea100f1",
            "c2ef5584dd13465f80115c78f01156a4",
            "b93b81813de445d88307a0677a3737fa",
            "8ef8609634654fe388123f37189819cb",
            "952e207c0aae4a9abf7c202cd2b9aa11",
            "4ba723e335474a7eb7252cfc3e87674c",
            "aea75584e17048038038b460986063e0",
            "22d8f47120b64cc88b315d767dde6632",
            "07cddee1d0d7450aa9d910c97ab8160e",
            "ae5b163b794c4a6f970030450fb99b74",
            "6e9dbce5934b434dbc4a1346525547cb",
            "abc84e6c45d445d2a61aac664ba7af5e",
            "2db362d88b5b453e927299f25d1627ca",
            "886e100fe56d42b190e06ba26ae3aa4d",
            "b3b82f10261b4fa1a811ab8352f0877d",
            "5b4d9adf40094b4b8b637a4ed6818cec",
            "d0e7f0a75c474730912aa4773a0566c4",
            "61e5184c00bd45ba80a1cba2e862591f",
            "e8d5820931f349ba8e1abd133986c7ad",
            "1a0baa5c4a9a4c2bb8482ba928930053",
            "169dfe58a45b465094c13fa4a1a83337",
            "2dce5a12c09e4853bdc031edad48e8ad",
            "30131c922ceb4be3b72fc9213dbd3fa3",
            "05baf044eb7243b7880985cb5a8581a3",
            "d7c3fd3e304c42028ebdb05478feb447",
            "56fedf614dfd4c42882c64d9c36d330a"
          ]
        },
        "outputId": "1415fb11-16f1-4b8e-caac-37d37a695a62"
      },
      "outputs": [
        {
          "output_type": "display_data",
          "data": {
            "text/plain": [
              "Downloading:   0%|          | 0.00/28.0 [00:00<?, ?B/s]"
            ],
            "application/vnd.jupyter.widget-view+json": {
              "version_major": 2,
              "version_minor": 0,
              "model_id": "47217050b12640f992f6838f7819a6c1"
            }
          },
          "metadata": {}
        },
        {
          "output_type": "display_data",
          "data": {
            "text/plain": [
              "Downloading:   0%|          | 0.00/483 [00:00<?, ?B/s]"
            ],
            "application/vnd.jupyter.widget-view+json": {
              "version_major": 2,
              "version_minor": 0,
              "model_id": "cfa3abdceaaf4b08bd5dc8c3b5a4ec9b"
            }
          },
          "metadata": {}
        },
        {
          "output_type": "display_data",
          "data": {
            "text/plain": [
              "Downloading:   0%|          | 0.00/232k [00:00<?, ?B/s]"
            ],
            "application/vnd.jupyter.widget-view+json": {
              "version_major": 2,
              "version_minor": 0,
              "model_id": "952e207c0aae4a9abf7c202cd2b9aa11"
            }
          },
          "metadata": {}
        },
        {
          "output_type": "display_data",
          "data": {
            "text/plain": [
              "Downloading:   0%|          | 0.00/466k [00:00<?, ?B/s]"
            ],
            "application/vnd.jupyter.widget-view+json": {
              "version_major": 2,
              "version_minor": 0,
              "model_id": "5b4d9adf40094b4b8b637a4ed6818cec"
            }
          },
          "metadata": {}
        }
      ],
      "source": [
        "from transformers import AutoTokenizer\n",
        "# load model checkpt = pretrained model initialized with checkpoint weights (can\n",
        "# be used for inference on tasks it was trained on or fine-tuned on new tasks):\n",
        "model_checkpoint = \"distilbert-base-uncased\"    \n",
        "\n",
        "tokenizer = AutoTokenizer.from_pretrained(\"distilbert-base-uncased\")"
      ]
    },
    {
      "cell_type": "markdown",
      "id": "d0a26945",
      "metadata": {
        "id": "d0a26945"
      },
      "source": [
        "1. Create a preprocessing function to tokenize text, truncate and pad sequences to be no longer than DistilBERT’s maximum input length:"
      ]
    },
    {
      "cell_type": "code",
      "execution_count": 50,
      "id": "6hnc5JOejihx",
      "metadata": {
        "id": "6hnc5JOejihx"
      },
      "outputs": [],
      "source": [
        "def preprocess_function(examples):\n",
        "    return tokenizer(examples['text'], truncation=True, padding=True, max_length=MAX_LEN)"
      ]
    },
    {
      "cell_type": "markdown",
      "id": "f8cc46b6",
      "metadata": {
        "id": "f8cc46b6"
      },
      "source": [
        "1. Use 🤗 Datasets [map](https://huggingface.co/docs/datasets/package_reference/main_classes#datasets.Dataset.map) function to apply the preprocessing function over the entire dataset. You can speed up the map function by setting `batched=True` to process multiple elements of the dataset at once:"
      ]
    },
    {
      "cell_type": "code",
      "execution_count": 51,
      "id": "6KWmC63UImNZ",
      "metadata": {
        "id": "6KWmC63UImNZ",
        "colab": {
          "base_uri": "https://localhost:8080/",
          "height": 255,
          "referenced_widgets": [
            "a149086356d14e79ae6218da195cedac",
            "1137fdf3a80c414e90c17912a24cfc90",
            "18f18e6b8e6e45b28aa07c3be478cb0d",
            "49a0d55098e142428a5ec511e112e70f",
            "66e391d14395444296f55adf5e2bc3e2",
            "2f5e1821595c420b8c1ff86c34e7c7f7",
            "646c13f6afe548c6a22dc5248b08b6b3",
            "52eda6f524a1497ca0a09e045ab882cd",
            "1f5e7c2289874cb585f7c9182bad0802",
            "213fda21d7de498cb277b9db08609c0f",
            "1b631463975c4752ba2e145ea65d5424",
            "93016c6521e6488c8ed8ffae01039c7d",
            "55f813ac5f06498180734e656696d934",
            "8becd556fa7c4438a9ee48cc1c312b66",
            "48d114ad92624981a60c80a8befb9693",
            "ca2d131a0dec4134ac436df29d6f517e",
            "9a4a54b3c9bf4b82b08a5c14e9109ab5",
            "4f2a6340f0f049fbb569e46f664c230e",
            "ccca33fd5abd418e930fa6f01ae42d5f",
            "36b87bad714b42d0b178f2590b67d20d",
            "da5ba1b4034c4de7a7a4ed6c7e61adad",
            "737d4385e22d4c9189f61a1442f2e694",
            "baf85800c7d34399a00d6fb68ccf1d99",
            "dcea378199754d76a793190f689f4b50",
            "997a018bfcd6411e94436d918ff680dd",
            "4159f50fec844060855d818b33127bb7",
            "ed83c7cf3fde4f4bb335ca754e03808f",
            "5e68ca7cbefd426b9b4335bcb90f2342",
            "339623c9304444eb8e160fd2bd198c3e",
            "77f63c2fb00c45e9834a79a69420bd92",
            "54afa5014c0b45fcb45d5738efea8c70",
            "e32561e2d51e49308c08fc195c02e220",
            "8bd248b919e24c6eaac35e1548e2dfc9"
          ]
        },
        "outputId": "2c030098-17cd-4e09-95b4-caaadfc72e1b"
      },
      "outputs": [
        {
          "output_type": "display_data",
          "data": {
            "text/plain": [
              "  0%|          | 0/11 [00:00<?, ?ba/s]"
            ],
            "application/vnd.jupyter.widget-view+json": {
              "version_major": 2,
              "version_minor": 0,
              "model_id": "a149086356d14e79ae6218da195cedac"
            }
          },
          "metadata": {}
        },
        {
          "output_type": "display_data",
          "data": {
            "text/plain": [
              "  0%|          | 0/8 [00:00<?, ?ba/s]"
            ],
            "application/vnd.jupyter.widget-view+json": {
              "version_major": 2,
              "version_minor": 0,
              "model_id": "93016c6521e6488c8ed8ffae01039c7d"
            }
          },
          "metadata": {}
        },
        {
          "output_type": "display_data",
          "data": {
            "text/plain": [
              "  0%|          | 0/2 [00:00<?, ?ba/s]"
            ],
            "application/vnd.jupyter.widget-view+json": {
              "version_major": 2,
              "version_minor": 0,
              "model_id": "baf85800c7d34399a00d6fb68ccf1d99"
            }
          },
          "metadata": {}
        },
        {
          "output_type": "stream",
          "name": "stdout",
          "text": [
            "[[101, 2013, 1024, 26358, 1030, 16950, 2863, 1012, 1057, 14194, 2361, 1006, 14262, 7662, 12098, 12863, 1007, 3395, 1024, 2049, 2972, 5152, 2313, 2018, 2042, 23044, 2011, 1996, 20337, 1012, 7514, 1011, 2000, 1024, 26358, 1030, 16950, 2863, 1012, 1057, 14194, 2361, 1006, 14262, 7662, 12098, 12863, 1007, 4353, 1024, 2088, 3210, 1024, 2861, 3120, 1024, 1000, 2273, 2024, 2066, 2008, 1000, 2011, 7723, 13456, 4181, 7530, 8591, 1012, 1996, 3960, 5910, 1011, 16239, 2194, 1010, 9506, 1006, 4881, 1007, 1012, 1006, 20405, 5530, 1007, 1012, 1006, 13251, 1997, 2019, 7508, 2961, 2040, 4194, 1999, 1996, 14052, 1997, 1016, 1012, 1019, 2454, 5152, 2111, 1007, 1052, 1012, 2539, 1006, 2034, 20423, 1007, 1000, 1996, 16985, 7559, 2930, 1997, 1996, 2237, 2053, 2936, 5839, 1010, 3272, 2004, 1037, 8632, 1997, 8435, 1012, 2009, 2018, 2042, 3908, 1998, 2049, 4864, 23044, 1012, 1996, 2168, 6580, 2022, 23510, 1996, 16985, 7559, 2930, 1997, 4967, 9126, 4305, 1012, 1000, 1052, 1012, 2570, 1006, 2117, 20423, 1007, 1000, 2116, 1997, 2256, 2273, 2018, 2366, 1999, 1996, 2845, 2390, 1010, 1998, 2020, 4738, 3548, 1012, 2057, 20337, 2020, 4138, 1998, 8679, 2608, 1012, 16985, 7559, 2015, 2018, 2196, 2363, 2510, 2731, 1012, 2027, 2020, 3532, 1010, 1998, 8679, 2261, 2608, 3458, 13227, 1012, 3859, 2044, 1996, 4288, 1997, 1996, 16985, 7559, 2015, 1999, 2256, 2352, 1010, 1996, 4329, 1999, 3607, 2001, 13712, 1012, 1000, 14262, 7662, 12098, 12863, 1005, 2057, 2701, 1996, 4925, 1998, 3137, 5235, 2008, 2453, 3710, 2004, 3971, 1997, 4019, 2005, 1996, 12896, 1998, 2059, 8979, 1999, 1996, 102], [101, 2013, 1024, 2655, 10929, 1030, 1057, 6559, 17848, 1012, 14925, 2078, 1012, 1057, 6559, 12131, 1012, 3968, 2226, 1006, 2508, 1052, 1012, 2655, 10929, 1007, 3395, 1024, 2128, 1024, 12125, 13354, 3160, 1029, 4353, 1024, 6583, 1050, 3372, 2361, 1011, 14739, 1011, 3677, 1024, 1057, 6559, 17848, 1012, 14925, 2078, 1012, 1057, 6559, 12131, 1012, 3968, 2226, 3029, 1024, 3330, 3274, 2897, 1010, 2118, 1997, 5858, 1010, 5879, 1010, 7929, 1010, 3915, 3210, 1024, 2538, 1999, 3720, 1026, 11460, 11614, 2368, 1012, 6421, 23499, 2683, 12740, 25746, 1030, 19296, 2483, 1028, 11460, 11614, 2368, 1030, 19296, 2483, 1012, 27776, 25687, 2050, 1012, 3968, 2226, 1006, 4422, 3585, 1007, 7009, 1024, 1028, 1996, 3835, 2518, 2055, 2613, 8899, 13354, 2015, 2003, 2008, 2017, 2123, 1005, 1056, 2031, 2000, 2689, 1028, 2068, 2200, 2411, 2012, 2035, 1012, 1006, 1045, 2228, 2066, 2753, 1010, 2199, 2661, 999, 999, 1007, 2027, 2453, 3465, 1002, 2184, 1028, 2169, 1010, 2021, 2027, 2052, 3828, 2005, 3209, 1999, 1996, 2146, 2448, 1012, 2026, 1056, 1011, 4743, 8040, 1005, 1055, 6410, 2758, 2000, 5672, 1996, 8899, 13354, 2015, 2296, 3438, 1010, 2199, 4328, 1012, 24547, 1011, 20481, 2038, 8285, 22779, 8899, 13354, 2015, 2005, 1002, 1016, 1012, 4002, 2169, 1012, 2024, 2122, 1000, 2613, 1000, 8899, 13354, 2015, 1029, 1006, 1045, 2018, 25936, 8899, 2015, 1999, 2026, 1005, 3770, 24050, 1998, 2026, 3611, 2018, 1005, 7861, 1999, 2010, 1005, 6391, 22953, 15305, 1011, 1011, 3602, 1996, 3145, 18351, 1000, 2018, 1012, 1000, 2027, 2134, 1005, 1056, 2197, 2200, 2146, 1006, 2172, 2625, 102]] \n",
            "\t[9, 17] \n",
            "\t[256, 256]\n",
            "\n",
            "[[101, 2013, 1024, 1058, 2692, 21084, 14905, 2683, 2243, 1030, 1057, 2497, 2615, 5244, 2094, 1012, 10507, 1012, 6901, 1012, 3968, 2226, 1006, 6606, 1038, 1012, 25957, 21222, 1007, 3395, 1024, 2342, 18558, 2006, 6070, 1011, 6486, 19349, 21187, 3029, 1024, 2118, 2012, 6901, 3210, 1024, 2184, 2739, 1011, 4007, 1024, 12436, 2595, 1013, 1058, 5244, 1058, 2638, 9333, 1015, 1012, 4601, 1050, 3372, 2361, 1011, 14739, 1011, 3677, 1024, 1057, 2497, 2615, 5244, 2094, 1012, 10507, 1012, 6901, 1012, 3968, 2226, 1045, 2572, 1037, 2210, 5457, 2006, 2035, 1997, 1996, 4275, 1997, 1996, 6070, 1011, 6486, 19349, 21187, 2015, 1012, 1045, 2031, 2657, 1997, 1996, 3393, 7367, 1048, 3366, 7020, 2063, 7020, 7416, 1012, 2071, 2619, 2425, 2033, 1996, 5966, 2024, 2521, 2004, 2838, 2030, 2836, 1012, 1045, 2572, 2036, 8025, 2000, 2113, 2054, 1996, 2338, 3643, 2003, 2005, 9544, 5243, 6321, 1996, 6486, 2944, 1012, 1998, 2129, 2172, 2625, 2084, 2338, 3643, 2064, 2017, 2788, 2131, 2068, 2005, 1012, 1999, 2060, 2616, 2129, 2172, 2024, 2027, 1999, 5157, 2023, 2051, 1997, 2095, 1012, 1045, 2031, 2657, 2008, 1996, 3054, 1011, 3500, 2220, 2621, 2003, 1996, 2190, 2051, 2000, 4965, 1012, 6606, 25957, 21222, 102, 0, 0, 0, 0, 0, 0, 0, 0, 0, 0, 0, 0, 0, 0, 0, 0, 0, 0, 0, 0, 0, 0, 0, 0, 0, 0, 0, 0, 0, 0, 0, 0, 0, 0, 0, 0, 0, 0, 0, 0, 0, 0, 0, 0, 0, 0, 0, 0, 0, 0, 0, 0, 0, 0, 0, 0, 0, 0, 0, 0], [101, 2013, 1024, 6174, 4679, 1026, 6174, 1030, 25212, 1012, 1057, 2860, 2213, 1012, 3968, 2226, 1028, 3395, 1024, 1060, 1011, 2227, 1029, 3029, 1024, 2074, 2033, 1012, 3210, 1024, 2459, 4353, 1024, 2088, 1050, 3372, 2361, 1011, 14739, 1011, 3677, 1024, 14378, 1012, 6486, 1012, 1016, 1012, 3943, 12654, 1024, 2175, 3805, 1012, 1012, 1012, 11963, 2033, 1012, 1026, 25212, 2361, 999, 1028, 1045, 1005, 1049, 2025, 5220, 2012, 2035, 2007, 1996, 4289, 1997, 2122, 1000, 1060, 1011, 2227, 1024, 1000, 2518, 3111, 1010, 2021, 2044, 3773, 2068, 1999, 2070, 12455, 1005, 20346, 2015, 1010, 1045, 1005, 2310, 1008, 2288, 1008, 2000, 1008, 2156, 1008, 2068, 1006, 1998, 2672, 2191, 2028, 1997, 2026, 2219, 1007, 999, 1045, 1005, 2310, 2288, 1000, 1040, 26952, 1011, 3193, 1000, 2006, 2026, 11603, 3482, 1006, 2029, 8834, 1000, 4895, 9006, 19811, 1060, 1011, 5344, 1000, 1007, 1998, 1045, 1005, 2310, 3266, 2000, 4012, 22090, 1031, 4895, 1033, 4012, 14376, 10732, 2205, 1012, 1012, 1012, 2021, 2085, 2008, 1045, 1005, 1049, 1008, 2559, 1008, 2005, 2068, 1010, 1045, 2064, 1005, 1056, 4025, 2000, 2424, 2151, 1060, 1011, 2227, 1024, 1005, 1055, 1999, 3087, 2015, 2739, 20346, 2015, 999, 1024, 1011, 1006, 2071, 2017, 1010, 2052, 2017, 1010, 3531, 4604, 2033, 2115, 1000, 1060, 1011, 2227, 1024, 1000, 20346, 1029, 1045, 1008, 2113, 1008, 1045, 1005, 2222, 2763, 2131, 1037, 2210, 11963, 2098, 1010, 2021, 1045, 2064, 5047, 2009, 1012, 1012, 1012, 1012, 1045, 3246, 1012, 6174, 4679, 1026, 6174, 1030, 25212, 1012, 1057, 2860, 2213, 1012, 3968, 2226, 1028, 102]] \n",
            "\t[17, 15]\n",
            "\t [256, 256]\n"
          ]
        }
      ],
      "source": [
        "tokenized_text = train_dsd.map(preprocess_function, batched=True)\n",
        "\n",
        "# look at some example results:\n",
        "print(f\"{tokenized_text['train'][0:2]['input_ids']} \\n\\t\"\n",
        "      f\"{tokenized_text['train'][0:2]['label']} \\n\\t\"\n",
        "      f\"{[len(x) for x in tokenized_text['train'][0:2]['input_ids']]}\\n\\n\"\n",
        "      f\"{tokenized_text['test' ][0:2]['input_ids']} \\n\\t\"\n",
        "      f\"{tokenized_text['test' ][0:2]['label']}\\n\\t\",\n",
        "      f\"{[len(x) for x in tokenized_text['test'][0:2]['input_ids']]}\")"
      ]
    },
    {
      "cell_type": "code",
      "execution_count": 52,
      "id": "3WvXKDqENoqa",
      "metadata": {
        "colab": {
          "base_uri": "https://localhost:8080/",
          "height": 0
        },
        "id": "3WvXKDqENoqa",
        "outputId": "0e84a4ba-3ca1-4ccf-e505-42c681b59e7f"
      },
      "outputs": [
        {
          "output_type": "execute_result",
          "data": {
            "text/plain": [
              "DatasetDict({\n",
              "    train: Dataset({\n",
              "        features: ['text', 'label', 'input_ids', 'attention_mask'],\n",
              "        num_rows: 10182\n",
              "    })\n",
              "    test: Dataset({\n",
              "        features: ['text', 'label', 'input_ids', 'attention_mask'],\n",
              "        num_rows: 7532\n",
              "    })\n",
              "    validation: Dataset({\n",
              "        features: ['text', 'label', 'input_ids', 'attention_mask'],\n",
              "        num_rows: 1132\n",
              "    })\n",
              "})"
            ]
          },
          "metadata": {},
          "execution_count": 52
        }
      ],
      "source": [
        "tokenized_text"
      ]
    },
    {
      "cell_type": "markdown",
      "id": "78e1e59d",
      "metadata": {
        "id": "78e1e59d"
      },
      "source": [
        "1. Use [DataCollatorWithPadding](https://huggingface.co/docs/transformers/v4.20.1/en/main_classes/data_collator#transformers.DataCollatorWithPadding) to create a batch of examples. Set the type of Tensor to return as 'tf' as we will fine-tune the model in TensorFlow."
      ]
    },
    {
      "cell_type": "code",
      "execution_count": 53,
      "id": "D8xk28M1O4GO",
      "metadata": {
        "id": "D8xk28M1O4GO"
      },
      "outputs": [],
      "source": [
        "from transformers import DataCollatorWithPadding\n",
        "data_collator = DataCollatorWithPadding(\n",
        "    tokenizer=tokenizer,\n",
        "    return_tensors='tf'\n",
        ")                                                       "
      ]
    },
    {
      "cell_type": "markdown",
      "id": "bc0fe020",
      "metadata": {
        "id": "bc0fe020"
      },
      "source": [
        "1. To fine-tune a model in TensorFlow, start by converting datasets to the `tf.data.Dataset` format with `to_tf_dataset`. \n",
        "\n",
        "    Specify inputs and labels in columns, whether to shuffle the dataset order, batch size, and the data collator:"
      ]
    },
    {
      "cell_type": "code",
      "execution_count": 54,
      "id": "25fh9ZxkIsI4",
      "metadata": {
        "id": "25fh9ZxkIsI4",
        "colab": {
          "base_uri": "https://localhost:8080/",
          "height": 0
        },
        "outputId": "175b2516-6214-42c8-eaec-834231cf2e28"
      },
      "outputs": [
        {
          "output_type": "stream",
          "name": "stderr",
          "text": [
            "You're using a DistilBertTokenizerFast tokenizer. Please note that with a fast tokenizer, using the `__call__` method is faster than using a method to encode the text followed by a call to the `pad` method to get a padded encoding.\n"
          ]
        }
      ],
      "source": [
        "BATCH_SIZE = 16\n",
        "\n",
        "tf_train_set = tokenized_text[\"train\"].to_tf_dataset(\n",
        "    columns=['input_ids', 'attention_mask'],\n",
        "    label_cols=['labels'],\n",
        "    shuffle=True,\n",
        "    batch_size=BATCH_SIZE,\n",
        "    collate_fn=data_collator,\n",
        ")\n",
        "tf_validation_set = tokenized_text[\"validation\"].to_tf_dataset(\n",
        "    columns=['input_ids', 'attention_mask'],\n",
        "    label_cols=['labels'],\n",
        "    shuffle=True,\n",
        "    batch_size=BATCH_SIZE,\n",
        "    collate_fn=data_collator,\n",
        ")\n",
        "tf_test_set = tokenized_text[\"test\"].to_tf_dataset(\n",
        "    columns=['input_ids', 'attention_mask'],\n",
        "    label_cols=['labels'],\n",
        "    shuffle=True,\n",
        "    batch_size=BATCH_SIZE,\n",
        "    collate_fn=data_collator,\n",
        ")"
      ]
    },
    {
      "cell_type": "markdown",
      "id": "e475a9f9",
      "metadata": {
        "id": "e475a9f9"
      },
      "source": [
        "1. Set up an optimizer function, learning rate schedule, and some training hyperparameters:"
      ]
    },
    {
      "cell_type": "code",
      "execution_count": 55,
      "id": "6ZJblOkpW27x",
      "metadata": {
        "id": "6ZJblOkpW27x"
      },
      "outputs": [],
      "source": [
        "# NB: create_optimizer in the Transformers library creates an AdamW optimizer\n",
        "# with weight and learning rate decay, which performs well for most transformer\n",
        "# network training\n",
        "from transformers import create_optimizer\n",
        "\n",
        "EPOCHS = 5\n",
        "batches_per_epoch = len(tokenized_text[\"train\"]) // BATCH_SIZE\n",
        "total_train_steps = int(batches_per_epoch * EPOCHS)\n",
        "optimizer, schedule = create_optimizer(init_lr=2e-5, num_warmup_steps=0, num_train_steps=total_train_steps)"
      ]
    },
    {
      "cell_type": "markdown",
      "id": "f2997fc2",
      "metadata": {
        "id": "f2997fc2"
      },
      "source": [
        "1. Load DistilBERT with  [TFAutoModelForSequenceClassification](https://huggingface.co/docs/transformers/v4.20.1/en/model_doc/auto#transformers.TFAutoModelForSequenceClassification) along with the number of expected labels:"
      ]
    },
    {
      "cell_type": "code",
      "execution_count": 56,
      "id": "vCnl8FHEYanJ",
      "metadata": {
        "id": "vCnl8FHEYanJ",
        "colab": {
          "base_uri": "https://localhost:8080/",
          "height": 156,
          "referenced_widgets": [
            "76e57bb1af2946208ca6815e876e4111",
            "47e262a777a44da39f64434809c885fd",
            "b7caf7dc876240a8b00c7b3e8cf9772d",
            "e77f83ea62bd459caae5d2ad8ef83cae",
            "beef29a318dc4fbe944ede7d2c3ece75",
            "78067b560be24d03aa01add464ee9d0e",
            "0ac7263be570424b958d540401513c57",
            "4d096bfa4a064324a6161f3672708cf7",
            "33f8139c51eb484a831b95cd69f1f987",
            "5abfc516b2ca42baaa2648ffe9104e31",
            "da2ec7284b284de5b42f0be73d4a545c"
          ]
        },
        "outputId": "20208148-40bb-4fe4-847c-fff9ee08ea08"
      },
      "outputs": [
        {
          "output_type": "display_data",
          "data": {
            "text/plain": [
              "Downloading:   0%|          | 0.00/363M [00:00<?, ?B/s]"
            ],
            "application/vnd.jupyter.widget-view+json": {
              "version_major": 2,
              "version_minor": 0,
              "model_id": "76e57bb1af2946208ca6815e876e4111"
            }
          },
          "metadata": {}
        },
        {
          "output_type": "stream",
          "name": "stderr",
          "text": [
            "Some layers from the model checkpoint at distilbert-base-uncased were not used when initializing TFDistilBertForSequenceClassification: ['vocab_transform', 'vocab_projector', 'activation_13', 'vocab_layer_norm']\n",
            "- This IS expected if you are initializing TFDistilBertForSequenceClassification from the checkpoint of a model trained on another task or with another architecture (e.g. initializing a BertForSequenceClassification model from a BertForPreTraining model).\n",
            "- This IS NOT expected if you are initializing TFDistilBertForSequenceClassification from the checkpoint of a model that you expect to be exactly identical (initializing a BertForSequenceClassification model from a BertForSequenceClassification model).\n",
            "Some layers of TFDistilBertForSequenceClassification were not initialized from the model checkpoint at distilbert-base-uncased and are newly initialized: ['dropout_20', 'pre_classifier', 'classifier']\n",
            "You should probably TRAIN this model on a down-stream task to be able to use it for predictions and inference.\n"
          ]
        }
      ],
      "source": [
        "from transformers import TFAutoModelForSequenceClassification\n",
        "\n",
        "my_bert = TFAutoModelForSequenceClassification.from_pretrained(\n",
        "    'distilbert-base-uncased',\n",
        "    num_labels=20,\n",
        ")"
      ]
    },
    {
      "cell_type": "markdown",
      "id": "97cb0e7b",
      "metadata": {
        "id": "97cb0e7b"
      },
      "source": [
        "1. Don't forget to configure the model for training with [`compile`](https://keras.io/api/models/model_training_apis/#compile-method):"
      ]
    },
    {
      "cell_type": "code",
      "execution_count": 57,
      "id": "s7HGL_nCYfba",
      "metadata": {
        "id": "s7HGL_nCYfba",
        "colab": {
          "base_uri": "https://localhost:8080/",
          "height": 0
        },
        "outputId": "c38afc96-f3bf-48d4-dc44-e3df072d9736"
      },
      "outputs": [
        {
          "output_type": "stream",
          "name": "stderr",
          "text": [
            "No loss specified in compile() - the model's internal loss computation will be used as the loss. Don't panic - this is a common way to train TensorFlow models in Transformers! To disable this behaviour please pass a loss argument, or explicitly pass `loss=None` if you do not want your model to compute a loss.\n"
          ]
        }
      ],
      "source": [
        "my_bert.compile(optimizer=optimizer, metrics=['accuracy'])"
      ]
    },
    {
      "cell_type": "markdown",
      "id": "QifyGkqhofwB",
      "metadata": {
        "id": "QifyGkqhofwB"
      },
      "source": [
        "1. Finally, let the fine-tuning start!\n",
        "\n",
        "    You may run into CoLab's usage limit, feel free to lower the parameter `epochs` to 3; even so, it could take ~10 minutes. "
      ]
    },
    {
      "cell_type": "code",
      "execution_count": 58,
      "id": "cJjfKl0TY0A0",
      "metadata": {
        "id": "cJjfKl0TY0A0",
        "colab": {
          "base_uri": "https://localhost:8080/",
          "height": 0
        },
        "outputId": "6c281d26-8e75-43d9-a939-865fa1ce3cc8"
      },
      "outputs": [
        {
          "output_type": "stream",
          "name": "stdout",
          "text": [
            "Epoch 1/5\n",
            "637/637 [==============================] - 52s 64ms/step - loss: 1.2999 - accuracy: 0.6841 - val_loss: 0.5891 - val_accuracy: 0.8322\n",
            "Epoch 2/5\n",
            "637/637 [==============================] - 39s 62ms/step - loss: 0.4115 - accuracy: 0.8862 - val_loss: 0.4021 - val_accuracy: 0.8790\n",
            "Epoch 3/5\n",
            "637/637 [==============================] - 39s 62ms/step - loss: 0.2195 - accuracy: 0.9423 - val_loss: 0.3378 - val_accuracy: 0.9081\n",
            "Epoch 4/5\n",
            "637/637 [==============================] - 39s 62ms/step - loss: 0.1262 - accuracy: 0.9710 - val_loss: 0.3165 - val_accuracy: 0.9134\n",
            "Epoch 5/5\n",
            "637/637 [==============================] - 40s 62ms/step - loss: 0.0853 - accuracy: 0.9838 - val_loss: 0.3070 - val_accuracy: 0.9152\n",
            "CPU times: user 3min 51s, sys: 17.4 s, total: 4min 8s\n",
            "Wall time: 3min 29s\n"
          ]
        }
      ],
      "source": [
        "%%time\n",
        "bert_history = my_bert.fit(tf_train_set, validation_data=tf_validation_set, epochs=EPOCHS)"
      ]
    },
    {
      "cell_type": "code",
      "source": [
        "# let's look at above metrics graphically:\n",
        "plot_graphs(bert_history,'loss','DistilBert fine-tuning')\n",
        "plot_graphs(bert_history,'accuracy','DistilBert fine-tuning')"
      ],
      "metadata": {
        "colab": {
          "base_uri": "https://localhost:8080/",
          "height": 549
        },
        "id": "SWVuMQb7Ti-d",
        "outputId": "51edc00b-a0ad-4e7c-9c1b-841593b66be2"
      },
      "id": "SWVuMQb7Ti-d",
      "execution_count": 59,
      "outputs": [
        {
          "output_type": "display_data",
          "data": {
            "text/plain": [
              "<Figure size 432x288 with 1 Axes>"
            ],
            "image/png": "[encoded data removed]"
          },
          "metadata": {
            "needs_background": "light"
          }
        },
        {
          "output_type": "display_data",
          "data": {
            "text/plain": [
              "<Figure size 432x288 with 1 Axes>"
            ],
            "image/png": "[encoded data removed]"
          },
          "metadata": {
            "needs_background": "light"
          }
        }
      ]
    },
    {
      "cell_type": "markdown",
      "id": "vPEoQlMw5VBq",
      "metadata": {
        "id": "vPEoQlMw5VBq"
      },
      "source": [
        "1. As you are waiting for the fine-tuning to finish, how many parameters does DistilBERT have? How about BERT? What is the world's largest open Multilingual Language Model as of July 2022? (hint: 🌸) \n",
        "\n",
        "# _Answer:_  \n",
        "*  DistilBERT has 66M parameters and trained on all 16GB of its parent BERT's data (3.3B words). By comparison, BERT has 110-340M parameters.   \n",
        "  \n",
        "*  As of July 2022, the largest open multilingual model is BLOOM (BigScience Large Open-science Open-access Multilingual Model) with 176 billion parameters. This is comparable to the 175 billion parameters of GPT-3.\n",
        "    * More than 1,000 academic & research contributors from 250 institutions and 60 countries worked on the project since 2021, in an effort to challenge the monopoly that large commercial ventures have on language models.  \n",
        "      \n",
        "    * For example, the well-known GPT-3 model, developed by the nonprofit OpenAI and license by Microsoft, is _not available_ as open source.   \n",
        "       \n",
        "    * In contrast to other language models, BLOOM 'knows' 46 diverse languages & dialects, including (in no particular order): Vietnamese, Mandarin, Indonesian, Catalan, 13 Indic languages, and 20 African languages. Remarkably, only about ⅓ of its training data was in English!  \n"
      ]
    },
    {
      "cell_type": "markdown",
      "id": "c4b23c02",
      "metadata": {
        "id": "c4b23c02"
      },
      "source": [
        "1. Evaluate the model on the test data. \n",
        "    \n",
        "    Use `evaluate` to evaluate the model on the test data (accuracy shall be around 0.84)."
      ]
    },
    {
      "cell_type": "code",
      "execution_count": 60,
      "id": "vyvGP0mY-4_x",
      "metadata": {
        "id": "vyvGP0mY-4_x",
        "colab": {
          "base_uri": "https://localhost:8080/",
          "height": 0
        },
        "outputId": "ac13c920-96ab-42c9-c956-d366df66560a"
      },
      "outputs": [
        {
          "output_type": "stream",
          "name": "stdout",
          "text": [
            "471/471 [==============================] - 11s 23ms/step - loss: 0.5510 - accuracy: 0.8500\n",
            "With fine-tuning of HuggingFace distilbert-base-uncased pretrained model:\n",
            "\teval_loss on tf_test_set     = \t0.5509506; and,\n",
            "\teval_accuracy on tf_test_set = \t0.8499734\n"
          ]
        }
      ],
      "source": [
        "bert_loss, bert_acc = my_bert.evaluate(tf_test_set) # YOUR CODE HERE\n",
        "print(f'With fine-tuning of HuggingFace distilbert-base-uncased pretrained model:\\n\\t'\n",
        "      f'eval_loss on tf_test_set     = \\t{bert_loss:.7f}; and,\\n\\t'\n",
        "      f'eval_accuracy on tf_test_set = \\t{bert_acc:.7f}'\n",
        ")"
      ]
    },
    {
      "cell_type": "markdown",
      "id": "ba3081e8",
      "metadata": {
        "id": "ba3081e8"
      },
      "source": [
        "1. Optional. If you are happy with the result, you can save the model to a file. \n",
        "    \n",
        "    One easy way to do it is to use [`save_pretrained()`](https://huggingface.co/docs/transformers/main_classes/model#transformers.PreTrainedModel.save_pretrained) to save the model to a file. Check [Export 🤗 Transformers Models](https://huggingface.co/docs/transformers/serialization) for deployment options."
      ]
    },
    {
      "cell_type": "markdown",
      "source": [
        "# *Answers to Rubric Questions:*  \n",
        "  \n",
        "*1. In the transformer architecture in the 'Attention Is All You Need' paper, how does Multi-head attention work?*  \n",
        "  \n",
        "**Ans:**   \n",
        "  \n",
        "- **Multi-head attention** is a logical generalization of **self-attention** (aka *'intra-attention'*) which in turn is a generalization of the **attention mechanism** used in traditional RNN sequence-to-sequence models (so-called *Attention models,* after Benjio et al. 2014). The original attention mechanism was conceived as a way to incorporate **contextual information** from Encoder RNN input sequence activations $a^{<t'>}$ at time $t'$, by adding a *weighted sum* of Encoder activations from the current, and surrounding words to compute an input **context vector** for the Decoder RNN at time $t$. Concretely:  \n",
        "  \n",
        "  \n",
        "$$  \n",
        "C^{<t>} = \\sum_{t'} \\alpha^{<t,t'>} \\cdot a^{<t'>}  \n",
        "$$  \n",
        "  \n",
        "\n",
        "- The so-called *attention weights* $\\alpha^{<t,t'>}$ in the above expression tell the Decoder RNN *how much attention to pay* to each input activation $a^{<t'>}$ at input time $t'$ when predicting the output $\\hat{y}^{<t>}$ at output time $t$.    \n",
        "  \n",
        "- By contrast, transformers use **self-attention,** which is similar to the RNN attention mechanism above, but with the critical difference that activations *(attention-based representations)* for all input words are *calculated in parallel*, and involve learning parameter matrices, $W^Q, W^K, W^V$, where, for example, the attention value for the $ith$ input word $x^{<i>}$ is given by:  \n",
        "  \n",
        "  \n",
        "$$  \n",
        "A^{<i>} = A(q^{<i>}=W^Q \\cdot x^{<i>}, k^{<i>}=W^K \\cdot x^{<i>}, v^{<i>}=W^V \\cdot x^{<i>})    \n",
        "$$  \n",
        "  \n",
        "  \n",
        "- Thus, instead of computing a simple, fixed word embedding, *self-attention* generates a much *richer, more nuanced & useful* word representation that incorporates its *full context.*   \n",
        "    \n",
        "- Finally, **multi-head attention,** can be thought of as a **for-loop** over the aforementioned self-attention mechanism (8× in the case of the landmark Vaswani et al. 2017 paper). During each 'iteration' *(in actuality all 8 are executed in parallel),* each **'head'** independently learns its own set of $W^Q, W^K, W^V$ parameter matrices. In this way, each of the 8 different *heads* in *multi-head attention* can be thought of as learning a **different feature** for every word in the input sequence, ultimately resulting in a **multi-dimensional, fully context-aware representation** for each input word.  \n",
        "\n",
        "  \n",
        "\n",
        "\n",
        "*2. What is the main idea behind Positional Encoding?*  \n",
        "  \n",
        "**Ans:**  \n",
        "  \n",
        "  \n",
        "- **Positional encoding** is a key part of transformers. Although **self-attention** and **multi-head attention** are the core ideas behind transformers, without positional information, the transformer's attention mechanism, *by itself,* would merely be a *bag-of-words* approach!  \n",
        "  \n",
        "  \n",
        "- Borrowing from Fourier transforms, *positional encoding* uses Fourier waves to encode position. As the original authors describe:  \n",
        "    \n",
        "    - These positional encodings have the **same dimension,** $d_{model}$ as the embeddings.  \n",
        "        \n",
        "    - **Positional and input embeddings are summed**, thereby capturing critical sequence information *without* incurring some of the problems associated with RNN sequence models *e.g., vanishing/exploding gradients over long distances, as well as bottlenecking associated with sequential word ingestion (as opposed to the parallel processing of transformers*).  \n",
        "        \n",
        "    - *Summing positional and input embeddings* is **wholly counterintuitive:** Although same-dimensional, one seems to be **summing numerical and semantic values!**  *(\"Eppur si muove,\" as Galileo said.)* In any case, encoding position using $sin$ and $cos$ functions does limit these values to the range [-1, +1].  \n",
        "        \n",
        "   \n",
        "*3. What is Early Stopping and why do we use it?*   \n",
        "  \n",
        "\n",
        "**Ans:**   \n",
        "   \n",
        "- `EarlyStopping`is a Keras `callback object` which we defined and used in the code above when training our transformer model using `model.fit`. `Callback` objects in general allow one to implement specific methods passed to the model during `fit()`by accessing model state & performance **during** training, and taking appropriate action in real time. Here, this callback is used to *stop training* if validation loss has *not decreased* for 5 epochs, effectively automatically avoiding excessive **overfitting,** which might otherwise occur if training continued as long as *training loss was decreasing.*   \n",
        "  \n",
        "- In our implementation, the `EarlyStopping` callback is used together with `ReduceLROnPlateau`, which is triggered after fewer epochs of non-decreasing validation loss (i.e., earlier) than `EarlyStopping`. This callback takes the less 'drastic' measure of decreasing the learning rate to see if validation loss can be improved before `EarlyStopping` terminates the run.  \n",
        "\n",
        "   \n",
        "*4. How would you explain what a transformer model is to business stakeholders (at a high level)?*  \n",
        "\n",
        "  \n",
        "**Ans:**   \n",
        "  \n",
        "- Transformers are a revolutionary NLP architecture which achieve an unprecedented level of performance not only in language, but increasingly in other domains where context-dependent, multi-faceted representations are needed (e.g., audio, vision). Their core innovation lies in the notion of **self-attention** which computes a representation of a sequence by relating its different positions using a parallelized approach rather than relying on traditional, sequence aligned RNNs which are subject to bottlenecking and vanishing/exploding gradients. This novel *self-attention mechanism* is in turn parallelized over multiple, independently trained 'heads', which significantly deepens the richness of any single, self-attention representation. In addition, transformers capture critical positional information using a clever method of positional encoding that is combined with the rich, contextual semantic embedding generated by multi-head attention described above.\n",
        "\n",
        "$.$"
      ],
      "metadata": {
        "id": "KeKqHUaxoDs8"
      },
      "id": "KeKqHUaxoDs8"
    },
    {
      "cell_type": "markdown",
      "id": "uD3fV0qVn8qv",
      "metadata": {
        "id": "uD3fV0qVn8qv"
      },
      "source": [
        "# Acknowledgement & Reference"
      ]
    },
    {
      "cell_type": "markdown",
      "id": "TqTjj4qRoApb",
      "metadata": {
        "id": "TqTjj4qRoApb"
      },
      "source": [
        "- Part of the notebook is adapted from [Text Classification - Attention](https://www.kaggle.com/code/ritvik1909/text-classification-attention)\n",
        "- Part of the notebook is adapted from [Fine-tune a pretrained model with Hugging Face](https://huggingface.co/docs/transformers/training)\n",
        "- We used accuracy for metric, check out [Comprehensive Guide to Multiclass Classification Metrics](https://towardsdatascience.com/comprehensive-guide-on-multiclass-classification-metrics-af94cfb83fbd).\n",
        "- [BERT Explained: State of the art language model for NLP](https://towardsdatascience.com/bert-explained-state-of-the-art-language-model-for-nlp-f8b21a9b6270)\n",
        "- [Hugging Face: State-of-the-Art Natural Language Processing in ten lines of TensorFlow 2.0](https://medium.com/tensorflow/using-tensorflow-2-for-state-of-the-art-natural-language-processing-102445cda54a)\n",
        "- More readings on Transformers, check the Course Materials section on [CS25: Transformers United](https://web.stanford.edu/class/cs25/)\n"
      ]
    }
  ],
  "metadata": {
    "colab": {
      "collapsed_sections": [],
      "provenance": [],
      "machine_shape": "hm"
    },
    "gpuClass": "premium",
    "kernelspec": {
      "display_name": "Python 3.10.6 ('tf_test')",
      "language": "python",
      "name": "python3"
    },
    "language_info": {
      "codemirror_mode": {
        "name": "ipython",
        "version": 3
      },
      "file_extension": ".py",
      "mimetype": "text/x-python",
      "name": "python",
      "nbconvert_exporter": "python",
      "pygments_lexer": "ipython3",
      "version": "3.10.6"
    },
    "papermill": {
      "default_parameters": {},
      "duration": 126.733939,
      "end_time": "2022-03-31T16:26:20.094746",
      "environment_variables": {},
      "exception": null,
      "input_path": "__notebook__.ipynb",
      "output_path": "__notebook__.ipynb",
      "parameters": {},
      "start_time": "2022-03-31T16:24:13.360807",
      "version": "2.3.3"
    },
    "toc": {
      "base_numbering": 1,
      "nav_menu": {},
      "number_sections": true,
      "sideBar": true,
      "skip_h1_title": false,
      "title_cell": "Table of Contents",
      "title_sidebar": "Contents",
      "toc_cell": false,
      "toc_position": {},
      "toc_section_display": true,
      "toc_window_display": false
    },
    "vscode": {
      "interpreter": {
        "hash": "6b9c6ff867483825fa0dd3fc19ee8fe577700eeede962216f62edebab98bd62f"
      }
    },
    "widgets": {
      "application/vnd.jupyter.widget-state+json": {
        "cb2afb3362944a14adf9c2c86d9f395c": {
          "model_module": "@jupyter-widgets/controls",
          "model_name": "HBoxModel",
          "model_module_version": "1.5.0",
          "state": {
            "_dom_classes": [],
            "_model_module": "@jupyter-widgets/controls",
            "_model_module_version": "1.5.0",
            "_model_name": "HBoxModel",
            "_view_count": null,
            "_view_module": "@jupyter-widgets/controls",
            "_view_module_version": "1.5.0",
            "_view_name": "HBoxView",
            "box_style": "",
            "children": [
              "IPY_MODEL_7bd5846bad604e1383174ad308004801",
              "IPY_MODEL_b89dd4df2c0445a49ae555451f38972c",
              "IPY_MODEL_119eda58b3ac40e39699407eaa6af091"
            ],
            "layout": "IPY_MODEL_8d007bfed6a242d894a85a09becc3106"
          }
        },
        "7bd5846bad604e1383174ad308004801": {
          "model_module": "@jupyter-widgets/controls",
          "model_name": "HTMLModel",
          "model_module_version": "1.5.0",
          "state": {
            "_dom_classes": [],
            "_model_module": "@jupyter-widgets/controls",
            "_model_module_version": "1.5.0",
            "_model_name": "HTMLModel",
            "_view_count": null,
            "_view_module": "@jupyter-widgets/controls",
            "_view_module_version": "1.5.0",
            "_view_name": "HTMLView",
            "description": "",
            "description_tooltip": null,
            "layout": "IPY_MODEL_1122c552270946258926b8553ddca842",
            "placeholder": "​",
            "style": "IPY_MODEL_d61c8e54cecd4540a2f439fd8d3292cd",
            "value": "Stringifying the column:  92%"
          }
        },
        "b89dd4df2c0445a49ae555451f38972c": {
          "model_module": "@jupyter-widgets/controls",
          "model_name": "FloatProgressModel",
          "model_module_version": "1.5.0",
          "state": {
            "_dom_classes": [],
            "_model_module": "@jupyter-widgets/controls",
            "_model_module_version": "1.5.0",
            "_model_name": "FloatProgressModel",
            "_view_count": null,
            "_view_module": "@jupyter-widgets/controls",
            "_view_module_version": "1.5.0",
            "_view_name": "ProgressView",
            "bar_style": "danger",
            "description": "",
            "description_tooltip": null,
            "layout": "IPY_MODEL_c71f0e7c99644f2dbe61353912383d95",
            "max": 12,
            "min": 0,
            "orientation": "horizontal",
            "style": "IPY_MODEL_7dc2ae4d1bdd4e4cb9316a8e35d4d903",
            "value": 11
          }
        },
        "119eda58b3ac40e39699407eaa6af091": {
          "model_module": "@jupyter-widgets/controls",
          "model_name": "HTMLModel",
          "model_module_version": "1.5.0",
          "state": {
            "_dom_classes": [],
            "_model_module": "@jupyter-widgets/controls",
            "_model_module_version": "1.5.0",
            "_model_name": "HTMLModel",
            "_view_count": null,
            "_view_module": "@jupyter-widgets/controls",
            "_view_module_version": "1.5.0",
            "_view_name": "HTMLView",
            "description": "",
            "description_tooltip": null,
            "layout": "IPY_MODEL_1d885205e8904d368c82703e87661ef7",
            "placeholder": "​",
            "style": "IPY_MODEL_6ddb85dd958148f4aa44df95781cb271",
            "value": " 11/12 [00:00&lt;00:00, 86.92ba/s]"
          }
        },
        "8d007bfed6a242d894a85a09becc3106": {
          "model_module": "@jupyter-widgets/base",
          "model_name": "LayoutModel",
          "model_module_version": "1.2.0",
          "state": {
            "_model_module": "@jupyter-widgets/base",
            "_model_module_version": "1.2.0",
            "_model_name": "LayoutModel",
            "_view_count": null,
            "_view_module": "@jupyter-widgets/base",
            "_view_module_version": "1.2.0",
            "_view_name": "LayoutView",
            "align_content": null,
            "align_items": null,
            "align_self": null,
            "border": null,
            "bottom": null,
            "display": null,
            "flex": null,
            "flex_flow": null,
            "grid_area": null,
            "grid_auto_columns": null,
            "grid_auto_flow": null,
            "grid_auto_rows": null,
            "grid_column": null,
            "grid_gap": null,
            "grid_row": null,
            "grid_template_areas": null,
            "grid_template_columns": null,
            "grid_template_rows": null,
            "height": null,
            "justify_content": null,
            "justify_items": null,
            "left": null,
            "margin": null,
            "max_height": null,
            "max_width": null,
            "min_height": null,
            "min_width": null,
            "object_fit": null,
            "object_position": null,
            "order": null,
            "overflow": null,
            "overflow_x": null,
            "overflow_y": null,
            "padding": null,
            "right": null,
            "top": null,
            "visibility": null,
            "width": null
          }
        },
        "1122c552270946258926b8553ddca842": {
          "model_module": "@jupyter-widgets/base",
          "model_name": "LayoutModel",
          "model_module_version": "1.2.0",
          "state": {
            "_model_module": "@jupyter-widgets/base",
            "_model_module_version": "1.2.0",
            "_model_name": "LayoutModel",
            "_view_count": null,
            "_view_module": "@jupyter-widgets/base",
            "_view_module_version": "1.2.0",
            "_view_name": "LayoutView",
            "align_content": null,
            "align_items": null,
            "align_self": null,
            "border": null,
            "bottom": null,
            "display": null,
            "flex": null,
            "flex_flow": null,
            "grid_area": null,
            "grid_auto_columns": null,
            "grid_auto_flow": null,
            "grid_auto_rows": null,
            "grid_column": null,
            "grid_gap": null,
            "grid_row": null,
            "grid_template_areas": null,
            "grid_template_columns": null,
            "grid_template_rows": null,
            "height": null,
            "justify_content": null,
            "justify_items": null,
            "left": null,
            "margin": null,
            "max_height": null,
            "max_width": null,
            "min_height": null,
            "min_width": null,
            "object_fit": null,
            "object_position": null,
            "order": null,
            "overflow": null,
            "overflow_x": null,
            "overflow_y": null,
            "padding": null,
            "right": null,
            "top": null,
            "visibility": null,
            "width": null
          }
        },
        "d61c8e54cecd4540a2f439fd8d3292cd": {
          "model_module": "@jupyter-widgets/controls",
          "model_name": "DescriptionStyleModel",
          "model_module_version": "1.5.0",
          "state": {
            "_model_module": "@jupyter-widgets/controls",
            "_model_module_version": "1.5.0",
            "_model_name": "DescriptionStyleModel",
            "_view_count": null,
            "_view_module": "@jupyter-widgets/base",
            "_view_module_version": "1.2.0",
            "_view_name": "StyleView",
            "description_width": ""
          }
        },
        "c71f0e7c99644f2dbe61353912383d95": {
          "model_module": "@jupyter-widgets/base",
          "model_name": "LayoutModel",
          "model_module_version": "1.2.0",
          "state": {
            "_model_module": "@jupyter-widgets/base",
            "_model_module_version": "1.2.0",
            "_model_name": "LayoutModel",
            "_view_count": null,
            "_view_module": "@jupyter-widgets/base",
            "_view_module_version": "1.2.0",
            "_view_name": "LayoutView",
            "align_content": null,
            "align_items": null,
            "align_self": null,
            "border": null,
            "bottom": null,
            "display": null,
            "flex": null,
            "flex_flow": null,
            "grid_area": null,
            "grid_auto_columns": null,
            "grid_auto_flow": null,
            "grid_auto_rows": null,
            "grid_column": null,
            "grid_gap": null,
            "grid_row": null,
            "grid_template_areas": null,
            "grid_template_columns": null,
            "grid_template_rows": null,
            "height": null,
            "justify_content": null,
            "justify_items": null,
            "left": null,
            "margin": null,
            "max_height": null,
            "max_width": null,
            "min_height": null,
            "min_width": null,
            "object_fit": null,
            "object_position": null,
            "order": null,
            "overflow": null,
            "overflow_x": null,
            "overflow_y": null,
            "padding": null,
            "right": null,
            "top": null,
            "visibility": null,
            "width": null
          }
        },
        "7dc2ae4d1bdd4e4cb9316a8e35d4d903": {
          "model_module": "@jupyter-widgets/controls",
          "model_name": "ProgressStyleModel",
          "model_module_version": "1.5.0",
          "state": {
            "_model_module": "@jupyter-widgets/controls",
            "_model_module_version": "1.5.0",
            "_model_name": "ProgressStyleModel",
            "_view_count": null,
            "_view_module": "@jupyter-widgets/base",
            "_view_module_version": "1.2.0",
            "_view_name": "StyleView",
            "bar_color": null,
            "description_width": ""
          }
        },
        "1d885205e8904d368c82703e87661ef7": {
          "model_module": "@jupyter-widgets/base",
          "model_name": "LayoutModel",
          "model_module_version": "1.2.0",
          "state": {
            "_model_module": "@jupyter-widgets/base",
            "_model_module_version": "1.2.0",
            "_model_name": "LayoutModel",
            "_view_count": null,
            "_view_module": "@jupyter-widgets/base",
            "_view_module_version": "1.2.0",
            "_view_name": "LayoutView",
            "align_content": null,
            "align_items": null,
            "align_self": null,
            "border": null,
            "bottom": null,
            "display": null,
            "flex": null,
            "flex_flow": null,
            "grid_area": null,
            "grid_auto_columns": null,
            "grid_auto_flow": null,
            "grid_auto_rows": null,
            "grid_column": null,
            "grid_gap": null,
            "grid_row": null,
            "grid_template_areas": null,
            "grid_template_columns": null,
            "grid_template_rows": null,
            "height": null,
            "justify_content": null,
            "justify_items": null,
            "left": null,
            "margin": null,
            "max_height": null,
            "max_width": null,
            "min_height": null,
            "min_width": null,
            "object_fit": null,
            "object_position": null,
            "order": null,
            "overflow": null,
            "overflow_x": null,
            "overflow_y": null,
            "padding": null,
            "right": null,
            "top": null,
            "visibility": null,
            "width": null
          }
        },
        "6ddb85dd958148f4aa44df95781cb271": {
          "model_module": "@jupyter-widgets/controls",
          "model_name": "DescriptionStyleModel",
          "model_module_version": "1.5.0",
          "state": {
            "_model_module": "@jupyter-widgets/controls",
            "_model_module_version": "1.5.0",
            "_model_name": "DescriptionStyleModel",
            "_view_count": null,
            "_view_module": "@jupyter-widgets/base",
            "_view_module_version": "1.2.0",
            "_view_name": "StyleView",
            "description_width": ""
          }
        },
        "2c9573371f3046e294751260766528f7": {
          "model_module": "@jupyter-widgets/controls",
          "model_name": "HBoxModel",
          "model_module_version": "1.5.0",
          "state": {
            "_dom_classes": [],
            "_model_module": "@jupyter-widgets/controls",
            "_model_module_version": "1.5.0",
            "_model_name": "HBoxModel",
            "_view_count": null,
            "_view_module": "@jupyter-widgets/controls",
            "_view_module_version": "1.5.0",
            "_view_name": "HBoxView",
            "box_style": "",
            "children": [
              "IPY_MODEL_a1190cc31ed14cf9875d0d978bf14535",
              "IPY_MODEL_cf04de8d66fd4ed694a5ced74e008da4",
              "IPY_MODEL_99c7750342f64913ad7db0fa822b559e"
            ],
            "layout": "IPY_MODEL_17adf1142fce499bad0a8ef9f8b68468"
          }
        },
        "a1190cc31ed14cf9875d0d978bf14535": {
          "model_module": "@jupyter-widgets/controls",
          "model_name": "HTMLModel",
          "model_module_version": "1.5.0",
          "state": {
            "_dom_classes": [],
            "_model_module": "@jupyter-widgets/controls",
            "_model_module_version": "1.5.0",
            "_model_name": "HTMLModel",
            "_view_count": null,
            "_view_module": "@jupyter-widgets/controls",
            "_view_module_version": "1.5.0",
            "_view_name": "HTMLView",
            "description": "",
            "description_tooltip": null,
            "layout": "IPY_MODEL_49d494b7aa794c01b1ce6a06c12880cd",
            "placeholder": "​",
            "style": "IPY_MODEL_f01afb65cfbf4d0dad5d372fc8a4a3aa",
            "value": "Casting to class labels:  92%"
          }
        },
        "cf04de8d66fd4ed694a5ced74e008da4": {
          "model_module": "@jupyter-widgets/controls",
          "model_name": "FloatProgressModel",
          "model_module_version": "1.5.0",
          "state": {
            "_dom_classes": [],
            "_model_module": "@jupyter-widgets/controls",
            "_model_module_version": "1.5.0",
            "_model_name": "FloatProgressModel",
            "_view_count": null,
            "_view_module": "@jupyter-widgets/controls",
            "_view_module_version": "1.5.0",
            "_view_name": "ProgressView",
            "bar_style": "danger",
            "description": "",
            "description_tooltip": null,
            "layout": "IPY_MODEL_dda26e8551b142ed970f3338b04de1d4",
            "max": 12,
            "min": 0,
            "orientation": "horizontal",
            "style": "IPY_MODEL_9f6467a5bad94eacab5f4f3dfd5ae209",
            "value": 11
          }
        },
        "99c7750342f64913ad7db0fa822b559e": {
          "model_module": "@jupyter-widgets/controls",
          "model_name": "HTMLModel",
          "model_module_version": "1.5.0",
          "state": {
            "_dom_classes": [],
            "_model_module": "@jupyter-widgets/controls",
            "_model_module_version": "1.5.0",
            "_model_name": "HTMLModel",
            "_view_count": null,
            "_view_module": "@jupyter-widgets/controls",
            "_view_module_version": "1.5.0",
            "_view_name": "HTMLView",
            "description": "",
            "description_tooltip": null,
            "layout": "IPY_MODEL_497e9223433f4a3d9c2a80b8be141dbd",
            "placeholder": "​",
            "style": "IPY_MODEL_112700da86814f4cabab70c2714200c7",
            "value": " 11/12 [00:00&lt;00:00, 108.69ba/s]"
          }
        },
        "17adf1142fce499bad0a8ef9f8b68468": {
          "model_module": "@jupyter-widgets/base",
          "model_name": "LayoutModel",
          "model_module_version": "1.2.0",
          "state": {
            "_model_module": "@jupyter-widgets/base",
            "_model_module_version": "1.2.0",
            "_model_name": "LayoutModel",
            "_view_count": null,
            "_view_module": "@jupyter-widgets/base",
            "_view_module_version": "1.2.0",
            "_view_name": "LayoutView",
            "align_content": null,
            "align_items": null,
            "align_self": null,
            "border": null,
            "bottom": null,
            "display": null,
            "flex": null,
            "flex_flow": null,
            "grid_area": null,
            "grid_auto_columns": null,
            "grid_auto_flow": null,
            "grid_auto_rows": null,
            "grid_column": null,
            "grid_gap": null,
            "grid_row": null,
            "grid_template_areas": null,
            "grid_template_columns": null,
            "grid_template_rows": null,
            "height": null,
            "justify_content": null,
            "justify_items": null,
            "left": null,
            "margin": null,
            "max_height": null,
            "max_width": null,
            "min_height": null,
            "min_width": null,
            "object_fit": null,
            "object_position": null,
            "order": null,
            "overflow": null,
            "overflow_x": null,
            "overflow_y": null,
            "padding": null,
            "right": null,
            "top": null,
            "visibility": null,
            "width": null
          }
        },
        "49d494b7aa794c01b1ce6a06c12880cd": {
          "model_module": "@jupyter-widgets/base",
          "model_name": "LayoutModel",
          "model_module_version": "1.2.0",
          "state": {
            "_model_module": "@jupyter-widgets/base",
            "_model_module_version": "1.2.0",
            "_model_name": "LayoutModel",
            "_view_count": null,
            "_view_module": "@jupyter-widgets/base",
            "_view_module_version": "1.2.0",
            "_view_name": "LayoutView",
            "align_content": null,
            "align_items": null,
            "align_self": null,
            "border": null,
            "bottom": null,
            "display": null,
            "flex": null,
            "flex_flow": null,
            "grid_area": null,
            "grid_auto_columns": null,
            "grid_auto_flow": null,
            "grid_auto_rows": null,
            "grid_column": null,
            "grid_gap": null,
            "grid_row": null,
            "grid_template_areas": null,
            "grid_template_columns": null,
            "grid_template_rows": null,
            "height": null,
            "justify_content": null,
            "justify_items": null,
            "left": null,
            "margin": null,
            "max_height": null,
            "max_width": null,
            "min_height": null,
            "min_width": null,
            "object_fit": null,
            "object_position": null,
            "order": null,
            "overflow": null,
            "overflow_x": null,
            "overflow_y": null,
            "padding": null,
            "right": null,
            "top": null,
            "visibility": null,
            "width": null
          }
        },
        "f01afb65cfbf4d0dad5d372fc8a4a3aa": {
          "model_module": "@jupyter-widgets/controls",
          "model_name": "DescriptionStyleModel",
          "model_module_version": "1.5.0",
          "state": {
            "_model_module": "@jupyter-widgets/controls",
            "_model_module_version": "1.5.0",
            "_model_name": "DescriptionStyleModel",
            "_view_count": null,
            "_view_module": "@jupyter-widgets/base",
            "_view_module_version": "1.2.0",
            "_view_name": "StyleView",
            "description_width": ""
          }
        },
        "dda26e8551b142ed970f3338b04de1d4": {
          "model_module": "@jupyter-widgets/base",
          "model_name": "LayoutModel",
          "model_module_version": "1.2.0",
          "state": {
            "_model_module": "@jupyter-widgets/base",
            "_model_module_version": "1.2.0",
            "_model_name": "LayoutModel",
            "_view_count": null,
            "_view_module": "@jupyter-widgets/base",
            "_view_module_version": "1.2.0",
            "_view_name": "LayoutView",
            "align_content": null,
            "align_items": null,
            "align_self": null,
            "border": null,
            "bottom": null,
            "display": null,
            "flex": null,
            "flex_flow": null,
            "grid_area": null,
            "grid_auto_columns": null,
            "grid_auto_flow": null,
            "grid_auto_rows": null,
            "grid_column": null,
            "grid_gap": null,
            "grid_row": null,
            "grid_template_areas": null,
            "grid_template_columns": null,
            "grid_template_rows": null,
            "height": null,
            "justify_content": null,
            "justify_items": null,
            "left": null,
            "margin": null,
            "max_height": null,
            "max_width": null,
            "min_height": null,
            "min_width": null,
            "object_fit": null,
            "object_position": null,
            "order": null,
            "overflow": null,
            "overflow_x": null,
            "overflow_y": null,
            "padding": null,
            "right": null,
            "top": null,
            "visibility": null,
            "width": null
          }
        },
        "9f6467a5bad94eacab5f4f3dfd5ae209": {
          "model_module": "@jupyter-widgets/controls",
          "model_name": "ProgressStyleModel",
          "model_module_version": "1.5.0",
          "state": {
            "_model_module": "@jupyter-widgets/controls",
            "_model_module_version": "1.5.0",
            "_model_name": "ProgressStyleModel",
            "_view_count": null,
            "_view_module": "@jupyter-widgets/base",
            "_view_module_version": "1.2.0",
            "_view_name": "StyleView",
            "bar_color": null,
            "description_width": ""
          }
        },
        "497e9223433f4a3d9c2a80b8be141dbd": {
          "model_module": "@jupyter-widgets/base",
          "model_name": "LayoutModel",
          "model_module_version": "1.2.0",
          "state": {
            "_model_module": "@jupyter-widgets/base",
            "_model_module_version": "1.2.0",
            "_model_name": "LayoutModel",
            "_view_count": null,
            "_view_module": "@jupyter-widgets/base",
            "_view_module_version": "1.2.0",
            "_view_name": "LayoutView",
            "align_content": null,
            "align_items": null,
            "align_self": null,
            "border": null,
            "bottom": null,
            "display": null,
            "flex": null,
            "flex_flow": null,
            "grid_area": null,
            "grid_auto_columns": null,
            "grid_auto_flow": null,
            "grid_auto_rows": null,
            "grid_column": null,
            "grid_gap": null,
            "grid_row": null,
            "grid_template_areas": null,
            "grid_template_columns": null,
            "grid_template_rows": null,
            "height": null,
            "justify_content": null,
            "justify_items": null,
            "left": null,
            "margin": null,
            "max_height": null,
            "max_width": null,
            "min_height": null,
            "min_width": null,
            "object_fit": null,
            "object_position": null,
            "order": null,
            "overflow": null,
            "overflow_x": null,
            "overflow_y": null,
            "padding": null,
            "right": null,
            "top": null,
            "visibility": null,
            "width": null
          }
        },
        "112700da86814f4cabab70c2714200c7": {
          "model_module": "@jupyter-widgets/controls",
          "model_name": "DescriptionStyleModel",
          "model_module_version": "1.5.0",
          "state": {
            "_model_module": "@jupyter-widgets/controls",
            "_model_module_version": "1.5.0",
            "_model_name": "DescriptionStyleModel",
            "_view_count": null,
            "_view_module": "@jupyter-widgets/base",
            "_view_module_version": "1.2.0",
            "_view_name": "StyleView",
            "description_width": ""
          }
        },
        "ead6cd668a104860aec836b468383c5a": {
          "model_module": "@jupyter-widgets/controls",
          "model_name": "HBoxModel",
          "model_module_version": "1.5.0",
          "state": {
            "_dom_classes": [],
            "_model_module": "@jupyter-widgets/controls",
            "_model_module_version": "1.5.0",
            "_model_name": "HBoxModel",
            "_view_count": null,
            "_view_module": "@jupyter-widgets/controls",
            "_view_module_version": "1.5.0",
            "_view_name": "HBoxView",
            "box_style": "",
            "children": [
              "IPY_MODEL_a9aefadc8d564b34b83d5bb3a11eeae0",
              "IPY_MODEL_f01255289962487c87de5bc311158f5c",
              "IPY_MODEL_ddd149cd8d8043328fd651a3260d0ce6"
            ],
            "layout": "IPY_MODEL_842d2d2c138f403cb4accd2e8c3fd34c"
          }
        },
        "a9aefadc8d564b34b83d5bb3a11eeae0": {
          "model_module": "@jupyter-widgets/controls",
          "model_name": "HTMLModel",
          "model_module_version": "1.5.0",
          "state": {
            "_dom_classes": [],
            "_model_module": "@jupyter-widgets/controls",
            "_model_module_version": "1.5.0",
            "_model_name": "HTMLModel",
            "_view_count": null,
            "_view_module": "@jupyter-widgets/controls",
            "_view_module_version": "1.5.0",
            "_view_name": "HTMLView",
            "description": "",
            "description_tooltip": null,
            "layout": "IPY_MODEL_a927d0a99eaa4a7e92530a31d5e72565",
            "placeholder": "​",
            "style": "IPY_MODEL_7c8cff97b1684ce595e0064f50da1737",
            "value": "Casting the dataset:  50%"
          }
        },
        "f01255289962487c87de5bc311158f5c": {
          "model_module": "@jupyter-widgets/controls",
          "model_name": "FloatProgressModel",
          "model_module_version": "1.5.0",
          "state": {
            "_dom_classes": [],
            "_model_module": "@jupyter-widgets/controls",
            "_model_module_version": "1.5.0",
            "_model_name": "FloatProgressModel",
            "_view_count": null,
            "_view_module": "@jupyter-widgets/controls",
            "_view_module_version": "1.5.0",
            "_view_name": "ProgressView",
            "bar_style": "danger",
            "description": "",
            "description_tooltip": null,
            "layout": "IPY_MODEL_ab18d6268a4e49aa81d0a5c2475c195c",
            "max": 2,
            "min": 0,
            "orientation": "horizontal",
            "style": "IPY_MODEL_a3b62d50ba794f5998caace6296d5ec3",
            "value": 1
          }
        },
        "ddd149cd8d8043328fd651a3260d0ce6": {
          "model_module": "@jupyter-widgets/controls",
          "model_name": "HTMLModel",
          "model_module_version": "1.5.0",
          "state": {
            "_dom_classes": [],
            "_model_module": "@jupyter-widgets/controls",
            "_model_module_version": "1.5.0",
            "_model_name": "HTMLModel",
            "_view_count": null,
            "_view_module": "@jupyter-widgets/controls",
            "_view_module_version": "1.5.0",
            "_view_name": "HTMLView",
            "description": "",
            "description_tooltip": null,
            "layout": "IPY_MODEL_20c0300b87d746758375734e05f1f4d0",
            "placeholder": "​",
            "style": "IPY_MODEL_fa67177bd93e4073bd7418569148fec0",
            "value": " 1/2 [00:00&lt;00:00, 13.66ba/s]"
          }
        },
        "842d2d2c138f403cb4accd2e8c3fd34c": {
          "model_module": "@jupyter-widgets/base",
          "model_name": "LayoutModel",
          "model_module_version": "1.2.0",
          "state": {
            "_model_module": "@jupyter-widgets/base",
            "_model_module_version": "1.2.0",
            "_model_name": "LayoutModel",
            "_view_count": null,
            "_view_module": "@jupyter-widgets/base",
            "_view_module_version": "1.2.0",
            "_view_name": "LayoutView",
            "align_content": null,
            "align_items": null,
            "align_self": null,
            "border": null,
            "bottom": null,
            "display": null,
            "flex": null,
            "flex_flow": null,
            "grid_area": null,
            "grid_auto_columns": null,
            "grid_auto_flow": null,
            "grid_auto_rows": null,
            "grid_column": null,
            "grid_gap": null,
            "grid_row": null,
            "grid_template_areas": null,
            "grid_template_columns": null,
            "grid_template_rows": null,
            "height": null,
            "justify_content": null,
            "justify_items": null,
            "left": null,
            "margin": null,
            "max_height": null,
            "max_width": null,
            "min_height": null,
            "min_width": null,
            "object_fit": null,
            "object_position": null,
            "order": null,
            "overflow": null,
            "overflow_x": null,
            "overflow_y": null,
            "padding": null,
            "right": null,
            "top": null,
            "visibility": null,
            "width": null
          }
        },
        "a927d0a99eaa4a7e92530a31d5e72565": {
          "model_module": "@jupyter-widgets/base",
          "model_name": "LayoutModel",
          "model_module_version": "1.2.0",
          "state": {
            "_model_module": "@jupyter-widgets/base",
            "_model_module_version": "1.2.0",
            "_model_name": "LayoutModel",
            "_view_count": null,
            "_view_module": "@jupyter-widgets/base",
            "_view_module_version": "1.2.0",
            "_view_name": "LayoutView",
            "align_content": null,
            "align_items": null,
            "align_self": null,
            "border": null,
            "bottom": null,
            "display": null,
            "flex": null,
            "flex_flow": null,
            "grid_area": null,
            "grid_auto_columns": null,
            "grid_auto_flow": null,
            "grid_auto_rows": null,
            "grid_column": null,
            "grid_gap": null,
            "grid_row": null,
            "grid_template_areas": null,
            "grid_template_columns": null,
            "grid_template_rows": null,
            "height": null,
            "justify_content": null,
            "justify_items": null,
            "left": null,
            "margin": null,
            "max_height": null,
            "max_width": null,
            "min_height": null,
            "min_width": null,
            "object_fit": null,
            "object_position": null,
            "order": null,
            "overflow": null,
            "overflow_x": null,
            "overflow_y": null,
            "padding": null,
            "right": null,
            "top": null,
            "visibility": null,
            "width": null
          }
        },
        "7c8cff97b1684ce595e0064f50da1737": {
          "model_module": "@jupyter-widgets/controls",
          "model_name": "DescriptionStyleModel",
          "model_module_version": "1.5.0",
          "state": {
            "_model_module": "@jupyter-widgets/controls",
            "_model_module_version": "1.5.0",
            "_model_name": "DescriptionStyleModel",
            "_view_count": null,
            "_view_module": "@jupyter-widgets/base",
            "_view_module_version": "1.2.0",
            "_view_name": "StyleView",
            "description_width": ""
          }
        },
        "ab18d6268a4e49aa81d0a5c2475c195c": {
          "model_module": "@jupyter-widgets/base",
          "model_name": "LayoutModel",
          "model_module_version": "1.2.0",
          "state": {
            "_model_module": "@jupyter-widgets/base",
            "_model_module_version": "1.2.0",
            "_model_name": "LayoutModel",
            "_view_count": null,
            "_view_module": "@jupyter-widgets/base",
            "_view_module_version": "1.2.0",
            "_view_name": "LayoutView",
            "align_content": null,
            "align_items": null,
            "align_self": null,
            "border": null,
            "bottom": null,
            "display": null,
            "flex": null,
            "flex_flow": null,
            "grid_area": null,
            "grid_auto_columns": null,
            "grid_auto_flow": null,
            "grid_auto_rows": null,
            "grid_column": null,
            "grid_gap": null,
            "grid_row": null,
            "grid_template_areas": null,
            "grid_template_columns": null,
            "grid_template_rows": null,
            "height": null,
            "justify_content": null,
            "justify_items": null,
            "left": null,
            "margin": null,
            "max_height": null,
            "max_width": null,
            "min_height": null,
            "min_width": null,
            "object_fit": null,
            "object_position": null,
            "order": null,
            "overflow": null,
            "overflow_x": null,
            "overflow_y": null,
            "padding": null,
            "right": null,
            "top": null,
            "visibility": null,
            "width": null
          }
        },
        "a3b62d50ba794f5998caace6296d5ec3": {
          "model_module": "@jupyter-widgets/controls",
          "model_name": "ProgressStyleModel",
          "model_module_version": "1.5.0",
          "state": {
            "_model_module": "@jupyter-widgets/controls",
            "_model_module_version": "1.5.0",
            "_model_name": "ProgressStyleModel",
            "_view_count": null,
            "_view_module": "@jupyter-widgets/base",
            "_view_module_version": "1.2.0",
            "_view_name": "StyleView",
            "bar_color": null,
            "description_width": ""
          }
        },
        "20c0300b87d746758375734e05f1f4d0": {
          "model_module": "@jupyter-widgets/base",
          "model_name": "LayoutModel",
          "model_module_version": "1.2.0",
          "state": {
            "_model_module": "@jupyter-widgets/base",
            "_model_module_version": "1.2.0",
            "_model_name": "LayoutModel",
            "_view_count": null,
            "_view_module": "@jupyter-widgets/base",
            "_view_module_version": "1.2.0",
            "_view_name": "LayoutView",
            "align_content": null,
            "align_items": null,
            "align_self": null,
            "border": null,
            "bottom": null,
            "display": null,
            "flex": null,
            "flex_flow": null,
            "grid_area": null,
            "grid_auto_columns": null,
            "grid_auto_flow": null,
            "grid_auto_rows": null,
            "grid_column": null,
            "grid_gap": null,
            "grid_row": null,
            "grid_template_areas": null,
            "grid_template_columns": null,
            "grid_template_rows": null,
            "height": null,
            "justify_content": null,
            "justify_items": null,
            "left": null,
            "margin": null,
            "max_height": null,
            "max_width": null,
            "min_height": null,
            "min_width": null,
            "object_fit": null,
            "object_position": null,
            "order": null,
            "overflow": null,
            "overflow_x": null,
            "overflow_y": null,
            "padding": null,
            "right": null,
            "top": null,
            "visibility": null,
            "width": null
          }
        },
        "fa67177bd93e4073bd7418569148fec0": {
          "model_module": "@jupyter-widgets/controls",
          "model_name": "DescriptionStyleModel",
          "model_module_version": "1.5.0",
          "state": {
            "_model_module": "@jupyter-widgets/controls",
            "_model_module_version": "1.5.0",
            "_model_name": "DescriptionStyleModel",
            "_view_count": null,
            "_view_module": "@jupyter-widgets/base",
            "_view_module_version": "1.2.0",
            "_view_name": "StyleView",
            "description_width": ""
          }
        },
        "f3e445073d7b47caa37c9790f939c156": {
          "model_module": "@jupyter-widgets/controls",
          "model_name": "HBoxModel",
          "model_module_version": "1.5.0",
          "state": {
            "_dom_classes": [],
            "_model_module": "@jupyter-widgets/controls",
            "_model_module_version": "1.5.0",
            "_model_name": "HBoxModel",
            "_view_count": null,
            "_view_module": "@jupyter-widgets/controls",
            "_view_module_version": "1.5.0",
            "_view_name": "HBoxView",
            "box_style": "",
            "children": [
              "IPY_MODEL_3a6395715a5142d68211e1e6a812b453",
              "IPY_MODEL_c529f5d32f01419f85f17b3f031322d7",
              "IPY_MODEL_5796e4c0b02b44eabfeae998a5a62d09"
            ],
            "layout": "IPY_MODEL_c33c8018563447b297a0f07a715383f0"
          }
        },
        "3a6395715a5142d68211e1e6a812b453": {
          "model_module": "@jupyter-widgets/controls",
          "model_name": "HTMLModel",
          "model_module_version": "1.5.0",
          "state": {
            "_dom_classes": [],
            "_model_module": "@jupyter-widgets/controls",
            "_model_module_version": "1.5.0",
            "_model_name": "HTMLModel",
            "_view_count": null,
            "_view_module": "@jupyter-widgets/controls",
            "_view_module_version": "1.5.0",
            "_view_name": "HTMLView",
            "description": "",
            "description_tooltip": null,
            "layout": "IPY_MODEL_e4d5213515be46c1a1ac433770733fcf",
            "placeholder": "​",
            "style": "IPY_MODEL_d3ea83bc67654a518b8be9c7b7992f67",
            "value": "Stringifying the column:  88%"
          }
        },
        "c529f5d32f01419f85f17b3f031322d7": {
          "model_module": "@jupyter-widgets/controls",
          "model_name": "FloatProgressModel",
          "model_module_version": "1.5.0",
          "state": {
            "_dom_classes": [],
            "_model_module": "@jupyter-widgets/controls",
            "_model_module_version": "1.5.0",
            "_model_name": "FloatProgressModel",
            "_view_count": null,
            "_view_module": "@jupyter-widgets/controls",
            "_view_module_version": "1.5.0",
            "_view_name": "ProgressView",
            "bar_style": "danger",
            "description": "",
            "description_tooltip": null,
            "layout": "IPY_MODEL_6ccb7d867fda439b865093347172ea28",
            "max": 8,
            "min": 0,
            "orientation": "horizontal",
            "style": "IPY_MODEL_fcb98c56c9bf44dbaec12d36e8c833bc",
            "value": 7
          }
        },
        "5796e4c0b02b44eabfeae998a5a62d09": {
          "model_module": "@jupyter-widgets/controls",
          "model_name": "HTMLModel",
          "model_module_version": "1.5.0",
          "state": {
            "_dom_classes": [],
            "_model_module": "@jupyter-widgets/controls",
            "_model_module_version": "1.5.0",
            "_model_name": "HTMLModel",
            "_view_count": null,
            "_view_module": "@jupyter-widgets/controls",
            "_view_module_version": "1.5.0",
            "_view_name": "HTMLView",
            "description": "",
            "description_tooltip": null,
            "layout": "IPY_MODEL_c60c9f840e7941f69d9fd205dd5dcf46",
            "placeholder": "​",
            "style": "IPY_MODEL_46b1b01a08d74e6994179428e5aea631",
            "value": " 7/8 [00:00&lt;00:00, 112.51ba/s]"
          }
        },
        "c33c8018563447b297a0f07a715383f0": {
          "model_module": "@jupyter-widgets/base",
          "model_name": "LayoutModel",
          "model_module_version": "1.2.0",
          "state": {
            "_model_module": "@jupyter-widgets/base",
            "_model_module_version": "1.2.0",
            "_model_name": "LayoutModel",
            "_view_count": null,
            "_view_module": "@jupyter-widgets/base",
            "_view_module_version": "1.2.0",
            "_view_name": "LayoutView",
            "align_content": null,
            "align_items": null,
            "align_self": null,
            "border": null,
            "bottom": null,
            "display": null,
            "flex": null,
            "flex_flow": null,
            "grid_area": null,
            "grid_auto_columns": null,
            "grid_auto_flow": null,
            "grid_auto_rows": null,
            "grid_column": null,
            "grid_gap": null,
            "grid_row": null,
            "grid_template_areas": null,
            "grid_template_columns": null,
            "grid_template_rows": null,
            "height": null,
            "justify_content": null,
            "justify_items": null,
            "left": null,
            "margin": null,
            "max_height": null,
            "max_width": null,
            "min_height": null,
            "min_width": null,
            "object_fit": null,
            "object_position": null,
            "order": null,
            "overflow": null,
            "overflow_x": null,
            "overflow_y": null,
            "padding": null,
            "right": null,
            "top": null,
            "visibility": null,
            "width": null
          }
        },
        "e4d5213515be46c1a1ac433770733fcf": {
          "model_module": "@jupyter-widgets/base",
          "model_name": "LayoutModel",
          "model_module_version": "1.2.0",
          "state": {
            "_model_module": "@jupyter-widgets/base",
            "_model_module_version": "1.2.0",
            "_model_name": "LayoutModel",
            "_view_count": null,
            "_view_module": "@jupyter-widgets/base",
            "_view_module_version": "1.2.0",
            "_view_name": "LayoutView",
            "align_content": null,
            "align_items": null,
            "align_self": null,
            "border": null,
            "bottom": null,
            "display": null,
            "flex": null,
            "flex_flow": null,
            "grid_area": null,
            "grid_auto_columns": null,
            "grid_auto_flow": null,
            "grid_auto_rows": null,
            "grid_column": null,
            "grid_gap": null,
            "grid_row": null,
            "grid_template_areas": null,
            "grid_template_columns": null,
            "grid_template_rows": null,
            "height": null,
            "justify_content": null,
            "justify_items": null,
            "left": null,
            "margin": null,
            "max_height": null,
            "max_width": null,
            "min_height": null,
            "min_width": null,
            "object_fit": null,
            "object_position": null,
            "order": null,
            "overflow": null,
            "overflow_x": null,
            "overflow_y": null,
            "padding": null,
            "right": null,
            "top": null,
            "visibility": null,
            "width": null
          }
        },
        "d3ea83bc67654a518b8be9c7b7992f67": {
          "model_module": "@jupyter-widgets/controls",
          "model_name": "DescriptionStyleModel",
          "model_module_version": "1.5.0",
          "state": {
            "_model_module": "@jupyter-widgets/controls",
            "_model_module_version": "1.5.0",
            "_model_name": "DescriptionStyleModel",
            "_view_count": null,
            "_view_module": "@jupyter-widgets/base",
            "_view_module_version": "1.2.0",
            "_view_name": "StyleView",
            "description_width": ""
          }
        },
        "6ccb7d867fda439b865093347172ea28": {
          "model_module": "@jupyter-widgets/base",
          "model_name": "LayoutModel",
          "model_module_version": "1.2.0",
          "state": {
            "_model_module": "@jupyter-widgets/base",
            "_model_module_version": "1.2.0",
            "_model_name": "LayoutModel",
            "_view_count": null,
            "_view_module": "@jupyter-widgets/base",
            "_view_module_version": "1.2.0",
            "_view_name": "LayoutView",
            "align_content": null,
            "align_items": null,
            "align_self": null,
            "border": null,
            "bottom": null,
            "display": null,
            "flex": null,
            "flex_flow": null,
            "grid_area": null,
            "grid_auto_columns": null,
            "grid_auto_flow": null,
            "grid_auto_rows": null,
            "grid_column": null,
            "grid_gap": null,
            "grid_row": null,
            "grid_template_areas": null,
            "grid_template_columns": null,
            "grid_template_rows": null,
            "height": null,
            "justify_content": null,
            "justify_items": null,
            "left": null,
            "margin": null,
            "max_height": null,
            "max_width": null,
            "min_height": null,
            "min_width": null,
            "object_fit": null,
            "object_position": null,
            "order": null,
            "overflow": null,
            "overflow_x": null,
            "overflow_y": null,
            "padding": null,
            "right": null,
            "top": null,
            "visibility": null,
            "width": null
          }
        },
        "fcb98c56c9bf44dbaec12d36e8c833bc": {
          "model_module": "@jupyter-widgets/controls",
          "model_name": "ProgressStyleModel",
          "model_module_version": "1.5.0",
          "state": {
            "_model_module": "@jupyter-widgets/controls",
            "_model_module_version": "1.5.0",
            "_model_name": "ProgressStyleModel",
            "_view_count": null,
            "_view_module": "@jupyter-widgets/base",
            "_view_module_version": "1.2.0",
            "_view_name": "StyleView",
            "bar_color": null,
            "description_width": ""
          }
        },
        "c60c9f840e7941f69d9fd205dd5dcf46": {
          "model_module": "@jupyter-widgets/base",
          "model_name": "LayoutModel",
          "model_module_version": "1.2.0",
          "state": {
            "_model_module": "@jupyter-widgets/base",
            "_model_module_version": "1.2.0",
            "_model_name": "LayoutModel",
            "_view_count": null,
            "_view_module": "@jupyter-widgets/base",
            "_view_module_version": "1.2.0",
            "_view_name": "LayoutView",
            "align_content": null,
            "align_items": null,
            "align_self": null,
            "border": null,
            "bottom": null,
            "display": null,
            "flex": null,
            "flex_flow": null,
            "grid_area": null,
            "grid_auto_columns": null,
            "grid_auto_flow": null,
            "grid_auto_rows": null,
            "grid_column": null,
            "grid_gap": null,
            "grid_row": null,
            "grid_template_areas": null,
            "grid_template_columns": null,
            "grid_template_rows": null,
            "height": null,
            "justify_content": null,
            "justify_items": null,
            "left": null,
            "margin": null,
            "max_height": null,
            "max_width": null,
            "min_height": null,
            "min_width": null,
            "object_fit": null,
            "object_position": null,
            "order": null,
            "overflow": null,
            "overflow_x": null,
            "overflow_y": null,
            "padding": null,
            "right": null,
            "top": null,
            "visibility": null,
            "width": null
          }
        },
        "46b1b01a08d74e6994179428e5aea631": {
          "model_module": "@jupyter-widgets/controls",
          "model_name": "DescriptionStyleModel",
          "model_module_version": "1.5.0",
          "state": {
            "_model_module": "@jupyter-widgets/controls",
            "_model_module_version": "1.5.0",
            "_model_name": "DescriptionStyleModel",
            "_view_count": null,
            "_view_module": "@jupyter-widgets/base",
            "_view_module_version": "1.2.0",
            "_view_name": "StyleView",
            "description_width": ""
          }
        },
        "0e9e20d7d5214547858195ee671b4293": {
          "model_module": "@jupyter-widgets/controls",
          "model_name": "HBoxModel",
          "model_module_version": "1.5.0",
          "state": {
            "_dom_classes": [],
            "_model_module": "@jupyter-widgets/controls",
            "_model_module_version": "1.5.0",
            "_model_name": "HBoxModel",
            "_view_count": null,
            "_view_module": "@jupyter-widgets/controls",
            "_view_module_version": "1.5.0",
            "_view_name": "HBoxView",
            "box_style": "",
            "children": [
              "IPY_MODEL_d14b31aeb7bd4ca4a1025b022151c01e",
              "IPY_MODEL_62515ed365144a859a980b2df32ec035",
              "IPY_MODEL_7c52ae231e1b4d27b1a812acc529d94b"
            ],
            "layout": "IPY_MODEL_50161a15228f45999482cb19e7ff814c"
          }
        },
        "d14b31aeb7bd4ca4a1025b022151c01e": {
          "model_module": "@jupyter-widgets/controls",
          "model_name": "HTMLModel",
          "model_module_version": "1.5.0",
          "state": {
            "_dom_classes": [],
            "_model_module": "@jupyter-widgets/controls",
            "_model_module_version": "1.5.0",
            "_model_name": "HTMLModel",
            "_view_count": null,
            "_view_module": "@jupyter-widgets/controls",
            "_view_module_version": "1.5.0",
            "_view_name": "HTMLView",
            "description": "",
            "description_tooltip": null,
            "layout": "IPY_MODEL_bb534f09338d49b9946065222db39446",
            "placeholder": "​",
            "style": "IPY_MODEL_4659b918d3974028822a209e00d70549",
            "value": "Casting to class labels:  88%"
          }
        },
        "62515ed365144a859a980b2df32ec035": {
          "model_module": "@jupyter-widgets/controls",
          "model_name": "FloatProgressModel",
          "model_module_version": "1.5.0",
          "state": {
            "_dom_classes": [],
            "_model_module": "@jupyter-widgets/controls",
            "_model_module_version": "1.5.0",
            "_model_name": "FloatProgressModel",
            "_view_count": null,
            "_view_module": "@jupyter-widgets/controls",
            "_view_module_version": "1.5.0",
            "_view_name": "ProgressView",
            "bar_style": "danger",
            "description": "",
            "description_tooltip": null,
            "layout": "IPY_MODEL_f983442afec84c88b95c940061a4c95a",
            "max": 8,
            "min": 0,
            "orientation": "horizontal",
            "style": "IPY_MODEL_411a6a32341941c283fc5700cc6a8599",
            "value": 7
          }
        },
        "7c52ae231e1b4d27b1a812acc529d94b": {
          "model_module": "@jupyter-widgets/controls",
          "model_name": "HTMLModel",
          "model_module_version": "1.5.0",
          "state": {
            "_dom_classes": [],
            "_model_module": "@jupyter-widgets/controls",
            "_model_module_version": "1.5.0",
            "_model_name": "HTMLModel",
            "_view_count": null,
            "_view_module": "@jupyter-widgets/controls",
            "_view_module_version": "1.5.0",
            "_view_name": "HTMLView",
            "description": "",
            "description_tooltip": null,
            "layout": "IPY_MODEL_9e31ccdfc626440192ff8421362a6d46",
            "placeholder": "​",
            "style": "IPY_MODEL_caf45fd04cdc49ebab61e1eebd43aab2",
            "value": " 7/8 [00:00&lt;00:00, 94.73ba/s]"
          }
        },
        "50161a15228f45999482cb19e7ff814c": {
          "model_module": "@jupyter-widgets/base",
          "model_name": "LayoutModel",
          "model_module_version": "1.2.0",
          "state": {
            "_model_module": "@jupyter-widgets/base",
            "_model_module_version": "1.2.0",
            "_model_name": "LayoutModel",
            "_view_count": null,
            "_view_module": "@jupyter-widgets/base",
            "_view_module_version": "1.2.0",
            "_view_name": "LayoutView",
            "align_content": null,
            "align_items": null,
            "align_self": null,
            "border": null,
            "bottom": null,
            "display": null,
            "flex": null,
            "flex_flow": null,
            "grid_area": null,
            "grid_auto_columns": null,
            "grid_auto_flow": null,
            "grid_auto_rows": null,
            "grid_column": null,
            "grid_gap": null,
            "grid_row": null,
            "grid_template_areas": null,
            "grid_template_columns": null,
            "grid_template_rows": null,
            "height": null,
            "justify_content": null,
            "justify_items": null,
            "left": null,
            "margin": null,
            "max_height": null,
            "max_width": null,
            "min_height": null,
            "min_width": null,
            "object_fit": null,
            "object_position": null,
            "order": null,
            "overflow": null,
            "overflow_x": null,
            "overflow_y": null,
            "padding": null,
            "right": null,
            "top": null,
            "visibility": null,
            "width": null
          }
        },
        "bb534f09338d49b9946065222db39446": {
          "model_module": "@jupyter-widgets/base",
          "model_name": "LayoutModel",
          "model_module_version": "1.2.0",
          "state": {
            "_model_module": "@jupyter-widgets/base",
            "_model_module_version": "1.2.0",
            "_model_name": "LayoutModel",
            "_view_count": null,
            "_view_module": "@jupyter-widgets/base",
            "_view_module_version": "1.2.0",
            "_view_name": "LayoutView",
            "align_content": null,
            "align_items": null,
            "align_self": null,
            "border": null,
            "bottom": null,
            "display": null,
            "flex": null,
            "flex_flow": null,
            "grid_area": null,
            "grid_auto_columns": null,
            "grid_auto_flow": null,
            "grid_auto_rows": null,
            "grid_column": null,
            "grid_gap": null,
            "grid_row": null,
            "grid_template_areas": null,
            "grid_template_columns": null,
            "grid_template_rows": null,
            "height": null,
            "justify_content": null,
            "justify_items": null,
            "left": null,
            "margin": null,
            "max_height": null,
            "max_width": null,
            "min_height": null,
            "min_width": null,
            "object_fit": null,
            "object_position": null,
            "order": null,
            "overflow": null,
            "overflow_x": null,
            "overflow_y": null,
            "padding": null,
            "right": null,
            "top": null,
            "visibility": null,
            "width": null
          }
        },
        "4659b918d3974028822a209e00d70549": {
          "model_module": "@jupyter-widgets/controls",
          "model_name": "DescriptionStyleModel",
          "model_module_version": "1.5.0",
          "state": {
            "_model_module": "@jupyter-widgets/controls",
            "_model_module_version": "1.5.0",
            "_model_name": "DescriptionStyleModel",
            "_view_count": null,
            "_view_module": "@jupyter-widgets/base",
            "_view_module_version": "1.2.0",
            "_view_name": "StyleView",
            "description_width": ""
          }
        },
        "f983442afec84c88b95c940061a4c95a": {
          "model_module": "@jupyter-widgets/base",
          "model_name": "LayoutModel",
          "model_module_version": "1.2.0",
          "state": {
            "_model_module": "@jupyter-widgets/base",
            "_model_module_version": "1.2.0",
            "_model_name": "LayoutModel",
            "_view_count": null,
            "_view_module": "@jupyter-widgets/base",
            "_view_module_version": "1.2.0",
            "_view_name": "LayoutView",
            "align_content": null,
            "align_items": null,
            "align_self": null,
            "border": null,
            "bottom": null,
            "display": null,
            "flex": null,
            "flex_flow": null,
            "grid_area": null,
            "grid_auto_columns": null,
            "grid_auto_flow": null,
            "grid_auto_rows": null,
            "grid_column": null,
            "grid_gap": null,
            "grid_row": null,
            "grid_template_areas": null,
            "grid_template_columns": null,
            "grid_template_rows": null,
            "height": null,
            "justify_content": null,
            "justify_items": null,
            "left": null,
            "margin": null,
            "max_height": null,
            "max_width": null,
            "min_height": null,
            "min_width": null,
            "object_fit": null,
            "object_position": null,
            "order": null,
            "overflow": null,
            "overflow_x": null,
            "overflow_y": null,
            "padding": null,
            "right": null,
            "top": null,
            "visibility": null,
            "width": null
          }
        },
        "411a6a32341941c283fc5700cc6a8599": {
          "model_module": "@jupyter-widgets/controls",
          "model_name": "ProgressStyleModel",
          "model_module_version": "1.5.0",
          "state": {
            "_model_module": "@jupyter-widgets/controls",
            "_model_module_version": "1.5.0",
            "_model_name": "ProgressStyleModel",
            "_view_count": null,
            "_view_module": "@jupyter-widgets/base",
            "_view_module_version": "1.2.0",
            "_view_name": "StyleView",
            "bar_color": null,
            "description_width": ""
          }
        },
        "9e31ccdfc626440192ff8421362a6d46": {
          "model_module": "@jupyter-widgets/base",
          "model_name": "LayoutModel",
          "model_module_version": "1.2.0",
          "state": {
            "_model_module": "@jupyter-widgets/base",
            "_model_module_version": "1.2.0",
            "_model_name": "LayoutModel",
            "_view_count": null,
            "_view_module": "@jupyter-widgets/base",
            "_view_module_version": "1.2.0",
            "_view_name": "LayoutView",
            "align_content": null,
            "align_items": null,
            "align_self": null,
            "border": null,
            "bottom": null,
            "display": null,
            "flex": null,
            "flex_flow": null,
            "grid_area": null,
            "grid_auto_columns": null,
            "grid_auto_flow": null,
            "grid_auto_rows": null,
            "grid_column": null,
            "grid_gap": null,
            "grid_row": null,
            "grid_template_areas": null,
            "grid_template_columns": null,
            "grid_template_rows": null,
            "height": null,
            "justify_content": null,
            "justify_items": null,
            "left": null,
            "margin": null,
            "max_height": null,
            "max_width": null,
            "min_height": null,
            "min_width": null,
            "object_fit": null,
            "object_position": null,
            "order": null,
            "overflow": null,
            "overflow_x": null,
            "overflow_y": null,
            "padding": null,
            "right": null,
            "top": null,
            "visibility": null,
            "width": null
          }
        },
        "caf45fd04cdc49ebab61e1eebd43aab2": {
          "model_module": "@jupyter-widgets/controls",
          "model_name": "DescriptionStyleModel",
          "model_module_version": "1.5.0",
          "state": {
            "_model_module": "@jupyter-widgets/controls",
            "_model_module_version": "1.5.0",
            "_model_name": "DescriptionStyleModel",
            "_view_count": null,
            "_view_module": "@jupyter-widgets/base",
            "_view_module_version": "1.2.0",
            "_view_name": "StyleView",
            "description_width": ""
          }
        },
        "fe28fc6c4aa44e0f94af0bde4ecbb50a": {
          "model_module": "@jupyter-widgets/controls",
          "model_name": "HBoxModel",
          "model_module_version": "1.5.0",
          "state": {
            "_dom_classes": [],
            "_model_module": "@jupyter-widgets/controls",
            "_model_module_version": "1.5.0",
            "_model_name": "HBoxModel",
            "_view_count": null,
            "_view_module": "@jupyter-widgets/controls",
            "_view_module_version": "1.5.0",
            "_view_name": "HBoxView",
            "box_style": "",
            "children": [
              "IPY_MODEL_d700d1ed6bd04ff68f83979dc9a777d5",
              "IPY_MODEL_cd2f4dfcb75e4d579e413f443f828326",
              "IPY_MODEL_336bc310c6984b03a540c1234dbdb1c1"
            ],
            "layout": "IPY_MODEL_0c92acf6f7aa4f38b42faee191b01544"
          }
        },
        "d700d1ed6bd04ff68f83979dc9a777d5": {
          "model_module": "@jupyter-widgets/controls",
          "model_name": "HTMLModel",
          "model_module_version": "1.5.0",
          "state": {
            "_dom_classes": [],
            "_model_module": "@jupyter-widgets/controls",
            "_model_module_version": "1.5.0",
            "_model_name": "HTMLModel",
            "_view_count": null,
            "_view_module": "@jupyter-widgets/controls",
            "_view_module_version": "1.5.0",
            "_view_name": "HTMLView",
            "description": "",
            "description_tooltip": null,
            "layout": "IPY_MODEL_08c5dda78b3b42f9967f2c7a7aa6893b",
            "placeholder": "​",
            "style": "IPY_MODEL_f00678aa340b431ba89c07839fe8b26c",
            "value": "Casting the dataset:   0%"
          }
        },
        "cd2f4dfcb75e4d579e413f443f828326": {
          "model_module": "@jupyter-widgets/controls",
          "model_name": "FloatProgressModel",
          "model_module_version": "1.5.0",
          "state": {
            "_dom_classes": [],
            "_model_module": "@jupyter-widgets/controls",
            "_model_module_version": "1.5.0",
            "_model_name": "FloatProgressModel",
            "_view_count": null,
            "_view_module": "@jupyter-widgets/controls",
            "_view_module_version": "1.5.0",
            "_view_name": "ProgressView",
            "bar_style": "danger",
            "description": "",
            "description_tooltip": null,
            "layout": "IPY_MODEL_64d8129199be46dba81a29298bfd6305",
            "max": 1,
            "min": 0,
            "orientation": "horizontal",
            "style": "IPY_MODEL_a09d6cfbc1494e45873dcef51ddc3478",
            "value": 0
          }
        },
        "336bc310c6984b03a540c1234dbdb1c1": {
          "model_module": "@jupyter-widgets/controls",
          "model_name": "HTMLModel",
          "model_module_version": "1.5.0",
          "state": {
            "_dom_classes": [],
            "_model_module": "@jupyter-widgets/controls",
            "_model_module_version": "1.5.0",
            "_model_name": "HTMLModel",
            "_view_count": null,
            "_view_module": "@jupyter-widgets/controls",
            "_view_module_version": "1.5.0",
            "_view_name": "HTMLView",
            "description": "",
            "description_tooltip": null,
            "layout": "IPY_MODEL_e4f3acaf0f69409c804072342d9f6f10",
            "placeholder": "​",
            "style": "IPY_MODEL_f1993046be5d4394af622fbdebf93e15",
            "value": " 0/1 [00:00&lt;?, ?ba/s]"
          }
        },
        "0c92acf6f7aa4f38b42faee191b01544": {
          "model_module": "@jupyter-widgets/base",
          "model_name": "LayoutModel",
          "model_module_version": "1.2.0",
          "state": {
            "_model_module": "@jupyter-widgets/base",
            "_model_module_version": "1.2.0",
            "_model_name": "LayoutModel",
            "_view_count": null,
            "_view_module": "@jupyter-widgets/base",
            "_view_module_version": "1.2.0",
            "_view_name": "LayoutView",
            "align_content": null,
            "align_items": null,
            "align_self": null,
            "border": null,
            "bottom": null,
            "display": null,
            "flex": null,
            "flex_flow": null,
            "grid_area": null,
            "grid_auto_columns": null,
            "grid_auto_flow": null,
            "grid_auto_rows": null,
            "grid_column": null,
            "grid_gap": null,
            "grid_row": null,
            "grid_template_areas": null,
            "grid_template_columns": null,
            "grid_template_rows": null,
            "height": null,
            "justify_content": null,
            "justify_items": null,
            "left": null,
            "margin": null,
            "max_height": null,
            "max_width": null,
            "min_height": null,
            "min_width": null,
            "object_fit": null,
            "object_position": null,
            "order": null,
            "overflow": null,
            "overflow_x": null,
            "overflow_y": null,
            "padding": null,
            "right": null,
            "top": null,
            "visibility": null,
            "width": null
          }
        },
        "08c5dda78b3b42f9967f2c7a7aa6893b": {
          "model_module": "@jupyter-widgets/base",
          "model_name": "LayoutModel",
          "model_module_version": "1.2.0",
          "state": {
            "_model_module": "@jupyter-widgets/base",
            "_model_module_version": "1.2.0",
            "_model_name": "LayoutModel",
            "_view_count": null,
            "_view_module": "@jupyter-widgets/base",
            "_view_module_version": "1.2.0",
            "_view_name": "LayoutView",
            "align_content": null,
            "align_items": null,
            "align_self": null,
            "border": null,
            "bottom": null,
            "display": null,
            "flex": null,
            "flex_flow": null,
            "grid_area": null,
            "grid_auto_columns": null,
            "grid_auto_flow": null,
            "grid_auto_rows": null,
            "grid_column": null,
            "grid_gap": null,
            "grid_row": null,
            "grid_template_areas": null,
            "grid_template_columns": null,
            "grid_template_rows": null,
            "height": null,
            "justify_content": null,
            "justify_items": null,
            "left": null,
            "margin": null,
            "max_height": null,
            "max_width": null,
            "min_height": null,
            "min_width": null,
            "object_fit": null,
            "object_position": null,
            "order": null,
            "overflow": null,
            "overflow_x": null,
            "overflow_y": null,
            "padding": null,
            "right": null,
            "top": null,
            "visibility": null,
            "width": null
          }
        },
        "f00678aa340b431ba89c07839fe8b26c": {
          "model_module": "@jupyter-widgets/controls",
          "model_name": "DescriptionStyleModel",
          "model_module_version": "1.5.0",
          "state": {
            "_model_module": "@jupyter-widgets/controls",
            "_model_module_version": "1.5.0",
            "_model_name": "DescriptionStyleModel",
            "_view_count": null,
            "_view_module": "@jupyter-widgets/base",
            "_view_module_version": "1.2.0",
            "_view_name": "StyleView",
            "description_width": ""
          }
        },
        "64d8129199be46dba81a29298bfd6305": {
          "model_module": "@jupyter-widgets/base",
          "model_name": "LayoutModel",
          "model_module_version": "1.2.0",
          "state": {
            "_model_module": "@jupyter-widgets/base",
            "_model_module_version": "1.2.0",
            "_model_name": "LayoutModel",
            "_view_count": null,
            "_view_module": "@jupyter-widgets/base",
            "_view_module_version": "1.2.0",
            "_view_name": "LayoutView",
            "align_content": null,
            "align_items": null,
            "align_self": null,
            "border": null,
            "bottom": null,
            "display": null,
            "flex": null,
            "flex_flow": null,
            "grid_area": null,
            "grid_auto_columns": null,
            "grid_auto_flow": null,
            "grid_auto_rows": null,
            "grid_column": null,
            "grid_gap": null,
            "grid_row": null,
            "grid_template_areas": null,
            "grid_template_columns": null,
            "grid_template_rows": null,
            "height": null,
            "justify_content": null,
            "justify_items": null,
            "left": null,
            "margin": null,
            "max_height": null,
            "max_width": null,
            "min_height": null,
            "min_width": null,
            "object_fit": null,
            "object_position": null,
            "order": null,
            "overflow": null,
            "overflow_x": null,
            "overflow_y": null,
            "padding": null,
            "right": null,
            "top": null,
            "visibility": null,
            "width": null
          }
        },
        "a09d6cfbc1494e45873dcef51ddc3478": {
          "model_module": "@jupyter-widgets/controls",
          "model_name": "ProgressStyleModel",
          "model_module_version": "1.5.0",
          "state": {
            "_model_module": "@jupyter-widgets/controls",
            "_model_module_version": "1.5.0",
            "_model_name": "ProgressStyleModel",
            "_view_count": null,
            "_view_module": "@jupyter-widgets/base",
            "_view_module_version": "1.2.0",
            "_view_name": "StyleView",
            "bar_color": null,
            "description_width": ""
          }
        },
        "e4f3acaf0f69409c804072342d9f6f10": {
          "model_module": "@jupyter-widgets/base",
          "model_name": "LayoutModel",
          "model_module_version": "1.2.0",
          "state": {
            "_model_module": "@jupyter-widgets/base",
            "_model_module_version": "1.2.0",
            "_model_name": "LayoutModel",
            "_view_count": null,
            "_view_module": "@jupyter-widgets/base",
            "_view_module_version": "1.2.0",
            "_view_name": "LayoutView",
            "align_content": null,
            "align_items": null,
            "align_self": null,
            "border": null,
            "bottom": null,
            "display": null,
            "flex": null,
            "flex_flow": null,
            "grid_area": null,
            "grid_auto_columns": null,
            "grid_auto_flow": null,
            "grid_auto_rows": null,
            "grid_column": null,
            "grid_gap": null,
            "grid_row": null,
            "grid_template_areas": null,
            "grid_template_columns": null,
            "grid_template_rows": null,
            "height": null,
            "justify_content": null,
            "justify_items": null,
            "left": null,
            "margin": null,
            "max_height": null,
            "max_width": null,
            "min_height": null,
            "min_width": null,
            "object_fit": null,
            "object_position": null,
            "order": null,
            "overflow": null,
            "overflow_x": null,
            "overflow_y": null,
            "padding": null,
            "right": null,
            "top": null,
            "visibility": null,
            "width": null
          }
        },
        "f1993046be5d4394af622fbdebf93e15": {
          "model_module": "@jupyter-widgets/controls",
          "model_name": "DescriptionStyleModel",
          "model_module_version": "1.5.0",
          "state": {
            "_model_module": "@jupyter-widgets/controls",
            "_model_module_version": "1.5.0",
            "_model_name": "DescriptionStyleModel",
            "_view_count": null,
            "_view_module": "@jupyter-widgets/base",
            "_view_module_version": "1.2.0",
            "_view_name": "StyleView",
            "description_width": ""
          }
        },
        "47217050b12640f992f6838f7819a6c1": {
          "model_module": "@jupyter-widgets/controls",
          "model_name": "HBoxModel",
          "model_module_version": "1.5.0",
          "state": {
            "_dom_classes": [],
            "_model_module": "@jupyter-widgets/controls",
            "_model_module_version": "1.5.0",
            "_model_name": "HBoxModel",
            "_view_count": null,
            "_view_module": "@jupyter-widgets/controls",
            "_view_module_version": "1.5.0",
            "_view_name": "HBoxView",
            "box_style": "",
            "children": [
              "IPY_MODEL_0b3bc74b30fd4afb986584fee909b9db",
              "IPY_MODEL_f408c0dea4d348fea0056c6aaad1c05f",
              "IPY_MODEL_ae91b0a7e3744d07a1cf755aed56abba"
            ],
            "layout": "IPY_MODEL_5ad6b9d9dbfb409598242744e0943bce"
          }
        },
        "0b3bc74b30fd4afb986584fee909b9db": {
          "model_module": "@jupyter-widgets/controls",
          "model_name": "HTMLModel",
          "model_module_version": "1.5.0",
          "state": {
            "_dom_classes": [],
            "_model_module": "@jupyter-widgets/controls",
            "_model_module_version": "1.5.0",
            "_model_name": "HTMLModel",
            "_view_count": null,
            "_view_module": "@jupyter-widgets/controls",
            "_view_module_version": "1.5.0",
            "_view_name": "HTMLView",
            "description": "",
            "description_tooltip": null,
            "layout": "IPY_MODEL_2470ac0d3d6742ecb2f262f333512dcd",
            "placeholder": "​",
            "style": "IPY_MODEL_e0d87ba3e39f4d1e9634a5f716750bad",
            "value": "Downloading: 100%"
          }
        },
        "f408c0dea4d348fea0056c6aaad1c05f": {
          "model_module": "@jupyter-widgets/controls",
          "model_name": "FloatProgressModel",
          "model_module_version": "1.5.0",
          "state": {
            "_dom_classes": [],
            "_model_module": "@jupyter-widgets/controls",
            "_model_module_version": "1.5.0",
            "_model_name": "FloatProgressModel",
            "_view_count": null,
            "_view_module": "@jupyter-widgets/controls",
            "_view_module_version": "1.5.0",
            "_view_name": "ProgressView",
            "bar_style": "success",
            "description": "",
            "description_tooltip": null,
            "layout": "IPY_MODEL_605a87911a8d4dde80c1acd5404c5b29",
            "max": 28,
            "min": 0,
            "orientation": "horizontal",
            "style": "IPY_MODEL_16bef34f31f94e23a583f82c9876924e",
            "value": 28
          }
        },
        "ae91b0a7e3744d07a1cf755aed56abba": {
          "model_module": "@jupyter-widgets/controls",
          "model_name": "HTMLModel",
          "model_module_version": "1.5.0",
          "state": {
            "_dom_classes": [],
            "_model_module": "@jupyter-widgets/controls",
            "_model_module_version": "1.5.0",
            "_model_name": "HTMLModel",
            "_view_count": null,
            "_view_module": "@jupyter-widgets/controls",
            "_view_module_version": "1.5.0",
            "_view_name": "HTMLView",
            "description": "",
            "description_tooltip": null,
            "layout": "IPY_MODEL_0963d66ac43348fc8d568dadd16a041e",
            "placeholder": "​",
            "style": "IPY_MODEL_669d2c6fc1204fe293db86484368526e",
            "value": " 28.0/28.0 [00:00&lt;00:00, 998B/s]"
          }
        },
        "5ad6b9d9dbfb409598242744e0943bce": {
          "model_module": "@jupyter-widgets/base",
          "model_name": "LayoutModel",
          "model_module_version": "1.2.0",
          "state": {
            "_model_module": "@jupyter-widgets/base",
            "_model_module_version": "1.2.0",
            "_model_name": "LayoutModel",
            "_view_count": null,
            "_view_module": "@jupyter-widgets/base",
            "_view_module_version": "1.2.0",
            "_view_name": "LayoutView",
            "align_content": null,
            "align_items": null,
            "align_self": null,
            "border": null,
            "bottom": null,
            "display": null,
            "flex": null,
            "flex_flow": null,
            "grid_area": null,
            "grid_auto_columns": null,
            "grid_auto_flow": null,
            "grid_auto_rows": null,
            "grid_column": null,
            "grid_gap": null,
            "grid_row": null,
            "grid_template_areas": null,
            "grid_template_columns": null,
            "grid_template_rows": null,
            "height": null,
            "justify_content": null,
            "justify_items": null,
            "left": null,
            "margin": null,
            "max_height": null,
            "max_width": null,
            "min_height": null,
            "min_width": null,
            "object_fit": null,
            "object_position": null,
            "order": null,
            "overflow": null,
            "overflow_x": null,
            "overflow_y": null,
            "padding": null,
            "right": null,
            "top": null,
            "visibility": null,
            "width": null
          }
        },
        "2470ac0d3d6742ecb2f262f333512dcd": {
          "model_module": "@jupyter-widgets/base",
          "model_name": "LayoutModel",
          "model_module_version": "1.2.0",
          "state": {
            "_model_module": "@jupyter-widgets/base",
            "_model_module_version": "1.2.0",
            "_model_name": "LayoutModel",
            "_view_count": null,
            "_view_module": "@jupyter-widgets/base",
            "_view_module_version": "1.2.0",
            "_view_name": "LayoutView",
            "align_content": null,
            "align_items": null,
            "align_self": null,
            "border": null,
            "bottom": null,
            "display": null,
            "flex": null,
            "flex_flow": null,
            "grid_area": null,
            "grid_auto_columns": null,
            "grid_auto_flow": null,
            "grid_auto_rows": null,
            "grid_column": null,
            "grid_gap": null,
            "grid_row": null,
            "grid_template_areas": null,
            "grid_template_columns": null,
            "grid_template_rows": null,
            "height": null,
            "justify_content": null,
            "justify_items": null,
            "left": null,
            "margin": null,
            "max_height": null,
            "max_width": null,
            "min_height": null,
            "min_width": null,
            "object_fit": null,
            "object_position": null,
            "order": null,
            "overflow": null,
            "overflow_x": null,
            "overflow_y": null,
            "padding": null,
            "right": null,
            "top": null,
            "visibility": null,
            "width": null
          }
        },
        "e0d87ba3e39f4d1e9634a5f716750bad": {
          "model_module": "@jupyter-widgets/controls",
          "model_name": "DescriptionStyleModel",
          "model_module_version": "1.5.0",
          "state": {
            "_model_module": "@jupyter-widgets/controls",
            "_model_module_version": "1.5.0",
            "_model_name": "DescriptionStyleModel",
            "_view_count": null,
            "_view_module": "@jupyter-widgets/base",
            "_view_module_version": "1.2.0",
            "_view_name": "StyleView",
            "description_width": ""
          }
        },
        "605a87911a8d4dde80c1acd5404c5b29": {
          "model_module": "@jupyter-widgets/base",
          "model_name": "LayoutModel",
          "model_module_version": "1.2.0",
          "state": {
            "_model_module": "@jupyter-widgets/base",
            "_model_module_version": "1.2.0",
            "_model_name": "LayoutModel",
            "_view_count": null,
            "_view_module": "@jupyter-widgets/base",
            "_view_module_version": "1.2.0",
            "_view_name": "LayoutView",
            "align_content": null,
            "align_items": null,
            "align_self": null,
            "border": null,
            "bottom": null,
            "display": null,
            "flex": null,
            "flex_flow": null,
            "grid_area": null,
            "grid_auto_columns": null,
            "grid_auto_flow": null,
            "grid_auto_rows": null,
            "grid_column": null,
            "grid_gap": null,
            "grid_row": null,
            "grid_template_areas": null,
            "grid_template_columns": null,
            "grid_template_rows": null,
            "height": null,
            "justify_content": null,
            "justify_items": null,
            "left": null,
            "margin": null,
            "max_height": null,
            "max_width": null,
            "min_height": null,
            "min_width": null,
            "object_fit": null,
            "object_position": null,
            "order": null,
            "overflow": null,
            "overflow_x": null,
            "overflow_y": null,
            "padding": null,
            "right": null,
            "top": null,
            "visibility": null,
            "width": null
          }
        },
        "16bef34f31f94e23a583f82c9876924e": {
          "model_module": "@jupyter-widgets/controls",
          "model_name": "ProgressStyleModel",
          "model_module_version": "1.5.0",
          "state": {
            "_model_module": "@jupyter-widgets/controls",
            "_model_module_version": "1.5.0",
            "_model_name": "ProgressStyleModel",
            "_view_count": null,
            "_view_module": "@jupyter-widgets/base",
            "_view_module_version": "1.2.0",
            "_view_name": "StyleView",
            "bar_color": null,
            "description_width": ""
          }
        },
        "0963d66ac43348fc8d568dadd16a041e": {
          "model_module": "@jupyter-widgets/base",
          "model_name": "LayoutModel",
          "model_module_version": "1.2.0",
          "state": {
            "_model_module": "@jupyter-widgets/base",
            "_model_module_version": "1.2.0",
            "_model_name": "LayoutModel",
            "_view_count": null,
            "_view_module": "@jupyter-widgets/base",
            "_view_module_version": "1.2.0",
            "_view_name": "LayoutView",
            "align_content": null,
            "align_items": null,
            "align_self": null,
            "border": null,
            "bottom": null,
            "display": null,
            "flex": null,
            "flex_flow": null,
            "grid_area": null,
            "grid_auto_columns": null,
            "grid_auto_flow": null,
            "grid_auto_rows": null,
            "grid_column": null,
            "grid_gap": null,
            "grid_row": null,
            "grid_template_areas": null,
            "grid_template_columns": null,
            "grid_template_rows": null,
            "height": null,
            "justify_content": null,
            "justify_items": null,
            "left": null,
            "margin": null,
            "max_height": null,
            "max_width": null,
            "min_height": null,
            "min_width": null,
            "object_fit": null,
            "object_position": null,
            "order": null,
            "overflow": null,
            "overflow_x": null,
            "overflow_y": null,
            "padding": null,
            "right": null,
            "top": null,
            "visibility": null,
            "width": null
          }
        },
        "669d2c6fc1204fe293db86484368526e": {
          "model_module": "@jupyter-widgets/controls",
          "model_name": "DescriptionStyleModel",
          "model_module_version": "1.5.0",
          "state": {
            "_model_module": "@jupyter-widgets/controls",
            "_model_module_version": "1.5.0",
            "_model_name": "DescriptionStyleModel",
            "_view_count": null,
            "_view_module": "@jupyter-widgets/base",
            "_view_module_version": "1.2.0",
            "_view_name": "StyleView",
            "description_width": ""
          }
        },
        "cfa3abdceaaf4b08bd5dc8c3b5a4ec9b": {
          "model_module": "@jupyter-widgets/controls",
          "model_name": "HBoxModel",
          "model_module_version": "1.5.0",
          "state": {
            "_dom_classes": [],
            "_model_module": "@jupyter-widgets/controls",
            "_model_module_version": "1.5.0",
            "_model_name": "HBoxModel",
            "_view_count": null,
            "_view_module": "@jupyter-widgets/controls",
            "_view_module_version": "1.5.0",
            "_view_name": "HBoxView",
            "box_style": "",
            "children": [
              "IPY_MODEL_4c448ebcd82e4bf49b212a9c8e888a59",
              "IPY_MODEL_b3e9717ac7bb4d2a94a8e12d91f3dae2",
              "IPY_MODEL_588525525c75405594fda44cac163a86"
            ],
            "layout": "IPY_MODEL_2ce36dea836449febf6959a404534c4b"
          }
        },
        "4c448ebcd82e4bf49b212a9c8e888a59": {
          "model_module": "@jupyter-widgets/controls",
          "model_name": "HTMLModel",
          "model_module_version": "1.5.0",
          "state": {
            "_dom_classes": [],
            "_model_module": "@jupyter-widgets/controls",
            "_model_module_version": "1.5.0",
            "_model_name": "HTMLModel",
            "_view_count": null,
            "_view_module": "@jupyter-widgets/controls",
            "_view_module_version": "1.5.0",
            "_view_name": "HTMLView",
            "description": "",
            "description_tooltip": null,
            "layout": "IPY_MODEL_e9fadb7ba70f4c81b40c75e5025b68de",
            "placeholder": "​",
            "style": "IPY_MODEL_a53ba1a1fe334d139006946f38e0a25c",
            "value": "Downloading: 100%"
          }
        },
        "b3e9717ac7bb4d2a94a8e12d91f3dae2": {
          "model_module": "@jupyter-widgets/controls",
          "model_name": "FloatProgressModel",
          "model_module_version": "1.5.0",
          "state": {
            "_dom_classes": [],
            "_model_module": "@jupyter-widgets/controls",
            "_model_module_version": "1.5.0",
            "_model_name": "FloatProgressModel",
            "_view_count": null,
            "_view_module": "@jupyter-widgets/controls",
            "_view_module_version": "1.5.0",
            "_view_name": "ProgressView",
            "bar_style": "success",
            "description": "",
            "description_tooltip": null,
            "layout": "IPY_MODEL_93f64c28fd014c3386dadd8b4ea100f1",
            "max": 483,
            "min": 0,
            "orientation": "horizontal",
            "style": "IPY_MODEL_c2ef5584dd13465f80115c78f01156a4",
            "value": 483
          }
        },
        "588525525c75405594fda44cac163a86": {
          "model_module": "@jupyter-widgets/controls",
          "model_name": "HTMLModel",
          "model_module_version": "1.5.0",
          "state": {
            "_dom_classes": [],
            "_model_module": "@jupyter-widgets/controls",
            "_model_module_version": "1.5.0",
            "_model_name": "HTMLModel",
            "_view_count": null,
            "_view_module": "@jupyter-widgets/controls",
            "_view_module_version": "1.5.0",
            "_view_name": "HTMLView",
            "description": "",
            "description_tooltip": null,
            "layout": "IPY_MODEL_b93b81813de445d88307a0677a3737fa",
            "placeholder": "​",
            "style": "IPY_MODEL_8ef8609634654fe388123f37189819cb",
            "value": " 483/483 [00:00&lt;00:00, 18.0kB/s]"
          }
        },
        "2ce36dea836449febf6959a404534c4b": {
          "model_module": "@jupyter-widgets/base",
          "model_name": "LayoutModel",
          "model_module_version": "1.2.0",
          "state": {
            "_model_module": "@jupyter-widgets/base",
            "_model_module_version": "1.2.0",
            "_model_name": "LayoutModel",
            "_view_count": null,
            "_view_module": "@jupyter-widgets/base",
            "_view_module_version": "1.2.0",
            "_view_name": "LayoutView",
            "align_content": null,
            "align_items": null,
            "align_self": null,
            "border": null,
            "bottom": null,
            "display": null,
            "flex": null,
            "flex_flow": null,
            "grid_area": null,
            "grid_auto_columns": null,
            "grid_auto_flow": null,
            "grid_auto_rows": null,
            "grid_column": null,
            "grid_gap": null,
            "grid_row": null,
            "grid_template_areas": null,
            "grid_template_columns": null,
            "grid_template_rows": null,
            "height": null,
            "justify_content": null,
            "justify_items": null,
            "left": null,
            "margin": null,
            "max_height": null,
            "max_width": null,
            "min_height": null,
            "min_width": null,
            "object_fit": null,
            "object_position": null,
            "order": null,
            "overflow": null,
            "overflow_x": null,
            "overflow_y": null,
            "padding": null,
            "right": null,
            "top": null,
            "visibility": null,
            "width": null
          }
        },
        "e9fadb7ba70f4c81b40c75e5025b68de": {
          "model_module": "@jupyter-widgets/base",
          "model_name": "LayoutModel",
          "model_module_version": "1.2.0",
          "state": {
            "_model_module": "@jupyter-widgets/base",
            "_model_module_version": "1.2.0",
            "_model_name": "LayoutModel",
            "_view_count": null,
            "_view_module": "@jupyter-widgets/base",
            "_view_module_version": "1.2.0",
            "_view_name": "LayoutView",
            "align_content": null,
            "align_items": null,
            "align_self": null,
            "border": null,
            "bottom": null,
            "display": null,
            "flex": null,
            "flex_flow": null,
            "grid_area": null,
            "grid_auto_columns": null,
            "grid_auto_flow": null,
            "grid_auto_rows": null,
            "grid_column": null,
            "grid_gap": null,
            "grid_row": null,
            "grid_template_areas": null,
            "grid_template_columns": null,
            "grid_template_rows": null,
            "height": null,
            "justify_content": null,
            "justify_items": null,
            "left": null,
            "margin": null,
            "max_height": null,
            "max_width": null,
            "min_height": null,
            "min_width": null,
            "object_fit": null,
            "object_position": null,
            "order": null,
            "overflow": null,
            "overflow_x": null,
            "overflow_y": null,
            "padding": null,
            "right": null,
            "top": null,
            "visibility": null,
            "width": null
          }
        },
        "a53ba1a1fe334d139006946f38e0a25c": {
          "model_module": "@jupyter-widgets/controls",
          "model_name": "DescriptionStyleModel",
          "model_module_version": "1.5.0",
          "state": {
            "_model_module": "@jupyter-widgets/controls",
            "_model_module_version": "1.5.0",
            "_model_name": "DescriptionStyleModel",
            "_view_count": null,
            "_view_module": "@jupyter-widgets/base",
            "_view_module_version": "1.2.0",
            "_view_name": "StyleView",
            "description_width": ""
          }
        },
        "93f64c28fd014c3386dadd8b4ea100f1": {
          "model_module": "@jupyter-widgets/base",
          "model_name": "LayoutModel",
          "model_module_version": "1.2.0",
          "state": {
            "_model_module": "@jupyter-widgets/base",
            "_model_module_version": "1.2.0",
            "_model_name": "LayoutModel",
            "_view_count": null,
            "_view_module": "@jupyter-widgets/base",
            "_view_module_version": "1.2.0",
            "_view_name": "LayoutView",
            "align_content": null,
            "align_items": null,
            "align_self": null,
            "border": null,
            "bottom": null,
            "display": null,
            "flex": null,
            "flex_flow": null,
            "grid_area": null,
            "grid_auto_columns": null,
            "grid_auto_flow": null,
            "grid_auto_rows": null,
            "grid_column": null,
            "grid_gap": null,
            "grid_row": null,
            "grid_template_areas": null,
            "grid_template_columns": null,
            "grid_template_rows": null,
            "height": null,
            "justify_content": null,
            "justify_items": null,
            "left": null,
            "margin": null,
            "max_height": null,
            "max_width": null,
            "min_height": null,
            "min_width": null,
            "object_fit": null,
            "object_position": null,
            "order": null,
            "overflow": null,
            "overflow_x": null,
            "overflow_y": null,
            "padding": null,
            "right": null,
            "top": null,
            "visibility": null,
            "width": null
          }
        },
        "c2ef5584dd13465f80115c78f01156a4": {
          "model_module": "@jupyter-widgets/controls",
          "model_name": "ProgressStyleModel",
          "model_module_version": "1.5.0",
          "state": {
            "_model_module": "@jupyter-widgets/controls",
            "_model_module_version": "1.5.0",
            "_model_name": "ProgressStyleModel",
            "_view_count": null,
            "_view_module": "@jupyter-widgets/base",
            "_view_module_version": "1.2.0",
            "_view_name": "StyleView",
            "bar_color": null,
            "description_width": ""
          }
        },
        "b93b81813de445d88307a0677a3737fa": {
          "model_module": "@jupyter-widgets/base",
          "model_name": "LayoutModel",
          "model_module_version": "1.2.0",
          "state": {
            "_model_module": "@jupyter-widgets/base",
            "_model_module_version": "1.2.0",
            "_model_name": "LayoutModel",
            "_view_count": null,
            "_view_module": "@jupyter-widgets/base",
            "_view_module_version": "1.2.0",
            "_view_name": "LayoutView",
            "align_content": null,
            "align_items": null,
            "align_self": null,
            "border": null,
            "bottom": null,
            "display": null,
            "flex": null,
            "flex_flow": null,
            "grid_area": null,
            "grid_auto_columns": null,
            "grid_auto_flow": null,
            "grid_auto_rows": null,
            "grid_column": null,
            "grid_gap": null,
            "grid_row": null,
            "grid_template_areas": null,
            "grid_template_columns": null,
            "grid_template_rows": null,
            "height": null,
            "justify_content": null,
            "justify_items": null,
            "left": null,
            "margin": null,
            "max_height": null,
            "max_width": null,
            "min_height": null,
            "min_width": null,
            "object_fit": null,
            "object_position": null,
            "order": null,
            "overflow": null,
            "overflow_x": null,
            "overflow_y": null,
            "padding": null,
            "right": null,
            "top": null,
            "visibility": null,
            "width": null
          }
        },
        "8ef8609634654fe388123f37189819cb": {
          "model_module": "@jupyter-widgets/controls",
          "model_name": "DescriptionStyleModel",
          "model_module_version": "1.5.0",
          "state": {
            "_model_module": "@jupyter-widgets/controls",
            "_model_module_version": "1.5.0",
            "_model_name": "DescriptionStyleModel",
            "_view_count": null,
            "_view_module": "@jupyter-widgets/base",
            "_view_module_version": "1.2.0",
            "_view_name": "StyleView",
            "description_width": ""
          }
        },
        "952e207c0aae4a9abf7c202cd2b9aa11": {
          "model_module": "@jupyter-widgets/controls",
          "model_name": "HBoxModel",
          "model_module_version": "1.5.0",
          "state": {
            "_dom_classes": [],
            "_model_module": "@jupyter-widgets/controls",
            "_model_module_version": "1.5.0",
            "_model_name": "HBoxModel",
            "_view_count": null,
            "_view_module": "@jupyter-widgets/controls",
            "_view_module_version": "1.5.0",
            "_view_name": "HBoxView",
            "box_style": "",
            "children": [
              "IPY_MODEL_4ba723e335474a7eb7252cfc3e87674c",
              "IPY_MODEL_aea75584e17048038038b460986063e0",
              "IPY_MODEL_22d8f47120b64cc88b315d767dde6632"
            ],
            "layout": "IPY_MODEL_07cddee1d0d7450aa9d910c97ab8160e"
          }
        },
        "4ba723e335474a7eb7252cfc3e87674c": {
          "model_module": "@jupyter-widgets/controls",
          "model_name": "HTMLModel",
          "model_module_version": "1.5.0",
          "state": {
            "_dom_classes": [],
            "_model_module": "@jupyter-widgets/controls",
            "_model_module_version": "1.5.0",
            "_model_name": "HTMLModel",
            "_view_count": null,
            "_view_module": "@jupyter-widgets/controls",
            "_view_module_version": "1.5.0",
            "_view_name": "HTMLView",
            "description": "",
            "description_tooltip": null,
            "layout": "IPY_MODEL_ae5b163b794c4a6f970030450fb99b74",
            "placeholder": "​",
            "style": "IPY_MODEL_6e9dbce5934b434dbc4a1346525547cb",
            "value": "Downloading: 100%"
          }
        },
        "aea75584e17048038038b460986063e0": {
          "model_module": "@jupyter-widgets/controls",
          "model_name": "FloatProgressModel",
          "model_module_version": "1.5.0",
          "state": {
            "_dom_classes": [],
            "_model_module": "@jupyter-widgets/controls",
            "_model_module_version": "1.5.0",
            "_model_name": "FloatProgressModel",
            "_view_count": null,
            "_view_module": "@jupyter-widgets/controls",
            "_view_module_version": "1.5.0",
            "_view_name": "ProgressView",
            "bar_style": "success",
            "description": "",
            "description_tooltip": null,
            "layout": "IPY_MODEL_abc84e6c45d445d2a61aac664ba7af5e",
            "max": 231508,
            "min": 0,
            "orientation": "horizontal",
            "style": "IPY_MODEL_2db362d88b5b453e927299f25d1627ca",
            "value": 231508
          }
        },
        "22d8f47120b64cc88b315d767dde6632": {
          "model_module": "@jupyter-widgets/controls",
          "model_name": "HTMLModel",
          "model_module_version": "1.5.0",
          "state": {
            "_dom_classes": [],
            "_model_module": "@jupyter-widgets/controls",
            "_model_module_version": "1.5.0",
            "_model_name": "HTMLModel",
            "_view_count": null,
            "_view_module": "@jupyter-widgets/controls",
            "_view_module_version": "1.5.0",
            "_view_name": "HTMLView",
            "description": "",
            "description_tooltip": null,
            "layout": "IPY_MODEL_886e100fe56d42b190e06ba26ae3aa4d",
            "placeholder": "​",
            "style": "IPY_MODEL_b3b82f10261b4fa1a811ab8352f0877d",
            "value": " 232k/232k [00:00&lt;00:00, 2.64MB/s]"
          }
        },
        "07cddee1d0d7450aa9d910c97ab8160e": {
          "model_module": "@jupyter-widgets/base",
          "model_name": "LayoutModel",
          "model_module_version": "1.2.0",
          "state": {
            "_model_module": "@jupyter-widgets/base",
            "_model_module_version": "1.2.0",
            "_model_name": "LayoutModel",
            "_view_count": null,
            "_view_module": "@jupyter-widgets/base",
            "_view_module_version": "1.2.0",
            "_view_name": "LayoutView",
            "align_content": null,
            "align_items": null,
            "align_self": null,
            "border": null,
            "bottom": null,
            "display": null,
            "flex": null,
            "flex_flow": null,
            "grid_area": null,
            "grid_auto_columns": null,
            "grid_auto_flow": null,
            "grid_auto_rows": null,
            "grid_column": null,
            "grid_gap": null,
            "grid_row": null,
            "grid_template_areas": null,
            "grid_template_columns": null,
            "grid_template_rows": null,
            "height": null,
            "justify_content": null,
            "justify_items": null,
            "left": null,
            "margin": null,
            "max_height": null,
            "max_width": null,
            "min_height": null,
            "min_width": null,
            "object_fit": null,
            "object_position": null,
            "order": null,
            "overflow": null,
            "overflow_x": null,
            "overflow_y": null,
            "padding": null,
            "right": null,
            "top": null,
            "visibility": null,
            "width": null
          }
        },
        "ae5b163b794c4a6f970030450fb99b74": {
          "model_module": "@jupyter-widgets/base",
          "model_name": "LayoutModel",
          "model_module_version": "1.2.0",
          "state": {
            "_model_module": "@jupyter-widgets/base",
            "_model_module_version": "1.2.0",
            "_model_name": "LayoutModel",
            "_view_count": null,
            "_view_module": "@jupyter-widgets/base",
            "_view_module_version": "1.2.0",
            "_view_name": "LayoutView",
            "align_content": null,
            "align_items": null,
            "align_self": null,
            "border": null,
            "bottom": null,
            "display": null,
            "flex": null,
            "flex_flow": null,
            "grid_area": null,
            "grid_auto_columns": null,
            "grid_auto_flow": null,
            "grid_auto_rows": null,
            "grid_column": null,
            "grid_gap": null,
            "grid_row": null,
            "grid_template_areas": null,
            "grid_template_columns": null,
            "grid_template_rows": null,
            "height": null,
            "justify_content": null,
            "justify_items": null,
            "left": null,
            "margin": null,
            "max_height": null,
            "max_width": null,
            "min_height": null,
            "min_width": null,
            "object_fit": null,
            "object_position": null,
            "order": null,
            "overflow": null,
            "overflow_x": null,
            "overflow_y": null,
            "padding": null,
            "right": null,
            "top": null,
            "visibility": null,
            "width": null
          }
        },
        "6e9dbce5934b434dbc4a1346525547cb": {
          "model_module": "@jupyter-widgets/controls",
          "model_name": "DescriptionStyleModel",
          "model_module_version": "1.5.0",
          "state": {
            "_model_module": "@jupyter-widgets/controls",
            "_model_module_version": "1.5.0",
            "_model_name": "DescriptionStyleModel",
            "_view_count": null,
            "_view_module": "@jupyter-widgets/base",
            "_view_module_version": "1.2.0",
            "_view_name": "StyleView",
            "description_width": ""
          }
        },
        "abc84e6c45d445d2a61aac664ba7af5e": {
          "model_module": "@jupyter-widgets/base",
          "model_name": "LayoutModel",
          "model_module_version": "1.2.0",
          "state": {
            "_model_module": "@jupyter-widgets/base",
            "_model_module_version": "1.2.0",
            "_model_name": "LayoutModel",
            "_view_count": null,
            "_view_module": "@jupyter-widgets/base",
            "_view_module_version": "1.2.0",
            "_view_name": "LayoutView",
            "align_content": null,
            "align_items": null,
            "align_self": null,
            "border": null,
            "bottom": null,
            "display": null,
            "flex": null,
            "flex_flow": null,
            "grid_area": null,
            "grid_auto_columns": null,
            "grid_auto_flow": null,
            "grid_auto_rows": null,
            "grid_column": null,
            "grid_gap": null,
            "grid_row": null,
            "grid_template_areas": null,
            "grid_template_columns": null,
            "grid_template_rows": null,
            "height": null,
            "justify_content": null,
            "justify_items": null,
            "left": null,
            "margin": null,
            "max_height": null,
            "max_width": null,
            "min_height": null,
            "min_width": null,
            "object_fit": null,
            "object_position": null,
            "order": null,
            "overflow": null,
            "overflow_x": null,
            "overflow_y": null,
            "padding": null,
            "right": null,
            "top": null,
            "visibility": null,
            "width": null
          }
        },
        "2db362d88b5b453e927299f25d1627ca": {
          "model_module": "@jupyter-widgets/controls",
          "model_name": "ProgressStyleModel",
          "model_module_version": "1.5.0",
          "state": {
            "_model_module": "@jupyter-widgets/controls",
            "_model_module_version": "1.5.0",
            "_model_name": "ProgressStyleModel",
            "_view_count": null,
            "_view_module": "@jupyter-widgets/base",
            "_view_module_version": "1.2.0",
            "_view_name": "StyleView",
            "bar_color": null,
            "description_width": ""
          }
        },
        "886e100fe56d42b190e06ba26ae3aa4d": {
          "model_module": "@jupyter-widgets/base",
          "model_name": "LayoutModel",
          "model_module_version": "1.2.0",
          "state": {
            "_model_module": "@jupyter-widgets/base",
            "_model_module_version": "1.2.0",
            "_model_name": "LayoutModel",
            "_view_count": null,
            "_view_module": "@jupyter-widgets/base",
            "_view_module_version": "1.2.0",
            "_view_name": "LayoutView",
            "align_content": null,
            "align_items": null,
            "align_self": null,
            "border": null,
            "bottom": null,
            "display": null,
            "flex": null,
            "flex_flow": null,
            "grid_area": null,
            "grid_auto_columns": null,
            "grid_auto_flow": null,
            "grid_auto_rows": null,
            "grid_column": null,
            "grid_gap": null,
            "grid_row": null,
            "grid_template_areas": null,
            "grid_template_columns": null,
            "grid_template_rows": null,
            "height": null,
            "justify_content": null,
            "justify_items": null,
            "left": null,
            "margin": null,
            "max_height": null,
            "max_width": null,
            "min_height": null,
            "min_width": null,
            "object_fit": null,
            "object_position": null,
            "order": null,
            "overflow": null,
            "overflow_x": null,
            "overflow_y": null,
            "padding": null,
            "right": null,
            "top": null,
            "visibility": null,
            "width": null
          }
        },
        "b3b82f10261b4fa1a811ab8352f0877d": {
          "model_module": "@jupyter-widgets/controls",
          "model_name": "DescriptionStyleModel",
          "model_module_version": "1.5.0",
          "state": {
            "_model_module": "@jupyter-widgets/controls",
            "_model_module_version": "1.5.0",
            "_model_name": "DescriptionStyleModel",
            "_view_count": null,
            "_view_module": "@jupyter-widgets/base",
            "_view_module_version": "1.2.0",
            "_view_name": "StyleView",
            "description_width": ""
          }
        },
        "5b4d9adf40094b4b8b637a4ed6818cec": {
          "model_module": "@jupyter-widgets/controls",
          "model_name": "HBoxModel",
          "model_module_version": "1.5.0",
          "state": {
            "_dom_classes": [],
            "_model_module": "@jupyter-widgets/controls",
            "_model_module_version": "1.5.0",
            "_model_name": "HBoxModel",
            "_view_count": null,
            "_view_module": "@jupyter-widgets/controls",
            "_view_module_version": "1.5.0",
            "_view_name": "HBoxView",
            "box_style": "",
            "children": [
              "IPY_MODEL_d0e7f0a75c474730912aa4773a0566c4",
              "IPY_MODEL_61e5184c00bd45ba80a1cba2e862591f",
              "IPY_MODEL_e8d5820931f349ba8e1abd133986c7ad"
            ],
            "layout": "IPY_MODEL_1a0baa5c4a9a4c2bb8482ba928930053"
          }
        },
        "d0e7f0a75c474730912aa4773a0566c4": {
          "model_module": "@jupyter-widgets/controls",
          "model_name": "HTMLModel",
          "model_module_version": "1.5.0",
          "state": {
            "_dom_classes": [],
            "_model_module": "@jupyter-widgets/controls",
            "_model_module_version": "1.5.0",
            "_model_name": "HTMLModel",
            "_view_count": null,
            "_view_module": "@jupyter-widgets/controls",
            "_view_module_version": "1.5.0",
            "_view_name": "HTMLView",
            "description": "",
            "description_tooltip": null,
            "layout": "IPY_MODEL_169dfe58a45b465094c13fa4a1a83337",
            "placeholder": "​",
            "style": "IPY_MODEL_2dce5a12c09e4853bdc031edad48e8ad",
            "value": "Downloading: 100%"
          }
        },
        "61e5184c00bd45ba80a1cba2e862591f": {
          "model_module": "@jupyter-widgets/controls",
          "model_name": "FloatProgressModel",
          "model_module_version": "1.5.0",
          "state": {
            "_dom_classes": [],
            "_model_module": "@jupyter-widgets/controls",
            "_model_module_version": "1.5.0",
            "_model_name": "FloatProgressModel",
            "_view_count": null,
            "_view_module": "@jupyter-widgets/controls",
            "_view_module_version": "1.5.0",
            "_view_name": "ProgressView",
            "bar_style": "success",
            "description": "",
            "description_tooltip": null,
            "layout": "IPY_MODEL_30131c922ceb4be3b72fc9213dbd3fa3",
            "max": 466062,
            "min": 0,
            "orientation": "horizontal",
            "style": "IPY_MODEL_05baf044eb7243b7880985cb5a8581a3",
            "value": 466062
          }
        },
        "e8d5820931f349ba8e1abd133986c7ad": {
          "model_module": "@jupyter-widgets/controls",
          "model_name": "HTMLModel",
          "model_module_version": "1.5.0",
          "state": {
            "_dom_classes": [],
            "_model_module": "@jupyter-widgets/controls",
            "_model_module_version": "1.5.0",
            "_model_name": "HTMLModel",
            "_view_count": null,
            "_view_module": "@jupyter-widgets/controls",
            "_view_module_version": "1.5.0",
            "_view_name": "HTMLView",
            "description": "",
            "description_tooltip": null,
            "layout": "IPY_MODEL_d7c3fd3e304c42028ebdb05478feb447",
            "placeholder": "​",
            "style": "IPY_MODEL_56fedf614dfd4c42882c64d9c36d330a",
            "value": " 466k/466k [00:00&lt;00:00, 1.56MB/s]"
          }
        },
        "1a0baa5c4a9a4c2bb8482ba928930053": {
          "model_module": "@jupyter-widgets/base",
          "model_name": "LayoutModel",
          "model_module_version": "1.2.0",
          "state": {
            "_model_module": "@jupyter-widgets/base",
            "_model_module_version": "1.2.0",
            "_model_name": "LayoutModel",
            "_view_count": null,
            "_view_module": "@jupyter-widgets/base",
            "_view_module_version": "1.2.0",
            "_view_name": "LayoutView",
            "align_content": null,
            "align_items": null,
            "align_self": null,
            "border": null,
            "bottom": null,
            "display": null,
            "flex": null,
            "flex_flow": null,
            "grid_area": null,
            "grid_auto_columns": null,
            "grid_auto_flow": null,
            "grid_auto_rows": null,
            "grid_column": null,
            "grid_gap": null,
            "grid_row": null,
            "grid_template_areas": null,
            "grid_template_columns": null,
            "grid_template_rows": null,
            "height": null,
            "justify_content": null,
            "justify_items": null,
            "left": null,
            "margin": null,
            "max_height": null,
            "max_width": null,
            "min_height": null,
            "min_width": null,
            "object_fit": null,
            "object_position": null,
            "order": null,
            "overflow": null,
            "overflow_x": null,
            "overflow_y": null,
            "padding": null,
            "right": null,
            "top": null,
            "visibility": null,
            "width": null
          }
        },
        "169dfe58a45b465094c13fa4a1a83337": {
          "model_module": "@jupyter-widgets/base",
          "model_name": "LayoutModel",
          "model_module_version": "1.2.0",
          "state": {
            "_model_module": "@jupyter-widgets/base",
            "_model_module_version": "1.2.0",
            "_model_name": "LayoutModel",
            "_view_count": null,
            "_view_module": "@jupyter-widgets/base",
            "_view_module_version": "1.2.0",
            "_view_name": "LayoutView",
            "align_content": null,
            "align_items": null,
            "align_self": null,
            "border": null,
            "bottom": null,
            "display": null,
            "flex": null,
            "flex_flow": null,
            "grid_area": null,
            "grid_auto_columns": null,
            "grid_auto_flow": null,
            "grid_auto_rows": null,
            "grid_column": null,
            "grid_gap": null,
            "grid_row": null,
            "grid_template_areas": null,
            "grid_template_columns": null,
            "grid_template_rows": null,
            "height": null,
            "justify_content": null,
            "justify_items": null,
            "left": null,
            "margin": null,
            "max_height": null,
            "max_width": null,
            "min_height": null,
            "min_width": null,
            "object_fit": null,
            "object_position": null,
            "order": null,
            "overflow": null,
            "overflow_x": null,
            "overflow_y": null,
            "padding": null,
            "right": null,
            "top": null,
            "visibility": null,
            "width": null
          }
        },
        "2dce5a12c09e4853bdc031edad48e8ad": {
          "model_module": "@jupyter-widgets/controls",
          "model_name": "DescriptionStyleModel",
          "model_module_version": "1.5.0",
          "state": {
            "_model_module": "@jupyter-widgets/controls",
            "_model_module_version": "1.5.0",
            "_model_name": "DescriptionStyleModel",
            "_view_count": null,
            "_view_module": "@jupyter-widgets/base",
            "_view_module_version": "1.2.0",
            "_view_name": "StyleView",
            "description_width": ""
          }
        },
        "30131c922ceb4be3b72fc9213dbd3fa3": {
          "model_module": "@jupyter-widgets/base",
          "model_name": "LayoutModel",
          "model_module_version": "1.2.0",
          "state": {
            "_model_module": "@jupyter-widgets/base",
            "_model_module_version": "1.2.0",
            "_model_name": "LayoutModel",
            "_view_count": null,
            "_view_module": "@jupyter-widgets/base",
            "_view_module_version": "1.2.0",
            "_view_name": "LayoutView",
            "align_content": null,
            "align_items": null,
            "align_self": null,
            "border": null,
            "bottom": null,
            "display": null,
            "flex": null,
            "flex_flow": null,
            "grid_area": null,
            "grid_auto_columns": null,
            "grid_auto_flow": null,
            "grid_auto_rows": null,
            "grid_column": null,
            "grid_gap": null,
            "grid_row": null,
            "grid_template_areas": null,
            "grid_template_columns": null,
            "grid_template_rows": null,
            "height": null,
            "justify_content": null,
            "justify_items": null,
            "left": null,
            "margin": null,
            "max_height": null,
            "max_width": null,
            "min_height": null,
            "min_width": null,
            "object_fit": null,
            "object_position": null,
            "order": null,
            "overflow": null,
            "overflow_x": null,
            "overflow_y": null,
            "padding": null,
            "right": null,
            "top": null,
            "visibility": null,
            "width": null
          }
        },
        "05baf044eb7243b7880985cb5a8581a3": {
          "model_module": "@jupyter-widgets/controls",
          "model_name": "ProgressStyleModel",
          "model_module_version": "1.5.0",
          "state": {
            "_model_module": "@jupyter-widgets/controls",
            "_model_module_version": "1.5.0",
            "_model_name": "ProgressStyleModel",
            "_view_count": null,
            "_view_module": "@jupyter-widgets/base",
            "_view_module_version": "1.2.0",
            "_view_name": "StyleView",
            "bar_color": null,
            "description_width": ""
          }
        },
        "d7c3fd3e304c42028ebdb05478feb447": {
          "model_module": "@jupyter-widgets/base",
          "model_name": "LayoutModel",
          "model_module_version": "1.2.0",
          "state": {
            "_model_module": "@jupyter-widgets/base",
            "_model_module_version": "1.2.0",
            "_model_name": "LayoutModel",
            "_view_count": null,
            "_view_module": "@jupyter-widgets/base",
            "_view_module_version": "1.2.0",
            "_view_name": "LayoutView",
            "align_content": null,
            "align_items": null,
            "align_self": null,
            "border": null,
            "bottom": null,
            "display": null,
            "flex": null,
            "flex_flow": null,
            "grid_area": null,
            "grid_auto_columns": null,
            "grid_auto_flow": null,
            "grid_auto_rows": null,
            "grid_column": null,
            "grid_gap": null,
            "grid_row": null,
            "grid_template_areas": null,
            "grid_template_columns": null,
            "grid_template_rows": null,
            "height": null,
            "justify_content": null,
            "justify_items": null,
            "left": null,
            "margin": null,
            "max_height": null,
            "max_width": null,
            "min_height": null,
            "min_width": null,
            "object_fit": null,
            "object_position": null,
            "order": null,
            "overflow": null,
            "overflow_x": null,
            "overflow_y": null,
            "padding": null,
            "right": null,
            "top": null,
            "visibility": null,
            "width": null
          }
        },
        "56fedf614dfd4c42882c64d9c36d330a": {
          "model_module": "@jupyter-widgets/controls",
          "model_name": "DescriptionStyleModel",
          "model_module_version": "1.5.0",
          "state": {
            "_model_module": "@jupyter-widgets/controls",
            "_model_module_version": "1.5.0",
            "_model_name": "DescriptionStyleModel",
            "_view_count": null,
            "_view_module": "@jupyter-widgets/base",
            "_view_module_version": "1.2.0",
            "_view_name": "StyleView",
            "description_width": ""
          }
        },
        "a149086356d14e79ae6218da195cedac": {
          "model_module": "@jupyter-widgets/controls",
          "model_name": "HBoxModel",
          "model_module_version": "1.5.0",
          "state": {
            "_dom_classes": [],
            "_model_module": "@jupyter-widgets/controls",
            "_model_module_version": "1.5.0",
            "_model_name": "HBoxModel",
            "_view_count": null,
            "_view_module": "@jupyter-widgets/controls",
            "_view_module_version": "1.5.0",
            "_view_name": "HBoxView",
            "box_style": "",
            "children": [
              "IPY_MODEL_1137fdf3a80c414e90c17912a24cfc90",
              "IPY_MODEL_18f18e6b8e6e45b28aa07c3be478cb0d",
              "IPY_MODEL_49a0d55098e142428a5ec511e112e70f"
            ],
            "layout": "IPY_MODEL_66e391d14395444296f55adf5e2bc3e2"
          }
        },
        "1137fdf3a80c414e90c17912a24cfc90": {
          "model_module": "@jupyter-widgets/controls",
          "model_name": "HTMLModel",
          "model_module_version": "1.5.0",
          "state": {
            "_dom_classes": [],
            "_model_module": "@jupyter-widgets/controls",
            "_model_module_version": "1.5.0",
            "_model_name": "HTMLModel",
            "_view_count": null,
            "_view_module": "@jupyter-widgets/controls",
            "_view_module_version": "1.5.0",
            "_view_name": "HTMLView",
            "description": "",
            "description_tooltip": null,
            "layout": "IPY_MODEL_2f5e1821595c420b8c1ff86c34e7c7f7",
            "placeholder": "​",
            "style": "IPY_MODEL_646c13f6afe548c6a22dc5248b08b6b3",
            "value": " 91%"
          }
        },
        "18f18e6b8e6e45b28aa07c3be478cb0d": {
          "model_module": "@jupyter-widgets/controls",
          "model_name": "FloatProgressModel",
          "model_module_version": "1.5.0",
          "state": {
            "_dom_classes": [],
            "_model_module": "@jupyter-widgets/controls",
            "_model_module_version": "1.5.0",
            "_model_name": "FloatProgressModel",
            "_view_count": null,
            "_view_module": "@jupyter-widgets/controls",
            "_view_module_version": "1.5.0",
            "_view_name": "ProgressView",
            "bar_style": "danger",
            "description": "",
            "description_tooltip": null,
            "layout": "IPY_MODEL_52eda6f524a1497ca0a09e045ab882cd",
            "max": 11,
            "min": 0,
            "orientation": "horizontal",
            "style": "IPY_MODEL_1f5e7c2289874cb585f7c9182bad0802",
            "value": 10
          }
        },
        "49a0d55098e142428a5ec511e112e70f": {
          "model_module": "@jupyter-widgets/controls",
          "model_name": "HTMLModel",
          "model_module_version": "1.5.0",
          "state": {
            "_dom_classes": [],
            "_model_module": "@jupyter-widgets/controls",
            "_model_module_version": "1.5.0",
            "_model_name": "HTMLModel",
            "_view_count": null,
            "_view_module": "@jupyter-widgets/controls",
            "_view_module_version": "1.5.0",
            "_view_name": "HTMLView",
            "description": "",
            "description_tooltip": null,
            "layout": "IPY_MODEL_213fda21d7de498cb277b9db08609c0f",
            "placeholder": "​",
            "style": "IPY_MODEL_1b631463975c4752ba2e145ea65d5424",
            "value": " 10/11 [00:03&lt;00:00,  2.78ba/s]"
          }
        },
        "66e391d14395444296f55adf5e2bc3e2": {
          "model_module": "@jupyter-widgets/base",
          "model_name": "LayoutModel",
          "model_module_version": "1.2.0",
          "state": {
            "_model_module": "@jupyter-widgets/base",
            "_model_module_version": "1.2.0",
            "_model_name": "LayoutModel",
            "_view_count": null,
            "_view_module": "@jupyter-widgets/base",
            "_view_module_version": "1.2.0",
            "_view_name": "LayoutView",
            "align_content": null,
            "align_items": null,
            "align_self": null,
            "border": null,
            "bottom": null,
            "display": null,
            "flex": null,
            "flex_flow": null,
            "grid_area": null,
            "grid_auto_columns": null,
            "grid_auto_flow": null,
            "grid_auto_rows": null,
            "grid_column": null,
            "grid_gap": null,
            "grid_row": null,
            "grid_template_areas": null,
            "grid_template_columns": null,
            "grid_template_rows": null,
            "height": null,
            "justify_content": null,
            "justify_items": null,
            "left": null,
            "margin": null,
            "max_height": null,
            "max_width": null,
            "min_height": null,
            "min_width": null,
            "object_fit": null,
            "object_position": null,
            "order": null,
            "overflow": null,
            "overflow_x": null,
            "overflow_y": null,
            "padding": null,
            "right": null,
            "top": null,
            "visibility": null,
            "width": null
          }
        },
        "2f5e1821595c420b8c1ff86c34e7c7f7": {
          "model_module": "@jupyter-widgets/base",
          "model_name": "LayoutModel",
          "model_module_version": "1.2.0",
          "state": {
            "_model_module": "@jupyter-widgets/base",
            "_model_module_version": "1.2.0",
            "_model_name": "LayoutModel",
            "_view_count": null,
            "_view_module": "@jupyter-widgets/base",
            "_view_module_version": "1.2.0",
            "_view_name": "LayoutView",
            "align_content": null,
            "align_items": null,
            "align_self": null,
            "border": null,
            "bottom": null,
            "display": null,
            "flex": null,
            "flex_flow": null,
            "grid_area": null,
            "grid_auto_columns": null,
            "grid_auto_flow": null,
            "grid_auto_rows": null,
            "grid_column": null,
            "grid_gap": null,
            "grid_row": null,
            "grid_template_areas": null,
            "grid_template_columns": null,
            "grid_template_rows": null,
            "height": null,
            "justify_content": null,
            "justify_items": null,
            "left": null,
            "margin": null,
            "max_height": null,
            "max_width": null,
            "min_height": null,
            "min_width": null,
            "object_fit": null,
            "object_position": null,
            "order": null,
            "overflow": null,
            "overflow_x": null,
            "overflow_y": null,
            "padding": null,
            "right": null,
            "top": null,
            "visibility": null,
            "width": null
          }
        },
        "646c13f6afe548c6a22dc5248b08b6b3": {
          "model_module": "@jupyter-widgets/controls",
          "model_name": "DescriptionStyleModel",
          "model_module_version": "1.5.0",
          "state": {
            "_model_module": "@jupyter-widgets/controls",
            "_model_module_version": "1.5.0",
            "_model_name": "DescriptionStyleModel",
            "_view_count": null,
            "_view_module": "@jupyter-widgets/base",
            "_view_module_version": "1.2.0",
            "_view_name": "StyleView",
            "description_width": ""
          }
        },
        "52eda6f524a1497ca0a09e045ab882cd": {
          "model_module": "@jupyter-widgets/base",
          "model_name": "LayoutModel",
          "model_module_version": "1.2.0",
          "state": {
            "_model_module": "@jupyter-widgets/base",
            "_model_module_version": "1.2.0",
            "_model_name": "LayoutModel",
            "_view_count": null,
            "_view_module": "@jupyter-widgets/base",
            "_view_module_version": "1.2.0",
            "_view_name": "LayoutView",
            "align_content": null,
            "align_items": null,
            "align_self": null,
            "border": null,
            "bottom": null,
            "display": null,
            "flex": null,
            "flex_flow": null,
            "grid_area": null,
            "grid_auto_columns": null,
            "grid_auto_flow": null,
            "grid_auto_rows": null,
            "grid_column": null,
            "grid_gap": null,
            "grid_row": null,
            "grid_template_areas": null,
            "grid_template_columns": null,
            "grid_template_rows": null,
            "height": null,
            "justify_content": null,
            "justify_items": null,
            "left": null,
            "margin": null,
            "max_height": null,
            "max_width": null,
            "min_height": null,
            "min_width": null,
            "object_fit": null,
            "object_position": null,
            "order": null,
            "overflow": null,
            "overflow_x": null,
            "overflow_y": null,
            "padding": null,
            "right": null,
            "top": null,
            "visibility": null,
            "width": null
          }
        },
        "1f5e7c2289874cb585f7c9182bad0802": {
          "model_module": "@jupyter-widgets/controls",
          "model_name": "ProgressStyleModel",
          "model_module_version": "1.5.0",
          "state": {
            "_model_module": "@jupyter-widgets/controls",
            "_model_module_version": "1.5.0",
            "_model_name": "ProgressStyleModel",
            "_view_count": null,
            "_view_module": "@jupyter-widgets/base",
            "_view_module_version": "1.2.0",
            "_view_name": "StyleView",
            "bar_color": null,
            "description_width": ""
          }
        },
        "213fda21d7de498cb277b9db08609c0f": {
          "model_module": "@jupyter-widgets/base",
          "model_name": "LayoutModel",
          "model_module_version": "1.2.0",
          "state": {
            "_model_module": "@jupyter-widgets/base",
            "_model_module_version": "1.2.0",
            "_model_name": "LayoutModel",
            "_view_count": null,
            "_view_module": "@jupyter-widgets/base",
            "_view_module_version": "1.2.0",
            "_view_name": "LayoutView",
            "align_content": null,
            "align_items": null,
            "align_self": null,
            "border": null,
            "bottom": null,
            "display": null,
            "flex": null,
            "flex_flow": null,
            "grid_area": null,
            "grid_auto_columns": null,
            "grid_auto_flow": null,
            "grid_auto_rows": null,
            "grid_column": null,
            "grid_gap": null,
            "grid_row": null,
            "grid_template_areas": null,
            "grid_template_columns": null,
            "grid_template_rows": null,
            "height": null,
            "justify_content": null,
            "justify_items": null,
            "left": null,
            "margin": null,
            "max_height": null,
            "max_width": null,
            "min_height": null,
            "min_width": null,
            "object_fit": null,
            "object_position": null,
            "order": null,
            "overflow": null,
            "overflow_x": null,
            "overflow_y": null,
            "padding": null,
            "right": null,
            "top": null,
            "visibility": null,
            "width": null
          }
        },
        "1b631463975c4752ba2e145ea65d5424": {
          "model_module": "@jupyter-widgets/controls",
          "model_name": "DescriptionStyleModel",
          "model_module_version": "1.5.0",
          "state": {
            "_model_module": "@jupyter-widgets/controls",
            "_model_module_version": "1.5.0",
            "_model_name": "DescriptionStyleModel",
            "_view_count": null,
            "_view_module": "@jupyter-widgets/base",
            "_view_module_version": "1.2.0",
            "_view_name": "StyleView",
            "description_width": ""
          }
        },
        "93016c6521e6488c8ed8ffae01039c7d": {
          "model_module": "@jupyter-widgets/controls",
          "model_name": "HBoxModel",
          "model_module_version": "1.5.0",
          "state": {
            "_dom_classes": [],
            "_model_module": "@jupyter-widgets/controls",
            "_model_module_version": "1.5.0",
            "_model_name": "HBoxModel",
            "_view_count": null,
            "_view_module": "@jupyter-widgets/controls",
            "_view_module_version": "1.5.0",
            "_view_name": "HBoxView",
            "box_style": "",
            "children": [
              "IPY_MODEL_55f813ac5f06498180734e656696d934",
              "IPY_MODEL_8becd556fa7c4438a9ee48cc1c312b66",
              "IPY_MODEL_48d114ad92624981a60c80a8befb9693"
            ],
            "layout": "IPY_MODEL_ca2d131a0dec4134ac436df29d6f517e"
          }
        },
        "55f813ac5f06498180734e656696d934": {
          "model_module": "@jupyter-widgets/controls",
          "model_name": "HTMLModel",
          "model_module_version": "1.5.0",
          "state": {
            "_dom_classes": [],
            "_model_module": "@jupyter-widgets/controls",
            "_model_module_version": "1.5.0",
            "_model_name": "HTMLModel",
            "_view_count": null,
            "_view_module": "@jupyter-widgets/controls",
            "_view_module_version": "1.5.0",
            "_view_name": "HTMLView",
            "description": "",
            "description_tooltip": null,
            "layout": "IPY_MODEL_9a4a54b3c9bf4b82b08a5c14e9109ab5",
            "placeholder": "​",
            "style": "IPY_MODEL_4f2a6340f0f049fbb569e46f664c230e",
            "value": " 88%"
          }
        },
        "8becd556fa7c4438a9ee48cc1c312b66": {
          "model_module": "@jupyter-widgets/controls",
          "model_name": "FloatProgressModel",
          "model_module_version": "1.5.0",
          "state": {
            "_dom_classes": [],
            "_model_module": "@jupyter-widgets/controls",
            "_model_module_version": "1.5.0",
            "_model_name": "FloatProgressModel",
            "_view_count": null,
            "_view_module": "@jupyter-widgets/controls",
            "_view_module_version": "1.5.0",
            "_view_name": "ProgressView",
            "bar_style": "danger",
            "description": "",
            "description_tooltip": null,
            "layout": "IPY_MODEL_ccca33fd5abd418e930fa6f01ae42d5f",
            "max": 8,
            "min": 0,
            "orientation": "horizontal",
            "style": "IPY_MODEL_36b87bad714b42d0b178f2590b67d20d",
            "value": 7
          }
        },
        "48d114ad92624981a60c80a8befb9693": {
          "model_module": "@jupyter-widgets/controls",
          "model_name": "HTMLModel",
          "model_module_version": "1.5.0",
          "state": {
            "_dom_classes": [],
            "_model_module": "@jupyter-widgets/controls",
            "_model_module_version": "1.5.0",
            "_model_name": "HTMLModel",
            "_view_count": null,
            "_view_module": "@jupyter-widgets/controls",
            "_view_module_version": "1.5.0",
            "_view_name": "HTMLView",
            "description": "",
            "description_tooltip": null,
            "layout": "IPY_MODEL_da5ba1b4034c4de7a7a4ed6c7e61adad",
            "placeholder": "​",
            "style": "IPY_MODEL_737d4385e22d4c9189f61a1442f2e694",
            "value": " 7/8 [00:02&lt;00:00,  3.09ba/s]"
          }
        },
        "ca2d131a0dec4134ac436df29d6f517e": {
          "model_module": "@jupyter-widgets/base",
          "model_name": "LayoutModel",
          "model_module_version": "1.2.0",
          "state": {
            "_model_module": "@jupyter-widgets/base",
            "_model_module_version": "1.2.0",
            "_model_name": "LayoutModel",
            "_view_count": null,
            "_view_module": "@jupyter-widgets/base",
            "_view_module_version": "1.2.0",
            "_view_name": "LayoutView",
            "align_content": null,
            "align_items": null,
            "align_self": null,
            "border": null,
            "bottom": null,
            "display": null,
            "flex": null,
            "flex_flow": null,
            "grid_area": null,
            "grid_auto_columns": null,
            "grid_auto_flow": null,
            "grid_auto_rows": null,
            "grid_column": null,
            "grid_gap": null,
            "grid_row": null,
            "grid_template_areas": null,
            "grid_template_columns": null,
            "grid_template_rows": null,
            "height": null,
            "justify_content": null,
            "justify_items": null,
            "left": null,
            "margin": null,
            "max_height": null,
            "max_width": null,
            "min_height": null,
            "min_width": null,
            "object_fit": null,
            "object_position": null,
            "order": null,
            "overflow": null,
            "overflow_x": null,
            "overflow_y": null,
            "padding": null,
            "right": null,
            "top": null,
            "visibility": null,
            "width": null
          }
        },
        "9a4a54b3c9bf4b82b08a5c14e9109ab5": {
          "model_module": "@jupyter-widgets/base",
          "model_name": "LayoutModel",
          "model_module_version": "1.2.0",
          "state": {
            "_model_module": "@jupyter-widgets/base",
            "_model_module_version": "1.2.0",
            "_model_name": "LayoutModel",
            "_view_count": null,
            "_view_module": "@jupyter-widgets/base",
            "_view_module_version": "1.2.0",
            "_view_name": "LayoutView",
            "align_content": null,
            "align_items": null,
            "align_self": null,
            "border": null,
            "bottom": null,
            "display": null,
            "flex": null,
            "flex_flow": null,
            "grid_area": null,
            "grid_auto_columns": null,
            "grid_auto_flow": null,
            "grid_auto_rows": null,
            "grid_column": null,
            "grid_gap": null,
            "grid_row": null,
            "grid_template_areas": null,
            "grid_template_columns": null,
            "grid_template_rows": null,
            "height": null,
            "justify_content": null,
            "justify_items": null,
            "left": null,
            "margin": null,
            "max_height": null,
            "max_width": null,
            "min_height": null,
            "min_width": null,
            "object_fit": null,
            "object_position": null,
            "order": null,
            "overflow": null,
            "overflow_x": null,
            "overflow_y": null,
            "padding": null,
            "right": null,
            "top": null,
            "visibility": null,
            "width": null
          }
        },
        "4f2a6340f0f049fbb569e46f664c230e": {
          "model_module": "@jupyter-widgets/controls",
          "model_name": "DescriptionStyleModel",
          "model_module_version": "1.5.0",
          "state": {
            "_model_module": "@jupyter-widgets/controls",
            "_model_module_version": "1.5.0",
            "_model_name": "DescriptionStyleModel",
            "_view_count": null,
            "_view_module": "@jupyter-widgets/base",
            "_view_module_version": "1.2.0",
            "_view_name": "StyleView",
            "description_width": ""
          }
        },
        "ccca33fd5abd418e930fa6f01ae42d5f": {
          "model_module": "@jupyter-widgets/base",
          "model_name": "LayoutModel",
          "model_module_version": "1.2.0",
          "state": {
            "_model_module": "@jupyter-widgets/base",
            "_model_module_version": "1.2.0",
            "_model_name": "LayoutModel",
            "_view_count": null,
            "_view_module": "@jupyter-widgets/base",
            "_view_module_version": "1.2.0",
            "_view_name": "LayoutView",
            "align_content": null,
            "align_items": null,
            "align_self": null,
            "border": null,
            "bottom": null,
            "display": null,
            "flex": null,
            "flex_flow": null,
            "grid_area": null,
            "grid_auto_columns": null,
            "grid_auto_flow": null,
            "grid_auto_rows": null,
            "grid_column": null,
            "grid_gap": null,
            "grid_row": null,
            "grid_template_areas": null,
            "grid_template_columns": null,
            "grid_template_rows": null,
            "height": null,
            "justify_content": null,
            "justify_items": null,
            "left": null,
            "margin": null,
            "max_height": null,
            "max_width": null,
            "min_height": null,
            "min_width": null,
            "object_fit": null,
            "object_position": null,
            "order": null,
            "overflow": null,
            "overflow_x": null,
            "overflow_y": null,
            "padding": null,
            "right": null,
            "top": null,
            "visibility": null,
            "width": null
          }
        },
        "36b87bad714b42d0b178f2590b67d20d": {
          "model_module": "@jupyter-widgets/controls",
          "model_name": "ProgressStyleModel",
          "model_module_version": "1.5.0",
          "state": {
            "_model_module": "@jupyter-widgets/controls",
            "_model_module_version": "1.5.0",
            "_model_name": "ProgressStyleModel",
            "_view_count": null,
            "_view_module": "@jupyter-widgets/base",
            "_view_module_version": "1.2.0",
            "_view_name": "StyleView",
            "bar_color": null,
            "description_width": ""
          }
        },
        "da5ba1b4034c4de7a7a4ed6c7e61adad": {
          "model_module": "@jupyter-widgets/base",
          "model_name": "LayoutModel",
          "model_module_version": "1.2.0",
          "state": {
            "_model_module": "@jupyter-widgets/base",
            "_model_module_version": "1.2.0",
            "_model_name": "LayoutModel",
            "_view_count": null,
            "_view_module": "@jupyter-widgets/base",
            "_view_module_version": "1.2.0",
            "_view_name": "LayoutView",
            "align_content": null,
            "align_items": null,
            "align_self": null,
            "border": null,
            "bottom": null,
            "display": null,
            "flex": null,
            "flex_flow": null,
            "grid_area": null,
            "grid_auto_columns": null,
            "grid_auto_flow": null,
            "grid_auto_rows": null,
            "grid_column": null,
            "grid_gap": null,
            "grid_row": null,
            "grid_template_areas": null,
            "grid_template_columns": null,
            "grid_template_rows": null,
            "height": null,
            "justify_content": null,
            "justify_items": null,
            "left": null,
            "margin": null,
            "max_height": null,
            "max_width": null,
            "min_height": null,
            "min_width": null,
            "object_fit": null,
            "object_position": null,
            "order": null,
            "overflow": null,
            "overflow_x": null,
            "overflow_y": null,
            "padding": null,
            "right": null,
            "top": null,
            "visibility": null,
            "width": null
          }
        },
        "737d4385e22d4c9189f61a1442f2e694": {
          "model_module": "@jupyter-widgets/controls",
          "model_name": "DescriptionStyleModel",
          "model_module_version": "1.5.0",
          "state": {
            "_model_module": "@jupyter-widgets/controls",
            "_model_module_version": "1.5.0",
            "_model_name": "DescriptionStyleModel",
            "_view_count": null,
            "_view_module": "@jupyter-widgets/base",
            "_view_module_version": "1.2.0",
            "_view_name": "StyleView",
            "description_width": ""
          }
        },
        "baf85800c7d34399a00d6fb68ccf1d99": {
          "model_module": "@jupyter-widgets/controls",
          "model_name": "HBoxModel",
          "model_module_version": "1.5.0",
          "state": {
            "_dom_classes": [],
            "_model_module": "@jupyter-widgets/controls",
            "_model_module_version": "1.5.0",
            "_model_name": "HBoxModel",
            "_view_count": null,
            "_view_module": "@jupyter-widgets/controls",
            "_view_module_version": "1.5.0",
            "_view_name": "HBoxView",
            "box_style": "",
            "children": [
              "IPY_MODEL_dcea378199754d76a793190f689f4b50",
              "IPY_MODEL_997a018bfcd6411e94436d918ff680dd",
              "IPY_MODEL_4159f50fec844060855d818b33127bb7"
            ],
            "layout": "IPY_MODEL_ed83c7cf3fde4f4bb335ca754e03808f"
          }
        },
        "dcea378199754d76a793190f689f4b50": {
          "model_module": "@jupyter-widgets/controls",
          "model_name": "HTMLModel",
          "model_module_version": "1.5.0",
          "state": {
            "_dom_classes": [],
            "_model_module": "@jupyter-widgets/controls",
            "_model_module_version": "1.5.0",
            "_model_name": "HTMLModel",
            "_view_count": null,
            "_view_module": "@jupyter-widgets/controls",
            "_view_module_version": "1.5.0",
            "_view_name": "HTMLView",
            "description": "",
            "description_tooltip": null,
            "layout": "IPY_MODEL_5e68ca7cbefd426b9b4335bcb90f2342",
            "placeholder": "​",
            "style": "IPY_MODEL_339623c9304444eb8e160fd2bd198c3e",
            "value": " 50%"
          }
        },
        "997a018bfcd6411e94436d918ff680dd": {
          "model_module": "@jupyter-widgets/controls",
          "model_name": "FloatProgressModel",
          "model_module_version": "1.5.0",
          "state": {
            "_dom_classes": [],
            "_model_module": "@jupyter-widgets/controls",
            "_model_module_version": "1.5.0",
            "_model_name": "FloatProgressModel",
            "_view_count": null,
            "_view_module": "@jupyter-widgets/controls",
            "_view_module_version": "1.5.0",
            "_view_name": "ProgressView",
            "bar_style": "danger",
            "description": "",
            "description_tooltip": null,
            "layout": "IPY_MODEL_77f63c2fb00c45e9834a79a69420bd92",
            "max": 2,
            "min": 0,
            "orientation": "horizontal",
            "style": "IPY_MODEL_54afa5014c0b45fcb45d5738efea8c70",
            "value": 1
          }
        },
        "4159f50fec844060855d818b33127bb7": {
          "model_module": "@jupyter-widgets/controls",
          "model_name": "HTMLModel",
          "model_module_version": "1.5.0",
          "state": {
            "_dom_classes": [],
            "_model_module": "@jupyter-widgets/controls",
            "_model_module_version": "1.5.0",
            "_model_name": "HTMLModel",
            "_view_count": null,
            "_view_module": "@jupyter-widgets/controls",
            "_view_module_version": "1.5.0",
            "_view_name": "HTMLView",
            "description": "",
            "description_tooltip": null,
            "layout": "IPY_MODEL_e32561e2d51e49308c08fc195c02e220",
            "placeholder": "​",
            "style": "IPY_MODEL_8bd248b919e24c6eaac35e1548e2dfc9",
            "value": " 1/2 [00:00&lt;00:00,  2.63ba/s]"
          }
        },
        "ed83c7cf3fde4f4bb335ca754e03808f": {
          "model_module": "@jupyter-widgets/base",
          "model_name": "LayoutModel",
          "model_module_version": "1.2.0",
          "state": {
            "_model_module": "@jupyter-widgets/base",
            "_model_module_version": "1.2.0",
            "_model_name": "LayoutModel",
            "_view_count": null,
            "_view_module": "@jupyter-widgets/base",
            "_view_module_version": "1.2.0",
            "_view_name": "LayoutView",
            "align_content": null,
            "align_items": null,
            "align_self": null,
            "border": null,
            "bottom": null,
            "display": null,
            "flex": null,
            "flex_flow": null,
            "grid_area": null,
            "grid_auto_columns": null,
            "grid_auto_flow": null,
            "grid_auto_rows": null,
            "grid_column": null,
            "grid_gap": null,
            "grid_row": null,
            "grid_template_areas": null,
            "grid_template_columns": null,
            "grid_template_rows": null,
            "height": null,
            "justify_content": null,
            "justify_items": null,
            "left": null,
            "margin": null,
            "max_height": null,
            "max_width": null,
            "min_height": null,
            "min_width": null,
            "object_fit": null,
            "object_position": null,
            "order": null,
            "overflow": null,
            "overflow_x": null,
            "overflow_y": null,
            "padding": null,
            "right": null,
            "top": null,
            "visibility": null,
            "width": null
          }
        },
        "5e68ca7cbefd426b9b4335bcb90f2342": {
          "model_module": "@jupyter-widgets/base",
          "model_name": "LayoutModel",
          "model_module_version": "1.2.0",
          "state": {
            "_model_module": "@jupyter-widgets/base",
            "_model_module_version": "1.2.0",
            "_model_name": "LayoutModel",
            "_view_count": null,
            "_view_module": "@jupyter-widgets/base",
            "_view_module_version": "1.2.0",
            "_view_name": "LayoutView",
            "align_content": null,
            "align_items": null,
            "align_self": null,
            "border": null,
            "bottom": null,
            "display": null,
            "flex": null,
            "flex_flow": null,
            "grid_area": null,
            "grid_auto_columns": null,
            "grid_auto_flow": null,
            "grid_auto_rows": null,
            "grid_column": null,
            "grid_gap": null,
            "grid_row": null,
            "grid_template_areas": null,
            "grid_template_columns": null,
            "grid_template_rows": null,
            "height": null,
            "justify_content": null,
            "justify_items": null,
            "left": null,
            "margin": null,
            "max_height": null,
            "max_width": null,
            "min_height": null,
            "min_width": null,
            "object_fit": null,
            "object_position": null,
            "order": null,
            "overflow": null,
            "overflow_x": null,
            "overflow_y": null,
            "padding": null,
            "right": null,
            "top": null,
            "visibility": null,
            "width": null
          }
        },
        "339623c9304444eb8e160fd2bd198c3e": {
          "model_module": "@jupyter-widgets/controls",
          "model_name": "DescriptionStyleModel",
          "model_module_version": "1.5.0",
          "state": {
            "_model_module": "@jupyter-widgets/controls",
            "_model_module_version": "1.5.0",
            "_model_name": "DescriptionStyleModel",
            "_view_count": null,
            "_view_module": "@jupyter-widgets/base",
            "_view_module_version": "1.2.0",
            "_view_name": "StyleView",
            "description_width": ""
          }
        },
        "77f63c2fb00c45e9834a79a69420bd92": {
          "model_module": "@jupyter-widgets/base",
          "model_name": "LayoutModel",
          "model_module_version": "1.2.0",
          "state": {
            "_model_module": "@jupyter-widgets/base",
            "_model_module_version": "1.2.0",
            "_model_name": "LayoutModel",
            "_view_count": null,
            "_view_module": "@jupyter-widgets/base",
            "_view_module_version": "1.2.0",
            "_view_name": "LayoutView",
            "align_content": null,
            "align_items": null,
            "align_self": null,
            "border": null,
            "bottom": null,
            "display": null,
            "flex": null,
            "flex_flow": null,
            "grid_area": null,
            "grid_auto_columns": null,
            "grid_auto_flow": null,
            "grid_auto_rows": null,
            "grid_column": null,
            "grid_gap": null,
            "grid_row": null,
            "grid_template_areas": null,
            "grid_template_columns": null,
            "grid_template_rows": null,
            "height": null,
            "justify_content": null,
            "justify_items": null,
            "left": null,
            "margin": null,
            "max_height": null,
            "max_width": null,
            "min_height": null,
            "min_width": null,
            "object_fit": null,
            "object_position": null,
            "order": null,
            "overflow": null,
            "overflow_x": null,
            "overflow_y": null,
            "padding": null,
            "right": null,
            "top": null,
            "visibility": null,
            "width": null
          }
        },
        "54afa5014c0b45fcb45d5738efea8c70": {
          "model_module": "@jupyter-widgets/controls",
          "model_name": "ProgressStyleModel",
          "model_module_version": "1.5.0",
          "state": {
            "_model_module": "@jupyter-widgets/controls",
            "_model_module_version": "1.5.0",
            "_model_name": "ProgressStyleModel",
            "_view_count": null,
            "_view_module": "@jupyter-widgets/base",
            "_view_module_version": "1.2.0",
            "_view_name": "StyleView",
            "bar_color": null,
            "description_width": ""
          }
        },
        "e32561e2d51e49308c08fc195c02e220": {
          "model_module": "@jupyter-widgets/base",
          "model_name": "LayoutModel",
          "model_module_version": "1.2.0",
          "state": {
            "_model_module": "@jupyter-widgets/base",
            "_model_module_version": "1.2.0",
            "_model_name": "LayoutModel",
            "_view_count": null,
            "_view_module": "@jupyter-widgets/base",
            "_view_module_version": "1.2.0",
            "_view_name": "LayoutView",
            "align_content": null,
            "align_items": null,
            "align_self": null,
            "border": null,
            "bottom": null,
            "display": null,
            "flex": null,
            "flex_flow": null,
            "grid_area": null,
            "grid_auto_columns": null,
            "grid_auto_flow": null,
            "grid_auto_rows": null,
            "grid_column": null,
            "grid_gap": null,
            "grid_row": null,
            "grid_template_areas": null,
            "grid_template_columns": null,
            "grid_template_rows": null,
            "height": null,
            "justify_content": null,
            "justify_items": null,
            "left": null,
            "margin": null,
            "max_height": null,
            "max_width": null,
            "min_height": null,
            "min_width": null,
            "object_fit": null,
            "object_position": null,
            "order": null,
            "overflow": null,
            "overflow_x": null,
            "overflow_y": null,
            "padding": null,
            "right": null,
            "top": null,
            "visibility": null,
            "width": null
          }
        },
        "8bd248b919e24c6eaac35e1548e2dfc9": {
          "model_module": "@jupyter-widgets/controls",
          "model_name": "DescriptionStyleModel",
          "model_module_version": "1.5.0",
          "state": {
            "_model_module": "@jupyter-widgets/controls",
            "_model_module_version": "1.5.0",
            "_model_name": "DescriptionStyleModel",
            "_view_count": null,
            "_view_module": "@jupyter-widgets/base",
            "_view_module_version": "1.2.0",
            "_view_name": "StyleView",
            "description_width": ""
          }
        },
        "76e57bb1af2946208ca6815e876e4111": {
          "model_module": "@jupyter-widgets/controls",
          "model_name": "HBoxModel",
          "model_module_version": "1.5.0",
          "state": {
            "_dom_classes": [],
            "_model_module": "@jupyter-widgets/controls",
            "_model_module_version": "1.5.0",
            "_model_name": "HBoxModel",
            "_view_count": null,
            "_view_module": "@jupyter-widgets/controls",
            "_view_module_version": "1.5.0",
            "_view_name": "HBoxView",
            "box_style": "",
            "children": [
              "IPY_MODEL_47e262a777a44da39f64434809c885fd",
              "IPY_MODEL_b7caf7dc876240a8b00c7b3e8cf9772d",
              "IPY_MODEL_e77f83ea62bd459caae5d2ad8ef83cae"
            ],
            "layout": "IPY_MODEL_beef29a318dc4fbe944ede7d2c3ece75"
          }
        },
        "47e262a777a44da39f64434809c885fd": {
          "model_module": "@jupyter-widgets/controls",
          "model_name": "HTMLModel",
          "model_module_version": "1.5.0",
          "state": {
            "_dom_classes": [],
            "_model_module": "@jupyter-widgets/controls",
            "_model_module_version": "1.5.0",
            "_model_name": "HTMLModel",
            "_view_count": null,
            "_view_module": "@jupyter-widgets/controls",
            "_view_module_version": "1.5.0",
            "_view_name": "HTMLView",
            "description": "",
            "description_tooltip": null,
            "layout": "IPY_MODEL_78067b560be24d03aa01add464ee9d0e",
            "placeholder": "​",
            "style": "IPY_MODEL_0ac7263be570424b958d540401513c57",
            "value": "Downloading: 100%"
          }
        },
        "b7caf7dc876240a8b00c7b3e8cf9772d": {
          "model_module": "@jupyter-widgets/controls",
          "model_name": "FloatProgressModel",
          "model_module_version": "1.5.0",
          "state": {
            "_dom_classes": [],
            "_model_module": "@jupyter-widgets/controls",
            "_model_module_version": "1.5.0",
            "_model_name": "FloatProgressModel",
            "_view_count": null,
            "_view_module": "@jupyter-widgets/controls",
            "_view_module_version": "1.5.0",
            "_view_name": "ProgressView",
            "bar_style": "success",
            "description": "",
            "description_tooltip": null,
            "layout": "IPY_MODEL_4d096bfa4a064324a6161f3672708cf7",
            "max": 363423424,
            "min": 0,
            "orientation": "horizontal",
            "style": "IPY_MODEL_33f8139c51eb484a831b95cd69f1f987",
            "value": 363423424
          }
        },
        "e77f83ea62bd459caae5d2ad8ef83cae": {
          "model_module": "@jupyter-widgets/controls",
          "model_name": "HTMLModel",
          "model_module_version": "1.5.0",
          "state": {
            "_dom_classes": [],
            "_model_module": "@jupyter-widgets/controls",
            "_model_module_version": "1.5.0",
            "_model_name": "HTMLModel",
            "_view_count": null,
            "_view_module": "@jupyter-widgets/controls",
            "_view_module_version": "1.5.0",
            "_view_name": "HTMLView",
            "description": "",
            "description_tooltip": null,
            "layout": "IPY_MODEL_5abfc516b2ca42baaa2648ffe9104e31",
            "placeholder": "​",
            "style": "IPY_MODEL_da2ec7284b284de5b42f0be73d4a545c",
            "value": " 363M/363M [00:09&lt;00:00, 43.2MB/s]"
          }
        },
        "beef29a318dc4fbe944ede7d2c3ece75": {
          "model_module": "@jupyter-widgets/base",
          "model_name": "LayoutModel",
          "model_module_version": "1.2.0",
          "state": {
            "_model_module": "@jupyter-widgets/base",
            "_model_module_version": "1.2.0",
            "_model_name": "LayoutModel",
            "_view_count": null,
            "_view_module": "@jupyter-widgets/base",
            "_view_module_version": "1.2.0",
            "_view_name": "LayoutView",
            "align_content": null,
            "align_items": null,
            "align_self": null,
            "border": null,
            "bottom": null,
            "display": null,
            "flex": null,
            "flex_flow": null,
            "grid_area": null,
            "grid_auto_columns": null,
            "grid_auto_flow": null,
            "grid_auto_rows": null,
            "grid_column": null,
            "grid_gap": null,
            "grid_row": null,
            "grid_template_areas": null,
            "grid_template_columns": null,
            "grid_template_rows": null,
            "height": null,
            "justify_content": null,
            "justify_items": null,
            "left": null,
            "margin": null,
            "max_height": null,
            "max_width": null,
            "min_height": null,
            "min_width": null,
            "object_fit": null,
            "object_position": null,
            "order": null,
            "overflow": null,
            "overflow_x": null,
            "overflow_y": null,
            "padding": null,
            "right": null,
            "top": null,
            "visibility": null,
            "width": null
          }
        },
        "78067b560be24d03aa01add464ee9d0e": {
          "model_module": "@jupyter-widgets/base",
          "model_name": "LayoutModel",
          "model_module_version": "1.2.0",
          "state": {
            "_model_module": "@jupyter-widgets/base",
            "_model_module_version": "1.2.0",
            "_model_name": "LayoutModel",
            "_view_count": null,
            "_view_module": "@jupyter-widgets/base",
            "_view_module_version": "1.2.0",
            "_view_name": "LayoutView",
            "align_content": null,
            "align_items": null,
            "align_self": null,
            "border": null,
            "bottom": null,
            "display": null,
            "flex": null,
            "flex_flow": null,
            "grid_area": null,
            "grid_auto_columns": null,
            "grid_auto_flow": null,
            "grid_auto_rows": null,
            "grid_column": null,
            "grid_gap": null,
            "grid_row": null,
            "grid_template_areas": null,
            "grid_template_columns": null,
            "grid_template_rows": null,
            "height": null,
            "justify_content": null,
            "justify_items": null,
            "left": null,
            "margin": null,
            "max_height": null,
            "max_width": null,
            "min_height": null,
            "min_width": null,
            "object_fit": null,
            "object_position": null,
            "order": null,
            "overflow": null,
            "overflow_x": null,
            "overflow_y": null,
            "padding": null,
            "right": null,
            "top": null,
            "visibility": null,
            "width": null
          }
        },
        "0ac7263be570424b958d540401513c57": {
          "model_module": "@jupyter-widgets/controls",
          "model_name": "DescriptionStyleModel",
          "model_module_version": "1.5.0",
          "state": {
            "_model_module": "@jupyter-widgets/controls",
            "_model_module_version": "1.5.0",
            "_model_name": "DescriptionStyleModel",
            "_view_count": null,
            "_view_module": "@jupyter-widgets/base",
            "_view_module_version": "1.2.0",
            "_view_name": "StyleView",
            "description_width": ""
          }
        },
        "4d096bfa4a064324a6161f3672708cf7": {
          "model_module": "@jupyter-widgets/base",
          "model_name": "LayoutModel",
          "model_module_version": "1.2.0",
          "state": {
            "_model_module": "@jupyter-widgets/base",
            "_model_module_version": "1.2.0",
            "_model_name": "LayoutModel",
            "_view_count": null,
            "_view_module": "@jupyter-widgets/base",
            "_view_module_version": "1.2.0",
            "_view_name": "LayoutView",
            "align_content": null,
            "align_items": null,
            "align_self": null,
            "border": null,
            "bottom": null,
            "display": null,
            "flex": null,
            "flex_flow": null,
            "grid_area": null,
            "grid_auto_columns": null,
            "grid_auto_flow": null,
            "grid_auto_rows": null,
            "grid_column": null,
            "grid_gap": null,
            "grid_row": null,
            "grid_template_areas": null,
            "grid_template_columns": null,
            "grid_template_rows": null,
            "height": null,
            "justify_content": null,
            "justify_items": null,
            "left": null,
            "margin": null,
            "max_height": null,
            "max_width": null,
            "min_height": null,
            "min_width": null,
            "object_fit": null,
            "object_position": null,
            "order": null,
            "overflow": null,
            "overflow_x": null,
            "overflow_y": null,
            "padding": null,
            "right": null,
            "top": null,
            "visibility": null,
            "width": null
          }
        },
        "33f8139c51eb484a831b95cd69f1f987": {
          "model_module": "@jupyter-widgets/controls",
          "model_name": "ProgressStyleModel",
          "model_module_version": "1.5.0",
          "state": {
            "_model_module": "@jupyter-widgets/controls",
            "_model_module_version": "1.5.0",
            "_model_name": "ProgressStyleModel",
            "_view_count": null,
            "_view_module": "@jupyter-widgets/base",
            "_view_module_version": "1.2.0",
            "_view_name": "StyleView",
            "bar_color": null,
            "description_width": ""
          }
        },
        "5abfc516b2ca42baaa2648ffe9104e31": {
          "model_module": "@jupyter-widgets/base",
          "model_name": "LayoutModel",
          "model_module_version": "1.2.0",
          "state": {
            "_model_module": "@jupyter-widgets/base",
            "_model_module_version": "1.2.0",
            "_model_name": "LayoutModel",
            "_view_count": null,
            "_view_module": "@jupyter-widgets/base",
            "_view_module_version": "1.2.0",
            "_view_name": "LayoutView",
            "align_content": null,
            "align_items": null,
            "align_self": null,
            "border": null,
            "bottom": null,
            "display": null,
            "flex": null,
            "flex_flow": null,
            "grid_area": null,
            "grid_auto_columns": null,
            "grid_auto_flow": null,
            "grid_auto_rows": null,
            "grid_column": null,
            "grid_gap": null,
            "grid_row": null,
            "grid_template_areas": null,
            "grid_template_columns": null,
            "grid_template_rows": null,
            "height": null,
            "justify_content": null,
            "justify_items": null,
            "left": null,
            "margin": null,
            "max_height": null,
            "max_width": null,
            "min_height": null,
            "min_width": null,
            "object_fit": null,
            "object_position": null,
            "order": null,
            "overflow": null,
            "overflow_x": null,
            "overflow_y": null,
            "padding": null,
            "right": null,
            "top": null,
            "visibility": null,
            "width": null
          }
        },
        "da2ec7284b284de5b42f0be73d4a545c": {
          "model_module": "@jupyter-widgets/controls",
          "model_name": "DescriptionStyleModel",
          "model_module_version": "1.5.0",
          "state": {
            "_model_module": "@jupyter-widgets/controls",
            "_model_module_version": "1.5.0",
            "_model_name": "DescriptionStyleModel",
            "_view_count": null,
            "_view_module": "@jupyter-widgets/base",
            "_view_module_version": "1.2.0",
            "_view_name": "StyleView",
            "description_width": ""
          }
        }
      }
    },
    "accelerator": "GPU"
  },
  "nbformat": 4,
  "nbformat_minor": 5
}