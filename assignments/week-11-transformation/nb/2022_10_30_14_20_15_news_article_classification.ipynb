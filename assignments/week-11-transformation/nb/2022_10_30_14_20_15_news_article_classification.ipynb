{
  "cells": [
    {
      "cell_type": "markdown",
      "id": "TfzL6S25dL6j",
      "metadata": {
        "id": "TfzL6S25dL6j"
      },
      "source": [
        "<p align = \"center\" draggable=”false” ><img src=\"https://user-images.githubusercontent.com/37101144/161836199-fdb0219d-0361-4988-bf26-48b0fad160a3.png\" \n",
        "     width=\"200px\"\n",
        "     height=\"auto\"/>\n",
        "</p>"
      ]
    },
    {
      "cell_type": "markdown",
      "id": "cd6727ba",
      "metadata": {
        "id": "cd6727ba"
      },
      "source": [
        "# News Article Classification\n"
      ]
    },
    {
      "cell_type": "markdown",
      "id": "1dd0ce8d",
      "metadata": {
        "id": "1dd0ce8d"
      },
      "source": [
        "Today, you are a machine learning engineer at [Upday](https://www.upday.com/home), a news app. The engine behind the app processes almost 100k news articles every day in many languages and context. In order to connect people with the right content, we need to know what the articles are about. \n",
        "\n",
        "The job here is to build a classifier that identify the category of an article accurately that will be fed into the recommendation algorithms of the app for better personalized content for the readers. \n",
        "\n",
        "You will first train a Transformer from scratch; then fine-tune a pre-trained Transformer model for text classification using 🤗; and compare performances using the same test data set."
      ]
    },
    {
      "cell_type": "markdown",
      "id": "c979a92b",
      "metadata": {
        "id": "c979a92b"
      },
      "source": [
        "## Learning objectives\n"
      ]
    },
    {
      "cell_type": "markdown",
      "id": "4f6bcf51",
      "metadata": {
        "id": "4f6bcf51"
      },
      "source": [
        "By the end of this session, you will be able to:\n",
        "- Understand how Transformer models work\n",
        "- Build a Transformer model for text classification from scratch\n",
        "- Fine-tune a pre-trained Transformer model for text classification using 🤗 "
      ]
    },
    {
      "cell_type": "markdown",
      "id": "64724518",
      "metadata": {
        "id": "64724518"
      },
      "source": [
        "# Task 1. Prepare the data"
      ]
    },
    {
      "cell_type": "markdown",
      "id": "48a57962",
      "metadata": {
        "id": "48a57962"
      },
      "source": [
        "1. [20 news groups data](http://qwone.com/~jason/20Newsgroups/) is one of the standard datasets in the `scikit-learn`. The 20 newsgroups dataset comprises around 18k newsgroups posts on 20 topics split in two subsets: one for training (or development) and the other one for testing (or for performance evaluation). The split between the two datasets is based upon messages posted before and after a specific date.\n",
        "\n",
        "    Take a read on its [usage](https://scikit-learn.org/stable/datasets/real_world.html#newsgroups-dataset) and load the training and testing datasets into `train` and `test` respectively via `fetch_20newsgroups`."
      ]
    },
    {
      "cell_type": "code",
      "execution_count": 1,
      "id": "1f4d54b2",
      "metadata": {
        "id": "1f4d54b2"
      },
      "outputs": [],
      "source": [
        "NUM_LABELS = 20"
      ]
    },
    {
      "cell_type": "code",
      "execution_count": 22,
      "id": "511c1fd2",
      "metadata": {
        "id": "511c1fd2",
        "colab": {
          "base_uri": "https://localhost:8080/"
        },
        "outputId": "eee9a849-acd1-46d6-ff4c-ee335cd46197"
      },
      "outputs": [
        {
          "output_type": "stream",
          "name": "stdout",
          "text": [
            "Type and length of train: <class 'sklearn.utils.Bunch'> \t5\n",
            "Type and length of test : <class 'sklearn.utils.Bunch'> \t5\n",
            "\n",
            "\tType and length of train[\"data\"]:  \t\t<class 'list'> \t11314\n",
            "\tType and length of train[\"target_names\"]: \t<class 'list'> \t   20\n",
            "\n",
            "\tType and length of test[\"data\"]:  \t\t<class 'list'> \t 7532\n",
            "\tType and length of test[\"target_names\"]: \t<class 'list'> \t   20\n",
            "\n",
            "train.keys data type: \t<class 'dict_keys'>\n",
            "train keys:           \tdict_keys(['data', 'filenames', 'target_names', 'target', 'DESCR'])\n",
            "\n",
            "train[\"target_names\"] contents:\n",
            "\talt.atheism\n",
            "\tcomp.graphics\n",
            "\tcomp.os.ms-windows.misc\n",
            "\tcomp.sys.ibm.pc.hardware\n",
            "\tcomp.sys.mac.hardware\n",
            "\tcomp.windows.x\n",
            "\tmisc.forsale\n",
            "\trec.autos\n",
            "\trec.motorcycles\n",
            "\trec.sport.baseball\n",
            "\trec.sport.hockey\n",
            "\tsci.crypt\n",
            "\tsci.electronics\n",
            "\tsci.med\n",
            "\tsci.space\n",
            "\tsoc.religion.christian\n",
            "\ttalk.politics.guns\n",
            "\ttalk.politics.mideast\n",
            "\ttalk.politics.misc\n",
            "\ttalk.religion.misc\n"
          ]
        }
      ],
      "source": [
        "from sklearn.datasets import fetch_20newsgroups\n",
        "\n",
        "train = fetch_20newsgroups(subset='train')\n",
        "test = fetch_20newsgroups(subset='test')\n",
        "\n",
        "# check data types:\n",
        "print(f'Type and length of train: {type(train)} \\t{len(train)}')\n",
        "print(f'Type and length of test : {type(test)} \\t{len(test)}\\n')\n",
        "\n",
        "# explore class sklearn.utils.Bunch:\n",
        "print(f'\\tType and length of train[\"data\"]:  \\t\\t{type(train[\"data\"])} '\n",
        "          f'\\t{len(train[\"data\"]):5d}\\n' \n",
        "      f'\\tType and length of train[\"target_names\"]: \\t{type(train[\"target_names\"])} '\n",
        "          f'\\t{len(train[\"target_names\"]):5d}\\n\\n'\n",
        "      f'\\tType and length of test[\"data\"]:  \\t\\t{type(test[\"data\"])} '\n",
        "          f'\\t{len(test[\"data\"]):5d}\\n' \n",
        "      f'\\tType and length of test[\"target_names\"]: \\t{type(test[\"target_names\"])} '\n",
        "          f'\\t{len(test[\"target_names\"]):5d}\\n')\n",
        "\n",
        "# take a look at keys in train data set:\n",
        "print(f'train.keys data type: \\t{type(train.keys())}\\n'\n",
        "      f'train keys:           \\t{train.keys()}\\n')\n",
        "\n",
        "# what is in train['target_names']?\n",
        "print('train[\"target_names\"] contents:', *train[\"target_names\"], sep='\\n\\t')"
      ]
    },
    {
      "cell_type": "markdown",
      "id": "dd0ed320",
      "metadata": {
        "id": "dd0ed320"
      },
      "source": [
        "1. Explore the data. For example, what is the data type of `train` and `test`? What is the data type of `train['data']`? What is in `train['target_names']`? \n",
        "\n",
        "    ___Answer:___  \n",
        "    *  _See above cell output; also:_  \n",
        "      \n",
        "    *  `train[\"target_names\"]` is a `list` object containing the data set's 20 topics ('categories').\n",
        "         \n",
        "    * ___NB:___ __`class sklearn.utils.Bunch`__ is a __container object__ exposing keys as attributes, and allows dictionary values to be accessed via keys or attribute, e.g., `bunch[\"value_key\"]` or `bunch.value_key`.  \n",
        "      \n",
        "    * The __20 Newsgroups data set__ documentation describes the set as partitioned about evenly across 20 different 'newsgroups' (= 'topics' = 'categories' = `target_names`). It groups these topics/categories by __subject-matter relatedness__ as follows (see: http://qwone.com/~jason/20Newsgroups/):"
      ]
    },
    {
      "cell_type": "markdown",
      "source": [
        "![image.png](data:image/png;base64,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)"
      ],
      "metadata": {
        "id": "nWsHmZa1CuIs"
      },
      "id": "nWsHmZa1CuIs"
    },
    {
      "cell_type": "markdown",
      "id": "685b52dd",
      "metadata": {
        "id": "685b52dd"
      },
      "source": [
        "1. Train / validation / test splits. \n",
        "\n",
        "    There are ~~four~~ __five__ keys in each data set and we need \"data\" (the text) and \"target\" (the category). Extract the \"data\" and create a `pd.Series` named `X`; and extract the \"target\" and create a `pd.Series` named `y`. Do the same for the `test` data set, named `X_test` and `y_test`, respectively.  \n",
        "      \n",
        "    __NB:__ _The `target` attribute "
      ]
    },
    {
      "cell_type": "code",
      "execution_count": null,
      "id": "4a044fbf",
      "metadata": {
        "id": "4a044fbf"
      },
      "outputs": [],
      "source": [
        "import pandas as pd\n",
        "X, y = (pd.Series(train['data']), pd.Series(train['target']))\n",
        "X_test, y_test = (pd.Series(test['data']), pd.Series(test['target']))"
      ]
    },
    {
      "cell_type": "markdown",
      "id": "ad6b5518",
      "metadata": {
        "id": "ad6b5518"
      },
      "source": [
        "Now split `X` and `y` into training and validation sets. Use `train_test_split` from `sklearn.model_selection` to split the data; save 10% of the data for validation and set the random state to 19."
      ]
    },
    {
      "cell_type": "code",
      "execution_count": null,
      "id": "5b792fff",
      "metadata": {
        "id": "5b792fff"
      },
      "outputs": [],
      "source": [
        "from sklearn.model_selection import train_test_split \n",
        "X_train, X_valid, y_train, y_valid = train_test_split(X, y, test_size=0.10, \n",
        "                                                      random_state=19)"
      ]
    },
    {
      "cell_type": "code",
      "execution_count": null,
      "id": "17b97380",
      "metadata": {
        "id": "17b97380"
      },
      "outputs": [],
      "source": [
        "assert y_train.shape == (10182,)\n",
        "assert y_valid.shape == (1132,)\n",
        "assert y_test.shape == (7532,)"
      ]
    },
    {
      "cell_type": "markdown",
      "id": "8e3d71a0",
      "metadata": {
        "id": "8e3d71a0"
      },
      "source": [
        "1. Convert categorical labels into dummy variables. \n",
        "\n",
        "    Use `pd.get_dummies` to convert labels into dummy variables for `y_train`, `y_valid`, `y_test`."
      ]
    },
    {
      "cell_type": "code",
      "execution_count": null,
      "id": "72e335c2",
      "metadata": {
        "id": "72e335c2"
      },
      "outputs": [],
      "source": [
        "y_train = pd.get\n",
        "y_valid = # YOUR CODE HERE\n",
        "y_test = # YOUR CODE HERE"
      ]
    },
    {
      "cell_type": "code",
      "execution_count": null,
      "id": "ee3a80ca",
      "metadata": {
        "id": "ee3a80ca"
      },
      "outputs": [],
      "source": [
        "assert y_train.shape == (10182, NUM_LABELS)\n",
        "assert y_valid.shape == (1132, NUM_LABELS)\n",
        "assert y_test.shape == (7532, NUM_LABELS)"
      ]
    },
    {
      "cell_type": "markdown",
      "id": "9603eb10",
      "metadata": {
        "id": "9603eb10"
      },
      "source": [
        "\n",
        "# Task 2. Attention is all you need"
      ]
    },
    {
      "cell_type": "markdown",
      "id": "9c39db15",
      "metadata": {
        "id": "9c39db15"
      },
      "source": [
        "Recently most of the natural language processing tasks are being dominated by the `Transformer` architecture, introduced in [Attention Is All You Need](https://arxiv.org/abs/1706.03762), which used a simple mechanism called `Neural Attention` as one of its building blocks. As the title suggests this architecture didn't require any recurrent layer. We now build a text classification using Attention and Positional Embeddings."
      ]
    },
    {
      "cell_type": "markdown",
      "id": "fb0fa502",
      "metadata": {
        "id": "fb0fa502"
      },
      "source": [
        "1. Transformer (attention) Block. \n",
        "\n",
        "    The concept of `Neural Attention` is fairly simple; i.e., not all input information seen by a model is equally important to the task at hand. Although this concept has been utilized at various different places as well, e.g., max pooling in ConvNets, but the kind of attention we are looking for should be `context aware`.\n",
        "\n",
        "    The attention mechanism allows output to focus attention on input while producing output while the self-attention model allows inputs to interact with each other; in other words, calculate attention of all other inputs with respect to one input.\n",
        "\n",
        "    In the paper, the authors proposed another type of attention mechanism called multi-headed attention which refers to the fact that the outer space of the self attention layer gets factored into a set of independent sub-spaces learned separately, where each subspace is called a \"head\". **You need to implement the multi-head attention layer**, supplying values for two parameters: `num_heads` and `key_dim`.\n",
        "\n",
        "    There is a learnable dense projection present after the multi-head attention which enables the layer to actually learn something, as opposed to being a purely stateless transformation. **You need to implement `dense_proj`**, use the `tf.keras.Sequential` to stack two dense layers: \n",
        "    \n",
        "        1. first dense layer with `dense_dim` units and activation function `relu`;\n",
        "        2. second dense layer with `embed_dim` units and no activation function."
      ]
    },
    {
      "cell_type": "code",
      "execution_count": null,
      "id": "cc578b76",
      "metadata": {
        "id": "cc578b76",
        "outputId": "c618a0d6-b374-41b2-8bd2-e6ea15d64d11"
      },
      "outputs": [
        {
          "ename": "SyntaxError",
          "evalue": "invalid syntax (1417336698.py, line 10)",
          "output_type": "error",
          "traceback": [
            "\u001b[1;36m  Cell \u001b[1;32mIn [1], line 10\u001b[1;36m\u001b[0m\n\u001b[1;33m    self.attention = # YOUR CODE HERE\u001b[0m\n\u001b[1;37m                     ^\u001b[0m\n\u001b[1;31mSyntaxError\u001b[0m\u001b[1;31m:\u001b[0m invalid syntax\n"
          ]
        }
      ],
      "source": [
        "from tensorflow.keras import layers as L\n",
        "import tensorflow as tf\n",
        "from tensorflow import keras\n",
        "\n",
        "class TransformerBlock(L.Layer):\n",
        "    def __init__(self, embed_dim, dense_dim, num_heads, **kwargs):\n",
        "        self.embed_dim = embed_dim\n",
        "        self.dense_dim = dense_dim\n",
        "        self.num_heads = num_heads\n",
        "        self.attention = # YOUR CODE HERE\n",
        "        self.dense_proj = # YOUR CODE HERE\n",
        "        self.layernorm1 = L.LayerNormalization()\n",
        "        self.layernorm2 = L.LayerNormalization()\n",
        "        super().__init__(**kwargs)\n",
        "    \n",
        "    def call(self, inputs, mask=None):\n",
        "        if mask is not None:\n",
        "            mask = mask[: tf.newaxis, :]\n",
        "        attention_output = self.attention(inputs, inputs, attention_mask=mask)\n",
        "        proj_input = self.layernorm1(inputs + attention_output)\n",
        "        proj_output = self.dense_proj(proj_input)\n",
        "        return self.layernorm2(proj_input + proj_output)\n",
        "    \n",
        "    def get_config(self):\n",
        "        config = super().get_config()\n",
        "        config.update({\n",
        "            \"embed_dim\": self.embed_dim,\n",
        "            \"num_heads\": self.num_heads,\n",
        "            \"dense_dim\": self.dense_dim\n",
        "        })\n",
        "        return config"
      ]
    },
    {
      "cell_type": "markdown",
      "id": "e1cb0ce3",
      "metadata": {
        "id": "e1cb0ce3"
      },
      "source": [
        "1. Positional embedding. \n",
        "\n",
        "    The idea behind Positional Encoding is fairly simple as well: to give the model access to token order information, therefore we are going to add the token's position in the sentence to each word embedding.\n",
        "\n",
        "    Thus, one input word embedding will have two components: the usual token vector representing the token independent of any specific context, and a position vector representing the position of the token in the current sequence."
      ]
    },
    {
      "cell_type": "code",
      "execution_count": null,
      "id": "2db9b3dd",
      "metadata": {
        "id": "2db9b3dd"
      },
      "outputs": [],
      "source": [
        "class PositionalEmbedding(L.Layer):\n",
        "    def __init__(self, sequence_length, input_dim, output_dim, **kwargs):\n",
        "        self.token_embeddings = # YOUR CODE HERE\n",
        "        self.position_embeddings = # YOUR CODE HERE\n",
        "        self.sequence_length = sequence_length\n",
        "        self.input_dim = input_dim\n",
        "        self.output_dim = output_dim\n",
        "        super().__init__(**kwargs)\n",
        "        \n",
        "    def call(self, inputs):\n",
        "        length = tf.shape(inputs)[-1]\n",
        "        positions = tf.range(start=0, limit=length, delta=1)\n",
        "        embedded_tokens = self.token_embeddings(inputs)\n",
        "        embedded_positions = self.position_embeddings(positions)\n",
        "        return embedded_tokens + embedded_positions\n",
        "        \n",
        "    def get_config(self):\n",
        "        config = super().get_config()\n",
        "        config.update({\n",
        "            \"output_dim\": self.output_dim,\n",
        "            \"sequence_length\": self.sequence_length,\n",
        "            \"input_dim\": self.input_dim,\n",
        "        })\n",
        "        return config"
      ]
    },
    {
      "cell_type": "markdown",
      "id": "afde9c93",
      "metadata": {
        "id": "afde9c93"
      },
      "source": [
        "1. Define some constants to parameterize the model."
      ]
    },
    {
      "cell_type": "code",
      "execution_count": null,
      "id": "280fe4c7",
      "metadata": {
        "id": "280fe4c7"
      },
      "outputs": [],
      "source": [
        "VOCAB_SIZE = 10_000\n",
        "EMBED_DIM = 256\n",
        "DENSE_DIM = 32\n",
        "NUM_HEADS = 2\n",
        "MAX_LEN = 256"
      ]
    },
    {
      "cell_type": "markdown",
      "id": "9ecb3a8d",
      "metadata": {
        "id": "9ecb3a8d"
      },
      "source": [
        "1. Tokenizer. \n",
        "    \n",
        "    The tokenizer is a simple tool to convert a text into a sequence of tokens. It is used to convert the training data into a sequence of integers, which are then used as input to the model. \n",
        "\n",
        "    Use `Tokenizer` to create a tokenizer for the training data. Set the `num_words` parameter to the number of words to keep in the vocabulary, and `oov_token` to be `\"<unk>\"`."
      ]
    },
    {
      "cell_type": "code",
      "execution_count": null,
      "id": "17d66cfc",
      "metadata": {
        "id": "17d66cfc"
      },
      "outputs": [],
      "source": [
        "from keras.preprocessing.text import Tokenizer\n",
        "tokenizer = # YOUR CODE HERE\n",
        "tokenizer.fit_on_texts(X_train)"
      ]
    },
    {
      "cell_type": "markdown",
      "id": "eab4b7a0",
      "metadata": {
        "id": "eab4b7a0"
      },
      "source": [
        "1. Pad the sequences. \n",
        "    \n",
        "    The tokenizer outputs a sequence of integers, which are then used as input to the model. However, the model expects a sequence of fixed length. To pad the sequences to the same length, use `sequence.pad_sequences` from `keras.preprocessing`.\n",
        "\n",
        "    Complete function `preprocess` below to 1) tokenize the texts 2) pad the sequences to the same length."
      ]
    },
    {
      "cell_type": "code",
      "execution_count": null,
      "id": "5GyEyhfuDybK",
      "metadata": {
        "id": "5GyEyhfuDybK"
      },
      "outputs": [],
      "source": [
        "from keras.preprocessing import sequence\n",
        "\n",
        "def preprocess(texts, tokenizer, maxlen:int = MAX_LEN):\n",
        "    seqs = # YOUR CODE HERE\n",
        "    tokenized_text = # YOUR CODE HERE\n",
        "    return tokenized_text"
      ]
    },
    {
      "cell_type": "markdown",
      "id": "8f4f3291",
      "metadata": {
        "id": "8f4f3291"
      },
      "source": [
        "1. Preprocess the data. \n",
        "    \n",
        "    Use `preprocess` to preprocess the training, validation, and test data."
      ]
    },
    {
      "cell_type": "code",
      "execution_count": null,
      "id": "041570a5",
      "metadata": {
        "id": "041570a5"
      },
      "outputs": [],
      "source": [
        "X_train = # YOUR CODE HERE\n",
        "X_valid = # YOUR CODE HERE\n",
        "X_test  = # YOUR CODE HERE"
      ]
    },
    {
      "cell_type": "markdown",
      "id": "6f65487a",
      "metadata": {
        "id": "6f65487a"
      },
      "source": [
        "1. Define the model with the following architecture: \n",
        "\n",
        "    * Input Layer\n",
        "    * Positional Embeddings\n",
        "    * Transformer Block\n",
        "    * Pooling\n",
        "    * Dropout\n",
        "    * Output Layer\n",
        "\n",
        "    If you are not familiar with keras functional API, take a read [here](https://keras.io/guides/functional_api/)."
      ]
    },
    {
      "cell_type": "code",
      "execution_count": null,
      "id": "141d4968",
      "metadata": {
        "id": "141d4968"
      },
      "outputs": [],
      "source": [
        "inputs = keras.Input(shape=(None, ), dtype=\"int64\")\n",
        "x = # YOUR CODE HERE\n",
        "x = # YOUR CODE HERE\n",
        "x = L.GlobalMaxPooling1D()(x)\n",
        "x = L.Dropout(0.5)(x)\n",
        "outputs = L.Dense(20, activation='softmax')(x)\n",
        "\n",
        "model = keras.Model(inputs, outputs)"
      ]
    },
    {
      "cell_type": "markdown",
      "id": "7329eef2",
      "metadata": {
        "id": "7329eef2"
      },
      "source": [
        "1. Compile model. \n",
        "\n",
        "    Use 'adam' for the optimizer and accuracy for metrics, supply the correct value for loss. "
      ]
    },
    {
      "cell_type": "code",
      "execution_count": null,
      "id": "f6491748",
      "metadata": {
        "id": "f6491748"
      },
      "outputs": [],
      "source": [
        "model.compile(\n",
        "    optimizer=# YOUR CODE HERE\n",
        "    loss=# YOUR CODE HERE\n",
        "    metrics=# YOUR CODE HERE\n",
        ")"
      ]
    },
    {
      "cell_type": "code",
      "execution_count": null,
      "id": "d1c00f20",
      "metadata": {
        "id": "d1c00f20"
      },
      "outputs": [],
      "source": [
        "model.summary()"
      ]
    },
    {
      "cell_type": "markdown",
      "id": "ZN4agZCL7E6e",
      "metadata": {
        "id": "ZN4agZCL7E6e"
      },
      "source": [
        "1. Add [EarlyStopping](https://keras.io/api/callbacks/early_stopping/) and [ReduceLROnPlateau](https://keras.io/api/callbacks/reduce_lr_on_plateau/) to stop training if the model does not improve a set metric after a given number of epochs. \n",
        "\n",
        "    Create an `EarlyStopping` object named `es` to stop training if the validation loss does not improve after 5 epochs. Set verbose to display messages when the callback takes an action and set `restore_best_weights` to restore model weights from the epoch with the best value of the monitored metric.\n",
        "    \n",
        "    Use `ReduceLROnPlateau` to reduce the learning rate if the validation loss does not improve after 3 epochs. Set verbose to display messages when the callback takes an action and use default values for other parameters.\n",
        "    "
      ]
    },
    {
      "cell_type": "code",
      "execution_count": null,
      "id": "220efe0c",
      "metadata": {
        "id": "220efe0c"
      },
      "outputs": [],
      "source": [
        "es = # YOUR CODE HERE\n",
        "rlp = # YOUR CODE HERE"
      ]
    },
    {
      "cell_type": "markdown",
      "id": "58c75279",
      "metadata": {
        "id": "58c75279"
      },
      "source": [
        "1. Train the model. \n",
        "    \n",
        "    Supply both `EarlyStopping` and `ReduceLROnPlateau` for `callbacks`. Set `epochs` to 100."
      ]
    },
    {
      "cell_type": "code",
      "execution_count": null,
      "id": "1c8d14d0",
      "metadata": {
        "id": "1c8d14d0"
      },
      "outputs": [],
      "source": [
        "history = model.fit(\n",
        "    X_train, y_train, \n",
        "    validation_data=(X_valid, y_valid),\n",
        "    callbacks= # YOUR CODE HERE\n",
        "    epochs=100\n",
        ")"
      ]
    },
    {
      "cell_type": "markdown",
      "id": "4cd54e08",
      "metadata": {
        "id": "4cd54e08"
      },
      "source": [
        "1. Evaluate the trained model on the test data. \n",
        "    \n",
        "    Use `evaluate` to evaluate the model on the test data (accuracy will be around 0.77)."
      ]
    },
    {
      "cell_type": "code",
      "execution_count": null,
      "id": "HCVwNQ0UqH_x",
      "metadata": {
        "id": "HCVwNQ0UqH_x"
      },
      "outputs": [],
      "source": [
        "# YOUR CODE HERE"
      ]
    },
    {
      "cell_type": "markdown",
      "id": "3f3bc7bf",
      "metadata": {
        "id": "3f3bc7bf"
      },
      "source": [
        "1. Visualize both loss and accuracy curves for the training and validation data. "
      ]
    },
    {
      "cell_type": "code",
      "execution_count": null,
      "id": "20fdf465",
      "metadata": {
        "id": "20fdf465"
      },
      "outputs": [],
      "source": [
        "# YOUR CODE HERE"
      ]
    },
    {
      "cell_type": "markdown",
      "id": "e_aWlv8RYI-4",
      "metadata": {
        "id": "e_aWlv8RYI-4"
      },
      "source": [
        "# Task 3. Fine-tune pre-trained model via 🤗"
      ]
    },
    {
      "cell_type": "markdown",
      "id": "5490667e",
      "metadata": {
        "id": "5490667e"
      },
      "source": [
        "Substantial gains can be achieved by pre-training on a large corpus of text followed by fine-tuning a specific task. In this task, we will take advantage of [DistilBERT, a distilled version of BERT: smaller, faster, cheaper and lighter](https://arxiv.org/pdf/1910.01108.pdf), [`distillbert-uncased`](https://huggingface.co/distilbert-base-uncased) specifically, and fine-tune it on the 20 Newsgroups dataset."
      ]
    },
    {
      "cell_type": "markdown",
      "id": "b24afd2f",
      "metadata": {
        "id": "b24afd2f"
      },
      "source": [
        "1. Install [`Transformers`](https://huggingface.co/docs/transformers) and [`datasets`](https://huggingface.co/docs/datasets/index)."
      ]
    },
    {
      "cell_type": "code",
      "execution_count": null,
      "id": "st1OGgI4HmqS",
      "metadata": {
        "id": "st1OGgI4HmqS"
      },
      "outputs": [],
      "source": [
        "! pip install -U -q transformers datasets"
      ]
    },
    {
      "cell_type": "markdown",
      "id": "vC5O5FiWYPHe",
      "metadata": {
        "id": "vC5O5FiWYPHe"
      },
      "source": [
        "1. Import the library and check its version.\n"
      ]
    },
    {
      "cell_type": "code",
      "execution_count": null,
      "id": "maGzeTY8Ht85",
      "metadata": {
        "colab": {
          "base_uri": "https://localhost:8080/"
        },
        "id": "maGzeTY8Ht85",
        "outputId": "ca583c5c-492f-478f-a47a-5ecab1fd78a6"
      },
      "outputs": [
        {
          "name": "stdout",
          "output_type": "stream",
          "text": [
            "4.20.1\n"
          ]
        }
      ],
      "source": [
        "import transformers\n",
        "print(transformers.__version__)"
      ]
    },
    {
      "cell_type": "markdown",
      "id": "0dc75685",
      "metadata": {
        "id": "0dc75685"
      },
      "source": [
        "1. Create `Dataset` objects for train / validation / test sets that are better compatible with the `Transformers` API.\n",
        "\n",
        "    You can first create a `pd.DataFrame` with two fields: `text` and `label` with `data` and `target` from `train`. Then, call the `Dataset.from_pandas()` method to create a `Dataset` object and save it to `train_ds`. \n",
        "\n",
        "    Do the same for test set. "
      ]
    },
    {
      "cell_type": "code",
      "execution_count": null,
      "id": "RnLjbcxvHl7u",
      "metadata": {
        "id": "RnLjbcxvHl7u"
      },
      "outputs": [],
      "source": [
        "from datasets import Dataset\n",
        "train_ds = # YOUR CODE HERE\n",
        "test_ds  = # YOUR CODE HERE"
      ]
    },
    {
      "cell_type": "markdown",
      "id": "6699275d",
      "metadata": {
        "id": "6699275d"
      },
      "source": [
        "1. Cast column `label` as `datasets.features.ClassLabel` object using [`class_encode_column`](https://huggingface.co/docs/datasets/package_reference/main_classes#datasets.Dataset.class_encode_column) for both `train_ds` and `test_ds`."
      ]
    },
    {
      "cell_type": "code",
      "execution_count": null,
      "id": "wwmqiDg8H9W7",
      "metadata": {
        "id": "wwmqiDg8H9W7"
      },
      "outputs": [],
      "source": [
        "train_ds = # YOUR CODE HERE\n",
        "test_ds = # YOUR CODE HERE"
      ]
    },
    {
      "cell_type": "markdown",
      "id": "1fa82ebb",
      "metadata": {
        "id": "1fa82ebb"
      },
      "source": [
        "1. Create the validation set by apply [`train_ds.train_test_split()`](https://huggingface.co/docs/datasets/package_reference/main_classes#datasets.Dataset.train_test_split). Similarly, set the test size to 0.1, and set the random state to 19. Make sure the split is stratified by column `label`. Save the result to `train_dsd` as the result is a DatasetDict object.\n",
        "\n",
        "    Here's another way to do train / validation / test split: [ref](https://discuss.huggingface.co/t/how-to-split-main-dataset-into-train-dev-test-as-datasetdict/1090/2)"
      ]
    },
    {
      "cell_type": "code",
      "execution_count": null,
      "id": "VvDkzSZsIEHx",
      "metadata": {
        "id": "VvDkzSZsIEHx"
      },
      "outputs": [],
      "source": [
        "train_dsd = # YOUR CODE HERE"
      ]
    },
    {
      "cell_type": "code",
      "execution_count": null,
      "id": "o3XIsj3Z94wi",
      "metadata": {
        "colab": {
          "base_uri": "https://localhost:8080/"
        },
        "id": "o3XIsj3Z94wi",
        "outputId": "97fbb8e5-6466-4124-afdc-6a753a621308"
      },
      "outputs": [
        {
          "data": {
            "text/plain": [
              "DatasetDict({\n",
              "    train: Dataset({\n",
              "        features: ['text', 'label'],\n",
              "        num_rows: 10182\n",
              "    })\n",
              "    test: Dataset({\n",
              "        features: ['text', 'label'],\n",
              "        num_rows: 1132\n",
              "    })\n",
              "})"
            ]
          },
          "execution_count": 26,
          "metadata": {},
          "output_type": "execute_result"
        }
      ],
      "source": [
        "train_dsd"
      ]
    },
    {
      "cell_type": "markdown",
      "id": "bf61e97c",
      "metadata": {
        "id": "bf61e97c"
      },
      "source": [
        "1. Yet the 'test' set inside `train_dsd` is meant for validation, the following code will rename the test set to validation and add a new DataSet object for the test set."
      ]
    },
    {
      "cell_type": "code",
      "execution_count": null,
      "id": "Zwq78iZiIUxE",
      "metadata": {
        "id": "Zwq78iZiIUxE"
      },
      "outputs": [],
      "source": [
        "train_dsd['validation'] = train_dsd['test']\n",
        "train_dsd['test'] = test_ds"
      ]
    },
    {
      "cell_type": "code",
      "execution_count": null,
      "id": "AkW4gXlqIhdq",
      "metadata": {
        "colab": {
          "base_uri": "https://localhost:8080/"
        },
        "id": "AkW4gXlqIhdq",
        "outputId": "9e678cc8-adfa-48ae-cc2f-402e670e17ea"
      },
      "outputs": [
        {
          "data": {
            "text/plain": [
              "DatasetDict({\n",
              "    train: Dataset({\n",
              "        features: ['text', 'label'],\n",
              "        num_rows: 10182\n",
              "    })\n",
              "    test: Dataset({\n",
              "        features: ['text', 'label'],\n",
              "        num_rows: 7532\n",
              "    })\n",
              "    validation: Dataset({\n",
              "        features: ['text', 'label'],\n",
              "        num_rows: 1132\n",
              "    })\n",
              "})"
            ]
          },
          "execution_count": 28,
          "metadata": {},
          "output_type": "execute_result"
        }
      ],
      "source": [
        "train_dsd"
      ]
    },
    {
      "cell_type": "markdown",
      "id": "8ab80c71",
      "metadata": {
        "id": "8ab80c71"
      },
      "source": [
        "1. Load the DistilBERT tokenizer to process the text. \n",
        "    \n",
        "    Use [`AutoTokenizer`](https://huggingface.co/docs/transformers/v4.20.1/en/model_doc/auto#transformers.AutoTokenizer) to load the tokenizer for the given `model_checkpoint`. "
      ]
    },
    {
      "cell_type": "code",
      "execution_count": null,
      "id": "Xhq4BycpLjwj",
      "metadata": {
        "id": "Xhq4BycpLjwj"
      },
      "outputs": [],
      "source": [
        "from transformers import AutoTokenizer\n",
        "model_checkpoint = \"distilbert-base-uncased\"\n",
        "tokenizer = # YOUR CODE HERE"
      ]
    },
    {
      "cell_type": "markdown",
      "id": "d0a26945",
      "metadata": {
        "id": "d0a26945"
      },
      "source": [
        "1. Create a preprocessing function to tokenize text, truncate and pad sequences to be no longer than DistilBERT’s maximum input length:"
      ]
    },
    {
      "cell_type": "code",
      "execution_count": null,
      "id": "6hnc5JOejihx",
      "metadata": {
        "id": "6hnc5JOejihx"
      },
      "outputs": [],
      "source": [
        "def preprocess_function(examples):\n",
        "    return tokenizer(examples['text'], truncation=True, padding=True, max_length=MAX_LEN)"
      ]
    },
    {
      "cell_type": "markdown",
      "id": "f8cc46b6",
      "metadata": {
        "id": "f8cc46b6"
      },
      "source": [
        "1. Use 🤗 Datasets [map](https://huggingface.co/docs/datasets/package_reference/main_classes#datasets.Dataset.map) function to apply the preprocessing function over the entire dataset. You can speed up the map function by setting `batched=True` to process multiple elements of the dataset at once:"
      ]
    },
    {
      "cell_type": "code",
      "execution_count": null,
      "id": "6KWmC63UImNZ",
      "metadata": {
        "id": "6KWmC63UImNZ"
      },
      "outputs": [],
      "source": [
        "tokenized_text = # YOUR CODE HERE"
      ]
    },
    {
      "cell_type": "code",
      "execution_count": null,
      "id": "3WvXKDqENoqa",
      "metadata": {
        "colab": {
          "base_uri": "https://localhost:8080/"
        },
        "id": "3WvXKDqENoqa",
        "outputId": "47b043dd-152f-4992-e794-d69e62c8b0e2"
      },
      "outputs": [
        {
          "data": {
            "text/plain": [
              "DatasetDict({\n",
              "    train: Dataset({\n",
              "        features: ['text', 'label', 'input_ids', 'attention_mask'],\n",
              "        num_rows: 10182\n",
              "    })\n",
              "    test: Dataset({\n",
              "        features: ['text', 'label', 'input_ids', 'attention_mask'],\n",
              "        num_rows: 7532\n",
              "    })\n",
              "    validation: Dataset({\n",
              "        features: ['text', 'label', 'input_ids', 'attention_mask'],\n",
              "        num_rows: 1132\n",
              "    })\n",
              "})"
            ]
          },
          "execution_count": 32,
          "metadata": {},
          "output_type": "execute_result"
        }
      ],
      "source": [
        "tokenized_text"
      ]
    },
    {
      "cell_type": "markdown",
      "id": "78e1e59d",
      "metadata": {
        "id": "78e1e59d"
      },
      "source": [
        "1. Use [DataCollatorWithPadding](https://huggingface.co/docs/transformers/v4.20.1/en/main_classes/data_collator#transformers.DataCollatorWithPadding) to create a batch of examples. Set the type of Tensor to return as 'tf' as we will fine-tune the model in TensorFlow."
      ]
    },
    {
      "cell_type": "code",
      "execution_count": null,
      "id": "D8xk28M1O4GO",
      "metadata": {
        "id": "D8xk28M1O4GO"
      },
      "outputs": [],
      "source": [
        "from transformers import DataCollatorWithPadding\n",
        "data_collator = # YOUR CODE HERE"
      ]
    },
    {
      "cell_type": "markdown",
      "id": "bc0fe020",
      "metadata": {
        "id": "bc0fe020"
      },
      "source": [
        "1. To fine-tune a model in TensorFlow, start by converting datasets to the `tf.data.Dataset` format with `to_tf_dataset`. \n",
        "\n",
        "    Specify inputs and labels in columns, whether to shuffle the dataset order, batch size, and the data collator:"
      ]
    },
    {
      "cell_type": "code",
      "execution_count": null,
      "id": "25fh9ZxkIsI4",
      "metadata": {
        "id": "25fh9ZxkIsI4"
      },
      "outputs": [],
      "source": [
        "BATCH_SIZE = 16\n",
        "\n",
        "tf_train_set = tokenized_text[\"train\"].to_tf_dataset(\n",
        "    columns=# YOUR CODE HERE\n",
        "    shuffle=# YOUR CODE HERE\n",
        "    batch_size=BATCH_SIZE,\n",
        "    collate_fn=data_collator,\n",
        ")\n",
        "tf_validation_set = tokenized_text[\"validation\"].to_tf_dataset(\n",
        "    columns=# YOUR CODE HERE\n",
        "    shuffle=# YOUR CODE HERE\n",
        "    batch_size=BATCH_SIZE,\n",
        "    collate_fn=data_collator,\n",
        "    )\n",
        "tf_test_set = tokenized_text[\"test\"].to_tf_dataset(\n",
        "    columns=# YOUR CODE HERE\n",
        "    shuffle=# YOUR CODE HERE\n",
        "    batch_size=BATCH_SIZE,\n",
        "    collate_fn=data_collator,\n",
        "    )"
      ]
    },
    {
      "cell_type": "markdown",
      "id": "e475a9f9",
      "metadata": {
        "id": "e475a9f9"
      },
      "source": [
        "1. Set up an optimizer function, learning rate schedule, and some training hyperparameters:"
      ]
    },
    {
      "cell_type": "code",
      "execution_count": null,
      "id": "6ZJblOkpW27x",
      "metadata": {
        "id": "6ZJblOkpW27x"
      },
      "outputs": [],
      "source": [
        "from transformers import create_optimizer\n",
        "\n",
        "EPOCHS = 5\n",
        "batches_per_epoch = len(tokenized_text[\"train\"]) // BATCH_SIZE\n",
        "total_train_steps = int(batches_per_epoch * EPOCHS)\n",
        "optimizer, schedule = create_optimizer(init_lr=2e-5, num_warmup_steps=0, num_train_steps=total_train_steps)"
      ]
    },
    {
      "cell_type": "markdown",
      "id": "f2997fc2",
      "metadata": {
        "id": "f2997fc2"
      },
      "source": [
        "1. Load DistilBERT with  [TFAutoModelForSequenceClassification](https://huggingface.co/docs/transformers/v4.20.1/en/model_doc/auto#transformers.TFAutoModelForSequenceClassification) along with the number of expected labels:"
      ]
    },
    {
      "cell_type": "code",
      "execution_count": null,
      "id": "vCnl8FHEYanJ",
      "metadata": {
        "id": "vCnl8FHEYanJ"
      },
      "outputs": [],
      "source": [
        "from transformers import TFAutoModelForSequenceClassification\n",
        "\n",
        "my_bert = # YOUR CODE HERE"
      ]
    },
    {
      "cell_type": "markdown",
      "id": "97cb0e7b",
      "metadata": {
        "id": "97cb0e7b"
      },
      "source": [
        "1. Don't forget to configure the model for training with [`compile`](https://keras.io/api/models/model_training_apis/#compile-method):"
      ]
    },
    {
      "cell_type": "code",
      "execution_count": null,
      "id": "s7HGL_nCYfba",
      "metadata": {
        "id": "s7HGL_nCYfba"
      },
      "outputs": [],
      "source": [
        "my_bert.compile(optimizer=optimizer,  metrics=['accuracy'])"
      ]
    },
    {
      "cell_type": "markdown",
      "id": "QifyGkqhofwB",
      "metadata": {
        "id": "QifyGkqhofwB"
      },
      "source": [
        "1. Finally, let the fine-tuning start!\n",
        "\n",
        "    You may run into CoLab's usage limit, feel free to lower the parameter `epochs` to 3; even so, it could take ~10 minutes. "
      ]
    },
    {
      "cell_type": "code",
      "execution_count": null,
      "id": "cJjfKl0TY0A0",
      "metadata": {
        "id": "cJjfKl0TY0A0"
      },
      "outputs": [],
      "source": [
        "%%time\n",
        "# YOUR CODE HERE"
      ]
    },
    {
      "cell_type": "markdown",
      "id": "vPEoQlMw5VBq",
      "metadata": {
        "id": "vPEoQlMw5VBq"
      },
      "source": [
        "1. As you are waiting for the fine-tuning to finish, how many parameters does DistilBERT have? How about BERT? What is the world's largest open Multilingual Language Model as of July 2022? (hint: 🌸) \n",
        "\n",
        "    YOUR ANSWER HERE"
      ]
    },
    {
      "cell_type": "markdown",
      "id": "c4b23c02",
      "metadata": {
        "id": "c4b23c02"
      },
      "source": [
        "1. Evaluate the model on the test data. \n",
        "    \n",
        "    Use `evaluate` to evaluate the model on the test data (accuracy shall be around 0.84)."
      ]
    },
    {
      "cell_type": "code",
      "execution_count": null,
      "id": "vyvGP0mY-4_x",
      "metadata": {
        "id": "vyvGP0mY-4_x"
      },
      "outputs": [],
      "source": [
        "bert_loss, bert_acc = my_bert.evaluate(tf_test_set) # YOUR CODE HERE"
      ]
    },
    {
      "cell_type": "markdown",
      "id": "ba3081e8",
      "metadata": {
        "id": "ba3081e8"
      },
      "source": [
        "1. Optional. If you are happy with the result, you can save the model to a file. \n",
        "    \n",
        "    One easy way to do it is to use [`save_pretrained()`](https://huggingface.co/docs/transformers/main_classes/model#transformers.PreTrainedModel.save_pretrained) to save the model to a file. Check [Export 🤗 Transformers Models](https://huggingface.co/docs/transformers/serialization) for deployment options."
      ]
    },
    {
      "cell_type": "markdown",
      "id": "uD3fV0qVn8qv",
      "metadata": {
        "id": "uD3fV0qVn8qv"
      },
      "source": [
        "# Acknowledgement & Reference"
      ]
    },
    {
      "cell_type": "markdown",
      "id": "TqTjj4qRoApb",
      "metadata": {
        "id": "TqTjj4qRoApb"
      },
      "source": [
        "- Part of the notebook is adapted from [Text Classification - Attention](https://www.kaggle.com/code/ritvik1909/text-classification-attention)\n",
        "- Part of the notebook is adapted from [Fine-tune a pretrained model with Hugging Face](https://huggingface.co/docs/transformers/training)\n",
        "- We used accuracy for metric, check out [Comprehensive Guide to Multiclass Classification Metrics](https://towardsdatascience.com/comprehensive-guide-on-multiclass-classification-metrics-af94cfb83fbd).\n",
        "- [BERT Explained: State of the art language model for NLP](https://towardsdatascience.com/bert-explained-state-of-the-art-language-model-for-nlp-f8b21a9b6270)\n",
        "- [Hugging Face: State-of-the-Art Natural Language Processing in ten lines of TensorFlow 2.0](https://medium.com/tensorflow/using-tensorflow-2-for-state-of-the-art-natural-language-processing-102445cda54a)\n",
        "- More readings on Transformers, check the Course Materials section on [CS25: Transformers United](https://web.stanford.edu/class/cs25/)\n"
      ]
    }
  ],
  "metadata": {
    "colab": {
      "collapsed_sections": [],
      "provenance": []
    },
    "gpuClass": "standard",
    "kernelspec": {
      "display_name": "Python 3.10.6 ('tf_test')",
      "language": "python",
      "name": "python3"
    },
    "language_info": {
      "codemirror_mode": {
        "name": "ipython",
        "version": 3
      },
      "file_extension": ".py",
      "mimetype": "text/x-python",
      "name": "python",
      "nbconvert_exporter": "python",
      "pygments_lexer": "ipython3",
      "version": "3.10.6"
    },
    "papermill": {
      "default_parameters": {},
      "duration": 126.733939,
      "end_time": "2022-03-31T16:26:20.094746",
      "environment_variables": {},
      "exception": null,
      "input_path": "__notebook__.ipynb",
      "output_path": "__notebook__.ipynb",
      "parameters": {},
      "start_time": "2022-03-31T16:24:13.360807",
      "version": "2.3.3"
    },
    "toc": {
      "base_numbering": 1,
      "nav_menu": {},
      "number_sections": true,
      "sideBar": true,
      "skip_h1_title": false,
      "title_cell": "Table of Contents",
      "title_sidebar": "Contents",
      "toc_cell": false,
      "toc_position": {},
      "toc_section_display": true,
      "toc_window_display": false
    },
    "vscode": {
      "interpreter": {
        "hash": "6b9c6ff867483825fa0dd3fc19ee8fe577700eeede962216f62edebab98bd62f"
      }
    }
  },
  "nbformat": 4,
  "nbformat_minor": 5
}