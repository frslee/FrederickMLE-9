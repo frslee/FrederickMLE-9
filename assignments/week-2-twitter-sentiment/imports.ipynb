{
 "cells": [
  {
   "cell_type": "code",
   "execution_count": null,
   "id": "da24a652",
   "metadata": {},
   "outputs": [],
   "source": [
    "# check python in Jupyter shell:\n",
    "!type python"
   ]
  },
  {
   "cell_type": "code",
   "execution_count": null,
   "id": "265be8fb",
   "metadata": {},
   "outputs": [],
   "source": [
    "# check python in Jupyter kernel:\n",
    "import sys\n",
    "sys.executable"
   ]
  },
  {
   "cell_type": "code",
   "execution_count": null,
   "id": "cf54df5c",
   "metadata": {},
   "outputs": [],
   "source": [
    "# check which pip:\n",
    "!type pip"
   ]
  },
  {
   "cell_type": "code",
   "execution_count": null,
   "id": "59a36af2",
   "metadata": {},
   "outputs": [],
   "source": [
    "# check conda:\n",
    "!conda env list"
   ]
  },
  {
   "cell_type": "markdown",
   "id": "32949f38",
   "metadata": {},
   "source": [
    "##### *OK, after above checks, run the cell below...*"
   ]
  },
  {
   "cell_type": "code",
   "execution_count": 1,
   "id": "dd8ca316",
   "metadata": {},
   "outputs": [
    {
     "name": "stdout",
     "output_type": "stream",
     "text": [
      "Requirement already satisfied: transformers in /home/fslee/miniconda3/envs/sa38j/lib/python3.8/site-packages (4.21.1)\n",
      "Requirement already satisfied: torch in /home/fslee/miniconda3/envs/sa38j/lib/python3.8/site-packages (1.12.1)\n",
      "Requirement already satisfied: regex!=2019.12.17 in /home/fslee/miniconda3/envs/sa38j/lib/python3.8/site-packages (from transformers) (2022.8.17)\n",
      "Requirement already satisfied: tokenizers!=0.11.3,<0.13,>=0.11.1 in /home/fslee/miniconda3/envs/sa38j/lib/python3.8/site-packages (from transformers) (0.12.1)\n",
      "Requirement already satisfied: requests in /home/fslee/miniconda3/envs/sa38j/lib/python3.8/site-packages (from transformers) (2.28.1)\n",
      "Requirement already satisfied: pyyaml>=5.1 in /home/fslee/miniconda3/envs/sa38j/lib/python3.8/site-packages (from transformers) (6.0)\n",
      "Requirement already satisfied: huggingface-hub<1.0,>=0.1.0 in /home/fslee/miniconda3/envs/sa38j/lib/python3.8/site-packages (from transformers) (0.8.1)\n",
      "Requirement already satisfied: numpy>=1.17 in /home/fslee/miniconda3/envs/sa38j/lib/python3.8/site-packages (from transformers) (1.23.2)\n",
      "Requirement already satisfied: tqdm>=4.27 in /home/fslee/miniconda3/envs/sa38j/lib/python3.8/site-packages (from transformers) (4.64.0)\n",
      "Requirement already satisfied: packaging>=20.0 in /home/fslee/miniconda3/envs/sa38j/lib/python3.8/site-packages (from transformers) (21.3)\n",
      "Requirement already satisfied: filelock in /home/fslee/miniconda3/envs/sa38j/lib/python3.8/site-packages (from transformers) (3.8.0)\n",
      "Requirement already satisfied: typing-extensions in /home/fslee/miniconda3/envs/sa38j/lib/python3.8/site-packages (from torch) (4.3.0)\n",
      "Requirement already satisfied: pyparsing!=3.0.5,>=2.0.2 in /home/fslee/miniconda3/envs/sa38j/lib/python3.8/site-packages (from packaging>=20.0->transformers) (3.0.4)\n",
      "Requirement already satisfied: charset-normalizer<3,>=2 in /home/fslee/miniconda3/envs/sa38j/lib/python3.8/site-packages (from requests->transformers) (2.0.4)\n",
      "Requirement already satisfied: certifi>=2017.4.17 in /home/fslee/miniconda3/envs/sa38j/lib/python3.8/site-packages (from requests->transformers) (2022.6.15)\n",
      "Requirement already satisfied: urllib3<1.27,>=1.21.1 in /home/fslee/miniconda3/envs/sa38j/lib/python3.8/site-packages (from requests->transformers) (1.26.11)\n",
      "Requirement already satisfied: idna<4,>=2.5 in /home/fslee/miniconda3/envs/sa38j/lib/python3.8/site-packages (from requests->transformers) (3.3)\n",
      "Requirement already satisfied: emoji==0.6.0 in /home/fslee/miniconda3/envs/sa38j/lib/python3.8/site-packages (0.6.0)\n"
     ]
    },
    {
     "data": {
      "application/vnd.jupyter.widget-view+json": {
       "model_id": "71752de0331d487e9ae407d775fcaee7",
       "version_major": 2,
       "version_minor": 0
      },
      "text/plain": [
       "Downloading:   0%|          | 0.00/1.13k [00:00<?, ?B/s]"
      ]
     },
     "metadata": {},
     "output_type": "display_data"
    }
   ],
   "source": [
    "!pip install transformers torch\n",
    "!pip install emoji==0.6.0\n",
    "\n",
    "from transformers import pipeline\n",
    "\n",
    "pinstall = pipeline(model=\"finiteautomata/bertweet-base-sentiment-analysis\")"
   ]
  },
  {
   "cell_type": "code",
   "execution_count": null,
   "id": "112968b4",
   "metadata": {},
   "outputs": [],
   "source": []
  }
 ],
 "metadata": {
  "kernelspec": {
   "display_name": "Python (sa38j)",
   "language": "python",
   "name": "sa38j"
  },
  "language_info": {
   "codemirror_mode": {
    "name": "ipython",
    "version": 3
   },
   "file_extension": ".py",
   "mimetype": "text/x-python",
   "name": "python",
   "nbconvert_exporter": "python",
   "pygments_lexer": "ipython3",
   "version": "3.8.13"
  }
 },
 "nbformat": 4,
 "nbformat_minor": 5
}
