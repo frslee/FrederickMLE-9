{
 "cells": [
  {
   "cell_type": "markdown",
   "id": "24d097db",
   "metadata": {},
   "source": [
    "<p align = \"center\" draggable=”false” ><img src=\"https://user-images.githubusercontent.com/37101144/161836199-fdb0219d-0361-4988-bf26-48b0fad160a3.png\"\n",
    "     width=\"200px\"\n",
    "     height=\"auto\"/>\n",
    "</p>\n",
    "\n",
    "# <h1 align=\"center\" id=\"heading\">Sentiment Analysis of Twitter Data</h1>\n",
    "\n",
    "<hr>\n",
    "\n",
    "\n",
    "### ☑️ Objectives\n",
    "At the end of this session, you will be able to:\n",
    "- [ ] Understand how to find and run pre-trained models\n",
    "- [ ] Evaluate results from pre-trained models\n",
    "- [ ] Run a pre-trained model using real twitter data\n",
    "\n",
    "\n",
    "### 🔨 Pre-Assignment\n",
    "\n",
    "Create a new Conda environment for sentiment anaylsis (sa)\n",
    "\n",
    "```bash\n",
    "  conda create -n sa python=3.8 jupyter -y\n",
    "```\n",
    "\n",
    "Activate your new environment\n",
    "```bash\n",
    "  conda activate sa\n",
    "```\n",
    "\n",
    "Open the jupyter-notebook\n",
    "```bash\n",
    "  jupyter-notebook\n",
    "```\n",
    "\n",
    "Navigate through the repo in the notebook to find `imports.ipynb` for this week and open it.\n",
    "\n",
    "Run all of the cells in the notebook.\n",
    "\n",
    "\n",
    "### Background\n",
    "Please review the weekly narrative [here](https://www.notion.so/Week-2-Data-Centric-AI-the-AI-Product-Lifecycle-72a84c1517b44fcbb3e6bd11d47477dc#2b73937612bb46559f5b91dc2bf55e7d)\n",
    "\n",
    "\n"
   ]
  },
  {
   "cell_type": "markdown",
   "id": "b3934e6e",
   "metadata": {},
   "source": [
    "<hr>"
   ]
  },
  {
   "cell_type": "markdown",
   "id": "d1a5ab14",
   "metadata": {},
   "source": [
    "## 🚀 Let's Get Started"
   ]
  },
  {
   "cell_type": "markdown",
   "id": "bea542cb",
   "metadata": {},
   "source": [
    "Let's first start with our imports"
   ]
  },
  {
   "cell_type": "code",
   "execution_count": 1,
   "id": "f67dcb2b",
   "metadata": {
    "scrolled": true
   },
   "outputs": [],
   "source": [
    "import csv # Allows us to read and write csv files\n",
    "from pprint import pprint # Make our print functions easier to read\n",
    "\n",
    "from transformers import pipeline # Hugging face pipeline to load online models"
   ]
  },
  {
   "cell_type": "markdown",
   "id": "62d4028f",
   "metadata": {},
   "source": [
    "🤗 Transformers provides thousands of pretrained models to perform tasks on different modalities such as text, vision, and audio.\n",
    "\n",
    "These models can be applied on:\n",
    "- 📝 Text, for tasks like text classification, information extraction, question answering, summarization, translation, text generation, in over 100 languages.\n",
    "\n",
    "- 🖼️ Images, for tasks like image classification, object detection, and segmentation.\n",
    "- 🗣️ Audio, for tasks like speech recognition and audio classification.\n",
    "\n",
    "This is the pipeline method in transformers that we'll be using to analyze our sentiment data. Since we're not specifying a pretrained model, the pipeline has a default sentiment analysis model called [distilbert-base-uncased-finetuned-sst-2-english](https://huggingface.co/distilbert-base-uncased-finetuned-sst-2-english)."
   ]
  },
  {
   "cell_type": "code",
   "execution_count": 2,
   "id": "9c3e6e41",
   "metadata": {},
   "outputs": [
    {
     "name": "stderr",
     "output_type": "stream",
     "text": [
      "No model was supplied, defaulted to distilbert-base-uncased-finetuned-sst-2-english and revision af0f99b (https://huggingface.co/distilbert-base-uncased-finetuned-sst-2-english).\n",
      "Using a pipeline without specifying a model name and revision in production is not recommended.\n"
     ]
    }
   ],
   "source": [
    "sentiment_pipeline = pipeline(\"sentiment-analysis\")"
   ]
  },
  {
   "cell_type": "markdown",
   "id": "e30b34b2",
   "metadata": {},
   "source": [
    "In this example, we'll supply two polar sentiments and test out the model pipeline."
   ]
  },
  {
   "cell_type": "code",
   "execution_count": 3,
   "id": "de41c494",
   "metadata": {},
   "outputs": [
    {
     "data": {
      "text/plain": [
       "[{'label': 'POSITIVE', 'score': 0.9998694658279419},\n",
       " {'label': 'NEGATIVE', 'score': 0.994263231754303}]"
      ]
     },
     "execution_count": 3,
     "metadata": {},
     "output_type": "execute_result"
    }
   ],
   "source": [
    "data = [\"This is great!\", \"Oh no!\"]\n",
    "sentiment_pipeline(data)"
   ]
  },
  {
   "cell_type": "markdown",
   "id": "39d04139",
   "metadata": {},
   "source": [
    "The `label` in this case indicates the prediction for the sentiment type.\n",
    "\n",
    "The `score` indicates the confidence of the prediction (between 0 and 1).\n",
    "\n",
    "Since our sentiments were very polar, it was easier for the model to predict the sentiment type.\n",
    "\n",
    "Let's see what happens when we use a less clear example:"
   ]
  },
  {
   "cell_type": "code",
   "execution_count": 4,
   "id": "c077f881",
   "metadata": {},
   "outputs": [
    {
     "data": {
      "text/plain": [
       "[{'label': 'NEGATIVE', 'score': 0.9955562949180603},\n",
       " {'label': 'NEGATIVE', 'score': 0.9860844016075134}]"
      ]
     },
     "execution_count": 4,
     "metadata": {},
     "output_type": "execute_result"
    }
   ],
   "source": [
    "challenging_sentiments = [\"I don't think freddriq should leave, he's been helpful.\",\n",
    "                          \"Is that the lake we went to last month?\"]\n",
    "sentiment_pipeline(challenging_sentiments)"
   ]
  },
  {
   "cell_type": "markdown",
   "id": "c64b62d4",
   "metadata": {},
   "source": [
    "<hr>\n",
    "\n",
    "### Loading the Twitter Data\n",
    "\n",
    "Let's play with some twitter data. We'll be using a modified version of the [Elon Musk twitter dataset on Kaggle](https://www.kaggle.com/datasets/andradaolteanu/all-elon-musks-tweets)."
   ]
  },
  {
   "cell_type": "code",
   "execution_count": 5,
   "id": "4c1a44d0",
   "metadata": {},
   "outputs": [
    {
     "name": "stdout",
     "output_type": "stream",
     "text": [
      "['@vincent13031925 For now. Costs are decreasing rapidly.',\n",
      " 'Love this beautiful shot',\n",
      " '@agnostoxxx @CathieDWood @ARKInvest Trust the shrub',\n",
      " 'The art In Cyberpunk is incredible',\n",
      " '@itsALLrisky 🤣🤣',\n",
      " '@seinfeldguru @WholeMarsBlog Nope haha',\n",
      " '@WholeMarsBlog If you don’t say anything &amp; engage Autopilot, it will '\n",
      " 'soon guess based on time of day, taking you home or to work or to what’s on '\n",
      " 'your calendar',\n",
      " '@DeltavPhotos @PortCanaveral That rocket is a hardcore veteran of many '\n",
      " 'missions',\n",
      " 'Blimps rock  https://t.co/e8cu5FkNOI',\n",
      " '@engineers_feed Due to lower gravity, you can travel from surface of Mars to '\n",
      " 'surface of Earth fairly easily with a single stage rocket. Earth to Mars is '\n",
      " 'vastly harder.',\n",
      " '@DrPhiltill Good thread',\n",
      " '@alexellisuk Pretty much',\n",
      " '@tesla_adri @WholeMarsBlog These things are best thought of as '\n",
      " 'probabilities. There are 5 forward-facing cameras. It is highly likely that '\n",
      " 'at least one of them will see multiple cars ahead.',\n",
      " '@WholeMarsBlog Sensors are a bitstream and cameras have several orders of '\n",
      " 'magnitude more bits/sec than radar (or lidar).   Radar must meaningfully '\n",
      " 'increase signal/noise of bitstream to be worth complexity of integrating '\n",
      " 'it.   As vision processing gets better, it just leaves radar far behind.',\n",
      " '@WholeMarsBlog When radar and vision disagree, which one do you believe? '\n",
      " 'Vision has much more precision, so better to double down on vision than do '\n",
      " 'sensor fusion.',\n",
      " '@WholeMarsBlog This is a major problem!',\n",
      " 'Just needs some legs',\n",
      " 'The Starship launch tower that catches the giant rocket booster is basically '\n",
      " 'Mechazilla',\n",
      " 'But wait how is the core of the earth lit by the sun? Stop asking '\n",
      " 'questions!!',\n",
      " 'Kong vs Godzilla has record for most meth ever consumed in a writer’s room',\n",
      " '@itsALLrisky 💯',\n",
      " '… going to moon very soon',\n",
      " '@Matsu_Kusarine @jagarikin Actually happened to me in Cyberpunk haha',\n",
      " '@TimBirks1 @Erdayastronaut @SpaceX Pretty much',\n",
      " '@memescryptor !',\n",
      " 'Where is Shrek 5!?  https://t.co/PqAZ5Mg8Es',\n",
      " '@AustinTeslaClub @OwenSparks_ @WholeMarsBlog Good point.   Next major '\n",
      " 'software rev will do much better with automating wipers, seat heating &amp; '\n",
      " 'defrost.   Probable seat settings just based on occupant mass distribution '\n",
      " 'should be possible.',\n",
      " '@Adamklotz_ @OwenSparks_ @WholeMarsBlog Yup',\n",
      " '@teslaownersSV @neuralink Turns out 🐒 love video games &amp; snacks just '\n",
      " 'like us!',\n",
      " 'It’s all about the cufflinks  https://t.co/elccqC0Zuf',\n",
      " '@chicago_glenn I feel like this sometimes',\n",
      " '@OwenSparks_ @WholeMarsBlog It will',\n",
      " '@OwenSparks_ @WholeMarsBlog Remove',\n",
      " '@w00ki33 @SpaceX @SuperclusterHQ Simulation is improving rendering '\n",
      " 'resolution  …',\n",
      " '@cleantechnica Congrats to NIO. That is a tough milestone.',\n",
      " '@WholeMarsBlog Almost ready with FSD Beta V9.0. Step change improvement is '\n",
      " 'massive, especially for weird corner cases &amp; bad weather. Pure vision, '\n",
      " 'no radar.',\n",
      " 'Thanks to all that helped SpaceX!',\n",
      " 'Just read it. Book is accurate.',\n",
      " '@TeslaGong Yeah',\n",
      " '@mikevanbus @TrungTPhan @neuralink Pretty much',\n",
      " ' https://t.co/XeQursZpvq',\n",
      " 'Soon our monkey will be on twitch &amp; discord haha',\n",
      " '@thenewsoncnbc @contessabrewer Good piece!',\n",
      " '@Kyler_Knoll @neuralink Comes with wireless charging baseball cap',\n",
      " '@TarekWaked @TechCrunch @etherington Pretty much 🤣🤣 Great episode!',\n",
      " 'A monkey is literally playing a video game telepathically using a brain '\n",
      " 'chip!!',\n",
      " '@lexfridman @neuralink Yes',\n",
      " 'The device is implanted flush with skull &amp; charges wirelessly, so you '\n",
      " 'look &amp; feel totally normal',\n",
      " '@IheartTesla Absolutely doable. Possibly as soon as Neuralink device version '\n",
      " '2, highly likely by version 3.',\n",
      " 'Later versions will be able to shunt signals from Neuralinks in brain to '\n",
      " 'Neuralinks in body motor/sensory neuron clusters, thus enabling, for '\n",
      " 'example, paraplegics to walk again',\n",
      " '@mindofkacper @neuralink Yes',\n",
      " 'First @Neuralink product will enable someone with paralysis to use a '\n",
      " 'smartphone with their mind faster than someone using thumbs',\n",
      " '@IheartTesla @neuralink Hopefully, later this year',\n",
      " '@tobyliiiiiiiiii Sure',\n",
      " 'Monkey plays Pong with his mind',\n",
      " '@dogeofficialceo @WatchersTank @SpaceX Looking at pups soon!',\n",
      " '@jordanxmajel @WatchersTank @SpaceX Shock absorption is built into tower '\n",
      " 'arms. Since tower is ground side, it can use a lot more mass to arrest '\n",
      " 'booster downward momentum.',\n",
      " '@jordanxmajel @WatchersTank @SpaceX Load points just below the grid fins',\n",
      " '@WatchersTank @SpaceX Just one skyscraper catching another nbd haha',\n",
      " 'Thanks Tesla suppliers for providing us with critical parts!',\n",
      " '@MarkJam93765764 @IvanEscobosa A tidal wave of vaccine is being produced!',\n",
      " '@jgrano305 Probably J&amp;J, but BioNtech &amp; Moderna are good too. Some '\n",
      " 'debate imo as to whether a second synthetic mRNA shot is really needed, but '\n",
      " 'the first is a no-brainer.',\n",
      " '@IvanEscobosa Latter',\n",
      " 'To be clear, I do support vaccines in general &amp; covid vaccines '\n",
      " 'specifically. The science is unequivocal.   In very rare cases, there is an '\n",
      " 'allergic reaction, but this is easily addressed with an EpiPen.',\n",
      " '@DavidWillisSLS @_Jevis_ @PPathole Needs legs for moon &amp; Mars',\n",
      " '@SciGuySpace Global payload to orbit is the key metric',\n",
      " '@Julius_Burton @Erdayastronaut @DJSnM @NASASpaceflight @ChrisG_NSF '\n",
      " '@thejackbeyer @FelixSchlang Nice',\n",
      " '@_Jevis_ @PPathole Ideal scenario imo is catching Starship in horizontal '\n",
      " '“glide” with no landing burn, although that is quite a challenge for the '\n",
      " 'tower! Next best is catching with tower, with emergency pad landing mode on '\n",
      " 'skirt (no legs).',\n",
      " '@PPathole Starship booster, largest flying object ever designed, will be '\n",
      " 'caught out of sky by launch tower. Big step forward, as reflight can be done '\n",
      " 'in under an hour.',\n",
      " '@WholeMarsBlog Well-written and fair, much like his articles on space',\n",
      " '@louisssdev @flcnhvy Coming soon. Crazy number of launches this year!',\n",
      " '@flcnhvy They will be recovered from the water &amp; reused',\n",
      " '“Tanks for the memery!” – Panzer of the Lake',\n",
      " '@CathieDWood @wintonARK @ARKInvest What do you think of the unusually high '\n",
      " 'ratio of S&amp;P market cap to GDP?',\n",
      " '@ID_AA_Carmack Some kind of ELO level, updated once or twice a year based on '\n",
      " 'what someone actually got done, might be most effective. Important that it '\n",
      " 'go both up *and* down.',\n",
      " '@Thomas38697956 New &amp; improved version!',\n",
      " '@Teslarati @ResidentSponge Special mention of Tesla China',\n",
      " '@shbzz Obv',\n",
      " '@Teslarati @ResidentSponge Great work by Tesla team!',\n",
      " '@EvaFoxU Nice',\n",
      " 'The Earth is not flat, it’s a hollow globe &amp; Donkey King lives there!',\n",
      " '@EvaFoxU Those two really could have come in handy for the stuck ship!',\n",
      " '@EvaFoxU Last Kingdom vs Vikings',\n",
      " '@spacex360 Ascent phase, transition to horizontal &amp; control during free '\n",
      " 'fall were good.   A (relatively) small CH4 leak led to fire on engine 2 '\n",
      " '&amp; fried part of avionics, causing hard start attempting landing burn in '\n",
      " 'CH4 turbopump.   This is getting fixed 6 ways to Sunday.',\n",
      " 'Godzilla vs Kong is so amaze much wow! Most insane movie I’ve ever seen! '\n",
      " 'Love letter to conspiracy theorists! And yet heartwarming in the end.',\n",
      " '@TerminalCount The Starships feast in Valhalla!',\n",
      " '@TerminalCount One of the greatest things I’ve ever seen',\n",
      " '@floko12022021 @HamblinZeke @katlinegrey Ich habe ein Semester Deutsch an '\n",
      " 'der Universität studiert usw',\n",
      " '@HamblinZeke @katlinegrey Haha Falcon? Nein!',\n",
      " '@tobyliiiiiiiiii @katlinegrey I recommend propulsive landing, as that is '\n",
      " 'extensible to planets, moons &amp; asteroids. Wings &amp; runways are '\n",
      " 'limited to Earth.',\n",
      " '@PPathole @katlinegrey For practical purposes, there is no limit. It will '\n",
      " 'just get increasingly difficult to service.',\n",
      " '@katlinegrey This a good path, but I recommend aiming for full reusability',\n",
      " 'Urgent need to build more housing in greater Austin area!',\n",
      " 'Austin++',\n",
      " 'No it doesn’t hurt at all 🩸  https://t.co/NnL6o1si0V',\n",
      " '@allrocketsboi True',\n",
      " '@GerberKawasaki I fried a lot of neurons on that problem!',\n",
      " 'Me in my sick new car (left him the money)  https://t.co/EGaY1FVfHm',\n",
      " '@TrungTPhan Had no money to invest in Zip2, but my founder equity yielded '\n",
      " '~$15M after tax. Of that, I rolled ~$10M into PayPal, which yielded ~$180M, '\n",
      " 'then …   Basic principle is that I would not ask investors to risk money on '\n",
      " 'my company if I would not also do so.',\n",
      " '@Gfilche Major new Supercharger station coming to Santa Monica soon! Hoping '\n",
      " 'to have 50’s diner &amp; 100 best movie clips playing too. Thanks Santa '\n",
      " 'Monica city!']\n"
     ]
    }
   ],
   "source": [
    "with open('../data/elonmusk_tweets.csv', newline='', encoding='utf8') as f:\n",
    "    tweets=[]\n",
    "    reader = csv.reader(f)\n",
    "    twitter_data = list(reader)\n",
    "    for tweet in twitter_data:\n",
    "        tweets.append(tweet[0])\n",
    "\n",
    "pprint(tweets[:100])"
   ]
  },
  {
   "cell_type": "markdown",
   "id": "e630a8f1",
   "metadata": {},
   "source": [
    "First things first - let's look at the sentiment as determined by the [distilbert-base-uncased-finetuned-sst-2-english](https://huggingface.co/distilbert-base-uncased-finetuned-sst-2-english) (default model) in the pipeline."
   ]
  },
  {
   "cell_type": "code",
   "execution_count": 6,
   "id": "42b10279",
   "metadata": {},
   "outputs": [],
   "source": [
    "distil_sentiment = sentiment_pipeline(tweets[0:100])"
   ]
  },
  {
   "cell_type": "markdown",
   "id": "8ce3fefd",
   "metadata": {},
   "source": [
    "Let's check out the distribution of positive/negative Tweets and see the breakdown using Python's 🐍 standard library `collections.Counter`!"
   ]
  },
  {
   "cell_type": "code",
   "execution_count": 7,
   "id": "971a841d",
   "metadata": {},
   "outputs": [
    {
     "name": "stdout",
     "output_type": "stream",
     "text": [
      "49 (49.00%) of the tweets classified are positive.\n",
      "51 (51.00%) of the tweets classified are negative.\n"
     ]
    }
   ],
   "source": [
    "from collections import Counter\n",
    "\n",
    "tweet_distro = Counter([x['label'] for x in distil_sentiment])\n",
    "pos_sent_count = tweet_distro['POSITIVE']\n",
    "neg_sent_count = tweet_distro['NEGATIVE']\n",
    "total_sent_count = sum(tweet_distro.values())\n",
    "\n",
    "print(f\"{pos_sent_count} ({pos_sent_count / total_sent_count * 100:.2f}%) of the tweets classified are positive.\")\n",
    "print(f\"{neg_sent_count} ({neg_sent_count / total_sent_count * 100:.2f}%) of the tweets classified are negative.\")"
   ]
  },
  {
   "cell_type": "markdown",
   "id": "42155a0c",
   "metadata": {},
   "source": [
    "Let's do that process again, but use a model with an additional potential label \"NEUTRAL\" called [bertweet-sentiment-analysis](https://huggingface.co/finiteautomata/bertweet-base-sentiment-analysis)\n",
    "\n",
    "To start - we'll build a pipeline with the new model by using the 🤗 Hugging Face address: `finiteautomata/bertweet-base-sentiment-analysis`"
   ]
  },
  {
   "cell_type": "code",
   "execution_count": 8,
   "id": "3fd6e37f",
   "metadata": {},
   "outputs": [
    {
     "data": {
      "application/vnd.jupyter.widget-view+json": {
       "model_id": "507c60021a9648e1b015fef15dd46783",
       "version_major": 2,
       "version_minor": 0
      },
      "text/plain": [
       "Downloading:   0%|          | 0.00/1.13k [00:00<?, ?B/s]"
      ]
     },
     "metadata": {},
     "output_type": "display_data"
    }
   ],
   "source": [
    "bertweet_pipeline = pipeline(model=\"finiteautomata/bertweet-base-sentiment-analysis\")"
   ]
  },
  {
   "cell_type": "markdown",
   "id": "7025127d",
   "metadata": {},
   "source": [
    "Next, and the same as before, let's run the analysis on 100 of Elon's tweets."
   ]
  },
  {
   "cell_type": "code",
   "execution_count": 9,
   "id": "5daa650d",
   "metadata": {},
   "outputs": [],
   "source": [
    "bert_sentiment = bertweet_pipeline(tweets[0:100])"
   ]
  },
  {
   "cell_type": "markdown",
   "id": "6d8a316d",
   "metadata": {},
   "source": [
    "And then, let's check out the breakdown of positive, negative, AND neutral sentiments!"
   ]
  },
  {
   "cell_type": "code",
   "execution_count": 10,
   "id": "6996cc58",
   "metadata": {},
   "outputs": [
    {
     "name": "stdout",
     "output_type": "stream",
     "text": [
      "29 (29.00%) of the tweets classified are positive.\n",
      "64 (64.00%) of the tweets classified are neutral.\n",
      "7 (7.00%) of the tweets classified are negative.\n"
     ]
    }
   ],
   "source": [
    "from collections import Counter\n",
    "\n",
    "tweet_distro = Counter([x['label'] for x in bert_sentiment])\n",
    "pos_sent_count = tweet_distro['POS']\n",
    "neu_sent_count = tweet_distro['NEU']\n",
    "neg_sent_count = tweet_distro['NEG']\n",
    "total_sent_count = sum(tweet_distro.values())\n",
    "\n",
    "print(f\"{pos_sent_count} ({pos_sent_count / total_sent_count * 100:.2f}%) of the tweets classified are positive.\")\n",
    "print(f\"{neu_sent_count} ({neu_sent_count / total_sent_count * 100:.2f}%) of the tweets classified are neutral.\")\n",
    "print(f\"{neg_sent_count} ({neg_sent_count / total_sent_count * 100:.2f}%) of the tweets classified are negative.\")"
   ]
  },
  {
   "cell_type": "markdown",
   "id": "8185798d",
   "metadata": {},
   "source": [
    "❓ What do you notice about the difference in the results? \n",
    "\n",
    "❓ Do the results for the `bertweet-base` model look better, or worse, than the results for the `distilbert-base` model? Why?"
   ]
  },
  {
   "cell_type": "markdown",
   "id": "a09049dd",
   "metadata": {},
   "source": [
    "## *Answer:*\n",
    "Using the model *bertweet-sentiment-analysis*, which allows for an additional class of tweets with label *NEUTRAL* (as compared to the first, default sentiment analysis model *distilbert-base-uncased-finetuned-sst-2-english*) has the following notable effects:\n",
    "- Most tweets (64%) are labeled *NEUTRAL* (a class that didn't exist with the first model).\n",
    "- % tweets labeled *POSITIVE* decreases from 49% in the first model to 29% with *bertweet-base*.\n",
    "- % tweets labeled *NEGATIVE* decreases sharply from 51% in the first model to a mere 7% with *bertweet*.\n",
    "\n",
    "*Does bertweet-base look like it gave better results than distilbert-base?* To answer this, let's take a look at the labeled tweets:"
   ]
  },
  {
   "cell_type": "code",
   "execution_count": 11,
   "id": "0b7df24b",
   "metadata": {},
   "outputs": [
    {
     "name": "stdout",
     "output_type": "stream",
     "text": [
      "[{'label': 'NEU', 'score': 0.9523929953575134}, {'label': 'POS', 'score': 0.9909942746162415}, {'label': 'NEU', 'score': 0.9733855128288269}, {'label': 'POS', 'score': 0.9824264049530029}, {'label': 'NEG', 'score': 0.9627320766448975}]\n"
     ]
    }
   ],
   "source": [
    "print(bert_sentiment[0:5])"
   ]
  },
  {
   "cell_type": "code",
   "execution_count": 12,
   "id": "7e4c799e",
   "metadata": {},
   "outputs": [
    {
     "name": "stdout",
     "output_type": "stream",
     "text": [
      "[{'label': 'NEGATIVE', 'score': 0.9963656663894653}, {'label': 'POSITIVE', 'score': 0.9998824596405029}, {'label': 'NEGATIVE', 'score': 0.8498326539993286}, {'label': 'POSITIVE', 'score': 0.9998857975006104}, {'label': 'NEGATIVE', 'score': 0.9839497804641724}]\n"
     ]
    }
   ],
   "source": [
    "print(distil_sentiment[0:5])"
   ]
  },
  {
   "cell_type": "code",
   "execution_count": 21,
   "id": "397918c3",
   "metadata": {},
   "outputs": [
    {
     "name": "stdout",
     "output_type": "stream",
     "text": [
      "# tweets distil_sentiment identified as POSITIVE: \n",
      "49\n",
      "  1 POSITIVE Love this beautiful shot\n",
      "  3 POSITIVE The art In Cyberpunk is incredible\n",
      "  7 POSITIVE @DeltavPhotos @PortCanaveral That rocket is a hardcore veteran of many missions\n",
      " 10 POSITIVE @DrPhiltill Good thread\n",
      " 11 POSITIVE @alexellisuk Pretty much\n",
      " 19 POSITIVE Kong vs Godzilla has record for most meth ever consumed in a writer’s room\n",
      " 21 POSITIVE … going to moon very soon\n",
      " 23 POSITIVE @TimBirks1 @Erdayastronaut @SpaceX Pretty much\n",
      " 24 POSITIVE @memescryptor !\n",
      " 28 POSITIVE @teslaownersSV @neuralink Turns out 🐒 love video games &amp; snacks just like us!\n",
      " 30 POSITIVE @chicago_glenn I feel like this sometimes\n",
      " 31 POSITIVE @OwenSparks_ @WholeMarsBlog It will\n",
      " 33 POSITIVE @w00ki33 @SpaceX @SuperclusterHQ Simulation is improving rendering resolution  …\n",
      " 36 POSITIVE Thanks to all that helped SpaceX!\n",
      " 37 POSITIVE Just read it. Book is accurate.\n",
      " 38 POSITIVE @TeslaGong Yeah\n",
      " 39 POSITIVE @mikevanbus @TrungTPhan @neuralink Pretty much\n",
      " 42 POSITIVE @thenewsoncnbc @contessabrewer Good piece!\n",
      " 44 POSITIVE @TarekWaked @TechCrunch @etherington Pretty much 🤣🤣 Great episode!\n",
      " 46 POSITIVE @lexfridman @neuralink Yes\n",
      " 48 POSITIVE @IheartTesla Absolutely doable. Possibly as soon as Neuralink device version 2, highly likely by version 3.\n",
      " 49 POSITIVE Later versions will be able to shunt signals from Neuralinks in brain to Neuralinks in body motor/sensory neuron clusters, thus enabling, for example, paraplegics to walk again\n",
      " 50 POSITIVE @mindofkacper @neuralink Yes\n",
      " 52 POSITIVE @IheartTesla @neuralink Hopefully, later this year\n",
      " 53 POSITIVE @tobyliiiiiiiiii Sure\n",
      " 54 POSITIVE Monkey plays Pong with his mind\n",
      " 55 POSITIVE @dogeofficialceo @WatchersTank @SpaceX Looking at pups soon!\n",
      " 58 POSITIVE @WatchersTank @SpaceX Just one skyscraper catching another nbd haha\n",
      " 59 POSITIVE Thanks Tesla suppliers for providing us with critical parts!\n",
      " 61 POSITIVE @jgrano305 Probably J&amp;J, but BioNtech &amp; Moderna are good too. Some debate imo as to whether a second synthetic mRNA shot is really needed, but the first is a no-brainer.\n",
      " 65 POSITIVE @SciGuySpace Global payload to orbit is the key metric\n",
      " 67 POSITIVE @_Jevis_ @PPathole Ideal scenario imo is catching Starship in horizontal “glide” with no landing burn, although that is quite a challenge for the tower! Next best is catching with tower, with emergency pad landing mode on skirt (no legs).\n",
      " 68 POSITIVE @PPathole Starship booster, largest flying object ever designed, will be caught out of sky by launch tower. Big step forward, as reflight can be done in under an hour.\n",
      " 69 POSITIVE @WholeMarsBlog Well-written and fair, much like his articles on space\n",
      " 70 POSITIVE @louisssdev @flcnhvy Coming soon. Crazy number of launches this year!\n",
      " 75 POSITIVE @Thomas38697956 New &amp; improved version!\n",
      " 76 POSITIVE @Teslarati @ResidentSponge Special mention of Tesla China\n",
      " 78 POSITIVE @Teslarati @ResidentSponge Great work by Tesla team!\n",
      " 79 POSITIVE @EvaFoxU Nice\n",
      " 84 POSITIVE Godzilla vs Kong is so amaze much wow! Most insane movie I’ve ever seen! Love letter to conspiracy theorists! And yet heartwarming in the end.\n",
      " 85 POSITIVE @TerminalCount The Starships feast in Valhalla!\n",
      " 86 POSITIVE @TerminalCount One of the greatest things I’ve ever seen\n",
      " 89 POSITIVE @tobyliiiiiiiiii @katlinegrey I recommend propulsive landing, as that is extensible to planets, moons &amp; asteroids. Wings &amp; runways are limited to Earth.\n",
      " 91 POSITIVE @katlinegrey This a good path, but I recommend aiming for full reusability\n",
      " 92 POSITIVE Urgent need to build more housing in greater Austin area!\n",
      " 93 POSITIVE Austin++\n",
      " 94 POSITIVE No it doesn’t hurt at all 🩸  https://t.co/NnL6o1si0V\n",
      " 95 POSITIVE @allrocketsboi True\n",
      " 99 POSITIVE @Gfilche Major new Supercharger station coming to Santa Monica soon! Hoping to have 50’s diner &amp; 100 best movie clips playing too. Thanks Santa Monica city!\n",
      "\n",
      "\n",
      "# tweets distil_sentiment identified as NEGATIVE: \n",
      "51\n",
      "  0 NEGATIVE @vincent13031925 For now. Costs are decreasing rapidly.\n",
      "  2 NEGATIVE @agnostoxxx @CathieDWood @ARKInvest Trust the shrub\n",
      "  4 NEGATIVE @itsALLrisky 🤣🤣\n",
      "  5 NEGATIVE @seinfeldguru @WholeMarsBlog Nope haha\n",
      "  6 NEGATIVE @WholeMarsBlog If you don’t say anything &amp; engage Autopilot, it will soon guess based on time of day, taking you home or to work or to what’s on your calendar\n",
      "  8 NEGATIVE Blimps rock  https://t.co/e8cu5FkNOI\n",
      "  9 NEGATIVE @engineers_feed Due to lower gravity, you can travel from surface of Mars to surface of Earth fairly easily with a single stage rocket. Earth to Mars is vastly harder.\n",
      " 12 NEGATIVE @tesla_adri @WholeMarsBlog These things are best thought of as probabilities. There are 5 forward-facing cameras. It is highly likely that at least one of them will see multiple cars ahead.\n",
      " 13 NEGATIVE @WholeMarsBlog Sensors are a bitstream and cameras have several orders of magnitude more bits/sec than radar (or lidar).   Radar must meaningfully increase signal/noise of bitstream to be worth complexity of integrating it.   As vision processing gets better, it just leaves radar far behind.\n",
      " 14 NEGATIVE @WholeMarsBlog When radar and vision disagree, which one do you believe? Vision has much more precision, so better to double down on vision than do sensor fusion.\n",
      " 15 NEGATIVE @WholeMarsBlog This is a major problem!\n",
      " 16 NEGATIVE Just needs some legs\n",
      " 17 NEGATIVE The Starship launch tower that catches the giant rocket booster is basically Mechazilla\n",
      " 18 NEGATIVE But wait how is the core of the earth lit by the sun? Stop asking questions!!\n",
      " 20 NEGATIVE @itsALLrisky 💯\n",
      " 22 NEGATIVE @Matsu_Kusarine @jagarikin Actually happened to me in Cyberpunk haha\n",
      " 25 NEGATIVE Where is Shrek 5!?  https://t.co/PqAZ5Mg8Es\n",
      " 26 NEGATIVE @AustinTeslaClub @OwenSparks_ @WholeMarsBlog Good point.   Next major software rev will do much better with automating wipers, seat heating &amp; defrost.   Probable seat settings just based on occupant mass distribution should be possible.\n",
      " 27 NEGATIVE @Adamklotz_ @OwenSparks_ @WholeMarsBlog Yup\n",
      " 29 NEGATIVE It’s all about the cufflinks  https://t.co/elccqC0Zuf\n",
      " 32 NEGATIVE @OwenSparks_ @WholeMarsBlog Remove\n",
      " 34 NEGATIVE @cleantechnica Congrats to NIO. That is a tough milestone.\n",
      " 35 NEGATIVE @WholeMarsBlog Almost ready with FSD Beta V9.0. Step change improvement is massive, especially for weird corner cases &amp; bad weather. Pure vision, no radar.\n",
      " 40 NEGATIVE  https://t.co/XeQursZpvq\n",
      " 41 NEGATIVE Soon our monkey will be on twitch &amp; discord haha\n",
      " 43 NEGATIVE @Kyler_Knoll @neuralink Comes with wireless charging baseball cap\n",
      " 45 NEGATIVE A monkey is literally playing a video game telepathically using a brain chip!!\n",
      " 47 NEGATIVE The device is implanted flush with skull &amp; charges wirelessly, so you look &amp; feel totally normal\n",
      " 51 NEGATIVE First @Neuralink product will enable someone with paralysis to use a smartphone with their mind faster than someone using thumbs\n",
      " 56 NEGATIVE @jordanxmajel @WatchersTank @SpaceX Shock absorption is built into tower arms. Since tower is ground side, it can use a lot more mass to arrest booster downward momentum.\n",
      " 57 NEGATIVE @jordanxmajel @WatchersTank @SpaceX Load points just below the grid fins\n",
      " 60 NEGATIVE @MarkJam93765764 @IvanEscobosa A tidal wave of vaccine is being produced!\n",
      " 62 NEGATIVE @IvanEscobosa Latter\n",
      " 63 NEGATIVE To be clear, I do support vaccines in general &amp; covid vaccines specifically. The science is unequivocal.   In very rare cases, there is an allergic reaction, but this is easily addressed with an EpiPen.\n",
      " 64 NEGATIVE @DavidWillisSLS @_Jevis_ @PPathole Needs legs for moon &amp; Mars\n",
      " 66 NEGATIVE @Julius_Burton @Erdayastronaut @DJSnM @NASASpaceflight @ChrisG_NSF @thejackbeyer @FelixSchlang Nice\n",
      " 71 NEGATIVE @flcnhvy They will be recovered from the water &amp; reused\n",
      " 72 NEGATIVE “Tanks for the memery!” – Panzer of the Lake\n",
      " 73 NEGATIVE @CathieDWood @wintonARK @ARKInvest What do you think of the unusually high ratio of S&amp;P market cap to GDP?\n",
      " 74 NEGATIVE @ID_AA_Carmack Some kind of ELO level, updated once or twice a year based on what someone actually got done, might be most effective. Important that it go both up *and* down.\n",
      " 77 NEGATIVE @shbzz Obv\n",
      " 80 NEGATIVE The Earth is not flat, it’s a hollow globe &amp; Donkey King lives there!\n",
      " 81 NEGATIVE @EvaFoxU Those two really could have come in handy for the stuck ship!\n",
      " 82 NEGATIVE @EvaFoxU Last Kingdom vs Vikings\n",
      " 83 NEGATIVE @spacex360 Ascent phase, transition to horizontal &amp; control during free fall were good.   A (relatively) small CH4 leak led to fire on engine 2 &amp; fried part of avionics, causing hard start attempting landing burn in CH4 turbopump.   This is getting fixed 6 ways to Sunday.\n",
      " 87 NEGATIVE @floko12022021 @HamblinZeke @katlinegrey Ich habe ein Semester Deutsch an der Universität studiert usw\n",
      " 88 NEGATIVE @HamblinZeke @katlinegrey Haha Falcon? Nein!\n",
      " 90 NEGATIVE @PPathole @katlinegrey For practical purposes, there is no limit. It will just get increasingly difficult to service.\n",
      " 96 NEGATIVE @GerberKawasaki I fried a lot of neurons on that problem!\n",
      " 97 NEGATIVE Me in my sick new car (left him the money)  https://t.co/EGaY1FVfHm\n",
      " 98 NEGATIVE @TrungTPhan Had no money to invest in Zip2, but my founder equity yielded ~$15M after tax. Of that, I rolled ~$10M into PayPal, which yielded ~$180M, then …   Basic principle is that I would not ask investors to risk money on my company if I would not also do so.\n"
     ]
    }
   ],
   "source": [
    "# tweets as classified by distil_sentiment:\n",
    "num_tweets = 100\n",
    "pos_distil = []\n",
    "neg_distil = []\n",
    "\n",
    "for i in range(num_tweets):\n",
    "    if distil_sentiment[i]['label']=='POSITIVE':\n",
    "        pos_distil.append(f'{i:3d} POSITIVE {tweets[i]}')\n",
    "    else:\n",
    "        neg_distil.append(f'{i:3d} NEGATIVE {tweets[i]}')\n",
    "        \n",
    "print('# tweets distil_sentiment identified as POSITIVE: ', len(pos_distil), \n",
    "      *pos_distil, sep='\\n')\n",
    "print('\\n\\n# tweets distil_sentiment identified as NEGATIVE: ', len(neg_distil),\n",
    "      *neg_distil, sep='\\n')"
   ]
  },
  {
   "cell_type": "code",
   "execution_count": 24,
   "id": "2c5aeb11",
   "metadata": {},
   "outputs": [
    {
     "name": "stdout",
     "output_type": "stream",
     "text": [
      "# tweets bert_sentiment identified as POS: \n",
      "29\n",
      "  1 POS Love this beautiful shot\n",
      "  3 POS The art In Cyberpunk is incredible\n",
      "  8 POS Blimps rock  https://t.co/e8cu5FkNOI\n",
      " 10 POS @DrPhiltill Good thread\n",
      " 24 POS @memescryptor !\n",
      " 26 POS @AustinTeslaClub @OwenSparks_ @WholeMarsBlog Good point.   Next major software rev will do much better with automating wipers, seat heating &amp; defrost.   Probable seat settings just based on occupant mass distribution should be possible.\n",
      " 28 POS @teslaownersSV @neuralink Turns out 🐒 love video games &amp; snacks just like us!\n",
      " 33 POS @w00ki33 @SpaceX @SuperclusterHQ Simulation is improving rendering resolution  …\n",
      " 34 POS @cleantechnica Congrats to NIO. That is a tough milestone.\n",
      " 36 POS Thanks to all that helped SpaceX!\n",
      " 37 POS Just read it. Book is accurate.\n",
      " 41 POS Soon our monkey will be on twitch &amp; discord haha\n",
      " 42 POS @thenewsoncnbc @contessabrewer Good piece!\n",
      " 44 POS @TarekWaked @TechCrunch @etherington Pretty much 🤣🤣 Great episode!\n",
      " 48 POS @IheartTesla Absolutely doable. Possibly as soon as Neuralink device version 2, highly likely by version 3.\n",
      " 52 POS @IheartTesla @neuralink Hopefully, later this year\n",
      " 59 POS Thanks Tesla suppliers for providing us with critical parts!\n",
      " 61 POS @jgrano305 Probably J&amp;J, but BioNtech &amp; Moderna are good too. Some debate imo as to whether a second synthetic mRNA shot is really needed, but the first is a no-brainer.\n",
      " 66 POS @Julius_Burton @Erdayastronaut @DJSnM @NASASpaceflight @ChrisG_NSF @thejackbeyer @FelixSchlang Nice\n",
      " 69 POS @WholeMarsBlog Well-written and fair, much like his articles on space\n",
      " 70 POS @louisssdev @flcnhvy Coming soon. Crazy number of launches this year!\n",
      " 75 POS @Thomas38697956 New &amp; improved version!\n",
      " 78 POS @Teslarati @ResidentSponge Great work by Tesla team!\n",
      " 79 POS @EvaFoxU Nice\n",
      " 84 POS Godzilla vs Kong is so amaze much wow! Most insane movie I’ve ever seen! Love letter to conspiracy theorists! And yet heartwarming in the end.\n",
      " 86 POS @TerminalCount One of the greatest things I’ve ever seen\n",
      " 91 POS @katlinegrey This a good path, but I recommend aiming for full reusability\n",
      " 94 POS No it doesn’t hurt at all 🩸  https://t.co/NnL6o1si0V\n",
      " 99 POS @Gfilche Major new Supercharger station coming to Santa Monica soon! Hoping to have 50’s diner &amp; 100 best movie clips playing too. Thanks Santa Monica city!\n",
      "\n",
      "\n",
      "# tweets bert_sentiment identified as NEU: \n",
      "64\n",
      "  0 NEU @vincent13031925 For now. Costs are decreasing rapidly.\n",
      "  2 NEU @agnostoxxx @CathieDWood @ARKInvest Trust the shrub\n",
      "  5 NEU @seinfeldguru @WholeMarsBlog Nope haha\n",
      "  6 NEU @WholeMarsBlog If you don’t say anything &amp; engage Autopilot, it will soon guess based on time of day, taking you home or to work or to what’s on your calendar\n",
      "  7 NEU @DeltavPhotos @PortCanaveral That rocket is a hardcore veteran of many missions\n",
      "  9 NEU @engineers_feed Due to lower gravity, you can travel from surface of Mars to surface of Earth fairly easily with a single stage rocket. Earth to Mars is vastly harder.\n",
      " 11 NEU @alexellisuk Pretty much\n",
      " 12 NEU @tesla_adri @WholeMarsBlog These things are best thought of as probabilities. There are 5 forward-facing cameras. It is highly likely that at least one of them will see multiple cars ahead.\n",
      " 13 NEU @WholeMarsBlog Sensors are a bitstream and cameras have several orders of magnitude more bits/sec than radar (or lidar).   Radar must meaningfully increase signal/noise of bitstream to be worth complexity of integrating it.   As vision processing gets better, it just leaves radar far behind.\n",
      " 14 NEU @WholeMarsBlog When radar and vision disagree, which one do you believe? Vision has much more precision, so better to double down on vision than do sensor fusion.\n",
      " 16 NEU Just needs some legs\n",
      " 17 NEU The Starship launch tower that catches the giant rocket booster is basically Mechazilla\n",
      " 21 NEU … going to moon very soon\n",
      " 22 NEU @Matsu_Kusarine @jagarikin Actually happened to me in Cyberpunk haha\n",
      " 23 NEU @TimBirks1 @Erdayastronaut @SpaceX Pretty much\n",
      " 25 NEU Where is Shrek 5!?  https://t.co/PqAZ5Mg8Es\n",
      " 27 NEU @Adamklotz_ @OwenSparks_ @WholeMarsBlog Yup\n",
      " 29 NEU It’s all about the cufflinks  https://t.co/elccqC0Zuf\n",
      " 30 NEU @chicago_glenn I feel like this sometimes\n",
      " 31 NEU @OwenSparks_ @WholeMarsBlog It will\n",
      " 32 NEU @OwenSparks_ @WholeMarsBlog Remove\n",
      " 35 NEU @WholeMarsBlog Almost ready with FSD Beta V9.0. Step change improvement is massive, especially for weird corner cases &amp; bad weather. Pure vision, no radar.\n",
      " 38 NEU @TeslaGong Yeah\n",
      " 39 NEU @mikevanbus @TrungTPhan @neuralink Pretty much\n",
      " 40 NEU  https://t.co/XeQursZpvq\n",
      " 43 NEU @Kyler_Knoll @neuralink Comes with wireless charging baseball cap\n",
      " 45 NEU A monkey is literally playing a video game telepathically using a brain chip!!\n",
      " 46 NEU @lexfridman @neuralink Yes\n",
      " 47 NEU The device is implanted flush with skull &amp; charges wirelessly, so you look &amp; feel totally normal\n",
      " 49 NEU Later versions will be able to shunt signals from Neuralinks in brain to Neuralinks in body motor/sensory neuron clusters, thus enabling, for example, paraplegics to walk again\n",
      " 50 NEU @mindofkacper @neuralink Yes\n",
      " 53 NEU @tobyliiiiiiiiii Sure\n",
      " 54 NEU Monkey plays Pong with his mind\n",
      " 55 NEU @dogeofficialceo @WatchersTank @SpaceX Looking at pups soon!\n",
      " 56 NEU @jordanxmajel @WatchersTank @SpaceX Shock absorption is built into tower arms. Since tower is ground side, it can use a lot more mass to arrest booster downward momentum.\n",
      " 57 NEU @jordanxmajel @WatchersTank @SpaceX Load points just below the grid fins\n",
      " 58 NEU @WatchersTank @SpaceX Just one skyscraper catching another nbd haha\n",
      " 60 NEU @MarkJam93765764 @IvanEscobosa A tidal wave of vaccine is being produced!\n",
      " 62 NEU @IvanEscobosa Latter\n",
      " 63 NEU To be clear, I do support vaccines in general &amp; covid vaccines specifically. The science is unequivocal.   In very rare cases, there is an allergic reaction, but this is easily addressed with an EpiPen.\n",
      " 64 NEU @DavidWillisSLS @_Jevis_ @PPathole Needs legs for moon &amp; Mars\n",
      " 65 NEU @SciGuySpace Global payload to orbit is the key metric\n",
      " 67 NEU @_Jevis_ @PPathole Ideal scenario imo is catching Starship in horizontal “glide” with no landing burn, although that is quite a challenge for the tower! Next best is catching with tower, with emergency pad landing mode on skirt (no legs).\n",
      " 68 NEU @PPathole Starship booster, largest flying object ever designed, will be caught out of sky by launch tower. Big step forward, as reflight can be done in under an hour.\n",
      " 71 NEU @flcnhvy They will be recovered from the water &amp; reused\n",
      " 72 NEU “Tanks for the memery!” – Panzer of the Lake\n",
      " 73 NEU @CathieDWood @wintonARK @ARKInvest What do you think of the unusually high ratio of S&amp;P market cap to GDP?\n",
      " 74 NEU @ID_AA_Carmack Some kind of ELO level, updated once or twice a year based on what someone actually got done, might be most effective. Important that it go both up *and* down.\n",
      " 76 NEU @Teslarati @ResidentSponge Special mention of Tesla China\n",
      " 77 NEU @shbzz Obv\n",
      " 80 NEU The Earth is not flat, it’s a hollow globe &amp; Donkey King lives there!\n",
      " 81 NEU @EvaFoxU Those two really could have come in handy for the stuck ship!\n",
      " 82 NEU @EvaFoxU Last Kingdom vs Vikings\n",
      " 83 NEU @spacex360 Ascent phase, transition to horizontal &amp; control during free fall were good.   A (relatively) small CH4 leak led to fire on engine 2 &amp; fried part of avionics, causing hard start attempting landing burn in CH4 turbopump.   This is getting fixed 6 ways to Sunday.\n",
      " 85 NEU @TerminalCount The Starships feast in Valhalla!\n",
      " 87 NEU @floko12022021 @HamblinZeke @katlinegrey Ich habe ein Semester Deutsch an der Universität studiert usw\n",
      " 88 NEU @HamblinZeke @katlinegrey Haha Falcon? Nein!\n",
      " 89 NEU @tobyliiiiiiiiii @katlinegrey I recommend propulsive landing, as that is extensible to planets, moons &amp; asteroids. Wings &amp; runways are limited to Earth.\n",
      " 90 NEU @PPathole @katlinegrey For practical purposes, there is no limit. It will just get increasingly difficult to service.\n",
      " 92 NEU Urgent need to build more housing in greater Austin area!\n",
      " 93 NEU Austin++\n",
      " 95 NEU @allrocketsboi True\n",
      " 97 NEU Me in my sick new car (left him the money)  https://t.co/EGaY1FVfHm\n",
      " 98 NEU @TrungTPhan Had no money to invest in Zip2, but my founder equity yielded ~$15M after tax. Of that, I rolled ~$10M into PayPal, which yielded ~$180M, then …   Basic principle is that I would not ask investors to risk money on my company if I would not also do so.\n",
      "\n",
      "\n",
      "# tweets bert_sentiment identified as NEG: \n",
      "7\n",
      "  4 NEG @itsALLrisky 🤣🤣\n",
      " 15 NEG @WholeMarsBlog This is a major problem!\n",
      " 18 NEG But wait how is the core of the earth lit by the sun? Stop asking questions!!\n",
      " 19 NEG Kong vs Godzilla has record for most meth ever consumed in a writer’s room\n",
      " 20 NEG @itsALLrisky 💯\n",
      " 51 NEG First @Neuralink product will enable someone with paralysis to use a smartphone with their mind faster than someone using thumbs\n",
      " 96 NEG @GerberKawasaki I fried a lot of neurons on that problem!\n"
     ]
    }
   ],
   "source": [
    "# tweets as classified by bert_sentiment:\n",
    "num_tweets = 100\n",
    "pos_bert = []\n",
    "neu_bert = []\n",
    "neg_bert = []\n",
    "\n",
    "for j in range(num_tweets):\n",
    "    if bert_sentiment[j]['label']=='POS':\n",
    "        pos_bert.append(f'{j:3d} POS {tweets[j]}')\n",
    "    elif bert_sentiment[j]['label']=='NEU':\n",
    "        neu_bert.append(f'{j:3d} NEU {tweets[j]}')\n",
    "    else:\n",
    "        neg_bert.append(f'{j:3d} NEG {tweets[j]}')\n",
    "        \n",
    "print('# tweets bert_sentiment identified as POS: ', len(pos_bert),\n",
    "      *pos_bert, sep='\\n')\n",
    "print('\\n\\n# tweets bert_sentiment identified as NEU: ', len(neu_bert),\n",
    "      *neu_bert, sep='\\n')\n",
    "print('\\n\\n# tweets bert_sentiment identified as NEG: ', len(neg_bert),\n",
    "      *neg_bert, sep='\\n')"
   ]
  },
  {
   "cell_type": "markdown",
   "id": "025228f3",
   "metadata": {},
   "source": [
    "### *Answer (continued)...*\n",
    "A quick read of the above results, comparing *distil_sentiment* & *bert_sentiment*, suggests that *bert_sentiment* did much better (I agreed with most of *bert's* labels):\n",
    "- Adding a 'Neutral' class in *bert* pulled ~80% of tweets labeled as 'Negative' by *distil_sentiment* into 'Neutral' (40/51). About 50% of tweets labeled as 'Positive' by *destil_sentiment* were re-classified as 'Neutral' (24/49). \n",
    "- Still, the default *distilbert* model got most of the *POSITIVE* and *NEGATIVE* tweets right i.e., few of the tweets re-classified by *bertweet* represented *a switch to the opposite sentiment, viz.* from *POS to NEG* (only 1/49) or *NEG to POS* (only 5/64).\n",
    "- Not surprisingly, *Distilbert* had trouble with *NEUTRAL* tweets (having no place to put these!). In this sample, it seems to prefer labeling these as *NEGATIVE*. \n",
    "- ***Adding the NEUTRAL label appears to significantly improve results compared with forcing the restrictive binary output of distilbert.***\n",
    "\n",
    "Of relevance, Hugging Face notes that *distilbert-base-uncased-finetuned-sst-2-english* was fine-tuned on SST-2, a corpus of >10K single sentences extracted from movie reviews. In addition, *distilbert* is intended to be fine-tuned on a downstream task (in this case, tweets), although its precision, recall, accuracy, & F1 metrics approach 99% when tested against subsets of the SST-2 data.\n",
    "\n",
    "By contrast, Hugging Face's *bertweet-base-sentiment-analysis* model was trained on a 2017 corpus of ~40K tweets, presumably much more similar to our sample than *distilbert's* movie reviews. Together with the addition of a 3rd *NEUTRAL* class, this may help explain *bertweet's* superior performance here. (NB: When reviewing the above data, *bertweet* at times creates the impression of having a rather un-machine-like, nuanced 'understanding' of Elon's tweets!)"
   ]
  },
  {
   "cell_type": "markdown",
   "id": "6684f9ae",
   "metadata": {},
   "source": [
    "<hr>\n",
    "\n",
    "### Partner Exercise\n",
    "\n",
    "With your partner, try and determine what the following tweets might be classified as. Try to classify them into the same groups as both of the model pipelines we saw today - and try adding a few of your own sentences/Tweets! "
   ]
  },
  {
   "cell_type": "code",
   "execution_count": 32,
   "id": "dcc55db9",
   "metadata": {},
   "outputs": [],
   "source": [
    "example_difficult_tweets = [\n",
    "    \"Kong vs Godzilla has record for most meth ever consumed in a writer's room\",\n",
    "    \"@ashleevance Battery energy density is the key to electric aircraft. Autonomy for aircraft could have been done a long time ago. Modern airliners are very close to autonomous.\",\n",
    "    \"Tesla's action is not directly reflective of my opinion. Having some Bitcoin, which is simply a less dumb form of liquidity than cash, is adventurous enough for an S&P500 company.\",\n",
    "    \"Don’t use a calculator, use your 🧠\",\n",
    "    \"Is there an element that comes before hydrogen 🤨?\",\n",
    "    \"According to the Mass Effect series, there is Element Zero, also called Eezo. It doesnt exist in real life.\",\n",
    "    \"The Void\",\n",
    "    \"Im Westen nichts neues.\",\n",
    "    \"Dulce et decorum est pro patria mori.\",\n",
    "    \"Je te serre la main.\",\n",
    "    \"At the still point of the turning world. Neither flesh nor fleshless; Neither from nor towards; at the still point, where the dance is.\",\n",
    "    \"Tweet your reply\",\n",
    "    \"Value creation is proportional to impact, not difficulty or complexity.\",\n",
    "    \"Hope you have a great day!\",\n",
    "    \"...could be worse.\",\n",
    "    \"I think it is worse.\",\n",
    "    \"For our momentary suffering is producing for us an eternal weight of glory.\",\n",
    "    \"All quiet on the western front.\",\n",
    "    \"How sweet and fitting to die for one's country.\",\n",
    "    \"With a firm handshake.\",\n",
    "    \"Regards\",\n",
    "    \"Warm regards\",\n",
    "    \"Warmest regards\",\n",
    "    \"Best regards\",\n",
    "    \"All the best\",\n",
    "    \"All the very best\",\n",
    "    \"All the very best.\",\n",
    "    \"All the very best!\",\n",
    "    \"@All the very best!\",\n",
    "    \"My very best,\",\n",
    "    \"My very best!\"\n",
    "]"
   ]
  },
  {
   "cell_type": "markdown",
   "id": "324e3837",
   "metadata": {},
   "source": [
    "The `distilbert-base` model:"
   ]
  },
  {
   "cell_type": "code",
   "execution_count": 33,
   "id": "3fd3d5a9",
   "metadata": {},
   "outputs": [
    {
     "name": "stdout",
     "output_type": "stream",
     "text": [
      "[{'label': 'POSITIVE', 'score': 0.5429093837738037}]\n",
      "Kong vs Godzilla has record for most meth ever consumed in a writer's room\n",
      "\n",
      "[{'label': 'NEGATIVE', 'score': 0.6348387598991394}]\n",
      "@ashleevance Battery energy density is the key to electric aircraft. Autonomy for aircraft could have been done a long time ago. Modern airliners are very close to autonomous.\n",
      "\n",
      "[{'label': 'POSITIVE', 'score': 0.9419690370559692}]\n",
      "Tesla's action is not directly reflective of my opinion. Having some Bitcoin, which is simply a less dumb form of liquidity than cash, is adventurous enough for an S&P500 company.\n",
      "\n",
      "[{'label': 'NEGATIVE', 'score': 0.9979800581932068}]\n",
      "Don’t use a calculator, use your 🧠\n",
      "\n",
      "[{'label': 'NEGATIVE', 'score': 0.9768679141998291}]\n",
      "Is there an element that comes before hydrogen 🤨?\n",
      "\n",
      "[{'label': 'NEGATIVE', 'score': 0.9997283816337585}]\n",
      "According to the Mass Effect series, there is Element Zero, also called Eezo. It doesnt exist in real life.\n",
      "\n",
      "[{'label': 'NEGATIVE', 'score': 0.9991528987884521}]\n",
      "The Void\n",
      "\n",
      "[{'label': 'NEGATIVE', 'score': 0.8734484910964966}]\n",
      "Im Westen nichts neues.\n",
      "\n",
      "[{'label': 'POSITIVE', 'score': 0.5690532922744751}]\n",
      "Dulce et decorum est pro patria mori.\n",
      "\n",
      "[{'label': 'POSITIVE', 'score': 0.6437969207763672}]\n",
      "Je te serre la main.\n",
      "\n",
      "[{'label': 'NEGATIVE', 'score': 0.9963935017585754}]\n",
      "At the still point of the turning world. Neither flesh nor fleshless; Neither from nor towards; at the still point, where the dance is.\n",
      "\n",
      "[{'label': 'NEGATIVE', 'score': 0.9825076460838318}]\n",
      "Tweet your reply\n",
      "\n",
      "[{'label': 'NEGATIVE', 'score': 0.9056181907653809}]\n",
      "Value creation is proportional to impact, not difficulty or complexity.\n",
      "\n",
      "[{'label': 'POSITIVE', 'score': 0.9998712539672852}]\n",
      "Hope you have a great day!\n",
      "\n",
      "[{'label': 'NEGATIVE', 'score': 0.9995885491371155}]\n",
      "...could be worse.\n",
      "\n",
      "[{'label': 'NEGATIVE', 'score': 0.9997840523719788}]\n",
      "I think it is worse.\n",
      "\n",
      "[{'label': 'POSITIVE', 'score': 0.9988453388214111}]\n",
      "For our momentary suffering is producing for us an eternal weight of glory.\n",
      "\n",
      "[{'label': 'NEGATIVE', 'score': 0.9318504333496094}]\n",
      "All quiet on the western front.\n",
      "\n",
      "[{'label': 'POSITIVE', 'score': 0.9997883439064026}]\n",
      "How sweet and fitting to die for one's country.\n",
      "\n",
      "[{'label': 'POSITIVE', 'score': 0.9996329545974731}]\n",
      "With a firm handshake.\n",
      "\n",
      "[{'label': 'POSITIVE', 'score': 0.9979502558708191}]\n",
      "Regards\n",
      "\n",
      "[{'label': 'POSITIVE', 'score': 0.9998352527618408}]\n",
      "Warm regards\n",
      "\n",
      "[{'label': 'POSITIVE', 'score': 0.9998414516448975}]\n",
      "Warmest regards\n",
      "\n",
      "[{'label': 'POSITIVE', 'score': 0.998794436454773}]\n",
      "Best regards\n",
      "\n",
      "[{'label': 'POSITIVE', 'score': 0.9998635053634644}]\n",
      "All the best\n",
      "\n",
      "[{'label': 'POSITIVE', 'score': 0.9998664855957031}]\n",
      "All the very best\n",
      "\n",
      "[{'label': 'POSITIVE', 'score': 0.9998679161071777}]\n",
      "All the very best.\n",
      "\n",
      "[{'label': 'POSITIVE', 'score': 0.9998784065246582}]\n",
      "All the very best!\n",
      "\n",
      "[{'label': 'POSITIVE', 'score': 0.999874472618103}]\n",
      "@All the very best!\n",
      "\n",
      "[{'label': 'POSITIVE', 'score': 0.9998282194137573}]\n",
      "My very best,\n",
      "\n",
      "[{'label': 'POSITIVE', 'score': 0.9998437166213989}]\n",
      "My very best!\n",
      "\n"
     ]
    }
   ],
   "source": [
    "for tweet in example_difficult_tweets[0:1000]:\n",
    "    pprint(sentiment_pipeline(tweet))\n",
    "    print(tweet + '\\n')"
   ]
  },
  {
   "cell_type": "markdown",
   "id": "61230295",
   "metadata": {},
   "source": [
    "The `bertweet-base` model:"
   ]
  },
  {
   "cell_type": "code",
   "execution_count": 34,
   "id": "82f2d3e2",
   "metadata": {},
   "outputs": [
    {
     "name": "stdout",
     "output_type": "stream",
     "text": [
      "[{'label': 'NEG', 'score': 0.7213014364242554}]\n",
      "Kong vs Godzilla has record for most meth ever consumed in a writer's room\n",
      "\n",
      "[{'label': 'NEU', 'score': 0.8023841977119446}]\n",
      "@ashleevance Battery energy density is the key to electric aircraft. Autonomy for aircraft could have been done a long time ago. Modern airliners are very close to autonomous.\n",
      "\n",
      "[{'label': 'NEU', 'score': 0.8843539357185364}]\n",
      "Tesla's action is not directly reflective of my opinion. Having some Bitcoin, which is simply a less dumb form of liquidity than cash, is adventurous enough for an S&P500 company.\n",
      "\n",
      "[{'label': 'NEU', 'score': 0.8713212609291077}]\n",
      "Don’t use a calculator, use your 🧠\n",
      "\n",
      "[{'label': 'NEU', 'score': 0.9143614768981934}]\n",
      "Is there an element that comes before hydrogen 🤨?\n",
      "\n",
      "[{'label': 'NEU', 'score': 0.9245191812515259}]\n",
      "According to the Mass Effect series, there is Element Zero, also called Eezo. It doesnt exist in real life.\n",
      "\n",
      "[{'label': 'NEU', 'score': 0.9685735106468201}]\n",
      "The Void\n",
      "\n",
      "[{'label': 'NEU', 'score': 0.9582059383392334}]\n",
      "Im Westen nichts neues.\n",
      "\n",
      "[{'label': 'NEU', 'score': 0.9729177951812744}]\n",
      "Dulce et decorum est pro patria mori.\n",
      "\n",
      "[{'label': 'NEU', 'score': 0.9540697932243347}]\n",
      "Je te serre la main.\n",
      "\n",
      "[{'label': 'NEU', 'score': 0.8994132876396179}]\n",
      "At the still point of the turning world. Neither flesh nor fleshless; Neither from nor towards; at the still point, where the dance is.\n",
      "\n",
      "[{'label': 'NEU', 'score': 0.9588152170181274}]\n",
      "Tweet your reply\n",
      "\n",
      "[{'label': 'NEU', 'score': 0.8634039163589478}]\n",
      "Value creation is proportional to impact, not difficulty or complexity.\n",
      "\n",
      "[{'label': 'POS', 'score': 0.9919822812080383}]\n",
      "Hope you have a great day!\n",
      "\n",
      "[{'label': 'NEG', 'score': 0.9788016080856323}]\n",
      "...could be worse.\n",
      "\n",
      "[{'label': 'NEG', 'score': 0.9825687408447266}]\n",
      "I think it is worse.\n",
      "\n",
      "[{'label': 'NEU', 'score': 0.8080269694328308}]\n",
      "For our momentary suffering is producing for us an eternal weight of glory.\n",
      "\n",
      "[{'label': 'NEU', 'score': 0.958380401134491}]\n",
      "All quiet on the western front.\n",
      "\n",
      "[{'label': 'POS', 'score': 0.7121700644493103}]\n",
      "How sweet and fitting to die for one's country.\n",
      "\n",
      "[{'label': 'NEU', 'score': 0.9195542335510254}]\n",
      "With a firm handshake.\n",
      "\n",
      "[{'label': 'NEU', 'score': 0.9066085815429688}]\n",
      "Regards\n",
      "\n",
      "[{'label': 'POS', 'score': 0.9430364370346069}]\n",
      "Warm regards\n",
      "\n",
      "[{'label': 'POS', 'score': 0.9523929953575134}]\n",
      "Warmest regards\n",
      "\n",
      "[{'label': 'POS', 'score': 0.9706875681877136}]\n",
      "Best regards\n",
      "\n",
      "[{'label': 'POS', 'score': 0.986802875995636}]\n",
      "All the best\n",
      "\n",
      "[{'label': 'POS', 'score': 0.987899124622345}]\n",
      "All the very best\n",
      "\n",
      "[{'label': 'POS', 'score': 0.991203784942627}]\n",
      "All the very best.\n",
      "\n",
      "[{'label': 'POS', 'score': 0.991419792175293}]\n",
      "All the very best!\n",
      "\n",
      "[{'label': 'POS', 'score': 0.9913628101348877}]\n",
      "@All the very best!\n",
      "\n",
      "[{'label': 'POS', 'score': 0.9881088137626648}]\n",
      "My very best,\n",
      "\n",
      "[{'label': 'POS', 'score': 0.9910009503364563}]\n",
      "My very best!\n",
      "\n"
     ]
    }
   ],
   "source": [
    "for tweet in example_difficult_tweets[0:1000]:\n",
    "    pprint(bertweet_pipeline(tweet))\n",
    "    print(tweet + '\\n')"
   ]
  },
  {
   "cell_type": "markdown",
   "id": "97f2c1c5",
   "metadata": {},
   "source": [
    "❓ How did you do? Did you find any surprising results? \n",
    "\n",
    "❓ Are there any instances where the two models gave different predictions for the same tweet?"
   ]
  },
  {
   "cell_type": "markdown",
   "id": "2bb53074",
   "metadata": {},
   "source": [
    "### *Answer (continued)...*\n",
    "\n",
    "Here again, *bertweet* seems to outperform *distilbert-base*, with a significantly larger 'Neutral' pool on the small sample above. The 'Neutral' label appears to be more relevant to sentiment analysis of tweets than one might have anticipated, and is a good reminder of the importance of looking at the data in model design.\n",
    "\n",
    "As noted previously, the degree of similarity between training and test data is a critical determinant of model performance, with *bertweet* being trained on tweets (although arguably, no amount of training can anticipate Elon!!), while the default *distilbert* was trained on movie reviews. Nonetheless, both models show generalizability beyond their respective training domains, as suggested by the small sample of 'difficult tweets' above, which also included e.g. non-tweets: short phrases in other languages, common email signoffs (e.g. 'Best regards,'), informational text, proverbs/aphorisms, and poetry."
   ]
  },
  {
   "cell_type": "code",
   "execution_count": null,
   "id": "69acd0e8",
   "metadata": {},
   "outputs": [],
   "source": []
  }
 ],
 "metadata": {
  "kernelspec": {
   "display_name": "Python (sa38j)",
   "language": "python",
   "name": "sa38j"
  },
  "language_info": {
   "codemirror_mode": {
    "name": "ipython",
    "version": 3
   },
   "file_extension": ".py",
   "mimetype": "text/x-python",
   "name": "python",
   "nbconvert_exporter": "python",
   "pygments_lexer": "ipython3",
   "version": "3.8.13"
  },
  "vscode": {
   "interpreter": {
    "hash": "635e31ff34c0350df6e9d804eda70786d94f48b17fcc73c378df4ea6ec0d01fd"
   }
  }
 },
 "nbformat": 4,
 "nbformat_minor": 5
}
